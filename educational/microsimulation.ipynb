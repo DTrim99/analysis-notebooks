{
 "cells": [
  {
   "cell_type": "markdown",
   "id": "78783fd8",
   "metadata": {},
   "source": [
    "# PolicyEngine Economy-Wide Simulation"
   ]
  },
  {
   "cell_type": "markdown",
   "id": "715d0660",
   "metadata": {},
   "source": [
    "This notebook demonstrates how to perform economy-wide policy analysis using PolicyEngine's microsimulation capabilities. We'll explore weighted vs unweighted data, multi-year impacts, geographic breakdowns, and program enrollment analysis."
   ]
  },
  {
   "cell_type": "markdown",
   "id": "aea5d183",
   "metadata": {},
   "source": [
    "## Learning Objectives\n",
    "By the end of this notebook, you'll understand:\n",
    "- The difference between Simulation (household) and Microsimulation (economy)\n",
    "- How weighting works in PolicyEngine DataFrames\n",
    "- Calculating 10-year budgetary impacts\n",
    "- Geographic analysis by state\n",
    "- Program enrollment analysis\n",
    "- Comparing baseline vs reform scenarios"
   ]
  },
  {
   "cell_type": "markdown",
   "id": "4bfdb8b4",
   "metadata": {},
   "source": [
    "## 1. Setup and Data Selection"
   ]
  },
  {
   "cell_type": "code",
   "execution_count": 38,
   "id": "3d7d7a16",
   "metadata": {},
   "outputs": [
    {
     "name": "stdout",
     "output_type": "stream",
     "text": [
      "=== Available PolicyEngine Datasets ===\n",
      "Enhanced CPS (Recommended): enhanced_cps_2024.h5\n",
      "   - Enhanced with IRS Public Use File data\n",
      "   - Best for national economy-wide analysis\n",
      "   - ~42k household records\n",
      "\n",
      "Pooled Datasets: pooled_*.h5\n",
      "   - Multiple years combined\n",
      "   - Better state-level sample sizes\n",
      "   - Ideal for geographic analysis\n",
      "\n",
      "View all datasets: https://huggingface.co/policyengine/policyengine-us-data/tree/main\n"
     ]
    }
   ],
   "source": [
    "# Core PolicyEngine imports\n",
    "from policyengine_us import Microsimulation\n",
    "from policyengine_core.reforms import Reform\n",
    "import pandas as pd\n",
    "import numpy as np\n",
    "import matplotlib.pyplot as plt\n",
    "import plotly.express as px\n",
    "import plotly.graph_objects as go\n",
    "from plotly.subplots import make_subplots\n",
    "\n",
    "# Set display options for better DataFrame viewing\n",
    "pd.set_option('display.max_columns', None)\n",
    "pd.set_option('display.width', None)\n",
    "pd.set_option('display.max_rows', 20)\n",
    "\n",
    "# PolicyEngine offers multiple datasets for different analysis needs\n",
    "# Recommended: Enhanced CPS for economy-wide simulations\n",
    "ENHANCED_CPS = \"hf://policyengine/policyengine-us-data/enhanced_cps_2024.h5\"\n",
    "\n",
    "print(\"=== Available PolicyEngine Datasets ===\")\n",
    "print(\"Enhanced CPS (Recommended): enhanced_cps_2024.h5\")\n",
    "print(\"   - Enhanced with IRS Public Use File data\")\n",
    "print(\"   - Best for national economy-wide analysis\")\n",
    "print(\"   - ~42k household records\")\n",
    "print(\"\")\n",
    "print(\"Pooled Datasets: pooled_*.h5\")  \n",
    "print(\"   - Multiple years combined\")\n",
    "print(\"   - Better state-level sample sizes\")\n",
    "print(\"   - Ideal for geographic analysis\")\n",
    "print(\"\")\n",
    "print(\"View all datasets: https://huggingface.co/policyengine/policyengine-us-data/tree/main\")"
   ]
  },
  {
   "cell_type": "markdown",
   "id": "47fa4905",
   "metadata": {},
   "source": [
    "## 2. Understanding Dataset Selection\n",
    "\n",
    "\n",
    "PolicyEngine offers multiple datasets optimized for different types of analysis. For economy-wide simulations, we recommend using the Enhanced CPS dataset."
   ]
  },
  {
   "cell_type": "code",
   "execution_count": 39,
   "id": "629f0ebc",
   "metadata": {},
   "outputs": [
    {
     "name": "stdout",
     "output_type": "stream",
     "text": [
      "Creating baseline microsimulation...\n",
      "=== Microsimulation Overview ===\n",
      "Using dataset: Enhanced CPS 2024\n",
      "Analysis period: 2025\n",
      "Number of household records: 41,310\n",
      "\n",
      "=== Single Variable Calculations ===\n",
      "Calculating individual variables...\n",
      "CTC variable type: <class 'microdf.generic.MicroSeries'>\n",
      "CTC array shape: (56768,)\n",
      "First 5 CTC values:    value        weight\n",
      "0    0.0  14044.562500\n",
      "1    0.0   1151.017212\n",
      "2    0.0   1151.017212\n",
      "3    0.0  11405.556641\n",
      "4    0.0  11405.556641\n",
      "First 5 SNAP values:          value        weight\n",
      "0     0.000000  14044.562500\n",
      "1     0.000000   1151.017212\n",
      "2   281.995483  11405.556641\n",
      "3  3524.943604  11405.556641\n",
      "4   281.995483   3046.133301\n",
      "First 5 net income values:            value        weight\n",
      "0  103463.171875  14044.562500\n",
      "1   87697.304688   1151.017212\n",
      "2  111439.476562  11405.556641\n",
      "3   92810.648438   3046.133301\n",
      "4   52004.863281  11906.229492\n"
     ]
    }
   ],
   "source": [
    "# Create baseline microsimulation using Enhanced CPS\n",
    "print(\"Creating baseline microsimulation...\")\n",
    "baseline = Microsimulation(dataset=ENHANCED_CPS)\n",
    "\n",
    "print(f\"=== Microsimulation Overview ===\")\n",
    "print(f\"Using dataset: Enhanced CPS 2024\")\n",
    "print(f\"Analysis period: 2025\")\n",
    "\n",
    "# The enhanced CPS contains ~42k household records\n",
    "# Each represents multiple real households via weights\n",
    "sample_weights = baseline.calculate(\"household_weight\", period=2025)\n",
    "print(f\"Number of household records: {len(sample_weights):,}\")\n",
    "\n",
    "print(\"\\n=== Single Variable Calculations ===\")\n",
    "print(\"Calculating individual variables...\")\n",
    "\n",
    "# Calculate key variables one by one using .calculate()\n",
    "# Child Tax Credit\n",
    "ctc_values = baseline.calculate(\"ctc_value\", period=2025)\n",
    "print(f\"CTC variable type: {type(ctc_values)}\")\n",
    "print(f\"CTC array shape: {ctc_values.shape}\")\n",
    "print(f\"First 5 CTC values: {ctc_values[:5]}\")\n",
    "\n",
    "# SNAP benefits\n",
    "snap_values = baseline.calculate(\"snap\", period=2025)\n",
    "print(f\"First 5 SNAP values: {snap_values[:5]}\")\n",
    "\n",
    "# Household net income\n",
    "net_income = baseline.calculate(\"household_net_income\", period=2025)\n",
    "print(f\"First 5 net income values: {net_income[:5]}\")"
   ]
  },
  {
   "cell_type": "markdown",
   "id": "19e9d2b5",
   "metadata": {},
   "source": [
    "## 3"
   ]
  },
  {
   "cell_type": "code",
   "execution_count": 40,
   "id": "955c7cc5",
   "metadata": {},
   "outputs": [
    {
     "name": "stdout",
     "output_type": "stream",
     "text": [
      "=== Understanding Automatic Weighting ===\n",
      "BASELINE TOTALS (Auto-weighted):\n",
      "   Total CTC: $115.7 billion\n",
      "   Total SNAP: $83.4 billion\n",
      "   Total Net Income: $15813.4 billion\n",
      "\n",
      "PROGRAM PARTICIPATION:\n",
      "   Households receiving CTC: 44,203,382\n",
      "   Households receiving SNAP: 23,539,852\n",
      "\n",
      "AVERAGE BENEFITS (among recipients):\n",
      "   Average CTC: $2,617\n",
      "   Average SNAP: $3,545\n"
     ]
    }
   ],
   "source": [
    "print(\"=== Understanding Automatic Weighting ===\")\n",
    "\n",
    "# The .calculate() method automatically applies weights when you sum\n",
    "total_ctc = baseline.calculate(\"ctc_value\", period=2025).sum()\n",
    "total_snap = baseline.calculate(\"snap\", period=2025).sum()\n",
    "total_net_income = baseline.calculate(\"household_net_income\", period=2025).sum()\n",
    "\n",
    "print(f\"BASELINE TOTALS (Auto-weighted):\")\n",
    "print(f\"   Total CTC: ${total_ctc/1e9:.1f} billion\")\n",
    "print(f\"   Total SNAP: ${total_snap/1e9:.1f} billion\")\n",
    "print(f\"   Total Net Income: ${total_net_income/1e9:.1f} billion\")\n",
    "\n",
    "# Show how many households benefit from each program\n",
    "ctc_recipients = (baseline.calculate(\"ctc_value\", period=2025) > 0).sum()\n",
    "snap_recipients = (baseline.calculate(\"snap\", period=2025) > 0).sum()\n",
    "\n",
    "print(f\"\\nPROGRAM PARTICIPATION:\")\n",
    "print(f\"   Households receiving CTC: {ctc_recipients:,.0f}\")\n",
    "print(f\"   Households receiving SNAP: {snap_recipients:,.0f}\")\n",
    "\n",
    "# Calculate average benefits among recipients\n",
    "avg_ctc_recipients = total_ctc / ctc_recipients\n",
    "avg_snap_recipients = total_snap / snap_recipients\n",
    "\n",
    "print(f\"\\nAVERAGE BENEFITS (among recipients):\")\n",
    "print(f\"   Average CTC: ${avg_ctc_recipients:,.0f}\")\n",
    "print(f\"   Average SNAP: ${avg_snap_recipients:,.0f}\")"
   ]
  },
  {
   "cell_type": "markdown",
   "id": "f01fa301",
   "metadata": {},
   "source": [
    "## 4"
   ]
  },
  {
   "cell_type": "code",
   "execution_count": 41,
   "id": "5dcd21b6",
   "metadata": {},
   "outputs": [
    {
     "name": "stdout",
     "output_type": "stream",
     "text": [
      "=== Creating CTC Expansion Reform ===\n",
      "Policy Reform Details:\n",
      "   Current CTC: $2,000 per child\n",
      "   Reformed CTC: $3,600 per child\n",
      "   Increase: $1,600 per child\n",
      "\n",
      "Creating reformed microsimulation...\n",
      "=== Baseline vs Reform Comparison ===\n",
      "AGGREGATE IMPACT:\n",
      "   Baseline total CTC: $115.7 billion\n",
      "   Reformed total CTC: $185.5 billion\n",
      "   Annual increase: $69.8 billion\n",
      "\n",
      "HOUSEHOLD IMPACT:\n",
      "   Total net income increase: $62.0 billion\n",
      "   This represents the total additional purchasing power\n",
      "\n",
      "PARTICIPATION CHANGES:\n",
      "   Baseline CTC recipients: 44,203,382\n",
      "   Reformed CTC recipients: 44,387,859\n",
      "   Change in recipients: +184,477\n"
     ]
    }
   ],
   "source": [
    "print(\"=== Creating CTC Expansion Reform ===\")\n",
    "\n",
    "# Create CTC expansion reform\n",
    "ctc_expansion = Reform.from_dict({\n",
    "    \"gov.irs.credits.ctc.amount.base[0].amount\": {\n",
    "        \"2025-01-01.2100-12-31\": 3600  # Increase from $2,000 to $3,600\n",
    "    }\n",
    "}, country_id=\"us\")\n",
    "\n",
    "print(\"Policy Reform Details:\")\n",
    "print(\"   Current CTC: $2,000 per child\")\n",
    "print(\"   Reformed CTC: $3,600 per child\")\n",
    "print(\"   Increase: $1,600 per child\")\n",
    "\n",
    "# Create reformed microsimulation\n",
    "print(\"\\nCreating reformed microsimulation...\")\n",
    "reformed = Microsimulation(reform=ctc_expansion, dataset=ENHANCED_CPS)\n",
    "\n",
    "print(\"=== Baseline vs Reform Comparison ===\")\n",
    "\n",
    "# Calculate baseline and reformed totals using .calculate()\n",
    "baseline_total_ctc = baseline.calculate(\"ctc_value\", period=2025).sum()\n",
    "reformed_total_ctc = reformed.calculate(\"ctc_value\", period=2025).sum()\n",
    "ctc_increase = reformed_total_ctc - baseline_total_ctc\n",
    "\n",
    "print(f\"AGGREGATE IMPACT:\")\n",
    "print(f\"   Baseline total CTC: ${baseline_total_ctc/1e9:.1f} billion\")\n",
    "print(f\"   Reformed total CTC: ${reformed_total_ctc/1e9:.1f} billion\") \n",
    "print(f\"   Annual increase: ${ctc_increase/1e9:.1f} billion\")\n",
    "\n",
    "# Calculate net income impact\n",
    "baseline_net_income = baseline.calculate(\"household_net_income\", period=2025).sum()\n",
    "reformed_net_income = reformed.calculate(\"household_net_income\", period=2025).sum()\n",
    "net_income_increase = reformed_net_income - baseline_net_income\n",
    "\n",
    "print(f\"\\nHOUSEHOLD IMPACT:\")\n",
    "print(f\"   Total net income increase: ${net_income_increase/1e9:.1f} billion\")\n",
    "print(f\"   This represents the total additional purchasing power\")\n",
    "\n",
    "# Show impact on program participation\n",
    "baseline_ctc_recipients = (baseline.calculate(\"ctc_value\", period=2025) > 0).sum()\n",
    "reformed_ctc_recipients = (reformed.calculate(\"ctc_value\", period=2025) > 0).sum()\n",
    "recipient_change = reformed_ctc_recipients - baseline_ctc_recipients\n",
    "\n",
    "print(f\"\\nPARTICIPATION CHANGES:\")\n",
    "print(f\"   Baseline CTC recipients: {baseline_ctc_recipients:,.0f}\")\n",
    "print(f\"   Reformed CTC recipients: {reformed_ctc_recipients:,.0f}\")\n",
    "print(f\"   Change in recipients: {recipient_change:+,.0f}\")"
   ]
  },
  {
   "cell_type": "markdown",
   "id": "97352137",
   "metadata": {},
   "source": [
    "## 5.\n"
   ]
  },
  {
   "cell_type": "code",
   "execution_count": 42,
   "id": "70317f33",
   "metadata": {},
   "outputs": [
    {
     "name": "stdout",
     "output_type": "stream",
     "text": [
      "=== Introduction to calculate_dataframe() Method ===\n",
      "Variables we'll analyze:\n",
      "   - household_id\n",
      "   - household_weight\n",
      "   - household_net_income\n",
      "   - employment_income\n",
      "   - ctc_value\n",
      "   - snap\n",
      "   - state_code\n",
      "   - household_size\n",
      "\n",
      "Calculating baseline variables using calculate_dataframe...\n",
      "Baseline DataFrame shape: (41310, 8)\n",
      "DataFrame columns: ['household_id', 'household_weight', 'household_net_income', 'employment_income', 'ctc_value', 'snap', 'state_code', 'household_size']\n",
      "\n",
      "First few records:\n",
      "   household_id  household_weight  household_net_income  employment_income  \\\n",
      "0            12      14044.562500         103463.171875        4219.356445   \n",
      "1            21       1151.017212          87697.304688       96693.578125   \n",
      "2            22      11405.556641         111439.476562           0.000000   \n",
      "3            30       3046.133301          92810.648438       87903.257812   \n",
      "4            36      11906.229492          52004.863281       34985.497070   \n",
      "\n",
      "   ctc_value         snap state_code  household_size  \n",
      "0        0.0     0.000000         ME               2  \n",
      "1        0.0     0.000000         ME               3  \n",
      "2        0.0  3806.939087         ME               2  \n",
      "3        0.0   281.995483         ME               2  \n",
      "4        0.0     0.000000         ME               3  \n",
      "\n",
      "=== Understanding Weights: calculate() vs calculate_dataframe() ===\n",
      "Total CTC (auto-weighted by calculate()): $115.7 billion\n",
      "Total CTC (unweighted DataFrame): $115.7 billion\n",
      "Total CTC (manually weighted): $8112021.5 billion\n",
      "\n",
      "VERIFICATION:\n",
      "   calculate() vs manual weighting difference: $-8111905782.8 million\n",
      "   This should be close to zero!\n",
      "\n",
      "CRITICAL INSIGHT:\n",
      "   Weighted total is 70111.2x larger than unweighted\n",
      "   This shows why proper weighting is essential for accurate estimates\n",
      "\n",
      "CTC RECIPIENTS:\n",
      "   Unweighted count: 43,865,806.295775 records\n",
      "   Weighted count: 4,208,911,395,251 actual households\n",
      "   Multiplier: 95949.7x\n"
     ]
    }
   ],
   "source": [
    "print(\"=== Introduction to calculate_dataframe() Method ===\")\n",
    "\n",
    "# Key variables for comprehensive analysis\n",
    "CORE_VARIABLES = [\n",
    "    \"household_id\",\n",
    "    \"household_weight\",        # How many households this record represents\n",
    "    \"household_net_income\",    # After-tax income\n",
    "    \"employment_income\",       # Pre-tax earnings\n",
    "    \"ctc_value\",              # Child Tax Credit\n",
    "    \"snap\",                   # SNAP benefits  \n",
    "    \"state_code\",             # State location\n",
    "    \"household_size\",         # Number of people\n",
    "]\n",
    "\n",
    "print(\"Variables we'll analyze:\")\n",
    "for var in CORE_VARIABLES:\n",
    "    print(f\"   - {var}\")\n",
    "\n",
    "# Calculate baseline data using calculate_dataframe\n",
    "print(\"\\nCalculating baseline variables using calculate_dataframe...\")\n",
    "baseline_df = baseline.calculate_dataframe(CORE_VARIABLES, map_to=\"household\", period=2025)\n",
    "\n",
    "print(f\"Baseline DataFrame shape: {baseline_df.shape}\")\n",
    "print(f\"DataFrame columns: {list(baseline_df.columns)}\")\n",
    "print(\"\\nFirst few records:\")\n",
    "print(baseline_df.head())\n",
    "\n",
    "print(\"\\n=== Understanding Weights: calculate() vs calculate_dataframe() ===\")\n",
    "\n",
    "# METHOD 1: Using calculate() - PolicyEngine automatically applies weights\n",
    "total_ctc_auto = baseline.calculate(\"ctc_value\", period=2025).sum()\n",
    "print(f\"Total CTC (auto-weighted by calculate()): ${total_ctc_auto/1e9:.1f} billion\")\n",
    "\n",
    "# METHOD 2: Using pandas DataFrame - weights are NOT automatically applied\n",
    "total_ctc_unweighted = baseline_df['ctc_value'].sum()\n",
    "print(f\"Total CTC (unweighted DataFrame): ${total_ctc_unweighted/1e9:.1f} billion\")\n",
    "\n",
    "# METHOD 3: Manual weighting with DataFrame\n",
    "total_ctc_manual = (baseline_df['ctc_value'] * baseline_df['household_weight']).sum()\n",
    "print(f\"Total CTC (manually weighted): ${total_ctc_manual/1e9:.1f} billion\")\n",
    "\n",
    "# Verification: Methods 1 and 3 should match\n",
    "print(f\"\\nVERIFICATION:\")\n",
    "print(f\"   calculate() vs manual weighting difference: ${(total_ctc_auto - total_ctc_manual)/1e6:.1f} million\")\n",
    "print(f\"   This should be close to zero!\")\n",
    "\n",
    "# Show the importance of weighting\n",
    "weight_multiplier = total_ctc_manual / total_ctc_unweighted\n",
    "print(f\"\\nCRITICAL INSIGHT:\")\n",
    "print(f\"   Weighted total is {weight_multiplier:.1f}x larger than unweighted\")\n",
    "print(f\"   This shows why proper weighting is essential for accurate estimates\")\n",
    "\n",
    "# Number of households receiving CTC\n",
    "ctc_recipients_unweighted = (baseline_df['ctc_value'] > 0).sum()\n",
    "ctc_recipients_weighted = baseline_df[baseline_df['ctc_value'] > 0]['household_weight'].sum()\n",
    "\n",
    "print(f\"\\nCTC RECIPIENTS:\")\n",
    "print(f\"   Unweighted count: {ctc_recipients_unweighted:,} records\")\n",
    "print(f\"   Weighted count: {ctc_recipients_weighted:,.0f} actual households\")\n",
    "print(f\"   Multiplier: {ctc_recipients_weighted/ctc_recipients_unweighted:.1f}x\")"
   ]
  },
  {
   "cell_type": "markdown",
   "id": "df9f7034",
   "metadata": {},
   "source": [
    "## 6"
   ]
  },
  {
   "cell_type": "code",
   "execution_count": 43,
   "id": "19fad2ee",
   "metadata": {},
   "outputs": [
    {
     "name": "stdout",
     "output_type": "stream",
     "text": [
      "=== 10-Year Budgetary Impact Analysis ===\n",
      "Calculating annual impacts across 10 years...\n",
      "   2025: $69.8B increase\n",
      "   2026: $102.1B increase\n",
      "   2027: $102.2B increase\n",
      "   2028: $101.8B increase\n",
      "   2029: $101.1B increase\n",
      "   2030: $100.1B increase\n",
      "   2031: $99.1B increase\n",
      "   2032: $97.9B increase\n",
      "   2033: $96.6B increase\n",
      "   2034: $95.1B increase\n",
      "\n",
      "10-YEAR FISCAL IMPACT:\n",
      "   Total 10-year CTC increase: $965.9 billion\n",
      "   Average annual cost: $96.6 billion\n",
      "   Compound annual growth rate: 3.5%\n"
     ]
    }
   ],
   "source": [
    "print(\"=== 10-Year Budgetary Impact Analysis ===\")\n",
    "\n",
    "# Calculate impacts for multiple years (2025-2034)\n",
    "years = list(range(2025, 2035))\n",
    "annual_impacts = []\n",
    "\n",
    "print(\"Calculating annual impacts across 10 years...\")\n",
    "for year in years:\n",
    "    # Calculate baseline and reform totals for each year\n",
    "    baseline_ctc = baseline.calculate(\"ctc_value\", period=year).sum()\n",
    "    reformed_ctc = reformed.calculate(\"ctc_value\", period=year).sum()\n",
    "    annual_increase = reformed_ctc - baseline_ctc\n",
    "    \n",
    "    annual_impacts.append({\n",
    "        'year': year,\n",
    "        'baseline_ctc': baseline_ctc / 1e9,\n",
    "        'reformed_ctc': reformed_ctc / 1e9,\n",
    "        'annual_increase': annual_increase / 1e9\n",
    "    })\n",
    "    \n",
    "    print(f\"   {year}: ${annual_increase/1e9:.1f}B increase\")\n",
    "\n",
    "# Create DataFrame for analysis\n",
    "impact_df = pd.DataFrame(annual_impacts)\n",
    "\n",
    "# Calculate 10-year total\n",
    "ten_year_total = impact_df['annual_increase'].sum()\n",
    "print(f\"\\n10-YEAR FISCAL IMPACT:\")\n",
    "print(f\"   Total 10-year CTC increase: ${ten_year_total:.1f} billion\")\n",
    "print(f\"   Average annual cost: ${ten_year_total/10:.1f} billion\")\n",
    "\n",
    "# Calculate compound annual growth rate\n",
    "first_year = impact_df['annual_increase'].iloc[0]\n",
    "last_year = impact_df['annual_increase'].iloc[-1]\n",
    "if first_year > 0:\n",
    "    cagr = ((last_year / first_year) ** (1/9) - 1) * 100\n",
    "    print(f\"   Compound annual growth rate: {cagr:.1f}%\")"
   ]
  },
  {
   "cell_type": "markdown",
   "id": "e68335b5",
   "metadata": {},
   "source": [
    "## 7\n"
   ]
  },
  {
   "cell_type": "code",
   "execution_count": 44,
   "id": "edc9daf6",
   "metadata": {},
   "outputs": [
    {
     "name": "stdout",
     "output_type": "stream",
     "text": [
      "=== Using DataFrames for Reform Analysis ===\n",
      "Creating comparison analysis...\n",
      "DATAFRAME COMPARISON (with manual weighting):\n",
      "   Baseline (manual): $115.7 billion\n",
      "   Reformed (manual): $13322317.9 billion\n",
      "   Difference: $13322202.2 billion\n",
      "\n",
      "VERIFICATION against calculate() method:\n",
      "   Single variable difference: $69.8 billion\n",
      "   DataFrame difference: $13322202.2 billion\n",
      "   Match? False\n",
      "\n",
      "=== Geographic Analysis by State ===\n",
      "Preparing state-level analysis...\n",
      "Calculating state-level impacts...\n",
      "\n",
      "TOP 10 STATES BY TOTAL CTC INCREASE:\n",
      "   CA: $7.1B total, $386 avg, 21.5% benefit\n",
      "   TX: $6.5B total, $527 avg, 24.7% benefit\n",
      "   FL: $4.1B total, $369 avg, 17.5% benefit\n",
      "   NY: $3.6B total, $387 avg, 19.8% benefit\n",
      "   PA: $2.8B total, $489 avg, 19.1% benefit\n",
      "   OH: $2.7B total, $508 avg, 20.3% benefit\n",
      "   NJ: $2.4B total, $615 avg, 24.9% benefit\n",
      "   MI: $2.4B total, $505 avg, 23.1% benefit\n",
      "   GA: $2.2B total, $456 avg, 23.7% benefit\n",
      "   IL: $2.1B total, $365 avg, 17.1% benefit\n",
      "\n",
      "STATES WITH HIGHEST BENEFIT RATES:\n",
      "   UT: 30.0% of households benefit\n",
      "   ND: 28.2% of households benefit\n",
      "   NJ: 24.9% of households benefit\n",
      "   TX: 24.7% of households benefit\n",
      "   AK: 24.5% of households benefit\n"
     ]
    }
   ],
   "source": [
    "print(\"=== Using DataFrames for Reform Analysis ===\")\n",
    "\n",
    "# Calculate the same variables under reform\n",
    "reformed_df = reformed.calculate_dataframe(CORE_VARIABLES, map_to=\"household\", period=2025)\n",
    "\n",
    "print(\"Creating comparison analysis...\")\n",
    "\n",
    "# Method 1: Using calculate() for verification\n",
    "baseline_total_manual = (baseline_df['ctc_value'] * baseline_df['household_weight']).sum()\n",
    "reformed_total_manual = (reformed_df['ctc_value'] * reformed_df['household_weight']).sum()\n",
    "\n",
    "print(f\"DATAFRAME COMPARISON (with manual weighting):\")\n",
    "print(f\"   Baseline (manual): ${baseline_total_manual/1e9:.1f} billion\")\n",
    "print(f\"   Reformed (manual): ${reformed_total_manual/1e9:.1f} billion\")\n",
    "print(f\"   Difference: ${(reformed_total_manual - baseline_total_manual)/1e9:.1f} billion\")\n",
    "\n",
    "# Verify against single variable method\n",
    "print(f\"\\nVERIFICATION against calculate() method:\")\n",
    "print(f\"   Single variable difference: ${ctc_increase/1e9:.1f} billion\")\n",
    "print(f\"   DataFrame difference: ${(reformed_total_manual - baseline_total_manual)/1e9:.1f} billion\")\n",
    "print(f\"   Match? {abs(ctc_increase - (reformed_total_manual - baseline_total_manual)) < 1e6}\")\n",
    "\n",
    "print(\"\\n=== Geographic Analysis by State ===\")\n",
    "\n",
    "# Create comparison DataFrame\n",
    "print(\"Preparing state-level analysis...\")\n",
    "comparison_df = baseline_df.copy()\n",
    "comparison_df['ctc_baseline'] = baseline_df['ctc_value']\n",
    "comparison_df['ctc_reformed'] = reformed_df['ctc_value']\n",
    "comparison_df['ctc_increase'] = comparison_df['ctc_reformed'] - comparison_df['ctc_baseline']\n",
    "\n",
    "# Group by state and calculate weighted totals\n",
    "print(\"Calculating state-level impacts...\")\n",
    "state_analysis = comparison_df.groupby('state_code').apply(\n",
    "    lambda x: pd.Series({\n",
    "        'households': x['household_weight'].sum(),\n",
    "        'total_ctc_increase': (x['ctc_increase'] * x['household_weight']).sum(),\n",
    "        'avg_ctc_increase': (x['ctc_increase'] * x['household_weight']).sum() / x['household_weight'].sum(),\n",
    "        'households_benefiting': x[x['ctc_increase'] > 0]['household_weight'].sum()\n",
    "    })\n",
    ").reset_index()\n",
    "\n",
    "# Calculate percentage of households benefiting\n",
    "state_analysis['pct_households_benefiting'] = (\n",
    "    state_analysis['households_benefiting'] / state_analysis['households'] * 100\n",
    ")\n",
    "\n",
    "# Sort by total CTC increase\n",
    "state_analysis = state_analysis.sort_values('total_ctc_increase', ascending=False)\n",
    "\n",
    "print(f\"\\nTOP 10 STATES BY TOTAL CTC INCREASE:\")\n",
    "top_states = state_analysis.head(10)\n",
    "for _, row in top_states.iterrows():\n",
    "    print(f\"   {row['state_code']}: ${row['total_ctc_increase']/1e9:.1f}B total, \"\n",
    "          f\"${row['avg_ctc_increase']:,.0f} avg, \"\n",
    "          f\"{row['pct_households_benefiting']:.1f}% benefit\")\n",
    "\n",
    "print(f\"\\nSTATES WITH HIGHEST BENEFIT RATES:\")\n",
    "top_pct_states = state_analysis.nlargest(5, 'pct_households_benefiting')\n",
    "for _, row in top_pct_states.iterrows():\n",
    "    print(f\"   {row['state_code']}: {row['pct_households_benefiting']:.1f}% of households benefit\")"
   ]
  },
  {
   "cell_type": "markdown",
   "id": "5a38ffdc",
   "metadata": {},
   "source": [
    "## 8\n"
   ]
  },
  {
   "cell_type": "code",
   "execution_count": 45,
   "id": "4a1176a0",
   "metadata": {},
   "outputs": [
    {
     "name": "stdout",
     "output_type": "stream",
     "text": [
      "=== Program Enrollment Analysis ===\n",
      "Calculating person-level data...\n",
      "Person-level dataset shape: (101726, 4)\n",
      "\n",
      "SNAP ENROLLMENT ANALYSIS:\n",
      "   Baseline SNAP enrollment: 2,994,233,014,168 people\n",
      "   Reformed SNAP enrollment: 2,994,233,014,168 people\n",
      "   Change in SNAP enrollment: +0 people\n",
      "\n",
      "CHILDREN ANALYSIS:\n",
      "   Total children in dataset: 4,587,869,965,050\n",
      "   Note: CTC eligibility depends on household structure and income\n",
      "   SNAP enrollment change: +0.00%\n",
      "\n",
      "=== Dataset Selection for Different Analysis Types ===\n",
      "Dataset Recommendations:\n",
      "   • National analysis: enhanced_cps_2024.h5 (current choice)\n",
      "   • State-level analysis: Consider pooled datasets for larger samples\n",
      "   • Historical analysis: Use year-specific datasets\n",
      "\n",
      "STATE SAMPLE SIZE INFORMATION:\n",
      "   Average records per state: 810\n",
      "   States with <100 records: 0\n",
      "   For detailed state analysis, consider pooled datasets\n"
     ]
    }
   ],
   "source": [
    "print(\"=== Program Enrollment Analysis ===\")\n",
    "\n",
    "# Analyze SNAP enrollment (map_to=\"person\" for individual-level analysis)\n",
    "PERSON_VARIABLES = [\n",
    "    \"person_id\",\n",
    "    \"person_weight\", \n",
    "    \"age\",\n",
    "    \"snap\"\n",
    "]\n",
    "\n",
    "print(\"Calculating person-level data...\")\n",
    "baseline_persons = baseline.calculate_dataframe(PERSON_VARIABLES, map_to=\"person\", period=2025)\n",
    "reformed_persons = reformed.calculate_dataframe(PERSON_VARIABLES, map_to=\"person\", period=2025)\n",
    "\n",
    "print(f\"Person-level dataset shape: {baseline_persons.shape}\")\n",
    "\n",
    "# SNAP enrollment: people with SNAP > 0\n",
    "baseline_snap_enrolled = baseline_persons[baseline_persons['snap'] > 0]\n",
    "reformed_snap_enrolled = reformed_persons[reformed_persons['snap'] > 0]\n",
    "\n",
    "# Apply person weights for accurate counts\n",
    "baseline_snap_count = baseline_snap_enrolled['person_weight'].sum()\n",
    "reformed_snap_count = reformed_snap_enrolled['person_weight'].sum()\n",
    "\n",
    "print(f\"\\nSNAP ENROLLMENT ANALYSIS:\")\n",
    "print(f\"   Baseline SNAP enrollment: {baseline_snap_count:,.0f} people\")\n",
    "print(f\"   Reformed SNAP enrollment: {reformed_snap_count:,.0f} people\")\n",
    "print(f\"   Change in SNAP enrollment: {reformed_snap_count - baseline_snap_count:+,.0f} people\")\n",
    "\n",
    "# Children analysis\n",
    "baseline_children = baseline_persons[baseline_persons['age'] < 18]\n",
    "reformed_children = reformed_persons[reformed_persons['age'] < 18]\n",
    "\n",
    "total_children = baseline_children['person_weight'].sum()\n",
    "print(f\"\\nCHILDREN ANALYSIS:\")\n",
    "print(f\"   Total children in dataset: {total_children:,.0f}\")\n",
    "print(f\"   Note: CTC eligibility depends on household structure and income\")\n",
    "\n",
    "# Percentage change in SNAP enrollment\n",
    "if baseline_snap_count > 0:\n",
    "    snap_change_pct = ((reformed_snap_count - baseline_snap_count) / baseline_snap_count) * 100\n",
    "    print(f\"   SNAP enrollment change: {snap_change_pct:+.2f}%\")\n",
    "\n",
    "# Dataset selection information\n",
    "print(\"\\n=== Dataset Selection for Different Analysis Types ===\")\n",
    "\n",
    "print(\"Dataset Recommendations:\")\n",
    "print(\"   • National analysis: enhanced_cps_2024.h5 (current choice)\")\n",
    "print(\"   • State-level analysis: Consider pooled datasets for larger samples\")\n",
    "print(\"   • Historical analysis: Use year-specific datasets\")\n",
    "\n",
    "# Demonstrate state sample sizes with enhanced CPS\n",
    "state_samples = baseline_df.groupby('state_code').agg({\n",
    "    'household_weight': ['count', 'sum']\n",
    "}).round()\n",
    "\n",
    "state_samples.columns = ['Records', 'Weighted_Households']\n",
    "state_samples = state_samples.sort_values('Weighted_Households', ascending=False)\n",
    "\n",
    "print(f\"\\nSTATE SAMPLE SIZE INFORMATION:\")\n",
    "print(f\"   Average records per state: {state_samples['Records'].mean():.0f}\")\n",
    "print(f\"   States with <100 records: {(state_samples['Records'] < 100).sum()}\")\n",
    "print(f\"   For detailed state analysis, consider pooled datasets\")"
   ]
  },
  {
   "cell_type": "markdown",
   "id": "5637a4d7",
   "metadata": {},
   "source": [
    "## 9.\n"
   ]
  },
  {
   "cell_type": "code",
   "execution_count": 46,
   "id": "a7bced2a",
   "metadata": {},
   "outputs": [
    {
     "data": {
      "application/vnd.plotly.v1+json": {
       "config": {
        "plotlyServerURL": "https://plot.ly"
       },
       "data": [
        {
         "line": {
          "color": "blue",
          "width": 3
         },
         "mode": "lines+markers",
         "name": "Annual CTC Increase",
         "type": "scatter",
         "x": [
          2025,
          2026,
          2027,
          2028,
          2029,
          2030,
          2031,
          2032,
          2033,
          2034
         ],
         "xaxis": "x",
         "y": [
          69.75372217024525,
          102.08657157214773,
          102.24966134680338,
          101.8232899651484,
          101.0558852567367,
          100.12501457690912,
          99.08997815359614,
          97.94614529849079,
          96.62221545429239,
          95.12440585516775
         ],
         "yaxis": "y"
        },
        {
         "marker": {
          "color": "green"
         },
         "name": "State CTC Increase",
         "type": "bar",
         "x": [
          "CA",
          "TX",
          "FL",
          "NY",
          "PA",
          "OH",
          "NJ",
          "MI",
          "GA",
          "IL"
         ],
         "xaxis": "x2",
         "y": [
          7.074109487850279,
          6.514486052727338,
          4.075205689423572,
          3.646191199533445,
          2.8440606618066413,
          2.6923423668345774,
          2.4329848821995856,
          2.3691607212100747,
          2.2306325466647183,
          2.09148640063547
         ],
         "yaxis": "y2"
        },
        {
         "marker": {
          "color": "red"
         },
         "name": "Baseline CTC",
         "opacity": 0.6,
         "type": "bar",
         "x": [
          0,
          200,
          400,
          600,
          800,
          1000,
          1200,
          1400,
          1600,
          1800,
          2000,
          2200,
          2400,
          2600,
          2800,
          3000,
          3200,
          3400,
          3600
         ],
         "xaxis": "x3",
         "y": [
          110.12433624267578,
          0.4570559859275818,
          5.782904148101807,
          0.32396000623703003,
          0.26176801323890686,
          1.1055680513381958,
          0.566815972328186,
          0.2824159860610962,
          0.6299200057983398,
          0.2845360040664673,
          16.68377685546875,
          0.06268800050020218,
          2.3401761054992676,
          0.27699199318885803,
          0.2885119915008545,
          0.37883201241493225,
          0.0931679978966713,
          0.4472639858722687,
          0.2749600112438202
         ],
         "yaxis": "y3"
        },
        {
         "marker": {
          "color": "blue"
         },
         "name": "Reformed CTC",
         "opacity": 0.6,
         "type": "bar",
         "x": [
          0,
          200,
          400,
          600,
          800,
          1000,
          1200,
          1400,
          1600,
          1800,
          2000,
          2200,
          2400,
          2600,
          2800,
          3000,
          3200,
          3400,
          3600
         ],
         "xaxis": "x3",
         "y": [
          109.94103240966797,
          0.44739198684692383,
          5.769375801086426,
          0.32417601346969604,
          0.30083200335502625,
          1.0618159770965576,
          0.5929200053215027,
          0.29661598801612854,
          0.5140159726142883,
          0.2770319879055023,
          0.5919039845466614,
          0.275160014629364,
          0.6826320290565491,
          0.3543280065059662,
          1.1985520124435425,
          0.3946160078048706,
          0.6550719738006592,
          0.9897680282592773,
          13.919816017150879
         ],
         "yaxis": "y3"
        },
        {
         "marker": {
          "color": "orange"
         },
         "name": "SNAP Enrollment",
         "type": "bar",
         "x": [
          "SNAP (Baseline)",
          "SNAP (Reformed)"
         ],
         "xaxis": "x4",
         "y": [
          2994233.0141677563,
          2994233.0141677563
         ],
         "yaxis": "y4"
        }
       ],
       "layout": {
        "annotations": [
         {
          "font": {
           "size": 16
          },
          "showarrow": false,
          "text": "10-Year Impact Trend",
          "x": 0.225,
          "xanchor": "center",
          "xref": "paper",
          "y": 1,
          "yanchor": "bottom",
          "yref": "paper"
         },
         {
          "font": {
           "size": 16
          },
          "showarrow": false,
          "text": "State-by-State Impact",
          "x": 0.775,
          "xanchor": "center",
          "xref": "paper",
          "y": 1,
          "yanchor": "bottom",
          "yref": "paper"
         },
         {
          "font": {
           "size": 16
          },
          "showarrow": false,
          "text": "CTC Distribution Comparison",
          "x": 0.225,
          "xanchor": "center",
          "xref": "paper",
          "y": 0.375,
          "yanchor": "bottom",
          "yref": "paper"
         },
         {
          "font": {
           "size": 16
          },
          "showarrow": false,
          "text": "Program Enrollment",
          "x": 0.775,
          "xanchor": "center",
          "xref": "paper",
          "y": 0.375,
          "yanchor": "bottom",
          "yref": "paper"
         }
        ],
        "height": 800,
        "showlegend": true,
        "template": {
         "data": {
          "bar": [
           {
            "error_x": {
             "color": "#2a3f5f"
            },
            "error_y": {
             "color": "#2a3f5f"
            },
            "marker": {
             "line": {
              "color": "#E5ECF6",
              "width": 0.5
             },
             "pattern": {
              "fillmode": "overlay",
              "size": 10,
              "solidity": 0.2
             }
            },
            "type": "bar"
           }
          ],
          "barpolar": [
           {
            "marker": {
             "line": {
              "color": "#E5ECF6",
              "width": 0.5
             },
             "pattern": {
              "fillmode": "overlay",
              "size": 10,
              "solidity": 0.2
             }
            },
            "type": "barpolar"
           }
          ],
          "carpet": [
           {
            "aaxis": {
             "endlinecolor": "#2a3f5f",
             "gridcolor": "white",
             "linecolor": "white",
             "minorgridcolor": "white",
             "startlinecolor": "#2a3f5f"
            },
            "baxis": {
             "endlinecolor": "#2a3f5f",
             "gridcolor": "white",
             "linecolor": "white",
             "minorgridcolor": "white",
             "startlinecolor": "#2a3f5f"
            },
            "type": "carpet"
           }
          ],
          "choropleth": [
           {
            "colorbar": {
             "outlinewidth": 0,
             "ticks": ""
            },
            "type": "choropleth"
           }
          ],
          "contour": [
           {
            "colorbar": {
             "outlinewidth": 0,
             "ticks": ""
            },
            "colorscale": [
             [
              0,
              "#0d0887"
             ],
             [
              0.1111111111111111,
              "#46039f"
             ],
             [
              0.2222222222222222,
              "#7201a8"
             ],
             [
              0.3333333333333333,
              "#9c179e"
             ],
             [
              0.4444444444444444,
              "#bd3786"
             ],
             [
              0.5555555555555556,
              "#d8576b"
             ],
             [
              0.6666666666666666,
              "#ed7953"
             ],
             [
              0.7777777777777778,
              "#fb9f3a"
             ],
             [
              0.8888888888888888,
              "#fdca26"
             ],
             [
              1,
              "#f0f921"
             ]
            ],
            "type": "contour"
           }
          ],
          "contourcarpet": [
           {
            "colorbar": {
             "outlinewidth": 0,
             "ticks": ""
            },
            "type": "contourcarpet"
           }
          ],
          "heatmap": [
           {
            "colorbar": {
             "outlinewidth": 0,
             "ticks": ""
            },
            "colorscale": [
             [
              0,
              "#0d0887"
             ],
             [
              0.1111111111111111,
              "#46039f"
             ],
             [
              0.2222222222222222,
              "#7201a8"
             ],
             [
              0.3333333333333333,
              "#9c179e"
             ],
             [
              0.4444444444444444,
              "#bd3786"
             ],
             [
              0.5555555555555556,
              "#d8576b"
             ],
             [
              0.6666666666666666,
              "#ed7953"
             ],
             [
              0.7777777777777778,
              "#fb9f3a"
             ],
             [
              0.8888888888888888,
              "#fdca26"
             ],
             [
              1,
              "#f0f921"
             ]
            ],
            "type": "heatmap"
           }
          ],
          "heatmapgl": [
           {
            "colorbar": {
             "outlinewidth": 0,
             "ticks": ""
            },
            "colorscale": [
             [
              0,
              "#0d0887"
             ],
             [
              0.1111111111111111,
              "#46039f"
             ],
             [
              0.2222222222222222,
              "#7201a8"
             ],
             [
              0.3333333333333333,
              "#9c179e"
             ],
             [
              0.4444444444444444,
              "#bd3786"
             ],
             [
              0.5555555555555556,
              "#d8576b"
             ],
             [
              0.6666666666666666,
              "#ed7953"
             ],
             [
              0.7777777777777778,
              "#fb9f3a"
             ],
             [
              0.8888888888888888,
              "#fdca26"
             ],
             [
              1,
              "#f0f921"
             ]
            ],
            "type": "heatmapgl"
           }
          ],
          "histogram": [
           {
            "marker": {
             "pattern": {
              "fillmode": "overlay",
              "size": 10,
              "solidity": 0.2
             }
            },
            "type": "histogram"
           }
          ],
          "histogram2d": [
           {
            "colorbar": {
             "outlinewidth": 0,
             "ticks": ""
            },
            "colorscale": [
             [
              0,
              "#0d0887"
             ],
             [
              0.1111111111111111,
              "#46039f"
             ],
             [
              0.2222222222222222,
              "#7201a8"
             ],
             [
              0.3333333333333333,
              "#9c179e"
             ],
             [
              0.4444444444444444,
              "#bd3786"
             ],
             [
              0.5555555555555556,
              "#d8576b"
             ],
             [
              0.6666666666666666,
              "#ed7953"
             ],
             [
              0.7777777777777778,
              "#fb9f3a"
             ],
             [
              0.8888888888888888,
              "#fdca26"
             ],
             [
              1,
              "#f0f921"
             ]
            ],
            "type": "histogram2d"
           }
          ],
          "histogram2dcontour": [
           {
            "colorbar": {
             "outlinewidth": 0,
             "ticks": ""
            },
            "colorscale": [
             [
              0,
              "#0d0887"
             ],
             [
              0.1111111111111111,
              "#46039f"
             ],
             [
              0.2222222222222222,
              "#7201a8"
             ],
             [
              0.3333333333333333,
              "#9c179e"
             ],
             [
              0.4444444444444444,
              "#bd3786"
             ],
             [
              0.5555555555555556,
              "#d8576b"
             ],
             [
              0.6666666666666666,
              "#ed7953"
             ],
             [
              0.7777777777777778,
              "#fb9f3a"
             ],
             [
              0.8888888888888888,
              "#fdca26"
             ],
             [
              1,
              "#f0f921"
             ]
            ],
            "type": "histogram2dcontour"
           }
          ],
          "mesh3d": [
           {
            "colorbar": {
             "outlinewidth": 0,
             "ticks": ""
            },
            "type": "mesh3d"
           }
          ],
          "parcoords": [
           {
            "line": {
             "colorbar": {
              "outlinewidth": 0,
              "ticks": ""
             }
            },
            "type": "parcoords"
           }
          ],
          "pie": [
           {
            "automargin": true,
            "type": "pie"
           }
          ],
          "scatter": [
           {
            "fillpattern": {
             "fillmode": "overlay",
             "size": 10,
             "solidity": 0.2
            },
            "type": "scatter"
           }
          ],
          "scatter3d": [
           {
            "line": {
             "colorbar": {
              "outlinewidth": 0,
              "ticks": ""
             }
            },
            "marker": {
             "colorbar": {
              "outlinewidth": 0,
              "ticks": ""
             }
            },
            "type": "scatter3d"
           }
          ],
          "scattercarpet": [
           {
            "marker": {
             "colorbar": {
              "outlinewidth": 0,
              "ticks": ""
             }
            },
            "type": "scattercarpet"
           }
          ],
          "scattergeo": [
           {
            "marker": {
             "colorbar": {
              "outlinewidth": 0,
              "ticks": ""
             }
            },
            "type": "scattergeo"
           }
          ],
          "scattergl": [
           {
            "marker": {
             "colorbar": {
              "outlinewidth": 0,
              "ticks": ""
             }
            },
            "type": "scattergl"
           }
          ],
          "scattermapbox": [
           {
            "marker": {
             "colorbar": {
              "outlinewidth": 0,
              "ticks": ""
             }
            },
            "type": "scattermapbox"
           }
          ],
          "scatterpolar": [
           {
            "marker": {
             "colorbar": {
              "outlinewidth": 0,
              "ticks": ""
             }
            },
            "type": "scatterpolar"
           }
          ],
          "scatterpolargl": [
           {
            "marker": {
             "colorbar": {
              "outlinewidth": 0,
              "ticks": ""
             }
            },
            "type": "scatterpolargl"
           }
          ],
          "scatterternary": [
           {
            "marker": {
             "colorbar": {
              "outlinewidth": 0,
              "ticks": ""
             }
            },
            "type": "scatterternary"
           }
          ],
          "surface": [
           {
            "colorbar": {
             "outlinewidth": 0,
             "ticks": ""
            },
            "colorscale": [
             [
              0,
              "#0d0887"
             ],
             [
              0.1111111111111111,
              "#46039f"
             ],
             [
              0.2222222222222222,
              "#7201a8"
             ],
             [
              0.3333333333333333,
              "#9c179e"
             ],
             [
              0.4444444444444444,
              "#bd3786"
             ],
             [
              0.5555555555555556,
              "#d8576b"
             ],
             [
              0.6666666666666666,
              "#ed7953"
             ],
             [
              0.7777777777777778,
              "#fb9f3a"
             ],
             [
              0.8888888888888888,
              "#fdca26"
             ],
             [
              1,
              "#f0f921"
             ]
            ],
            "type": "surface"
           }
          ],
          "table": [
           {
            "cells": {
             "fill": {
              "color": "#EBF0F8"
             },
             "line": {
              "color": "white"
             }
            },
            "header": {
             "fill": {
              "color": "#C8D4E3"
             },
             "line": {
              "color": "white"
             }
            },
            "type": "table"
           }
          ]
         },
         "layout": {
          "annotationdefaults": {
           "arrowcolor": "#2a3f5f",
           "arrowhead": 0,
           "arrowwidth": 1
          },
          "autotypenumbers": "strict",
          "coloraxis": {
           "colorbar": {
            "outlinewidth": 0,
            "ticks": ""
           }
          },
          "colorscale": {
           "diverging": [
            [
             0,
             "#8e0152"
            ],
            [
             0.1,
             "#c51b7d"
            ],
            [
             0.2,
             "#de77ae"
            ],
            [
             0.3,
             "#f1b6da"
            ],
            [
             0.4,
             "#fde0ef"
            ],
            [
             0.5,
             "#f7f7f7"
            ],
            [
             0.6,
             "#e6f5d0"
            ],
            [
             0.7,
             "#b8e186"
            ],
            [
             0.8,
             "#7fbc41"
            ],
            [
             0.9,
             "#4d9221"
            ],
            [
             1,
             "#276419"
            ]
           ],
           "sequential": [
            [
             0,
             "#0d0887"
            ],
            [
             0.1111111111111111,
             "#46039f"
            ],
            [
             0.2222222222222222,
             "#7201a8"
            ],
            [
             0.3333333333333333,
             "#9c179e"
            ],
            [
             0.4444444444444444,
             "#bd3786"
            ],
            [
             0.5555555555555556,
             "#d8576b"
            ],
            [
             0.6666666666666666,
             "#ed7953"
            ],
            [
             0.7777777777777778,
             "#fb9f3a"
            ],
            [
             0.8888888888888888,
             "#fdca26"
            ],
            [
             1,
             "#f0f921"
            ]
           ],
           "sequentialminus": [
            [
             0,
             "#0d0887"
            ],
            [
             0.1111111111111111,
             "#46039f"
            ],
            [
             0.2222222222222222,
             "#7201a8"
            ],
            [
             0.3333333333333333,
             "#9c179e"
            ],
            [
             0.4444444444444444,
             "#bd3786"
            ],
            [
             0.5555555555555556,
             "#d8576b"
            ],
            [
             0.6666666666666666,
             "#ed7953"
            ],
            [
             0.7777777777777778,
             "#fb9f3a"
            ],
            [
             0.8888888888888888,
             "#fdca26"
            ],
            [
             1,
             "#f0f921"
            ]
           ]
          },
          "colorway": [
           "#636efa",
           "#EF553B",
           "#00cc96",
           "#ab63fa",
           "#FFA15A",
           "#19d3f3",
           "#FF6692",
           "#B6E880",
           "#FF97FF",
           "#FECB52"
          ],
          "font": {
           "color": "#2a3f5f"
          },
          "geo": {
           "bgcolor": "white",
           "lakecolor": "white",
           "landcolor": "#E5ECF6",
           "showlakes": true,
           "showland": true,
           "subunitcolor": "white"
          },
          "hoverlabel": {
           "align": "left"
          },
          "hovermode": "closest",
          "mapbox": {
           "style": "light"
          },
          "paper_bgcolor": "white",
          "plot_bgcolor": "#E5ECF6",
          "polar": {
           "angularaxis": {
            "gridcolor": "white",
            "linecolor": "white",
            "ticks": ""
           },
           "bgcolor": "#E5ECF6",
           "radialaxis": {
            "gridcolor": "white",
            "linecolor": "white",
            "ticks": ""
           }
          },
          "scene": {
           "xaxis": {
            "backgroundcolor": "#E5ECF6",
            "gridcolor": "white",
            "gridwidth": 2,
            "linecolor": "white",
            "showbackground": true,
            "ticks": "",
            "zerolinecolor": "white"
           },
           "yaxis": {
            "backgroundcolor": "#E5ECF6",
            "gridcolor": "white",
            "gridwidth": 2,
            "linecolor": "white",
            "showbackground": true,
            "ticks": "",
            "zerolinecolor": "white"
           },
           "zaxis": {
            "backgroundcolor": "#E5ECF6",
            "gridcolor": "white",
            "gridwidth": 2,
            "linecolor": "white",
            "showbackground": true,
            "ticks": "",
            "zerolinecolor": "white"
           }
          },
          "shapedefaults": {
           "line": {
            "color": "#2a3f5f"
           }
          },
          "ternary": {
           "aaxis": {
            "gridcolor": "white",
            "linecolor": "white",
            "ticks": ""
           },
           "baxis": {
            "gridcolor": "white",
            "linecolor": "white",
            "ticks": ""
           },
           "bgcolor": "#E5ECF6",
           "caxis": {
            "gridcolor": "white",
            "linecolor": "white",
            "ticks": ""
           }
          },
          "title": {
           "x": 0.05
          },
          "xaxis": {
           "automargin": true,
           "gridcolor": "white",
           "linecolor": "white",
           "ticks": "",
           "title": {
            "standoff": 15
           },
           "zerolinecolor": "white",
           "zerolinewidth": 2
          },
          "yaxis": {
           "automargin": true,
           "gridcolor": "white",
           "linecolor": "white",
           "ticks": "",
           "title": {
            "standoff": 15
           },
           "zerolinecolor": "white",
           "zerolinewidth": 2
          }
         }
        },
        "title": {
         "text": "CTC Reform: Comprehensive Policy Impact Analysis"
        },
        "xaxis": {
         "anchor": "y",
         "domain": [
          0,
          0.45
         ],
         "title": {
          "text": "Year"
         }
        },
        "xaxis2": {
         "anchor": "y2",
         "domain": [
          0.55,
          1
         ],
         "title": {
          "text": "State"
         }
        },
        "xaxis3": {
         "anchor": "y3",
         "domain": [
          0,
          0.45
         ],
         "title": {
          "text": "CTC Amount ($)"
         }
        },
        "xaxis4": {
         "anchor": "y4",
         "domain": [
          0.55,
          1
         ],
         "title": {
          "text": "Program"
         }
        },
        "yaxis": {
         "anchor": "x",
         "domain": [
          0.625,
          1
         ],
         "title": {
          "text": "Annual Increase ($B)"
         }
        },
        "yaxis2": {
         "anchor": "x2",
         "domain": [
          0.625,
          1
         ],
         "title": {
          "text": "Total Increase ($B)"
         }
        },
        "yaxis3": {
         "anchor": "x3",
         "domain": [
          0,
          0.375
         ],
         "title": {
          "text": "Households (Millions)"
         }
        },
        "yaxis4": {
         "anchor": "x4",
         "domain": [
          0,
          0.375
         ],
         "title": {
          "text": "Enrollment (Millions)"
         }
        }
       }
      }
     },
     "metadata": {},
     "output_type": "display_data"
    }
   ],
   "source": [
    "# Create multiple visualizations\n",
    "\n",
    "fig = make_subplots(\n",
    "    rows=2, cols=2,\n",
    "    subplot_titles=('10-Year Impact Trend', 'State-by-State Impact', \n",
    "                   'CTC Distribution Comparison', 'Program Enrollment'),\n",
    "    specs=[[{\"secondary_y\": False}, {\"secondary_y\": False}],\n",
    "           [{\"secondary_y\": False}, {\"secondary_y\": False}]]\n",
    ")\n",
    "\n",
    "# Plot 1: 10-year trend\n",
    "fig.add_trace(\n",
    "    go.Scatter(x=impact_df['year'], y=impact_df['annual_increase'],\n",
    "              mode='lines+markers', name='Annual CTC Increase',\n",
    "              line=dict(color='blue', width=3)),\n",
    "    row=1, col=1\n",
    ")\n",
    "\n",
    "# Plot 2: Top 10 states\n",
    "top_10_states = state_analysis.head(10)\n",
    "fig.add_trace(\n",
    "    go.Bar(x=top_10_states['state_code'], y=top_10_states['total_ctc_increase']/1e9,\n",
    "           name='State CTC Increase', marker_color='green'),\n",
    "    row=1, col=2\n",
    ")\n",
    "\n",
    "# Plot 3: CTC distribution comparison\n",
    "ctc_bins = np.arange(0, 4000, 200)\n",
    "baseline_hist = np.histogram(comparison_df['ctc_baseline'], bins=ctc_bins, \n",
    "                           weights=comparison_df['household_weight'])[0]\n",
    "reformed_hist = np.histogram(comparison_df['ctc_reformed'], bins=ctc_bins,\n",
    "                           weights=comparison_df['household_weight'])[0]\n",
    "\n",
    "fig.add_trace(\n",
    "    go.Bar(x=ctc_bins[:-1], y=baseline_hist/1e6, name='Baseline CTC',\n",
    "           marker_color='red', opacity=0.6),\n",
    "    row=2, col=1\n",
    ")\n",
    "fig.add_trace(\n",
    "    go.Bar(x=ctc_bins[:-1], y=reformed_hist/1e6, name='Reformed CTC',\n",
    "           marker_color='blue', opacity=0.6),\n",
    "    row=2, col=1\n",
    ")\n",
    "\n",
    "# Plot 4: Program enrollment comparison\n",
    "enrollment_data = {\n",
    "    'Program': ['SNAP (Baseline)', 'SNAP (Reformed)'],\n",
    "    'Enrollment': [baseline_snap_count/1e6, reformed_snap_count/1e6]\n",
    "}\n",
    "fig.add_trace(\n",
    "    go.Bar(x=enrollment_data['Program'], y=enrollment_data['Enrollment'],\n",
    "           name='SNAP Enrollment', marker_color='orange'),\n",
    "    row=2, col=2\n",
    ")\n",
    "\n",
    "# Update layout\n",
    "fig.update_layout(height=800, showlegend=True, \n",
    "                 title_text=\"CTC Reform: Comprehensive Policy Impact Analysis\")\n",
    "\n",
    "# Update axis labels\n",
    "fig.update_xaxes(title_text=\"Year\", row=1, col=1)\n",
    "fig.update_yaxes(title_text=\"Annual Increase ($B)\", row=1, col=1)\n",
    "fig.update_xaxes(title_text=\"State\", row=1, col=2)\n",
    "fig.update_yaxes(title_text=\"Total Increase ($B)\", row=1, col=2)\n",
    "fig.update_xaxes(title_text=\"CTC Amount ($)\", row=2, col=1)\n",
    "fig.update_yaxes(title_text=\"Households (Millions)\", row=2, col=1)\n",
    "fig.update_xaxes(title_text=\"Program\", row=2, col=2)\n",
    "fig.update_yaxes(title_text=\"Enrollment (Millions)\", row=2, col=2)\n",
    "\n",
    "fig.show()"
   ]
  },
  {
   "cell_type": "markdown",
   "id": "3e935734",
   "metadata": {},
   "source": [
    "Summary\n",
    "This notebook demonstrated a progressive approach to economy-wide policy analysis using PolicyEngine:\n",
    "\n",
    "Foundation: Started with single variable calculations using .calculate()\n",
    "Core Concept: Understood automatic weighting in .calculate()\n",
    "Advanced Method: Introduced calculate_dataframe() for multiple variables\n",
    "Critical Insight: Learned the difference between automatic and manual weighting\n",
    "Comprehensive Analysis: Applied concepts to geographic, temporal, and program analysis\n",
    "\n",
    "Key Learning Progression: Single variables → automatic weighting → DataFrames → manual weighting → complex analysis\n",
    "This training material provides a solid foundation for conducting rigorous economy-wide policy analysis using PolicyEngine's microsimulation capabilities."
   ]
  }
 ],
 "metadata": {
  "kernelspec": {
   "display_name": "pe",
   "language": "python",
   "name": "python3"
  },
  "language_info": {
   "codemirror_mode": {
    "name": "ipython",
    "version": 3
   },
   "file_extension": ".py",
   "mimetype": "text/x-python",
   "name": "python",
   "nbconvert_exporter": "python",
   "pygments_lexer": "ipython3",
   "version": "3.10.14"
  }
 },
 "nbformat": 4,
 "nbformat_minor": 5
}
