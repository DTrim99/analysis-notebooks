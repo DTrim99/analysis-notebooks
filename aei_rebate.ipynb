{
 "cells": [
  {
   "cell_type": "code",
   "execution_count": 1,
   "id": "9719ba7b",
   "metadata": {},
   "outputs": [
    {
     "name": "stderr",
     "output_type": "stream",
     "text": [
      "c:\\Users\\dtsax\\envs\\pe\\Lib\\site-packages\\tqdm\\auto.py:21: TqdmWarning: IProgress not found. Please update jupyter and ipywidgets. See https://ipywidgets.readthedocs.io/en/stable/user_install.html\n",
      "  from .autonotebook import tqdm as notebook_tqdm\n"
     ]
    }
   ],
   "source": [
    "from policyengine_us import Microsimulation\n",
    "from policyengine_core.reforms import Reform\n",
    "from policyengine_us.model_api import *\n",
    "import pandas as pd\n",
    "import numpy as np"
   ]
  },
  {
   "cell_type": "code",
   "execution_count": 2,
   "id": "7023f25a",
   "metadata": {},
   "outputs": [],
   "source": [
    "sim = Microsimulation(dataset=\"hf://policyengine/policyengine-us-data/pooled_3_year_cps_2023.h5\")"
   ]
  },
  {
   "cell_type": "code",
   "execution_count": 3,
   "id": "kwewreoymhc",
   "metadata": {},
   "outputs": [
    {
     "name": "stdout",
     "output_type": "stream",
     "text": [
      "CA households: 14.2M\n"
     ]
    }
   ],
   "source": [
    "# Get CA household data\n",
    "ca_mask = sim.calculate(\"state_code_str\", map_to=\"household\") == \"CA\"\n",
    "income = sim.calculate(\"adjusted_gross_income\", map_to=\"household\")[ca_mask]\n",
    "poverty_threshold = sim.calculate(\"tax_unit_fpg\", map_to=\"household\")[ca_mask]\n",
    "\n",
    "print(f\"CA households: {ca_mask.sum()/1e6:.1f}M\")"
   ]
  },
  {
   "cell_type": "code",
   "execution_count": null,
   "id": "313dgxnptmz",
   "metadata": {},
   "outputs": [],
   "source": "def create_aei_reform():\n    class ca_aei_rebate(Variable):\n        value_type = float\n        entity = Household\n        label = \"California AEI rebate\"\n        unit = USD\n        definition_period = YEAR\n\n        def formula(household, period, parameters):\n            income = household(\"adjusted_gross_income\", period)\n            fpg = household(\"tax_unit_fpg\", period)\n            income_to_fpg_ratio = where(fpg > 0, income / fpg, np.inf)\n            \n            # Phase-out parameters\n            phaseout_start = 1.5   # 150% FPG\n            phaseout_end = 1.75    # 175% FPG\n            phaseout_width = phaseout_end - phaseout_start\n            \n            # Phase-out calculation (similar to ME structure)\n            excess = max_(income_to_fpg_ratio - phaseout_start, 0)\n            phaseout_percentage = min_(1, excess / phaseout_width)\n            \n            return where(\n                income_to_fpg_ratio <= phaseout_end,\n                fpg * (1 - phaseout_percentage),\n                0\n            )\n\n    class reform(Reform):\n        def apply(self):\n            self.add_variable(ca_aei_rebate)\n    \n    return reform\n\n# Apply reform and calculate\nreform = create_aei_reform()\nsim_reform = Microsimulation(dataset=\"hf://policyengine/policyengine-us-data/pooled_3_year_cps_2023.h5\", reform=reform)\nca_mask_reform = sim_reform.calculate(\"state_code_str\", map_to=\"household\") == \"CA\"\nX = sim_reform.calculate(\"ca_aei_rebate\")[ca_mask_reform].sum()\n\nprint(f\"X (tax-free consumption): ${X/1e9:.1f}B\")"
  },
  {
   "cell_type": "code",
   "execution_count": null,
   "id": "dpqzappbjxa",
   "metadata": {},
   "outputs": [],
   "source": "# Summary results\nrebates = sim_reform.calculate(\"ca_aei_rebate\")[ca_mask_reform]\nhouseholds_with_rebates = (rebates > 0).sum()\ntotal_households = ca_mask_reform.sum()\n\nprint(f\"Total CA households: {total_households/1e6:.1f}M\")\nprint(f\"Households with rebates: {households_with_rebates/1e6:.1f}M ({100*households_with_rebates/total_households:.0f}%)\")\nprint(f\"Average rebate: ${rebates[rebates > 0].mean():,.0f}\")\nprint(f\"X = ${X:,.0f}\")"
  }
 ],
 "metadata": {
  "kernelspec": {
   "display_name": "pe",
   "language": "python",
   "name": "python3"
  },
  "language_info": {
   "codemirror_mode": {
    "name": "ipython",
    "version": 3
   },
   "file_extension": ".py",
   "mimetype": "text/x-python",
   "name": "python",
   "nbconvert_exporter": "python",
   "pygments_lexer": "ipython3",
   "version": "3.12.10"
  }
 },
 "nbformat": 4,
 "nbformat_minor": 5
}