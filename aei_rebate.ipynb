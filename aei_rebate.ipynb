{
 "cells": [
  {
   "cell_type": "code",
   "execution_count": 34,
   "id": "9719ba7b",
   "metadata": {},
   "outputs": [],
   "source": [
    "from policyengine_us import Microsimulation\n",
    "from policyengine_core.reforms import Reform\n",
    "import pandas as pd"
   ]
  },
  {
   "cell_type": "code",
   "execution_count": 35,
   "id": "7023f25a",
   "metadata": {},
   "outputs": [],
   "source": [
    "# Set up microsimulation for US households\n",
    "sim = Microsimulation()"
   ]
  },
  {
   "cell_type": "code",
   "execution_count": 36,
   "id": "kwewreoymhc",
   "metadata": {},
   "outputs": [
    {
     "name": "stdout",
     "output_type": "stream",
     "text": [
      "Number of California households in sample: 1,854\n",
      "Total weighted California households: 3,990,023,830,548\n"
     ]
    }
   ],
   "source": [
    "# Extract household data needed for rebate calculations\n",
    "# Filter for California households only\n",
    "state_code = sim.calculate(\"state_code_str\", map_to=\"household\")\n",
    "ca_mask = state_code == \"CA\"\n",
    "\n",
    "household_count_people = sim.calculate(\"household_count_people\")[ca_mask]\n",
    "household_adjusted_gross_income = sim.calculate(\"adjusted_gross_income\", map_to=\"household\")[ca_mask]\n",
    "# Use snap_fpg for Federal Poverty Guidelines (this is the poverty threshold)\n",
    "poverty_threshold = sim.calculate(\"snap_fpg\", map_to=\"household\")[ca_mask]\n",
    "household_weight = sim.calculate(\"household_weight\")[ca_mask]\n",
    "\n",
    "print(f\"Number of California households in sample: {len(household_count_people):,}\")\n",
    "print(f\"Total weighted California households: {household_weight.sum():,.0f}\")"
   ]
  },
  {
   "cell_type": "code",
   "execution_count": 37,
   "id": "dpqzappbjxa",
   "metadata": {},
   "outputs": [
    {
     "name": "stdout",
     "output_type": "stream",
     "text": [
      "=== DEBUGGING VALUES ===\n",
      "Sample poverty threshold values:           value         weight\n",
      "0  14700.000000    1743.168091\n",
      "1  19900.000000       0.122180\n",
      "2  19900.000000     756.053284\n",
      "3  25099.998047       0.220665\n",
      "4  30300.000000  358255.062500\n",
      "5  14700.000000    2479.817871\n",
      "6  35500.003906     269.325409\n",
      "7  40700.000000    4106.521484\n",
      "8  39799.998047     291.358612\n",
      "9  30300.000000     386.776031\n",
      "Sample AGI values:            value         weight\n",
      "0   42985.429688    1743.168091\n",
      "1    5803.675293       0.122180\n",
      "2  437602.093750     756.053284\n",
      "3    6000.000000       0.220665\n",
      "4    9000.679688  358255.062500\n",
      "5   37174.089844    2479.817871\n",
      "6   34400.679688     269.325409\n",
      "7  118001.359375    4106.521484\n",
      "8   56800.000000     291.358612\n",
      "9   32200.000000     386.776031\n",
      "Sample income to poverty ratios:        value         weight\n",
      "0   2.924179    1743.168091\n",
      "1   0.291642       0.122180\n",
      "2  21.990055     756.053284\n",
      "3   0.239044       0.220665\n",
      "4   0.297052  358255.062500\n",
      "5   2.528850    2479.817871\n",
      "6   0.969033     269.325409\n",
      "7   2.899296    4106.521484\n",
      "8   1.427136     291.358612\n",
      "9   1.062706     386.776031\n",
      "Mean poverty threshold: $21,795.23\n",
      "Median poverty threshold: $19,900.00\n",
      "Mean AGI: $132,662.72\n",
      "Median AGI: $82,165.78\n",
      "Households under 150% of poverty: 4,927,198.9318353\n",
      "Households under 175% of poverty: 5,280,147.237342332\n",
      "Zero poverty thresholds: 0.0\n",
      "Zero AGI values: 855279.7181265153\n",
      "Negative AGI values: 570880.4793251634\n"
     ]
    }
   ],
   "source": [
    "# Debug: Check the values to understand why rebate is so low\n",
    "print(\"=== DEBUGGING VALUES ===\")\n",
    "print(f\"Sample poverty threshold values: {poverty_threshold[:10]}\")\n",
    "print(f\"Sample AGI values: {household_adjusted_gross_income[:10]}\")\n",
    "print(f\"Sample income to poverty ratios: {(household_adjusted_gross_income / poverty_threshold)[:10]}\")\n",
    "print(f\"Mean poverty threshold: ${poverty_threshold.mean():,.2f}\")\n",
    "print(f\"Median poverty threshold: ${np.median(poverty_threshold):,.2f}\")\n",
    "print(f\"Mean AGI: ${household_adjusted_gross_income.mean():,.2f}\")\n",
    "print(f\"Median AGI: ${np.median(household_adjusted_gross_income):,.2f}\")\n",
    "\n",
    "# Check if there are households that should get rebates\n",
    "households_under_150_pct = (household_adjusted_gross_income / poverty_threshold <= 1.5).sum()\n",
    "households_under_175_pct = (household_adjusted_gross_income / poverty_threshold <= 1.75).sum()\n",
    "print(f\"Households under 150% of poverty: {households_under_150_pct:,}\")\n",
    "print(f\"Households under 175% of poverty: {households_under_175_pct:,}\")\n",
    "\n",
    "# Check for any zero or negative values that might cause issues\n",
    "print(f\"Zero poverty thresholds: {(poverty_threshold == 0).sum()}\")\n",
    "print(f\"Zero AGI values: {(household_adjusted_gross_income == 0).sum()}\")\n",
    "print(f\"Negative AGI values: {(household_adjusted_gross_income < 0).sum()}\")"
   ]
  },
  {
   "cell_type": "code",
   "execution_count": null,
   "id": "5q85sc7lgcg",
   "metadata": {},
   "outputs": [
    {
     "name": "stdout",
     "output_type": "stream",
     "text": [
      "=== TESTING AVAILABLE INCOME VARIABLES ===\n"
     ]
    }
   ],
   "source": [
    "# Try different income measures to see which is appropriate\n",
    "# Let's test which income variables exist\n",
    "income_vars_to_test = [\n",
    "    \"household_net_income\",\n",
    "    \"spm_unit_net_income\", \n",
    "    \"total_income\",\n",
    "    \"employment_income\"\n",
    "]\n",
    "\n",
    "print(\"=== TESTING AVAILABLE INCOME VARIABLES ===\")\n",
    "available_income_vars = {}\n",
    "\n",
    "for var in income_vars_to_test:\n",
    "    try:\n",
    "        if \"spm_unit\" in var:\n",
    "            income_vals = sim.calculate(var, map_to=\"household\")[ca_mask]\n",
    "        else:\n",
    "            income_vals = sim.calculate(var, map_to=\"household\")[ca_mask]\n",
    "        available_income_vars[var] = income_vals\n",
    "        print(f\"{var}: Available, mean = ${income_vals.mean():,.2f}\")\n",
    "    except:\n",
    "        print(f\"{var}: Not available\")\n",
    "\n",
    "# Compare with AGI\n",
    "print(f\"\\nAGI mean: ${household_adjusted_gross_income.mean():,.2f}\")\n",
    "\n",
    "# If we found alternatives, compare poverty ratios\n",
    "if available_income_vars:\n",
    "    print(f\"\\nHouseholds under 150% poverty by income measure:\")\n",
    "    agi_under_150 = (household_adjusted_gross_income / poverty_threshold <= 1.5).sum()\n",
    "    print(f\"Using AGI: {agi_under_150:,}\")\n",
    "    \n",
    "    for var_name, income_vals in available_income_vars.items():\n",
    "        under_150 = (income_vals / poverty_threshold <= 1.5).sum()\n",
    "        print(f\"Using {var_name}: {under_150:,}\")"
   ]
  },
  {
   "cell_type": "code",
   "execution_count": null,
   "id": "7zumirq4bml",
   "metadata": {},
   "outputs": [
    {
     "name": "stdout",
     "output_type": "stream",
     "text": [
      "=== INCOME TO POVERTY RATIO DISTRIBUTION ===\n",
      "10th percentile income-to-poverty ratio: 0.32\n",
      "25th percentile income-to-poverty ratio: 1.59\n",
      "50th percentile income-to-poverty ratio: 3.50\n",
      "75th percentile income-to-poverty ratio: 6.68\n",
      "90th percentile income-to-poverty ratio: 12.48\n",
      "95th percentile income-to-poverty ratio: 19.53\n",
      "99th percentile income-to-poverty ratio: 46.38\n",
      "\n",
      "Percent of households by income level:\n",
      "Below 50% of poverty: 18.9%\n",
      "Below 100% of poverty: 24.6%\n",
      "Below 150% of poverty: 31.3%\n",
      "Below 175% of poverty: 33.5%\n",
      "Below 200% of poverty: 37.3%\n",
      "\n",
      "Households with zero or negative AGI: 1,426,160.1974516786 (9.0%)\n",
      "Income distribution excluding zero/negative income households:\n",
      "10th percentile (positive income only): 0.85\n",
      "25th percentile (positive income only): 1.87\n",
      "50th percentile (positive income only): 3.74\n",
      "75th percentile (positive income only): 6.94\n",
      "90th percentile (positive income only): 12.86\n",
      "Below 150% of poverty (positive income only): 24.4%\n",
      "Below 175% of poverty (positive income only): 26.9%\n"
     ]
    }
   ],
   "source": [
    "# Analyze income distribution to understand why so few get rebates\n",
    "print(\"=== INCOME TO POVERTY RATIO DISTRIBUTION ===\")\n",
    "\n",
    "income_to_poverty_ratio = household_adjusted_gross_income / poverty_threshold\n",
    "\n",
    "# Show distribution of income-to-poverty ratios\n",
    "percentiles = [10, 25, 50, 75, 90, 95, 99]\n",
    "for p in percentiles:\n",
    "    value = np.percentile(income_to_poverty_ratio, p)\n",
    "    print(f\"{p}th percentile income-to-poverty ratio: {value:.2f}\")\n",
    "\n",
    "print(f\"\\nPercent of households by income level:\")\n",
    "print(f\"Below 50% of poverty: {(income_to_poverty_ratio <= 0.5).mean()*100:.1f}%\")\n",
    "print(f\"Below 100% of poverty: {(income_to_poverty_ratio <= 1.0).mean()*100:.1f}%\")\n",
    "print(f\"Below 150% of poverty: {(income_to_poverty_ratio <= 1.5).mean()*100:.1f}%\")\n",
    "print(f\"Below 175% of poverty: {(income_to_poverty_ratio <= 1.75).mean()*100:.1f}%\")\n",
    "print(f\"Below 200% of poverty: {(income_to_poverty_ratio <= 2.0).mean()*100:.1f}%\")\n",
    "\n",
    "# Check if the issue is with zero/negative incomes\n",
    "zero_income_mask = household_adjusted_gross_income <= 0\n",
    "print(f\"\\nHouseholds with zero or negative AGI: {zero_income_mask.sum():,} ({zero_income_mask.mean()*100:.1f}%)\")\n",
    "\n",
    "# If there are many zero-income households, they might be skewing results\n",
    "if zero_income_mask.sum() > 0:\n",
    "    print(\"Income distribution excluding zero/negative income households:\")\n",
    "    positive_income_mask = household_adjusted_gross_income > 0\n",
    "    positive_income_ratio = household_adjusted_gross_income[positive_income_mask] / poverty_threshold[positive_income_mask]\n",
    "    \n",
    "    for p in [10, 25, 50, 75, 90]:\n",
    "        value = np.percentile(positive_income_ratio, p)\n",
    "        print(f\"{p}th percentile (positive income only): {value:.2f}\")\n",
    "    \n",
    "    print(f\"Below 150% of poverty (positive income only): {(positive_income_ratio <= 1.5).mean()*100:.1f}%\")\n",
    "    print(f\"Below 175% of poverty (positive income only): {(positive_income_ratio <= 1.75).mean()*100:.1f}%\")"
   ]
  },
  {
   "cell_type": "code",
   "execution_count": null,
   "id": "c6jev1ok9th",
   "metadata": {},
   "outputs": [
    {
     "name": "stdout",
     "output_type": "stream",
     "text": [
      "Households receiving full rebate: 441\n",
      "Households receiving partial rebate: 61\n",
      "Total households receiving any rebate: 502\n"
     ]
    }
   ],
   "source": [
    "# Calculate rebate with phase-out logic\n",
    "# Rebate = poverty_threshold for households below 150% of poverty threshold\n",
    "# Phases out linearly between 150% and 175% of poverty threshold\n",
    "# No rebate for households above 175% of poverty threshold\n",
    "\n",
    "import numpy as np\n",
    "\n",
    "# Define phase-out thresholds\n",
    "phase_out_start = 1.5  # 150% of poverty threshold\n",
    "phase_out_end = 1.75   # 175% of poverty threshold\n",
    "\n",
    "# Calculate income as percentage of poverty threshold\n",
    "income_to_poverty_ratio = household_adjusted_gross_income / poverty_threshold\n",
    "\n",
    "# Calculate tax-free consumption (X component) for each household\n",
    "# Full poverty threshold amount for households below 150% of poverty\n",
    "full_rebate_mask = income_to_poverty_ratio <= phase_out_start\n",
    "tax_free_consumption = np.where(full_rebate_mask, poverty_threshold, 0)\n",
    "\n",
    "# Partial rebate for households between 150% and 175% of poverty\n",
    "partial_rebate_mask = (income_to_poverty_ratio > phase_out_start) & (income_to_poverty_ratio <= phase_out_end)\n",
    "phase_out_factor = (phase_out_end - income_to_poverty_ratio) / (phase_out_end - phase_out_start)\n",
    "partial_tax_free = poverty_threshold * phase_out_factor\n",
    "tax_free_consumption = np.where(partial_rebate_mask, partial_tax_free, tax_free_consumption)\n",
    "\n",
    "# Count households by rebate status\n",
    "full_rebate_households = (full_rebate_mask & (tax_free_consumption > 0)).sum()\n",
    "partial_rebate_households = (partial_rebate_mask & (tax_free_consumption > 0)).sum()\n",
    "total_rebate_households = full_rebate_households + partial_rebate_households\n",
    "\n",
    "print(f\"Households receiving full rebate: {full_rebate_households:,}\")\n",
    "print(f\"Households receiving partial rebate: {partial_rebate_households:,}\")\n",
    "print(f\"Total households receiving any rebate: {total_rebate_households:,}\")"
   ]
  },
  {
   "cell_type": "code",
   "execution_count": null,
   "id": "gb428oalex",
   "metadata": {},
   "outputs": [
    {
     "name": "stdout",
     "output_type": "stream",
     "text": [
      "X (Total tax-free consumption after phase-out): $115.2 billion\n",
      "X (Total tax-free consumption after phase-out): $115,238,302,411\n",
      "Total poverty thresholds without phase-out: $79525582.4 billion\n",
      "Reduction due to phase-out: $79525467.2 billion (100.0%)\n"
     ]
    }
   ],
   "source": [
    "# Calculate X: Sum of all tax-free consumption across all households (weighted)\n",
    "X = (tax_free_consumption * household_weight).sum()\n",
    "\n",
    "print(f\"X (Total tax-free consumption after phase-out): ${X/1e9:.1f} billion\")\n",
    "print(f\"X (Total tax-free consumption after phase-out): ${X:,.0f}\")\n",
    "\n",
    "# For comparison, show the total if there were no phase-out\n",
    "total_without_phaseout = (poverty_threshold * household_weight).sum()\n",
    "print(f\"Total poverty thresholds without phase-out: ${total_without_phaseout/1e9:.1f} billion\")\n",
    "print(f\"Reduction due to phase-out: ${(total_without_phaseout - X)/1e9:.1f} billion ({100*(total_without_phaseout - X)/total_without_phaseout:.1f}%)\")"
   ]
  },
  {
   "cell_type": "code",
   "execution_count": null,
   "id": "radyptk7v2p",
   "metadata": {},
   "outputs": [
    {
     "name": "stdout",
     "output_type": "stream",
     "text": [
      "=== SUMMARY STATISTICS ===\n",
      "Total weighted households: 3990023.83 million\n",
      "Households receiving any rebate: 5.3 million\n",
      "Households receiving partial rebate: 61\n",
      "Average rebate amount: $0.09\n",
      "X (tax-free consumption): $115.2 billion\n",
      "\n",
      "=== FORMULA CONTEXT ===\n",
      "X = $115,238,302,411\n",
      "This is the sum of all tax-free consumption after accounting for phase-out\n",
      "Used in VAT rate formula: t = Rs/(Cp - X - T + Ro)\n",
      "Where Xt/(1+t) is the budgetary cost of the rebate\n"
     ]
    }
   ],
   "source": [
    "# Summary statistics matching expected outputs\n",
    "total_weighted_households = household_weight.sum()\n",
    "households_with_rebate = (tax_free_consumption > 0).sum()\n",
    "weighted_households_with_rebate = ((tax_free_consumption > 0) * household_weight).sum()\n",
    "\n",
    "# Calculate average rebate among households receiving any rebate\n",
    "rebate_mask = tax_free_consumption > 0\n",
    "if rebate_mask.sum() > 0:\n",
    "    total_rebate_amount = (tax_free_consumption[rebate_mask] * household_weight[rebate_mask]).sum()\n",
    "    average_rebate = total_rebate_amount / household_weight[rebate_mask].sum()\n",
    "else:\n",
    "    average_rebate = 0\n",
    "\n",
    "print(\"=== SUMMARY STATISTICS ===\")\n",
    "print(f\"Total weighted households: {total_weighted_households/1e6:.2f} million\")\n",
    "print(f\"Households receiving any rebate: {weighted_households_with_rebate/1e6:.1f} million\")\n",
    "print(f\"Households receiving partial rebate: {partial_rebate_households:,}\")\n",
    "print(f\"Average rebate amount: ${average_rebate:,.2f}\")\n",
    "print(f\"X (tax-free consumption): ${X/1e9:.1f} billion\")\n",
    "\n",
    "print(f\"\\n=== FORMULA CONTEXT ===\")\n",
    "print(f\"X = ${X:,.0f}\")\n",
    "print(f\"This is the sum of all tax-free consumption after accounting for phase-out\")\n",
    "print(f\"Used in VAT rate formula: t = Rs/(Cp - X - T + Ro)\")\n",
    "print(f\"Where Xt/(1+t) is the budgetary cost of the rebate\")"
   ]
  }
 ],
 "metadata": {
  "kernelspec": {
   "display_name": "pe",
   "language": "python",
   "name": "python3"
  },
  "language_info": {
   "codemirror_mode": {
    "name": "ipython",
    "version": 3
   },
   "file_extension": ".py",
   "mimetype": "text/x-python",
   "name": "python",
   "nbconvert_exporter": "python",
   "pygments_lexer": "ipython3",
   "version": "3.12.10"
  }
 },
 "nbformat": 4,
 "nbformat_minor": 5
}
