{
 "cells": [
  {
   "cell_type": "code",
   "execution_count": 37,
   "metadata": {},
   "outputs": [],
   "source": [
    "# Import the PolicyEngine US simulation library\n",
    "from policyengine_us import Simulation"
   ]
  },
  {
   "cell_type": "code",
   "execution_count": 38,
   "metadata": {},
   "outputs": [],
   "source": [
    "# Define the household situation with people, their relationships, and characteristics\n",
    "situation = {\n",
    " # Define all people in the household with their individual characteristics\n",
    " \"people\": {\n",
    "   \"you\": {\n",
    "     \"age\": {\n",
    "       \"2026\": 40  # Primary earner, age 40 in 2026\n",
    "     },\n",
    "     \"employment_income\": {\n",
    "       \"2026\": 45000  # Annual employment income of $45,000\n",
    "     }\n",
    "   },\n",
    "   \"your partner\": {\n",
    "     \"age\": {\n",
    "       \"2026\": 40  \n",
    "     },\n",
    "     \"employment_income\": {\n",
    "       \"2026\": 0  \n",
    "     }\n",
    "   },\n",
    "   \"your first dependent\": {\n",
    "     \"age\": {\n",
    "       \"2026\": 3 \n",
    "     },\n",
    "     \"employment_income\": {\n",
    "       \"2026\": 0 \n",
    "     }\n",
    "   }\n",
    " },\n",
    " \n",
    " \"families\": {\n",
    "   \"your family\": {\n",
    "     \"members\": [\n",
    "       \"you\",\n",
    "       \"your partner\", \n",
    "       \"your first dependent\" \n",
    "     ]\n",
    "   }\n",
    " },\n",
    " \n",
    " \"marital_units\": {\n",
    "   \"your marital unit\": {\n",
    "     \"members\": [\n",
    "       \"you\",\n",
    "       \"your partner\"  \n",
    "     ]\n",
    "   },\n",
    "   \"your first dependent's marital unit\": {\n",
    "     \"members\": [\n",
    "       \"your first dependent\" \n",
    "     ],\n",
    "     \"marital_unit_id\": {\n",
    "       \"2026\": 1  \n",
    "     }\n",
    "   }\n",
    " },\n",
    " \n",
    " \"tax_units\": {\n",
    "   \"your tax unit\": {\n",
    "     \"members\": [\n",
    "       \"you\",\n",
    "       \"your partner\",\n",
    "       \"your first dependent\" \n",
    "     ]\n",
    "   }\n",
    " },\n",
    " \n",
    " \"spm_units\": {\n",
    "   \"your household\": {\n",
    "     \"members\": [\n",
    "       \"you\",\n",
    "       \"your partner\",\n",
    "       \"your first dependent\"  \n",
    "     ]\n",
    "   }\n",
    " },\n",
    " \n",
    " # Define households (for geographic and household-level benefits)\n",
    " \"households\": {\n",
    "   \"your household\": {\n",
    "     \"members\": [\n",
    "       \"you\",\n",
    "       \"your partner\", \n",
    "       \"your first dependent\"  # All live in the same household\n",
    "     ],\n",
    "     \"state_name\": {\n",
    "       \"2026\": \"NY\"  # Located in New York state\n",
    "     }\n",
    "   }\n",
    " }\n",
    "}"
   ]
  },
  {
   "cell_type": "code",
   "execution_count": 39,
   "metadata": {},
   "outputs": [],
   "source": [
    "# Create a simulation object using the defined situation\n",
    "simulation = Simulation(\n",
    "   situation=situation,\n",
    ")\n"
   ]
  },
  {
   "cell_type": "code",
   "execution_count": 40,
   "metadata": {},
   "outputs": [],
   "source": [
    "# Calculate Medicaid eligibility for each person and convert to Python list\n",
    "medicaid_eligibility = simulation.calculate(\"is_medicaid_eligible\", period=2026).tolist()\n",
    "\n",
    "# Calculate CHIP (Children's Health Insurance Program) eligibility for each person and convert to list\n",
    "chip_eligibility = simulation.calculate(\"is_chip_eligible\", period=2026).tolist()\n",
    "\n",
    "# Calculate ACA Premium Tax Credits for the tax unit and convert to list\n",
    "aca = simulation.calculate(\"aca_ptc\", period=2026).tolist()\n"
   ]
  },
  {
   "cell_type": "code",
   "execution_count": 41,
   "metadata": {},
   "outputs": [
    {
     "data": {
      "text/plain": [
       "[True, True, False]"
      ]
     },
     "execution_count": 41,
     "metadata": {},
     "output_type": "execute_result"
    }
   ],
   "source": [
    "# Display the results\n",
    "medicaid_eligibility"
   ]
  },
  {
   "cell_type": "code",
   "execution_count": 42,
   "metadata": {},
   "outputs": [
    {
     "data": {
      "text/plain": [
       "[False, False, True]"
      ]
     },
     "execution_count": 42,
     "metadata": {},
     "output_type": "execute_result"
    }
   ],
   "source": [
    "# Display the results\n",
    "chip_eligibility"
   ]
  },
  {
   "cell_type": "code",
   "execution_count": 43,
   "metadata": {},
   "outputs": [
    {
     "data": {
      "text/plain": [
       "[0.0]"
      ]
     },
     "execution_count": 43,
     "metadata": {},
     "output_type": "execute_result"
    }
   ],
   "source": [
    "# Display the results\n",
    "aca"
   ]
  }
 ],
 "metadata": {
  "kernelspec": {
   "display_name": "pe",
   "language": "python",
   "name": "python3"
  },
  "language_info": {
   "codemirror_mode": {
    "name": "ipython",
    "version": 3
   },
   "file_extension": ".py",
   "mimetype": "text/x-python",
   "name": "python",
   "nbconvert_exporter": "python",
   "pygments_lexer": "ipython3",
   "version": "3.10.14"
  }
 },
 "nbformat": 4,
 "nbformat_minor": 2
}
