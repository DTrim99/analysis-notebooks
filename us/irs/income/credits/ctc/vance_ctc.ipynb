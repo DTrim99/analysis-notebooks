{
 "cells": [
  {
   "cell_type": "code",
   "execution_count": 1,
   "metadata": {},
   "outputs": [],
   "source": [
    "import numpy as np\n",
    "import plotly.graph_objects as go\n",
    "from policyengine_us import Simulation\n",
    "from policyengine_core.reforms import Reform\n",
    "from policyengine_core.charts import *"
   ]
  },
  {
   "cell_type": "code",
   "execution_count": 2,
   "metadata": {},
   "outputs": [],
   "source": [
    "reform_ref = Reform.from_dict({\n",
    "  \"gov.irs.credits.ctc.amount.base[0].amount\": {\n",
    "    \"2024-01-01.2100-12-31\": 5000\n",
    "  },\n",
    "  \"gov.irs.credits.ctc.phase_out.amount\": {\n",
    "    \"2024-01-01.2100-12-31\": 0\n",
    "  },\n",
    "  \"gov.irs.credits.ctc.refundable.fully_refundable\": {\n",
    "    \"2024-01-01.2100-12-31\": True\n",
    "  }\n",
    "}, country_id=\"us\")\n",
    "\n",
    "reform_non_ref = Reform.from_dict({\n",
    "  \"gov.irs.credits.ctc.amount.base[0].amount\": {\n",
    "    \"2024-01-01.2100-12-31\": 5000\n",
    "  },\n",
    "  \"gov.irs.credits.ctc.phase_out.amount\": {\n",
    "    \"2024-01-01.2100-12-31\": 0\n",
    "  }\n",
    "}, country_id=\"us\")"
   ]
  },
  {
   "cell_type": "code",
   "execution_count": 3,
   "metadata": {},
   "outputs": [],
   "source": [
    "YEAR = \"2025\"\n",
    "DEFAULT_AGE = 40\n",
    "MAX_INCOME = 500000\n",
    "\n",
    "def create_situation(filing_status, state_code):\n",
    "    situation = {\n",
    "        \"people\": {\n",
    "            \"adult\": {\n",
    "                \"age\": {YEAR: DEFAULT_AGE},\n",
    "            },\n",
    "            \"child\": {\n",
    "                \"age\": {YEAR: 10},\n",
    "            }\n",
    "        },\n",
    "        \"families\": {\"family\": {\"members\": [\"adult\", \"child\"]}},\n",
    "        \"marital_units\": {\"marital_unit\": {\"members\": [\"adult\"]}},\n",
    "        \"tax_units\": {\"tax_unit\": {\"members\": [\"adult\", \"child\"]}},\n",
    "        \"households\": {\n",
    "            \"household\": {\"members\": [\"adult\", \"child\"], \"state_name\": {YEAR: state_code}}\n",
    "        },\n",
    "        \"axes\": [[\n",
    "            {\n",
    "                \"name\": \"employment_income\",\n",
    "                \"min\": 0,\n",
    "                \"max\": MAX_INCOME,\n",
    "                \"count\": 501,  # Increased to maintain $1000 intervals\n",
    "                \"period\": YEAR,\n",
    "            }\n",
    "        ]]\n",
    "    }\n",
    "    \n",
    "    if filing_status == \"married\":\n",
    "        situation[\"people\"][\"spouse\"] = {\"age\": {YEAR: DEFAULT_AGE}}\n",
    "        for unit in [\"families\", \"marital_units\", \"tax_units\", \"households\"]:\n",
    "            situation[unit][list(situation[unit].keys())[0]][\"members\"].append(\"spouse\")\n",
    "        \n",
    "    return situation"
   ]
  },
  {
   "cell_type": "code",
   "execution_count": 4,
   "metadata": {},
   "outputs": [],
   "source": [
    "def calculate_income(situation, reform=None):\n",
    "    simulation = Simulation(situation=situation, reform=reform)\n",
    "    return simulation.calculate(\"household_net_income\", YEAR)\n"
   ]
  },
  {
   "cell_type": "code",
   "execution_count": 10,
   "metadata": {},
   "outputs": [],
   "source": [
    "def create_income_comparison_graph(state_code):\n",
    "    colors = {\n",
    "        \"dark_blue\": \"#18375f\",\n",
    "        \"light_blue\": \"#2976fe\",\n",
    "        \"gray\": \"#c5c5c5\",\n",
    "        \"dark_gray\": \"#5d5d5d\"\n",
    "    }\n",
    "\n",
    "    married_baseline = calculate_income(create_situation(\"married\", state_code))\n",
    "    married_non_ref = calculate_income(create_situation(\"married\", state_code), reform_non_ref)\n",
    "    married_ref = calculate_income(create_situation(\"married\", state_code), reform_ref)\n",
    "\n",
    "    hoh_baseline = calculate_income(create_situation(\"hoh\", state_code))\n",
    "    hoh_non_ref = calculate_income(create_situation(\"hoh\", state_code), reform_non_ref)\n",
    "    hoh_ref = calculate_income(create_situation(\"hoh\", state_code), reform_ref)\n",
    "\n",
    "    x = np.linspace(0, MAX_INCOME, 501)\n",
    "\n",
    "    fig = go.Figure()\n",
    "\n",
    "    fig.add_trace(go.Scatter(x=x, y=married_non_ref - married_baseline, mode='lines', name='Married, Current Refundability', line=dict(color=colors['dark_blue'])))\n",
    "    fig.add_trace(go.Scatter(x=x, y=married_ref - married_baseline, mode='lines', name='Married, Full Refundability', line=dict(color=colors['light_blue'], dash='dash')))\n",
    "    fig.add_trace(go.Scatter(x=x, y=hoh_non_ref - hoh_baseline, mode='lines', name='Single, Current Refundability', line=dict(color=colors['dark_gray'])))\n",
    "    fig.add_trace(go.Scatter(x=x, y=hoh_ref - hoh_baseline, mode='lines', name='Single, Full Refundability', line=dict(color=colors['gray'], dash='dot')))  # Changed to 'dot'\n",
    "\n",
    "    fig.update_layout(\n",
    "        title='Household with One Child under JD Vance\\'s $5,000 Child Tax Credit Expansion',\n",
    "        xaxis_title=\"Earnings\",\n",
    "        yaxis_title=\"Net Impact\",\n",
    "        xaxis=dict(tickformat='$,.0f', range=[0, MAX_INCOME]),\n",
    "        yaxis=dict(tickformat='$,.0f'),\n",
    "        legend=dict(\n",
    "            yanchor=\"top\",\n",
    "            y=0.99,\n",
    "            xanchor=\"left\",\n",
    "            x=1.01\n",
    "        ),\n",
    "        height=600,\n",
    "        width=800,\n",
    "    )\n",
    "\n",
    "    return fig"
   ]
  },
  {
   "cell_type": "code",
   "execution_count": 11,
   "metadata": {},
   "outputs": [],
   "source": [
    "# Create and display the chart\n",
    "state_code = \"TX\"  \n",
    "fig = create_income_comparison_graph(state_code)\n",
    "fig = format_fig(fig)\n",
    "fig.show()"
   ]
  },
  {
   "cell_type": "code",
   "execution_count": null,
   "metadata": {},
   "outputs": [],
   "source": []
  }
 ],
 "metadata": {
  "kernelspec": {
   "display_name": "policyengine",
   "language": "python",
   "name": "python3"
  },
  "language_info": {
   "codemirror_mode": {
    "name": "ipython",
    "version": 3
   },
   "file_extension": ".py",
   "mimetype": "text/x-python",
   "name": "python",
   "nbconvert_exporter": "python",
   "pygments_lexer": "ipython3",
   "version": "3.9.16"
  }
 },
 "nbformat": 4,
 "nbformat_minor": 2
}
