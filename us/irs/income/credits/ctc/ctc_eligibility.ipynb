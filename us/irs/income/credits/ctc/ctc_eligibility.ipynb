{
 "cells": [
  {
   "cell_type": "code",
   "execution_count": 20,
   "metadata": {},
   "outputs": [],
   "source": [
    "from policyengine_us import Microsimulation\n",
    "from policyengine_core.reforms import Reform\n",
    "import pandas as pd\n"
   ]
  },
  {
   "cell_type": "code",
   "execution_count": 21,
   "metadata": {},
   "outputs": [],
   "source": [
    "# Calculate the relevant variables\n",
    "sim = Microsimulation()\n",
    "ctc_phase_in = sim.calculate(\"ctc_phase_in\", period=2024)\n",
    "ctc_qualifying_children = sim.calculate(\"ctc_qualifying_children\", period=2024)\n",
    "ctc_maximum = sim.calculate(\"ctc_maximum\", period=2024)"
   ]
  },
  {
   "cell_type": "code",
   "execution_count": 22,
   "metadata": {},
   "outputs": [],
   "source": [
    "# Create a DataFrame\n",
    "df = pd.DataFrame({\n",
    "    'ctc_phase_in': ctc_phase_in.values,\n",
    "    'ctc_qualifying_children': ctc_qualifying_children.values,\n",
    "    'ctc_maximum': ctc_maximum.values\n",
    "})\n",
    "\n",
    "# Analysis for zero phase-in\n",
    "families_no_phase_in = df[(df['ctc_qualifying_children'] > 0) & (df['ctc_phase_in'] == 0)]\n",
    "children_no_phase_in = families_no_phase_in['ctc_qualifying_children'].sum()\n",
    "\n",
    "# Analysis for partial phase-in\n",
    "families_partial_phase_in = df[\n",
    "    (df['ctc_qualifying_children'] > 0) & \n",
    "    (df['ctc_phase_in'] > 0) & \n",
    "    (df['ctc_phase_in'] < df['ctc_maximum'])\n",
    "]\n",
    "children_partial_phase_in = families_partial_phase_in['ctc_qualifying_children'].sum()\n",
    "\n",
    "# Calculate totals and percentages\n",
    "total_qualifying_children = df['ctc_qualifying_children'].sum()\n",
    "percentage_children_no_phase_in = (children_no_phase_in / total_qualifying_children) * 100\n",
    "percentage_children_partial_phase_in = (children_partial_phase_in / total_qualifying_children) * 100"
   ]
  },
  {
   "cell_type": "code",
   "execution_count": 23,
   "metadata": {},
   "outputs": [
    {
     "name": "stdout",
     "output_type": "stream",
     "text": [
      "Total number of qualifying children: 32,804\n",
      "\n",
      "\n",
      "Number of qualifying children in families with no CTC phase-in: 3,007\n",
      "Percentage of qualifying children with no CTC phase-in: 9.2%\n",
      "\n",
      "\n",
      "Number of qualifying children in families with partial CTC phase-in: 4,592\n",
      "Percentage of qualifying children with partial CTC phase-in: 14.0%\n",
      "\n",
      "\n",
      "Combined percentage of children with no or partial CTC: 23.2%\n"
     ]
    }
   ],
   "source": [
    "# Print results\n",
    "print(f\"Total number of qualifying children: {total_qualifying_children:,.0f}\")\n",
    "print(\"\\n\")\n",
    "print(f\"Number of qualifying children in families with no CTC phase-in: {children_no_phase_in:,.0f}\")\n",
    "print(f\"Percentage of qualifying children with no CTC phase-in: {percentage_children_no_phase_in:.1f}%\")\n",
    "print(\"\\n\")\n",
    "print(f\"Number of qualifying children in families with partial CTC phase-in: {children_partial_phase_in:,.0f}\")\n",
    "print(f\"Percentage of qualifying children with partial CTC phase-in: {percentage_children_partial_phase_in:.1f}%\")\n",
    "print(\"\\n\")\n",
    "print(f\"Combined percentage of children with no or partial CTC: {(percentage_children_no_phase_in + percentage_children_partial_phase_in):.1f}%\")\n"
   ]
  },
  {
   "cell_type": "code",
   "execution_count": null,
   "metadata": {},
   "outputs": [],
   "source": []
  }
 ],
 "metadata": {
  "kernelspec": {
   "display_name": "pe",
   "language": "python",
   "name": "python3"
  },
  "language_info": {
   "codemirror_mode": {
    "name": "ipython",
    "version": 3
   },
   "file_extension": ".py",
   "mimetype": "text/x-python",
   "name": "python",
   "nbconvert_exporter": "python",
   "pygments_lexer": "ipython3",
   "version": "3.10.14"
  }
 },
 "nbformat": 4,
 "nbformat_minor": 2
}
