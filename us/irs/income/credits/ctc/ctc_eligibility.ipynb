{
 "cells": [
  {
   "cell_type": "code",
   "execution_count": 24,
   "metadata": {},
   "outputs": [],
   "source": [
    "from policyengine_us import Microsimulation\n",
    "from policyengine_core.reforms import Reform\n",
    "import pandas as pd\n"
   ]
  },
  {
   "cell_type": "code",
   "execution_count": 25,
   "metadata": {},
   "outputs": [],
   "source": [
    "# Calculate the relevant variables\n",
    "sim = Microsimulation()\n",
    "ctc_phase_in = sim.calculate(\"ctc_phase_in\", period=2024)\n",
    "ctc_qualifying_children = sim.calculate(\"ctc_qualifying_children\", period=2024)\n",
    "ctc_maximum = sim.calculate(\"ctc_maximum\", period=2024)"
   ]
  },
  {
   "cell_type": "code",
   "execution_count": 26,
   "metadata": {},
   "outputs": [],
   "source": [
    "# Calculate children with no phase-in\n",
    "no_phase_in_mask = (ctc_qualifying_children.values > 0) & (ctc_phase_in.values == 0)\n",
    "children_no_phase_in = (ctc_qualifying_children.values[no_phase_in_mask] * ctc_phase_in.weights[no_phase_in_mask]).sum()\n",
    "\n",
    "# Calculate children with partial phase-in\n",
    "partial_phase_in_mask = (ctc_qualifying_children.values > 0) & (ctc_phase_in.values > 0) & (ctc_phase_in.values < ctc_maximum.values)\n",
    "children_partial_phase_in = (ctc_qualifying_children.values[partial_phase_in_mask] * ctc_phase_in.weights[partial_phase_in_mask]).sum()\n",
    "\n",
    "# Calculate total qualifying children\n",
    "total_qualifying_children = (ctc_qualifying_children.values * ctc_phase_in.weights).sum()\n",
    "\n",
    "# Calculate percentages\n",
    "percentage_children_no_phase_in = (children_no_phase_in / total_qualifying_children) * 100\n",
    "percentage_children_partial_phase_in = (children_partial_phase_in / total_qualifying_children) * 100\n"
   ]
  },
  {
   "cell_type": "code",
   "execution_count": 27,
   "metadata": {},
   "outputs": [
    {
     "name": "stdout",
     "output_type": "stream",
     "text": [
      "Total number of qualifying children (weighted): 65,208,528\n",
      "\n",
      "\n",
      "Number of qualifying children in families with no CTC phase-in (weighted): 6,159,581\n",
      "Percentage of qualifying children with no CTC phase-in: 9.4%\n",
      "\n",
      "\n",
      "Number of qualifying children in families with partial CTC phase-in (weighted): 9,745,524\n",
      "Percentage of qualifying children with partial CTC phase-in: 14.9%\n",
      "\n",
      "\n",
      "Combined percentage of children with no or partial CTC: 24.4%\n"
     ]
    }
   ],
   "source": [
    "# Print results\n",
    "print(f\"Total number of qualifying children (weighted): {total_qualifying_children:,.0f}\")\n",
    "print(\"\\n\")\n",
    "print(f\"Number of qualifying children in families with no CTC phase-in (weighted): {children_no_phase_in:,.0f}\")\n",
    "print(f\"Percentage of qualifying children with no CTC phase-in: {percentage_children_no_phase_in:.1f}%\")\n",
    "print(\"\\n\")\n",
    "print(f\"Number of qualifying children in families with partial CTC phase-in (weighted): {children_partial_phase_in:,.0f}\")\n",
    "print(f\"Percentage of qualifying children with partial CTC phase-in: {percentage_children_partial_phase_in:.1f}%\")\n",
    "print(\"\\n\")\n",
    "print(f\"Combined percentage of children with no or partial CTC: {(percentage_children_no_phase_in + percentage_children_partial_phase_in):.1f}%\")\n",
    "\n"
   ]
  },
  {
   "cell_type": "code",
   "execution_count": null,
   "metadata": {},
   "outputs": [],
   "source": []
  }
 ],
 "metadata": {
  "kernelspec": {
   "display_name": "pe",
   "language": "python",
   "name": "python3"
  },
  "language_info": {
   "codemirror_mode": {
    "name": "ipython",
    "version": 3
   },
   "file_extension": ".py",
   "mimetype": "text/x-python",
   "name": "python",
   "nbconvert_exporter": "python",
   "pygments_lexer": "ipython3",
   "version": "3.10.14"
  }
 },
 "nbformat": 4,
 "nbformat_minor": 2
}
