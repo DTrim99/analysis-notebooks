{
 "cells": [
  {
   "cell_type": "code",
   "execution_count": 48,
   "id": "f5205d93",
   "metadata": {},
   "outputs": [],
   "source": [
    "from policyengine_us import Microsimulation\n",
    "from policyengine_core.reforms import Reform"
   ]
  },
  {
   "cell_type": "code",
   "execution_count": 49,
   "id": "c421e168",
   "metadata": {},
   "outputs": [],
   "source": [
    "def get_reform(amount):\n",
    "    return Reform.from_dict({\n",
    "    \"gov.contrib.crfb.ss_credit.in_effect\": {\n",
    "        \"2026-01-01.2100-12-31\": True\n",
    "    },\n",
    "    \"gov.contrib.crfb.ss_credit.amount.SINGLE\": {\n",
    "        \"2026-01-01.2100-12-31\": amount\n",
    "    },  \n",
    "    \"gov.contrib.crfb.ss_credit.amount.JOINT\": {\n",
    "        \"2026-01-01.2100-12-31\": amount\n",
    "    },  \n",
    "    \"gov.contrib.crfb.ss_credit.amount.SEPARATE\": {\n",
    "        \"2026-01-01.2100-12-31\": amount\n",
    "    },  \n",
    "    \"gov.contrib.crfb.ss_credit.amount.HEAD_OF_HOUSEHOLD\": {\n",
    "        \"2026-01-01.2100-12-31\": amount\n",
    "    },  \n",
    "    \"gov.contrib.crfb.ss_credit.amount.SURVIVING_SPOUSE\": {\n",
    "        \"2026-01-01.2100-12-31\": amount\n",
    "    },  \n",
    "    \"gov.irs.deductions.senior_deduction.amount\": {\n",
    "        \"2026-01-01.2100-12-31\": 0\n",
    "    },\n",
    "    \"gov.irs.social_security.taxability.rate.base\": {\n",
    "        \"2026-01-01.2100-12-31\": 0.85\n",
    "    },\n",
    "    \"gov.irs.social_security.taxability.threshold.base.main.SINGLE\": {\n",
    "        \"2026-01-01.2100-12-31\": 0\n",
    "    },\n",
    "    \"gov.irs.social_security.taxability.threshold.base.main.JOINT\": {\n",
    "        \"2026-01-01.2100-12-31\": 0\n",
    "    },\n",
    "    \"gov.irs.social_security.taxability.threshold.base.main.SEPARATE\": {\n",
    "        \"2026-01-01.2100-12-31\": 0\n",
    "    },\n",
    "    \"gov.irs.social_security.taxability.threshold.base.main.HEAD_OF_HOUSEHOLD\": {\n",
    "        \"2026-01-01.2100-12-31\": 0\n",
    "    },\n",
    "    \"gov.irs.social_security.taxability.threshold.base.main.SURVIVING_SPOUSE\": {\n",
    "        \"2026-01-01.2100-12-31\": 0\n",
    "    },\n",
    "    }, country_id=\"us\")\n"
   ]
  },
  {
   "cell_type": "code",
   "execution_count": 61,
   "id": "98ec1c8c",
   "metadata": {},
   "outputs": [],
   "source": [
    "AMOUNTS = [300, 600, 900, 1_200, 1_500]"
   ]
  },
  {
   "cell_type": "code",
   "execution_count": 62,
   "id": "c02714ac",
   "metadata": {},
   "outputs": [],
   "source": [
    "baseline = Microsimulation()\n",
    "baseline_income = baseline.calculate(\"household_net_income\", period=2026)\n"
   ]
  },
  {
   "cell_type": "code",
   "execution_count": 63,
   "id": "b30af798",
   "metadata": {},
   "outputs": [],
   "source": [
    "results = []"
   ]
  },
  {
   "cell_type": "code",
   "execution_count": 64,
   "id": "d80374e9",
   "metadata": {},
   "outputs": [],
   "source": [
    "for amount in AMOUNTS:\n",
    "    reform = get_reform(amount)\n",
    "    reformed = Microsimulation(reform=reform)\n",
    "    reformed_income = reformed.calculate(\"household_net_income\", period=2026)\n",
    "    difference_income = reformed_income - baseline_income\n",
    "    dif = difference_income.sum() / 1e9\n",
    "    results.append([amount, f'${round(dif, 2)}'])"
   ]
  },
  {
   "cell_type": "code",
   "execution_count": 65,
   "id": "7ad577b7",
   "metadata": {},
   "outputs": [],
   "source": [
    "import pandas as pd"
   ]
  },
  {
   "cell_type": "code",
   "execution_count": 66,
   "id": "dc66abba",
   "metadata": {},
   "outputs": [
    {
     "name": "stdout",
     "output_type": "stream",
     "text": [
      "   Credit Amount Cost (Billions)\n",
      "0            300         $-31.11\n",
      "1            600         $-21.33\n",
      "2            900         $-12.54\n",
      "3           1200          $-4.64\n",
      "4           1500           $2.41\n"
     ]
    }
   ],
   "source": [
    "df = pd.DataFrame(results, columns=['Credit Amount', 'Cost (Billions)'])\n",
    "print(df)\n"
   ]
  },
  {
   "cell_type": "code",
   "execution_count": 67,
   "id": "cf3411ae",
   "metadata": {},
   "outputs": [],
   "source": [
    "from policyengine_us import Simulation"
   ]
  },
  {
   "cell_type": "code",
   "execution_count": 68,
   "id": "007f5ea0",
   "metadata": {},
   "outputs": [],
   "source": [
    "def household_situation():\n",
    "    \n",
    "  return {\n",
    "    \"people\": {\n",
    "      \"you\": {\n",
    "        \"age\": {\n",
    "          \"2026\": 65\n",
    "        },\n",
    "        \"employment_income\": {\n",
    "          \"2026\": 60_000\n",
    "        },\n",
    "        \"social_security_retirement\": {\n",
    "          \"2026\": 15000\n",
    "        }\n",
    "      },\n",
    "      \"your partner\": {\n",
    "        \"age\": {\n",
    "          \"2026\": 67\n",
    "        },\n",
    "        \"employment_income\": {\n",
    "          \"2026\": 60_000\n",
    "        },\n",
    "        \"social_security_retirement\": {\n",
    "          \"2026\": 5000\n",
    "        }\n",
    "      }\n",
    "    },\n",
    "    \"tax_units\": {\n",
    "      \"your tax unit\": {\n",
    "        \"members\": [\n",
    "          \"you\",\n",
    "          \"your partner\"\n",
    "        ]\n",
    "      }\n",
    "    },\n",
    "    \"households\": {\n",
    "      \"your household\": {\n",
    "        \"members\": [\n",
    "          \"you\",\n",
    "          \"your partner\"\n",
    "        ],\n",
    "        \"state_name\": {\n",
    "          \"2026\": \"TX\"\n",
    "        }\n",
    "      }\n",
    "    }\n",
    "  }\n",
    "\n"
   ]
  },
  {
   "cell_type": "code",
   "execution_count": 69,
   "id": "6fbd7262",
   "metadata": {},
   "outputs": [],
   "source": [
    "baseline_sim = Simulation(\n",
    "    situation=household_situation(),\n",
    ")\n",
    "baseline_income = baseline_sim.calculate(\"household_net_income\", 2026)"
   ]
  },
  {
   "cell_type": "code",
   "execution_count": 70,
   "id": "34929c26",
   "metadata": {},
   "outputs": [],
   "source": [
    "household_results = []\n",
    "for amount in AMOUNTS:\n",
    "    reform = get_reform(amount)\n",
    "    reformed_sim = Simulation(\n",
    "        situation=household_situation(),\n",
    "        reform=reform,\n",
    "    )\n",
    "    reformed_income = reformed_sim.calculate(\"household_net_income\", 2026)\n",
    "    difference = reformed_income - baseline_income\n",
    "    household_results.append([amount, f'${difference[0]}'])\n"
   ]
  },
  {
   "cell_type": "code",
   "execution_count": 72,
   "id": "4c1d2a2d",
   "metadata": {},
   "outputs": [
    {
     "name": "stdout",
     "output_type": "stream",
     "text": [
      "   Credit Amount Net Income Change\n",
      "0            300          $-1255.0\n",
      "1            600           $-655.0\n",
      "2            900            $-55.0\n",
      "3           1200            $280.0\n",
      "4           1500            $580.0\n"
     ]
    }
   ],
   "source": [
    "household_df = pd.DataFrame(household_results, columns=['Credit Amount', 'Net Income Change'])\n",
    "print(household_df)\n"
   ]
  },
  {
   "cell_type": "code",
   "execution_count": null,
   "id": "82788239",
   "metadata": {},
   "outputs": [],
   "source": []
  }
 ],
 "metadata": {
  "kernelspec": {
   "display_name": "pe",
   "language": "python",
   "name": "python3"
  },
  "language_info": {
   "codemirror_mode": {
    "name": "ipython",
    "version": 3
   },
   "file_extension": ".py",
   "mimetype": "text/x-python",
   "name": "python",
   "nbconvert_exporter": "python",
   "pygments_lexer": "ipython3",
   "version": "3.10.14"
  }
 },
 "nbformat": 4,
 "nbformat_minor": 5
}
