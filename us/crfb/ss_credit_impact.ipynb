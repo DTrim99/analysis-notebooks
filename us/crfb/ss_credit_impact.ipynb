{
 "cells": [
  {
   "cell_type": "code",
   "execution_count": 15,
   "id": "f5205d93",
   "metadata": {},
   "outputs": [],
   "source": [
    "from policyengine_us import Microsimulation\n",
    "from policyengine_core.reforms import Reform"
   ]
  },
  {
   "cell_type": "code",
   "execution_count": 16,
   "id": "c421e168",
   "metadata": {},
   "outputs": [],
   "source": [
    "def get_reform(amount, double_joint=False):\n",
    "    joint_amount = amount * 2 if double_joint else amount\n",
    "    return Reform.from_dict({\n",
    "    \"gov.contrib.crfb.ss_credit.in_effect\": {\n",
    "        \"2026-01-01.2100-12-31\": True\n",
    "    },\n",
    "    \"gov.contrib.crfb.ss_credit.amount.SINGLE\": {\n",
    "        \"2026-01-01.2100-12-31\": amount\n",
    "    },  \n",
    "    \"gov.contrib.crfb.ss_credit.amount.JOINT\": {\n",
    "        \"2026-01-01.2100-12-31\": joint_amount\n",
    "    },  \n",
    "    \"gov.contrib.crfb.ss_credit.amount.SEPARATE\": {\n",
    "        \"2026-01-01.2100-12-31\": amount\n",
    "    },  \n",
    "    \"gov.contrib.crfb.ss_credit.amount.HEAD_OF_HOUSEHOLD\": {\n",
    "        \"2026-01-01.2100-12-31\": amount\n",
    "    },  \n",
    "    \"gov.contrib.crfb.ss_credit.amount.SURVIVING_SPOUSE\": {\n",
    "        \"2026-01-01.2100-12-31\": amount\n",
    "    },  \n",
    "    }, country_id=\"us\")\n"
   ]
  },
  {
   "cell_type": "code",
   "execution_count": 17,
   "id": "98ec1c8c",
   "metadata": {},
   "outputs": [],
   "source": [
    "AMOUNTS = [300, 600, 900, 1_200]"
   ]
  },
  {
   "cell_type": "code",
   "execution_count": 18,
   "id": "c02714ac",
   "metadata": {},
   "outputs": [],
   "source": [
    "baseline = Microsimulation()\n",
    "baseline_income = baseline.calculate(\"household_net_income\", period=2026)\n"
   ]
  },
  {
   "cell_type": "code",
   "execution_count": 19,
   "id": "b30af798",
   "metadata": {},
   "outputs": [],
   "source": [
    "results = []"
   ]
  },
  {
   "cell_type": "code",
   "execution_count": 20,
   "id": "d80374e9",
   "metadata": {},
   "outputs": [],
   "source": [
    "for amount in AMOUNTS:\n",
    "    for double_joint, case_name in [(False, 'Flat amount by filing status'), (True, 'Joint amount doubled')]:\n",
    "        reform = get_reform(amount, double_joint)\n",
    "        reformed = Microsimulation(reform=reform)\n",
    "        reformed_income = reformed.calculate(\"household_net_income\", period=2026)\n",
    "        difference_income = reformed_income - baseline_income\n",
    "        dif = difference_income.sum() / 1e9\n",
    "        results.append([amount, case_name, f'${round(dif, 2)}'])"
   ]
  },
  {
   "cell_type": "code",
   "execution_count": 21,
   "id": "7ad577b7",
   "metadata": {},
   "outputs": [],
   "source": [
    "import pandas as pd"
   ]
  },
  {
   "cell_type": "code",
   "execution_count": 22,
   "id": "dc66abba",
   "metadata": {},
   "outputs": [
    {
     "name": "stdout",
     "output_type": "stream",
     "text": [
      "   Credit Amount                          Case Cost (Billions)\n",
      "0            300  Flat amount by filing status         $-13.08\n",
      "1            300          Joint amount doubled          $-8.29\n",
      "2            600  Flat amount by filing status          $-6.39\n",
      "3            600          Joint amount doubled           $2.21\n",
      "4            900  Flat amount by filing status          $-0.19\n",
      "5            900          Joint amount doubled          $11.03\n",
      "6           1200  Flat amount by filing status           $5.53\n",
      "7           1200          Joint amount doubled          $18.26\n"
     ]
    }
   ],
   "source": [
    "df = pd.DataFrame(results, columns=['Credit Amount', 'Case', 'Cost (Billions)'])\n",
    "print(df)\n"
   ]
  }
 ],
 "metadata": {
  "kernelspec": {
   "display_name": "pe",
   "language": "python",
   "name": "python3"
  },
  "language_info": {
   "codemirror_mode": {
    "name": "ipython",
    "version": 3
   },
   "file_extension": ".py",
   "mimetype": "text/x-python",
   "name": "python",
   "nbconvert_exporter": "python",
   "pygments_lexer": "ipython3",
   "version": "3.10.14"
  }
 },
 "nbformat": 4,
 "nbformat_minor": 5
}
