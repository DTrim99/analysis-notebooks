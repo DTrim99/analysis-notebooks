{
 "cells": [
  {
   "cell_type": "code",
   "execution_count": null,
   "metadata": {},
   "outputs": [],
   "source": [
    "from policyengine_us import Microsimulation\n",
    "from policyengine_core.reforms import Reform\n",
    "\n",
    "reform = Reform.from_dict({\n",
    "  \"gov.states.ar.tax.income.credits.cdcc.match\": {\n",
    "    \"2024-01-01.2100-12-31\": 0.5\n",
    "  }\n",
    "}, country_id=\"us\")\n",
    "\n",
    "\n",
    "baseline = Microsimulation(dataset=\"enhanced_cps_2024\")\n",
    "reformed = Microsimulation(reform=reform, dataset=\"enhanced_cps_2024\")\n",
    "baseline_income = baseline.calculate(\"household_net_income\", period=2024)\n",
    "reformed_income = reformed.calculate(\"household_net_income\", period=2024)\n",
    "difference_income = reformed_income - baseline_income"
   ]
  }
 ],
 "metadata": {
  "language_info": {
   "name": "python"
  }
 },
 "nbformat": 4,
 "nbformat_minor": 2
}
