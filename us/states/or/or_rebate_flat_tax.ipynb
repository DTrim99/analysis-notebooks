{
 "cells": [
  {
   "cell_type": "code",
   "execution_count": 1,
   "metadata": {},
   "outputs": [],
   "source": [
    "from policyengine_us import Microsimulation\n",
    "from policyengine_core.reforms import Reform"
   ]
  },
  {
   "cell_type": "code",
   "execution_count": 2,
   "metadata": {},
   "outputs": [],
   "source": [
    "reform = Reform.from_dict({\n",
    "  \"gov.contrib.ubi_center.basic_income.amount.person.flat\": {\n",
    "    \"2025-01-01.2025-12-31\": 1160,\n",
    "    \"2026-01-01.2026-12-31\": 1605,\n",
    "    \"2027-01-01.2027-12-31\": 1686\n",
    "  },\n",
    "  \"gov.contrib.ubi_center.basic_income.taxable\": {\n",
    "    \"2024-01-01.2100-12-31\": True\n",
    "  }\n",
    "}, country_id=\"us\")\n",
    "\n",
    "reform_taxable = Reform.from_dict({\n",
    "  \"gov.contrib.states.or.rebate.state_tax_exempt\": {\n",
    "    \"2024-01-01.2100-12-31\": True\n",
    "  },\n",
    "  \"gov.contrib.ubi_center.basic_income.amount.person.flat\": {\n",
    "    \"2025-01-01.2025-12-31\": 1160,\n",
    "    \"2026-01-01.2026-12-31\": 1605,\n",
    "    \"2027-01-01.2027-12-31\": 1686\n",
    "  },\n",
    "  \"gov.contrib.ubi_center.basic_income.taxable\": {\n",
    "    \"2024-01-01.2100-12-31\": True\n",
    "  }\n",
    "}, country_id=\"us\")"
   ]
  },
  {
   "cell_type": "code",
   "execution_count": 3,
   "metadata": {},
   "outputs": [],
   "source": [
    "# Initialize microsimulations\n",
    "baseline = Microsimulation()\n",
    "reformed = Microsimulation(reform=reform)\n",
    "reformed_taxable = Microsimulation(reform=reform_taxable)"
   ]
  },
  {
   "cell_type": "code",
   "execution_count": 10,
   "metadata": {},
   "outputs": [],
   "source": [
    "# Function to calculate total household net income\n",
    "def calculate_total_household_net_income(simulation, year):\n",
    "    state_codes = baseline.calc(\"state_code\", map_to=\"household\", period=year)\n",
    "    mask = state_codes == \"OR\"\n",
    "    household_net_income = simulation.calc(\"household_net_income\", period=year)\n",
    "    return household_net_income[mask].sum()"
   ]
  },
  {
   "cell_type": "code",
   "execution_count": 11,
   "metadata": {},
   "outputs": [
    {
     "name": "stdout",
     "output_type": "stream",
     "text": [
      "Year 2025:\n",
      "  Reform - Baseline: $2,691,833,621.55\n",
      "  Reform Taxable - Baseline: $3,001,155,204.21\n",
      "\n",
      "Year 2026:\n",
      "  Reform - Baseline: $3,650,097,168.76\n",
      "  Reform Taxable - Baseline: $4,081,937,314.74\n",
      "\n",
      "Year 2027:\n",
      "  Reform - Baseline: $3,822,148,868.06\n",
      "  Reform Taxable - Baseline: $4,278,950,830.53\n",
      "\n"
     ]
    }
   ],
   "source": [
    "# Calculate and output the differences for each year\n",
    "for year in range(2025, 2028):\n",
    "    baseline_income = calculate_total_household_net_income(baseline, year)\n",
    "    reform_income = calculate_total_household_net_income(reformed, year)\n",
    "    reform_taxable_income = calculate_total_household_net_income(reformed_taxable, year)\n",
    "\n",
    "    print(f\"Year {year}:\")\n",
    "    print(f\"  Reform - Baseline: ${reform_income - baseline_income:,.2f}\")\n",
    "    print(f\"  Reform Taxable - Baseline: ${reform_taxable_income - baseline_income:,.2f}\")\n",
    "    print()"
   ]
  },
  {
   "cell_type": "code",
   "execution_count": null,
   "metadata": {},
   "outputs": [],
   "source": []
  }
 ],
 "metadata": {
  "kernelspec": {
   "display_name": "policyengine",
   "language": "python",
   "name": "python3"
  },
  "language_info": {
   "codemirror_mode": {
    "name": "ipython",
    "version": 3
   },
   "file_extension": ".py",
   "mimetype": "text/x-python",
   "name": "python",
   "nbconvert_exporter": "python",
   "pygments_lexer": "ipython3",
   "version": "3.9.16"
  }
 },
 "nbformat": 4,
 "nbformat_minor": 2
}
