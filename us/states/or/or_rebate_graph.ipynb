{
 "cells": [
  {
   "cell_type": "code",
   "execution_count": 1,
   "metadata": {},
   "outputs": [],
   "source": [
    "import gc\n",
    "import traceback\n",
    "import os\n",
    "from tqdm import tqdm\n",
    "import pandas as pd\n",
    "from policyengine_us import Microsimulation\n",
    "from policyengine_core.reforms import Reform\n",
    "from policyengine_us_data import Pooled_3_Year_CPS_2023"
   ]
  },
  {
   "cell_type": "code",
   "execution_count": 2,
   "metadata": {},
   "outputs": [],
   "source": [
    "def define_reforms():\n",
    "    reforms = {\n",
    "        \"reform\": Reform.from_dict({\n",
    "            \"gov.contrib.ubi_center.basic_income.amount.person.flat\": {\n",
    "                \"2025-01-01.2025-12-31\": 1160,\n",
    "                \"2026-01-01.2026-12-31\": 1605,\n",
    "                \"2027-01-01.2027-12-31\": 1686\n",
    "            }\n",
    "        }, country_id=\"us\"),\n",
    "\n",
    "        \"reform_taxable\": Reform.from_dict({\n",
    "            \"gov.contrib.states.or.rebate.state_tax_exempt\": {\n",
    "                \"2024-01-01.2100-12-31\": True\n",
    "            },\n",
    "            \"gov.contrib.ubi_center.basic_income.amount.person.flat\": {\n",
    "                \"2025-01-01.2025-12-31\": 1160,\n",
    "                \"2026-01-01.2026-12-31\": 1605,\n",
    "                \"2027-01-01.2027-12-31\": 1686\n",
    "            },\n",
    "            \"gov.contrib.ubi_center.basic_income.taxable\": {\n",
    "                \"2024-01-01.2100-12-31\": True\n",
    "            }\n",
    "        }, country_id=\"us\"),\n",
    "\n",
    "        \"reform_flat_tax\": Reform.from_dict({\n",
    "            \"gov.contrib.ubi_center.basic_income.amount.person.flat\": {\n",
    "                \"2025-01-01.2025-12-31\": 1160,\n",
    "                \"2026-01-01.2026-12-31\": 1605,\n",
    "                \"2027-01-01.2027-12-31\": 1686\n",
    "            },\n",
    "            \"gov.contrib.ubi_center.flat_tax.rate.agi\": {\n",
    "                \"2025-01-01.2025-12-31\": 0.0198,\n",
    "                \"2026-01-01.2026-12-31\": 0.0253,\n",
    "                \"2027-01-01.2028-12-31\": 0.0255\n",
    "            }\n",
    "        }, country_id=\"us\"),\n",
    "\n",
    "        \"reform_taxable_flat_tax\": Reform.from_dict({\n",
    "            \"gov.contrib.states.or.rebate.state_tax_exempt\": {\n",
    "                \"2024-01-01.2100-12-31\": True\n",
    "            },\n",
    "            \"gov.contrib.ubi_center.basic_income.amount.person.flat\": {\n",
    "                \"2025-01-01.2025-12-31\": 1160,\n",
    "                \"2026-01-01.2026-12-31\": 1605,\n",
    "                \"2027-01-01.2027-12-31\": 1686\n",
    "            },\n",
    "            \"gov.contrib.ubi_center.basic_income.taxable\": {\n",
    "                \"2024-01-01.2100-12-31\": True\n",
    "            },\n",
    "            \"gov.contrib.ubi_center.flat_tax.rate.agi\": {\n",
    "                \"2025-01-01.2025-12-31\": 0.0198,\n",
    "                \"2026-01-01.2026-12-31\": 0.0253,\n",
    "                \"2027-01-01.2028-12-31\": 0.0255\n",
    "            }\n",
    "        }, country_id=\"us\")\n",
    "    }\n",
    "    return reforms"
   ]
  },
  {
   "cell_type": "code",
   "execution_count": 3,
   "metadata": {},
   "outputs": [],
   "source": [
    "def initialize_microsimulations(reforms):\n",
    "    baseline = Microsimulation(dataset=Pooled_3_Year_CPS_2023)\n",
    "    reformed_sims = {name: Microsimulation(reform=reform, dataset=Pooled_3_Year_CPS_2023) \n",
    "                     for name, reform in reforms.items()}\n",
    "    return baseline, reformed_sims\n"
   ]
  },
  {
   "cell_type": "code",
   "execution_count": 4,
   "metadata": {},
   "outputs": [],
   "source": [
    "def calculate_poverty_impact_for_age_group(baseline, reformed, year, min_age, max_age, label):\n",
    "    try:\n",
    "        state_codes = baseline.calc(\"state_code\", map_to=\"person\", period=year)\n",
    "        age = baseline.calc(\"age\", map_to=\"person\", period=year)\n",
    "        baseline_poverty = baseline.calc(\"in_poverty\", map_to=\"person\", period=year)\n",
    "        reform_poverty = reformed.calc(\"in_poverty\", map_to=\"person\", period=year)\n",
    "\n",
    "        mask = (state_codes == \"OR\") & (age >= min_age) & (age < max_age) if label != \"Overall\" else (state_codes == \"OR\")\n",
    "        baseline_poverty_rate = baseline_poverty[mask].mean()\n",
    "        reform_poverty_rate = reform_poverty[mask].mean()\n",
    "        relative_poverty_reduction = (reform_poverty_rate - baseline_poverty_rate) / baseline_poverty_rate\n",
    "\n",
    "        return baseline_poverty_rate, reform_poverty_rate, relative_poverty_reduction\n",
    "    except Exception as e:\n",
    "        print(f\"Error calculating poverty impact for age group {label} in year {year}: {str(e)}\")\n",
    "        traceback.print_exc()\n",
    "        return None, None, None"
   ]
  },
  {
   "cell_type": "code",
   "execution_count": 5,
   "metadata": {},
   "outputs": [],
   "source": [
    "def process_age_group(year, baseline, reformed, reform_name, min_age, max_age, label):\n",
    "    try:\n",
    "        baseline_poverty_rate, reform_poverty_rate, relative_poverty_reduction = calculate_poverty_impact_for_age_group(baseline, reformed, year, min_age, max_age, label)\n",
    "        if baseline_poverty_rate is not None and reform_poverty_rate is not None and relative_poverty_reduction is not None:\n",
    "            result = {\n",
    "                \"year\": year,\n",
    "                \"age_group\": label,\n",
    "                \"reform\": reform_name,\n",
    "                \"baseline_poverty_rate\": baseline_poverty_rate,\n",
    "                \"reform_poverty_rate\": reform_poverty_rate,\n",
    "                \"relative_poverty_reduction\": relative_poverty_reduction\n",
    "            }\n",
    "            checkpoint_path = f\"or_rebate_{year}_{reform_name}_{label.replace('-', '_')}.csv\"\n",
    "            pd.DataFrame([result]).to_csv(checkpoint_path, index=False)\n",
    "            print(f\"Results for year {year}, reform {reform_name}, age group {label} saved to {checkpoint_path}\")\n",
    "            return result\n",
    "        return None\n",
    "    except Exception as e:\n",
    "        print(f\"Error processing age group {label} for year {year} and reform {reform_name}: {str(e)}\")\n",
    "        traceback.print_exc()\n",
    "        return None"
   ]
  },
  {
   "cell_type": "code",
   "execution_count": 6,
   "metadata": {},
   "outputs": [],
   "source": [
    "def get_processed_combinations(start_year, end_year, reforms):\n",
    "    processed = set()\n",
    "    for year in range(start_year, end_year):\n",
    "        for reform_name in reforms.keys():\n",
    "            for label in [\"0-17\", \"18-64\", \"65+\", \"Overall\"]:\n",
    "                file_name = f\"or_rebate_{year}_{reform_name}_{label.replace('-', '_')}.csv\"\n",
    "                if os.path.exists(file_name):\n",
    "                    processed.add((year, reform_name, label))\n",
    "    return processed"
   ]
  },
  {
   "cell_type": "code",
   "execution_count": 7,
   "metadata": {},
   "outputs": [
    {
     "name": "stdout",
     "output_type": "stream",
     "text": [
      "Microsimulations initialized.\n"
     ]
    },
    {
     "name": "stderr",
     "output_type": "stream",
     "text": [
      "Processing years:   0%|          | 0/3 [00:00<?, ?it/s]"
     ]
    },
    {
     "name": "stdout",
     "output_type": "stream",
     "text": [
      "Skipping already processed: Year 2025, Reform reform, Age group 0-17\n",
      "Skipping already processed: Year 2025, Reform reform, Age group 18-64\n",
      "Skipping already processed: Year 2025, Reform reform, Age group 65+\n",
      "Skipping already processed: Year 2025, Reform reform, Age group Overall\n",
      "Skipping already processed: Year 2025, Reform reform_taxable, Age group 0-17\n",
      "Skipping already processed: Year 2025, Reform reform_taxable, Age group 18-64\n",
      "Skipping already processed: Year 2025, Reform reform_taxable, Age group 65+\n",
      "Skipping already processed: Year 2025, Reform reform_taxable, Age group Overall\n",
      "Skipping already processed: Year 2025, Reform reform_flat_tax, Age group 0-17\n",
      "Skipping already processed: Year 2025, Reform reform_flat_tax, Age group 18-64\n",
      "Skipping already processed: Year 2025, Reform reform_flat_tax, Age group 65+\n",
      "Skipping already processed: Year 2025, Reform reform_flat_tax, Age group Overall\n",
      "Skipping already processed: Year 2025, Reform reform_taxable_flat_tax, Age group 0-17\n",
      "Skipping already processed: Year 2025, Reform reform_taxable_flat_tax, Age group 18-64\n",
      "Skipping already processed: Year 2025, Reform reform_taxable_flat_tax, Age group 65+\n",
      "Skipping already processed: Year 2025, Reform reform_taxable_flat_tax, Age group Overall\n"
     ]
    },
    {
     "name": "stderr",
     "output_type": "stream",
     "text": [
      "Processing years:  33%|███▎      | 1/3 [00:42<01:24, 42.26s/it]"
     ]
    },
    {
     "name": "stdout",
     "output_type": "stream",
     "text": [
      "Skipping already processed: Year 2026, Reform reform, Age group 0-17\n",
      "Skipping already processed: Year 2026, Reform reform, Age group 18-64\n",
      "Skipping already processed: Year 2026, Reform reform, Age group 65+\n",
      "Skipping already processed: Year 2026, Reform reform, Age group Overall\n",
      "Skipping already processed: Year 2026, Reform reform_taxable, Age group 0-17\n",
      "Skipping already processed: Year 2026, Reform reform_taxable, Age group 18-64\n",
      "Skipping already processed: Year 2026, Reform reform_taxable, Age group 65+\n",
      "Skipping already processed: Year 2026, Reform reform_taxable, Age group Overall\n",
      "Skipping already processed: Year 2026, Reform reform_flat_tax, Age group 0-17\n",
      "Skipping already processed: Year 2026, Reform reform_flat_tax, Age group 18-64\n",
      "Skipping already processed: Year 2026, Reform reform_flat_tax, Age group 65+\n",
      "Skipping already processed: Year 2026, Reform reform_flat_tax, Age group Overall\n",
      "Skipping already processed: Year 2026, Reform reform_taxable_flat_tax, Age group 0-17\n",
      "Skipping already processed: Year 2026, Reform reform_taxable_flat_tax, Age group 18-64\n",
      "Skipping already processed: Year 2026, Reform reform_taxable_flat_tax, Age group 65+\n",
      "Skipping already processed: Year 2026, Reform reform_taxable_flat_tax, Age group Overall\n"
     ]
    },
    {
     "name": "stderr",
     "output_type": "stream",
     "text": [
      "Processing years:  67%|██████▋   | 2/3 [01:59<01:03, 63.10s/it]"
     ]
    },
    {
     "name": "stdout",
     "output_type": "stream",
     "text": [
      "Skipping already processed: Year 2027, Reform reform, Age group 0-17\n",
      "Skipping already processed: Year 2027, Reform reform, Age group 18-64\n",
      "Skipping already processed: Year 2027, Reform reform, Age group 65+\n",
      "Skipping already processed: Year 2027, Reform reform, Age group Overall\n",
      "Skipping already processed: Year 2027, Reform reform_taxable, Age group 0-17\n",
      "Skipping already processed: Year 2027, Reform reform_taxable, Age group 18-64\n",
      "Skipping already processed: Year 2027, Reform reform_taxable, Age group 65+\n",
      "Skipping already processed: Year 2027, Reform reform_taxable, Age group Overall\n",
      "Results for year 2027, reform reform_flat_tax, age group 0-17 saved to or_rebate_2027_reform_flat_tax_0_17.csv\n",
      "Results for year 2027, reform reform_flat_tax, age group 18-64 saved to or_rebate_2027_reform_flat_tax_18_64.csv\n",
      "Results for year 2027, reform reform_flat_tax, age group 65+ saved to or_rebate_2027_reform_flat_tax_65+.csv\n",
      "Results for year 2027, reform reform_flat_tax, age group Overall saved to or_rebate_2027_reform_flat_tax_Overall.csv\n",
      "Results for year 2027, reform reform_taxable_flat_tax, age group 0-17 saved to or_rebate_2027_reform_taxable_flat_tax_0_17.csv\n",
      "Results for year 2027, reform reform_taxable_flat_tax, age group 18-64 saved to or_rebate_2027_reform_taxable_flat_tax_18_64.csv\n",
      "Results for year 2027, reform reform_taxable_flat_tax, age group 65+ saved to or_rebate_2027_reform_taxable_flat_tax_65+.csv\n",
      "Results for year 2027, reform reform_taxable_flat_tax, age group Overall saved to or_rebate_2027_reform_taxable_flat_tax_Overall.csv\n"
     ]
    },
    {
     "name": "stderr",
     "output_type": "stream",
     "text": [
      "Processing years: 100%|██████████| 3/3 [04:53<00:00, 97.84s/it] "
     ]
    },
    {
     "name": "stdout",
     "output_type": "stream",
     "text": [
      "All results saved to or_rebate_all_results.csv\n"
     ]
    },
    {
     "name": "stderr",
     "output_type": "stream",
     "text": [
      "\n"
     ]
    }
   ],
   "source": [
    "if __name__ == \"__main__\":\n",
    "    try:\n",
    "        reforms = define_reforms()\n",
    "        baseline, reformed_sims = initialize_microsimulations(reforms)\n",
    "        print(\"Microsimulations initialized.\")\n",
    "\n",
    "        start_year = 2025\n",
    "        end_year = 2028\n",
    "        age_groups = [\n",
    "            (0, 18, \"0-17\"),\n",
    "            (18, 65, \"18-64\"),\n",
    "            (65, 200, \"65+\"),\n",
    "            (0, 200, \"Overall\")\n",
    "        ]\n",
    "\n",
    "        processed_combinations = get_processed_combinations(start_year, end_year, reforms)\n",
    "        \n",
    "        all_results = []\n",
    "        baseline_poverty_rates = {}\n",
    "\n",
    "        for year in tqdm(range(start_year, end_year), desc=\"Processing years\"):\n",
    "            for min_age, max_age, label in age_groups:\n",
    "                # Calculate baseline poverty rate once for each age group and year\n",
    "                baseline_poverty_rate, _, _ = calculate_poverty_impact_for_age_group(baseline, baseline, year, min_age, max_age, label)\n",
    "                baseline_poverty_rates[(year, label)] = baseline_poverty_rate\n",
    "\n",
    "            for reform_name, reformed in reformed_sims.items():\n",
    "                for min_age, max_age, label in age_groups:\n",
    "                    if (year, reform_name, label) not in processed_combinations:\n",
    "                        result = process_age_group(year, baseline, reformed, reform_name, min_age, max_age, label)\n",
    "                        if result:\n",
    "                            # Update the result with the baseline poverty rate\n",
    "                            result['baseline_poverty_rate'] = baseline_poverty_rates[(year, label)]\n",
    "                            all_results.append(result)\n",
    "                    else:\n",
    "                        print(f\"Skipping already processed: Year {year}, Reform {reform_name}, Age group {label}\")\n",
    "                        file_name = f\"or_rebate_{year}_{reform_name}_{label.replace('-', '_')}.csv\"\n",
    "                        result = pd.read_csv(file_name).iloc[0].to_dict()\n",
    "                        # Update the result with the baseline poverty rate\n",
    "                        result['baseline_poverty_rate'] = baseline_poverty_rates[(year, label)]\n",
    "                        all_results.append(result)\n",
    "            \n",
    "            # Clear some memory after each year\n",
    "            gc.collect()\n",
    "\n",
    "        final_results = pd.DataFrame(all_results)\n",
    "        final_csv_path = \"or_rebate_all_results.csv\"\n",
    "        final_results.to_csv(final_csv_path, index=False)\n",
    "        print(f\"All results saved to {final_csv_path}\")\n",
    "    except Exception as e:\n",
    "        print(f\"An error occurred in the main execution: {str(e)}\")\n",
    "        traceback.print_exc()"
   ]
  },
  {
   "cell_type": "code",
   "execution_count": null,
   "metadata": {},
   "outputs": [],
   "source": []
  }
 ],
 "metadata": {
  "kernelspec": {
   "display_name": "pe",
   "language": "python",
   "name": "python3"
  },
  "language_info": {
   "codemirror_mode": {
    "name": "ipython",
    "version": 3
   },
   "file_extension": ".py",
   "mimetype": "text/x-python",
   "name": "python",
   "nbconvert_exporter": "python",
   "pygments_lexer": "ipython3",
   "version": "3.10.14"
  }
 },
 "nbformat": 4,
 "nbformat_minor": 2
}
