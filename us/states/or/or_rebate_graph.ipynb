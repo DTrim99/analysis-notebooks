{
 "cells": [
  {
   "cell_type": "code",
   "execution_count": 9,
   "metadata": {},
   "outputs": [],
   "source": [
    "from policyengine_us import Microsimulation\n",
    "from policyengine_core.reforms import Reform\n",
    "import pandas as pd\n",
    "import plotly.express as px\n",
    "from policyengine_core.charts import format_fig\n",
    "import plotly.graph_objects as go\n"
   ]
  },
  {
   "cell_type": "code",
   "execution_count": 10,
   "metadata": {},
   "outputs": [],
   "source": [
    "def define_reforms():\n",
    "    reform = Reform.from_dict({\n",
    "        \"gov.contrib.ubi_center.basic_income.amount.person.flat\": {\n",
    "            \"2025-01-01.2025-12-31\": 1160,\n",
    "            \"2026-01-01.2026-12-31\": 1605,\n",
    "            \"2027-01-01.2027-12-31\": 1686\n",
    "        }\n",
    "    }, country_id=\"us\")\n",
    "\n",
    "    reform_taxable = Reform.from_dict({\n",
    "        \"gov.contrib.states.or.rebate.state_tax_exempt\": {\n",
    "            \"2024-01-01.2100-12-31\": True\n",
    "        },\n",
    "        \"gov.contrib.ubi_center.basic_income.amount.person.flat\": {\n",
    "            \"2025-01-01.2025-12-31\": 1160,\n",
    "            \"2026-01-01.2026-12-31\": 1605,\n",
    "            \"2027-01-01.2027-12-31\": 1686\n",
    "        },\n",
    "        \"gov.contrib.ubi_center.basic_income.taxable\": {\n",
    "            \"2024-01-01.2100-12-31\": True\n",
    "        }\n",
    "    }, country_id=\"us\")\n",
    "\n",
    "    reform_flat_tax = Reform.from_dict({\n",
    "        \"gov.contrib.ubi_center.basic_income.amount.person.flat\": {\n",
    "            \"2025-01-01.2025-12-31\": 1160,\n",
    "            \"2026-01-01.2026-12-31\": 1605,\n",
    "            \"2027-01-01.2027-12-31\": 1686\n",
    "        },\n",
    "        \"gov.contrib.ubi_center.flat_tax.rate.agi\": {\n",
    "            \"2025-01-01.2025-12-31\": 0.0187,\n",
    "            \"2026-01-01.2026-12-31\": 0.025,\n",
    "            \"2027-01-01.2028-12-31\": 0.0254\n",
    "        }\n",
    "    }, country_id=\"us\")\n",
    "\n",
    "    reform_taxable_flat_tax = Reform.from_dict({\n",
    "        \"gov.contrib.states.or.rebate.state_tax_exempt\": {\n",
    "            \"2024-01-01.2100-12-31\": True\n",
    "        },\n",
    "        \"gov.contrib.ubi_center.basic_income.amount.person.flat\": {\n",
    "            \"2025-01-01.2025-12-31\": 1160,\n",
    "            \"2026-01-01.2026-12-31\": 1605,\n",
    "            \"2027-01-01.2027-12-31\": 1686\n",
    "        },\n",
    "        \"gov.contrib.ubi_center.basic_income.taxable\": {\n",
    "            \"2024-01-01.2100-12-31\": True\n",
    "        },\n",
    "        \"gov.contrib.ubi_center.flat_tax.rate.agi\": {\n",
    "            \"2025-01-01.2025-12-31\": 0.0187,\n",
    "            \"2026-01-01.2026-12-31\": 0.025,\n",
    "            \"2027-01-01.2028-12-31\": 0.0254\n",
    "        }\n",
    "    }, country_id=\"us\")\n",
    "\n",
    "    return reform, reform_taxable, reform_flat_tax, reform_taxable_flat_tax\n"
   ]
  },
  {
   "cell_type": "code",
   "execution_count": 11,
   "metadata": {},
   "outputs": [],
   "source": [
    "# reform as tuples"
   ]
  },
  {
   "cell_type": "code",
   "execution_count": 12,
   "metadata": {},
   "outputs": [],
   "source": [
    "def initialize_microsimulations(reform, reform_taxable, reform_flat_tax, reform_taxable_flat_tax):\n",
    "    baseline = Microsimulation(dataset=\"cps_2024\")\n",
    "    reformed = Microsimulation(reform=reform, dataset=\"cps_2024\")\n",
    "    reformed_taxable = Microsimulation(reform=reform_taxable, dataset=\"cps_2024\")\n",
    "    reformed_flat_tax = Microsimulation(reform=reform_flat_tax, dataset=\"cps_2024\")\n",
    "    reformed_taxable_flat_tax = Microsimulation(reform=reform_taxable_flat_tax, dataset=\"cps_2024\")\n",
    "    \n",
    "    return baseline, reformed, reformed_taxable, reformed_flat_tax, reformed_taxable_flat_tax\n"
   ]
  },
  {
   "cell_type": "code",
   "execution_count": 13,
   "metadata": {},
   "outputs": [],
   "source": [
    "def calculate_poverty_impact_by_age(baseline, reformed, year):\n",
    "    state_codes = baseline.calc(\"state_code\", map_to=\"person\", period=year)\n",
    "    age = baseline.calc(\"age\", map_to=\"person\", period=year)\n",
    "\n",
    "    baseline_poverty = baseline.calc(\"in_poverty\", map_to=\"person\", period=year)\n",
    "    reform_poverty = reformed.calc(\"in_poverty\", map_to=\"person\", period=year)\n",
    "\n",
    "    results = {}\n",
    "    age_groups = [\n",
    "        (0, 18, \"0-17\"),\n",
    "        (18, 65, \"18-64\"),\n",
    "        (65, 200, \"65+\"),\n",
    "        (0, 200, \"Overall\")\n",
    "    ]\n",
    "\n",
    "    for min_age, max_age, label in age_groups:\n",
    "        if label == \"Overall\":\n",
    "            mask = (state_codes == \"OR\")\n",
    "        else:\n",
    "            mask = (state_codes == \"OR\") & (age >= min_age) & (age < max_age)\n",
    "\n",
    "        baseline_poverty_group = baseline_poverty[mask].mean()\n",
    "        reform_poverty_group = reform_poverty[mask].mean()\n",
    "\n",
    "        relative_poverty_reduction = (reform_poverty_group - baseline_poverty_group) / baseline_poverty_group\n",
    "        results[label] = relative_poverty_reduction\n",
    "        print(baseline_poverty[(state_codes == \"OR\") & (age >= 65)]).mean()\n",
    "\n",
    "    return results"
   ]
  },
  {
   "cell_type": "code",
   "execution_count": 21,
   "metadata": {},
   "outputs": [
    {
     "name": "stdout",
     "output_type": "stream",
     "text": [
      "Baseline poverty rate for people 65 and older in Oregon in 2025: 4400.00%\n",
      "Baseline poverty rate for people 65 and older in Oregon in 2026: 4600.00%\n",
      "Baseline poverty rate for people 65 and older in Oregon in 2027: 4600.00%\n"
     ]
    }
   ],
   "source": [
    "# Initialize the microsimulation\n",
    "baseline = Microsimulation(dataset=\"cps_2024\")\n",
    "\n",
    "# Set the years\n",
    "years = [2025, 2026, 2027]\n",
    "\n",
    "# Initialize a dictionary to store results\n",
    "results = {}\n",
    "\n",
    "for year in years:\n",
    "    # Calculate the required variables\n",
    "    state_codes = baseline.calc(\"state_code\", map_to=\"person\", period=year)\n",
    "    age = baseline.calc(\"age\", map_to=\"person\", period=year)\n",
    "    poverty_status = baseline.calc(\"in_poverty\", map_to=\"person\", period=year)\n",
    "\n",
    "    # Create a mask for people in Oregon who are 65 or older\n",
    "    mask = (state_codes == \"OR\") & (age >= 65)\n",
    "\n",
    "    # Calculate the poverty rate\n",
    "    oregon_senior_poverty_rate = pd.Series(poverty_status)[mask].sum()\n",
    "\n",
    "    # Store the result\n",
    "    results[year] = oregon_senior_poverty_rate\n",
    "\n",
    "# Print the results\n",
    "for year, rate in results.items():\n",
    "    print(f\"Baseline poverty rate for people 65 and older in Oregon in {year}: {rate:.2%}\")"
   ]
  },
  {
   "cell_type": "code",
   "execution_count": 16,
   "metadata": {},
   "outputs": [],
   "source": [
    "def calculate_results_for_year(baseline, reformed, reformed_taxable, reformed_flat_tax, reformed_taxable_flat_tax, year):\n",
    "    results_untaxed = calculate_poverty_impact_by_age(baseline, reformed, year)\n",
    "    results_taxed = calculate_poverty_impact_by_age(baseline, reformed_taxable, year)\n",
    "    results_flat_tax = calculate_poverty_impact_by_age(baseline, reformed_flat_tax, year)\n",
    "    results_taxable_flat_tax = calculate_poverty_impact_by_age(baseline, reformed_taxable_flat_tax, year)\n",
    "\n",
    "    year_results = []\n",
    "    for age_group in results_untaxed.keys():\n",
    "        year_results.append({\n",
    "            \"year\": year,\n",
    "            \"age_group\": age_group,\n",
    "            \"relative_poverty_reduction\": results_untaxed[age_group],\n",
    "            \"relative_poverty_reduction_taxable\": results_taxed[age_group],\n",
    "            \"relative_poverty_reduction_flat_tax\": results_flat_tax[age_group],\n",
    "            \"relative_poverty_reduction_taxable_flat_tax\": results_taxable_flat_tax[age_group]\n",
    "        })\n",
    "\n",
    "    return pd.DataFrame(year_results)"
   ]
  },
  {
   "cell_type": "code",
   "execution_count": 17,
   "metadata": {},
   "outputs": [
    {
     "name": "stdout",
     "output_type": "stream",
     "text": [
      "Reforms defined.\n"
     ]
    },
    {
     "ename": "KeyboardInterrupt",
     "evalue": "",
     "output_type": "error",
     "traceback": [
      "\u001b[0;31m---------------------------------------------------------------------------\u001b[0m",
      "\u001b[0;31mKeyboardInterrupt\u001b[0m                         Traceback (most recent call last)",
      "Cell \u001b[0;32mIn[17], line 7\u001b[0m\n\u001b[1;32m      4\u001b[0m \u001b[38;5;28mprint\u001b[39m(\u001b[38;5;124m\"\u001b[39m\u001b[38;5;124mReforms defined.\u001b[39m\u001b[38;5;124m\"\u001b[39m)\n\u001b[1;32m      6\u001b[0m \u001b[38;5;66;03m# Step 2: Initialize microsimulations\u001b[39;00m\n\u001b[0;32m----> 7\u001b[0m baseline, reformed, reformed_taxable, reformed_flat_tax, reformed_taxable_flat_tax \u001b[38;5;241m=\u001b[39m \u001b[43minitialize_microsimulations\u001b[49m\u001b[43m(\u001b[49m\u001b[43mreform\u001b[49m\u001b[43m,\u001b[49m\u001b[43m \u001b[49m\u001b[43mreform_taxable\u001b[49m\u001b[43m,\u001b[49m\u001b[43m \u001b[49m\u001b[43mreform_flat_tax\u001b[49m\u001b[43m,\u001b[49m\u001b[43m \u001b[49m\u001b[43mreform_taxable_flat_tax\u001b[49m\u001b[43m)\u001b[49m\n\u001b[1;32m      8\u001b[0m \u001b[38;5;28mprint\u001b[39m(\u001b[38;5;124m\"\u001b[39m\u001b[38;5;124mMicrosimulations initialized.\u001b[39m\u001b[38;5;124m\"\u001b[39m)\n\u001b[1;32m     10\u001b[0m \u001b[38;5;66;03m# Step 3: Calculate results year by year\u001b[39;00m\n",
      "Cell \u001b[0;32mIn[12], line 5\u001b[0m, in \u001b[0;36minitialize_microsimulations\u001b[0;34m(reform, reform_taxable, reform_flat_tax, reform_taxable_flat_tax)\u001b[0m\n\u001b[1;32m      3\u001b[0m reformed \u001b[38;5;241m=\u001b[39m Microsimulation(reform\u001b[38;5;241m=\u001b[39mreform, dataset\u001b[38;5;241m=\u001b[39m\u001b[38;5;124m\"\u001b[39m\u001b[38;5;124mcps_2024\u001b[39m\u001b[38;5;124m\"\u001b[39m)\n\u001b[1;32m      4\u001b[0m reformed_taxable \u001b[38;5;241m=\u001b[39m Microsimulation(reform\u001b[38;5;241m=\u001b[39mreform_taxable, dataset\u001b[38;5;241m=\u001b[39m\u001b[38;5;124m\"\u001b[39m\u001b[38;5;124mcps_2024\u001b[39m\u001b[38;5;124m\"\u001b[39m)\n\u001b[0;32m----> 5\u001b[0m reformed_flat_tax \u001b[38;5;241m=\u001b[39m \u001b[43mMicrosimulation\u001b[49m\u001b[43m(\u001b[49m\u001b[43mreform\u001b[49m\u001b[38;5;241;43m=\u001b[39;49m\u001b[43mreform_flat_tax\u001b[49m\u001b[43m,\u001b[49m\u001b[43m \u001b[49m\u001b[43mdataset\u001b[49m\u001b[38;5;241;43m=\u001b[39;49m\u001b[38;5;124;43m\"\u001b[39;49m\u001b[38;5;124;43mcps_2024\u001b[39;49m\u001b[38;5;124;43m\"\u001b[39;49m\u001b[43m)\u001b[49m\n\u001b[1;32m      6\u001b[0m reformed_taxable_flat_tax \u001b[38;5;241m=\u001b[39m Microsimulation(reform\u001b[38;5;241m=\u001b[39mreform_taxable_flat_tax, dataset\u001b[38;5;241m=\u001b[39m\u001b[38;5;124m\"\u001b[39m\u001b[38;5;124mcps_2024\u001b[39m\u001b[38;5;124m\"\u001b[39m)\n\u001b[1;32m      8\u001b[0m \u001b[38;5;28;01mreturn\u001b[39;00m baseline, reformed, reformed_taxable, reformed_flat_tax, reformed_taxable_flat_tax\n",
      "File \u001b[0;32m~/policyengine-us/policyengine_us/system.py:140\u001b[0m, in \u001b[0;36mMicrosimulation.__init__\u001b[0;34m(self, *args, **kwargs)\u001b[0m\n\u001b[1;32m    139\u001b[0m \u001b[38;5;28;01mdef\u001b[39;00m \u001b[38;5;21m__init__\u001b[39m(\u001b[38;5;28mself\u001b[39m, \u001b[38;5;241m*\u001b[39margs, \u001b[38;5;241m*\u001b[39m\u001b[38;5;241m*\u001b[39mkwargs):\n\u001b[0;32m--> 140\u001b[0m     \u001b[38;5;28;43msuper\u001b[39;49m\u001b[43m(\u001b[49m\u001b[43m)\u001b[49m\u001b[38;5;241;43m.\u001b[39;49m\u001b[38;5;21;43m__init__\u001b[39;49m\u001b[43m(\u001b[49m\u001b[38;5;241;43m*\u001b[39;49m\u001b[43margs\u001b[49m\u001b[43m,\u001b[49m\u001b[43m \u001b[49m\u001b[38;5;241;43m*\u001b[39;49m\u001b[38;5;241;43m*\u001b[39;49m\u001b[43mkwargs\u001b[49m\u001b[43m)\u001b[49m\n\u001b[1;32m    142\u001b[0m     reform \u001b[38;5;241m=\u001b[39m create_structural_reforms_from_parameters(\n\u001b[1;32m    143\u001b[0m         \u001b[38;5;28mself\u001b[39m\u001b[38;5;241m.\u001b[39mtax_benefit_system\u001b[38;5;241m.\u001b[39mparameters, year_start\n\u001b[1;32m    144\u001b[0m     )\n\u001b[1;32m    145\u001b[0m     \u001b[38;5;28;01mif\u001b[39;00m reform \u001b[38;5;129;01mis\u001b[39;00m \u001b[38;5;129;01mnot\u001b[39;00m \u001b[38;5;28;01mNone\u001b[39;00m:\n",
      "File \u001b[0;32m~/anaconda3/envs/pe/lib/python3.10/site-packages/policyengine_core/simulations/simulation.py:97\u001b[0m, in \u001b[0;36mSimulation.__init__\u001b[0;34m(self, tax_benefit_system, populations, situation, dataset, reform, trace)\u001b[0m\n\u001b[1;32m     95\u001b[0m         tax_benefit_system \u001b[38;5;241m=\u001b[39m \u001b[38;5;28mself\u001b[39m\u001b[38;5;241m.\u001b[39mdefault_tax_benefit_system_instance\n\u001b[1;32m     96\u001b[0m     \u001b[38;5;28;01melse\u001b[39;00m:\n\u001b[0;32m---> 97\u001b[0m         tax_benefit_system \u001b[38;5;241m=\u001b[39m \u001b[38;5;28;43mself\u001b[39;49m\u001b[38;5;241;43m.\u001b[39;49m\u001b[43mdefault_tax_benefit_system\u001b[49m\u001b[43m(\u001b[49m\n\u001b[1;32m     98\u001b[0m \u001b[43m            \u001b[49m\u001b[43mreform\u001b[49m\u001b[38;5;241;43m=\u001b[39;49m\u001b[43mreform\u001b[49m\n\u001b[1;32m     99\u001b[0m \u001b[43m        \u001b[49m\u001b[43m)\u001b[49m\n\u001b[1;32m    100\u001b[0m     \u001b[38;5;28mself\u001b[39m\u001b[38;5;241m.\u001b[39mtax_benefit_system \u001b[38;5;241m=\u001b[39m tax_benefit_system\n\u001b[1;32m    102\u001b[0m \u001b[38;5;28mself\u001b[39m\u001b[38;5;241m.\u001b[39mreform \u001b[38;5;241m=\u001b[39m reform\n",
      "File \u001b[0;32m~/policyengine-us/policyengine_us/system.py:54\u001b[0m, in \u001b[0;36mCountryTaxBenefitSystem.__init__\u001b[0;34m(self, reform)\u001b[0m\n\u001b[1;32m     52\u001b[0m     \u001b[38;5;28mself\u001b[39m\u001b[38;5;241m.\u001b[39mapply_reform_set(reform)\n\u001b[1;32m     53\u001b[0m \u001b[38;5;28mself\u001b[39m\u001b[38;5;241m.\u001b[39mparameters \u001b[38;5;241m=\u001b[39m set_irs_uprating_parameter(\u001b[38;5;28mself\u001b[39m\u001b[38;5;241m.\u001b[39mparameters)\n\u001b[0;32m---> 54\u001b[0m \u001b[38;5;28mself\u001b[39m\u001b[38;5;241m.\u001b[39mparameters \u001b[38;5;241m=\u001b[39m \u001b[43mhomogenize_parameter_structures\u001b[49m\u001b[43m(\u001b[49m\n\u001b[1;32m     55\u001b[0m \u001b[43m    \u001b[49m\u001b[38;5;28;43mself\u001b[39;49m\u001b[38;5;241;43m.\u001b[39;49m\u001b[43mparameters\u001b[49m\u001b[43m,\u001b[49m\u001b[43m \u001b[49m\u001b[38;5;28;43mself\u001b[39;49m\u001b[38;5;241;43m.\u001b[39;49m\u001b[43mvariables\u001b[49m\n\u001b[1;32m     56\u001b[0m \u001b[43m\u001b[49m\u001b[43m)\u001b[49m\n\u001b[1;32m     57\u001b[0m \u001b[38;5;28mself\u001b[39m\u001b[38;5;241m.\u001b[39mparameters \u001b[38;5;241m=\u001b[39m propagate_parameter_metadata(\u001b[38;5;28mself\u001b[39m\u001b[38;5;241m.\u001b[39mparameters)\n\u001b[1;32m     58\u001b[0m \u001b[38;5;28mself\u001b[39m\u001b[38;5;241m.\u001b[39mparameters \u001b[38;5;241m=\u001b[39m interpolate_parameters(\u001b[38;5;28mself\u001b[39m\u001b[38;5;241m.\u001b[39mparameters)\n",
      "File \u001b[0;32m~/anaconda3/envs/pe/lib/python3.10/site-packages/policyengine_core/parameters/operations/homogenize_parameters.py:27\u001b[0m, in \u001b[0;36mhomogenize_parameter_structures\u001b[0;34m(root, variables, default_value)\u001b[0m\n\u001b[1;32m     25\u001b[0m     \u001b[38;5;28;01mif\u001b[39;00m \u001b[38;5;28misinstance\u001b[39m(node, ParameterNode):\n\u001b[1;32m     26\u001b[0m         breakdown \u001b[38;5;241m=\u001b[39m get_breakdown_variables(node)\n\u001b[0;32m---> 27\u001b[0m         node \u001b[38;5;241m=\u001b[39m \u001b[43mhomogenize_parameter_node\u001b[49m\u001b[43m(\u001b[49m\n\u001b[1;32m     28\u001b[0m \u001b[43m            \u001b[49m\u001b[43mnode\u001b[49m\u001b[43m,\u001b[49m\u001b[43m \u001b[49m\u001b[43mbreakdown\u001b[49m\u001b[43m,\u001b[49m\u001b[43m \u001b[49m\u001b[43mvariables\u001b[49m\u001b[43m,\u001b[49m\u001b[43m \u001b[49m\u001b[43mdefault_value\u001b[49m\n\u001b[1;32m     29\u001b[0m \u001b[43m        \u001b[49m\u001b[43m)\u001b[49m\n\u001b[1;32m     30\u001b[0m \u001b[38;5;28;01mreturn\u001b[39;00m root\n",
      "File \u001b[0;32m~/anaconda3/envs/pe/lib/python3.10/site-packages/policyengine_core/parameters/operations/homogenize_parameters.py:113\u001b[0m, in \u001b[0;36mhomogenize_parameter_node\u001b[0;34m(node, breakdown, variables, default_value)\u001b[0m\n\u001b[1;32m    109\u001b[0m             logging\u001b[38;5;241m.\u001b[39mwarning(\n\u001b[1;32m    110\u001b[0m                 \u001b[38;5;124mf\u001b[39m\u001b[38;5;124m\"\u001b[39m\u001b[38;5;124mParameter \u001b[39m\u001b[38;5;132;01m{\u001b[39;00mnode\u001b[38;5;241m.\u001b[39mname\u001b[38;5;132;01m}\u001b[39;00m\u001b[38;5;124m has a child \u001b[39m\u001b[38;5;132;01m{\u001b[39;00mchild\u001b[38;5;132;01m}\u001b[39;00m\u001b[38;5;124m that is not in the possible values of \u001b[39m\u001b[38;5;132;01m{\u001b[39;00mfirst_breakdown\u001b[38;5;132;01m}\u001b[39;00m\u001b[38;5;124m, ignoring.\u001b[39m\u001b[38;5;124m\"\u001b[39m\n\u001b[1;32m    111\u001b[0m             )\n\u001b[1;32m    112\u001b[0m     \u001b[38;5;28;01mif\u001b[39;00m further_breakdown:\n\u001b[0;32m--> 113\u001b[0m         node\u001b[38;5;241m.\u001b[39mchildren[child] \u001b[38;5;241m=\u001b[39m \u001b[43mhomogenize_parameter_node\u001b[49m\u001b[43m(\u001b[49m\n\u001b[1;32m    114\u001b[0m \u001b[43m            \u001b[49m\u001b[43mnode\u001b[49m\u001b[38;5;241;43m.\u001b[39;49m\u001b[43mchildren\u001b[49m\u001b[43m[\u001b[49m\u001b[43mchild\u001b[49m\u001b[43m]\u001b[49m\u001b[43m,\u001b[49m\u001b[43m \u001b[49m\u001b[43mbreakdown\u001b[49m\u001b[43m[\u001b[49m\u001b[38;5;241;43m1\u001b[39;49m\u001b[43m:\u001b[49m\u001b[43m]\u001b[49m\u001b[43m,\u001b[49m\u001b[43m \u001b[49m\u001b[43mvariables\u001b[49m\u001b[43m,\u001b[49m\u001b[43m \u001b[49m\u001b[43mdefault_value\u001b[49m\n\u001b[1;32m    115\u001b[0m \u001b[43m        \u001b[49m\u001b[43m)\u001b[49m\n\u001b[1;32m    116\u001b[0m \u001b[38;5;28;01mreturn\u001b[39;00m node\n",
      "File \u001b[0;32m~/anaconda3/envs/pe/lib/python3.10/site-packages/policyengine_core/parameters/operations/homogenize_parameters.py:102\u001b[0m, in \u001b[0;36mhomogenize_parameter_node\u001b[0;34m(node, breakdown, variables, default_value)\u001b[0m\n\u001b[1;32m     94\u001b[0m         node\u001b[38;5;241m.\u001b[39madd_child(\n\u001b[1;32m     95\u001b[0m             \u001b[38;5;28mstr\u001b[39m(value),\n\u001b[1;32m     96\u001b[0m             Parameter(\n\u001b[0;32m   (...)\u001b[0m\n\u001b[1;32m     99\u001b[0m             ),\n\u001b[1;32m    100\u001b[0m         )\n\u001b[1;32m    101\u001b[0m \u001b[38;5;28;01mfor\u001b[39;00m child \u001b[38;5;129;01min\u001b[39;00m node\u001b[38;5;241m.\u001b[39mchildren:\n\u001b[0;32m--> 102\u001b[0m     \u001b[38;5;28;01mif\u001b[39;00m child\u001b[38;5;241m.\u001b[39msplit(\u001b[38;5;124m\"\u001b[39m\u001b[38;5;124m.\u001b[39m\u001b[38;5;124m\"\u001b[39m)[\u001b[38;5;241m-\u001b[39m\u001b[38;5;241m1\u001b[39m] \u001b[38;5;129;01mnot\u001b[39;00m \u001b[38;5;129;01min\u001b[39;00m possible_values:\n\u001b[1;32m    103\u001b[0m         \u001b[38;5;28;01mtry\u001b[39;00m:\n\u001b[1;32m    104\u001b[0m             \u001b[38;5;28mint\u001b[39m(child)\n",
      "\u001b[0;31mKeyboardInterrupt\u001b[0m: "
     ]
    }
   ],
   "source": [
    "if __name__ == \"__main__\":\n",
    "    # Step 1: Define reforms\n",
    "    reform, reform_taxable, reform_flat_tax, reform_taxable_flat_tax = define_reforms()\n",
    "    print(\"Reforms defined.\")\n",
    "\n",
    "    # Step 2: Initialize microsimulations\n",
    "    baseline, reformed, reformed_taxable, reformed_flat_tax, reformed_taxable_flat_tax = initialize_microsimulations(reform, reform_taxable, reform_flat_tax, reform_taxable_flat_tax)\n",
    "    print(\"Microsimulations initialized.\")\n",
    "\n",
    "    # Step 3: Calculate results year by year\n",
    "    all_results = pd.DataFrame()\n",
    "    for year in range(2205, 2028):\n",
    "        print(f\"Calculating results for year {year}...\")\n",
    "        year_results = calculate_results_for_year(baseline, reformed, reformed_taxable, reformed_flat_tax, reformed_taxable_flat_tax, year)\n",
    "        all_results = pd.concat([all_results, year_results], ignore_index=True)\n",
    "        \n",
    "        # Save intermediate results\n",
    "        intermediate_csv_path = f\"or_rebate_{year}.csv\"\n",
    "        year_results.to_csv(intermediate_csv_path, index=False)\n",
    "        print(f\"Results for year {year} saved to {intermediate_csv_path}\")\n",
    "\n",
    "    # Step 4: Save final results\n",
    "    final_csv_path = \"or_rebate_all_years.csv\"\n",
    "    all_results.to_csv(final_csv_path, index=False)\n",
    "    print(f\"All results saved to {final_csv_path}\")\n",
    "\n",
    "    print(\"Calculation complete. You can now proceed with creating plots or further analysis.\")"
   ]
  },
  {
   "cell_type": "code",
   "execution_count": null,
   "metadata": {},
   "outputs": [],
   "source": []
  }
 ],
 "metadata": {
  "kernelspec": {
   "display_name": "policyengine",
   "language": "python",
   "name": "python3"
  },
  "language_info": {
   "codemirror_mode": {
    "name": "ipython",
    "version": 3
   },
   "file_extension": ".py",
   "mimetype": "text/x-python",
   "name": "python",
   "nbconvert_exporter": "python",
   "pygments_lexer": "ipython3",
   "version": "3.10.14"
  }
 },
 "nbformat": 4,
 "nbformat_minor": 2
}
