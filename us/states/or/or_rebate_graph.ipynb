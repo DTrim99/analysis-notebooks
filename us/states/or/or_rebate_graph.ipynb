{
 "cells": [
  {
   "cell_type": "code",
   "execution_count": 1,
   "metadata": {},
   "outputs": [],
   "source": [
    "from policyengine_us import Microsimulation\n",
    "from policyengine_core.reforms import Reform\n",
    "import pandas as pd\n",
    "import plotly.express as px\n",
    "from policyengine_core.charts import format_fig\n",
    "import plotly.graph_objects as go\n"
   ]
  },
  {
   "cell_type": "code",
   "execution_count": 2,
   "metadata": {},
   "outputs": [],
   "source": [
    "reform = Reform.from_dict({\n",
    "  \"gov.contrib.ubi_center.basic_income.amount.person.flat\": {\n",
    "    \"2025-01-01.2025-12-31\": 1160,\n",
    "    \"2026-01-01.2026-12-31\": 1605,\n",
    "    \"2027-01-01.2027-12-31\": 1686\n",
    "  }\n",
    "}, country_id=\"us\")\n",
    "\n",
    "reform_taxable = Reform.from_dict({\n",
    "  \"gov.contrib.states.or.rebate.state_tax_exempt\": {\n",
    "    \"2024-01-01.2100-12-31\": True\n",
    "  },\n",
    "  \"gov.contrib.ubi_center.basic_income.amount.person.flat\": {\n",
    "    \"2025-01-01.2025-12-31\": 1160,\n",
    "    \"2026-01-01.2026-12-31\": 1605,\n",
    "    \"2027-01-01.2027-12-31\": 1686\n",
    "  },\n",
    "  \"gov.contrib.ubi_center.basic_income.taxable\": {\n",
    "    \"2024-01-01.2100-12-31\": True\n",
    "  }\n",
    "}, country_id=\"us\")"
   ]
  },
  {
   "cell_type": "code",
   "execution_count": 3,
   "metadata": {},
   "outputs": [],
   "source": [
    "baseline = Microsimulation()\n",
    "reformed = Microsimulation(reform=reform)\n",
    "reformed_taxable = Microsimulation(reform=reform_taxable)\n"
   ]
  },
  {
   "cell_type": "code",
   "execution_count": 4,
   "metadata": {},
   "outputs": [],
   "source": [
    "def calculate_poverty_impact_by_age(baseline, reformed, year):\n",
    "    state_codes = baseline.calc(\"state_code\", map_to=\"person\", period=year)\n",
    "    age = baseline.calc(\"age\", map_to=\"person\", period=year)\n",
    "\n",
    "    baseline_poverty = baseline.calc(\"in_poverty\", map_to=\"person\", period=year)\n",
    "    reform_poverty = reformed.calc(\"in_poverty\", map_to=\"person\", period=year)\n",
    "\n",
    "    results = {}\n",
    "    age_groups = [\n",
    "        (0, 18, \"0-17\"),\n",
    "        (18, 65, \"18-64\"),\n",
    "        (65, 200, \"65+\"),\n",
    "        (0, 200, \"Overall\")\n",
    "    ]\n",
    "\n",
    "    for min_age, max_age, label in age_groups:\n",
    "        if label == \"Overall\":\n",
    "            mask = (state_codes == \"OR\")\n",
    "        else:\n",
    "            mask = (state_codes == \"OR\") & (age >= min_age) & (age < max_age)\n",
    "\n",
    "        baseline_poverty_group = baseline_poverty[mask].mean()\n",
    "        reform_poverty_group = reform_poverty[mask].mean()\n",
    "\n",
    "        relative_poverty_reduction = (reform_poverty_group - baseline_poverty_group) / baseline_poverty_group\n",
    "        results[label] = relative_poverty_reduction\n",
    "\n",
    "    return results\n"
   ]
  },
  {
   "cell_type": "code",
   "execution_count": 5,
   "metadata": {},
   "outputs": [],
   "source": [
    "# Initialize an empty DataFrame to store all results\n",
    "all_results = pd.DataFrame(columns=[\"year\", \"age_group\", \"relative_poverty_reduction\", \"relative_poverty_reduction_taxable\"])\n"
   ]
  },
  {
   "cell_type": "code",
   "execution_count": 6,
   "metadata": {},
   "outputs": [],
   "source": [
    "# Calculate for each year and add to the DataFrame\n",
    "for year in range(2025, 2028):\n",
    "    results_untaxed = calculate_poverty_impact_by_age(baseline, reformed, year)\n",
    "    results_taxed = calculate_poverty_impact_by_age(baseline, reformed_taxable, year)\n",
    "\n",
    "    for age_group in results_untaxed.keys():\n",
    "        new_row = pd.DataFrame({\n",
    "            \"year\": [year],\n",
    "            \"age_group\": [age_group],\n",
    "            \"relative_poverty_reduction\": [results_untaxed[age_group]],\n",
    "            \"relative_poverty_reduction_taxable\": [results_taxed[age_group]]\n",
    "        })\n",
    "        all_results = pd.concat([all_results, new_row], ignore_index=True)\n"
   ]
  },
  {
   "cell_type": "code",
   "execution_count": 7,
   "metadata": {},
   "outputs": [
    {
     "name": "stdout",
     "output_type": "stream",
     "text": [
      "    year age_group  relative_poverty_reduction  \\\n",
      "0   2025      0-17                   -0.392697   \n",
      "1   2025     18-64                   -0.217906   \n",
      "2   2025       65+                   -0.050659   \n",
      "3   2025   Overall                   -0.220590   \n",
      "4   2026      0-17                   -0.509447   \n",
      "5   2026     18-64                   -0.283853   \n",
      "6   2026       65+                   -0.143668   \n",
      "7   2026   Overall                   -0.299241   \n",
      "8   2027      0-17                   -0.476079   \n",
      "9   2027     18-64                   -0.266820   \n",
      "10  2027       65+                   -0.151670   \n",
      "11  2027   Overall                   -0.285804   \n",
      "\n",
      "    relative_poverty_reduction_taxable  \n",
      "0                            -0.392697  \n",
      "1                            -0.217906  \n",
      "2                            -0.050659  \n",
      "3                            -0.220590  \n",
      "4                            -0.479685  \n",
      "5                            -0.259835  \n",
      "6                            -0.107344  \n",
      "7                            -0.271849  \n",
      "8                            -0.446768  \n",
      "9                            -0.249201  \n",
      "10                           -0.136091  \n",
      "11                           -0.266335  \n"
     ]
    }
   ],
   "source": [
    "# Display the results\n",
    "print(all_results)"
   ]
  },
  {
   "cell_type": "code",
   "execution_count": 8,
   "metadata": {},
   "outputs": [
    {
     "data": {
      "application/vnd.plotly.v1+json": {
       "config": {
        "plotlyServerURL": "https://plot.ly"
       },
       "data": [
        {
         "hovertemplate": "Year: %{x}<br>Age Group: %{data.name}<br>Poverty Reduction: %{y:.2%}<extra></extra>",
         "line": {
          "color": "#003366",
          "width": 2
         },
         "mode": "lines",
         "name": "0-17 (Taxed)",
         "showlegend": false,
         "type": "scatter",
         "x": [
          2025,
          2026,
          2027
         ],
         "y": [
          -0.39269730993698165,
          -0.4796849862543312,
          -0.44676816406357966
         ]
        },
        {
         "hovertemplate": "Year: %{x}<br>Age Group: %{data.name}<br>Poverty Reduction: %{y:.2%}<extra></extra>",
         "line": {
          "color": "#003366",
          "dash": "dash",
          "width": 2
         },
         "mode": "lines",
         "name": "0-17 (Untaxed)",
         "showlegend": false,
         "type": "scatter",
         "x": [
          2025,
          2026,
          2027
         ],
         "y": [
          -0.39269730993698165,
          -0.5094466726692657,
          -0.4760790808583259
         ]
        },
        {
         "hovertemplate": "Year: %{x}<br>Age Group: %{data.name}<br>Poverty Reduction: %{y:.2%}<extra></extra>",
         "line": {
          "color": "#0066cc",
          "width": 2
         },
         "mode": "lines",
         "name": "18-64 (Taxed)",
         "showlegend": false,
         "type": "scatter",
         "x": [
          2025,
          2026,
          2027
         ],
         "y": [
          -0.2179061682988309,
          -0.25983505339849894,
          -0.24920115736782905
         ]
        },
        {
         "hovertemplate": "Year: %{x}<br>Age Group: %{data.name}<br>Poverty Reduction: %{y:.2%}<extra></extra>",
         "line": {
          "color": "#0066cc",
          "dash": "dash",
          "width": 2
         },
         "mode": "lines",
         "name": "18-64 (Untaxed)",
         "showlegend": false,
         "type": "scatter",
         "x": [
          2025,
          2026,
          2027
         ],
         "y": [
          -0.2179061682988309,
          -0.28385269741327596,
          -0.2668196785709408
         ]
        },
        {
         "hovertemplate": "Year: %{x}<br>Age Group: %{data.name}<br>Poverty Reduction: %{y:.2%}<extra></extra>",
         "line": {
          "color": "#4d94ff",
          "width": 2
         },
         "mode": "lines",
         "name": "65+ (Taxed)",
         "showlegend": false,
         "type": "scatter",
         "x": [
          2025,
          2026,
          2027
         ],
         "y": [
          -0.05065878169443127,
          -0.10734368784081519,
          -0.13609117246238647
         ]
        },
        {
         "hovertemplate": "Year: %{x}<br>Age Group: %{data.name}<br>Poverty Reduction: %{y:.2%}<extra></extra>",
         "line": {
          "color": "#4d94ff",
          "dash": "dash",
          "width": 2
         },
         "mode": "lines",
         "name": "65+ (Untaxed)",
         "showlegend": false,
         "type": "scatter",
         "x": [
          2025,
          2026,
          2027
         ],
         "y": [
          -0.05065878169443127,
          -0.1436679451350035,
          -0.1516697121139931
         ]
        },
        {
         "hovertemplate": "Year: %{x}<br>Age Group: %{data.name}<br>Poverty Reduction: %{y:.2%}<extra></extra>",
         "line": {
          "color": "#99ccff",
          "width": 2
         },
         "mode": "lines",
         "name": "Overall (Taxed)",
         "showlegend": false,
         "type": "scatter",
         "x": [
          2025,
          2026,
          2027
         ],
         "y": [
          -0.2205902953237969,
          -0.2718486960608654,
          -0.26633508818682416
         ]
        },
        {
         "hovertemplate": "Year: %{x}<br>Age Group: %{data.name}<br>Poverty Reduction: %{y:.2%}<extra></extra>",
         "line": {
          "color": "#99ccff",
          "dash": "dash",
          "width": 2
         },
         "mode": "lines",
         "name": "Overall (Untaxed)",
         "showlegend": false,
         "type": "scatter",
         "x": [
          2025,
          2026,
          2027
         ],
         "y": [
          -0.2205902953237969,
          -0.2992411262458123,
          -0.28580373050948416
         ]
        }
       ],
       "layout": {
        "annotations": [
         {
          "font": {
           "color": "#003366",
           "size": 8
          },
          "showarrow": false,
          "text": "0-17 (Untaxed)",
          "x": 2027.05,
          "xanchor": "left",
          "y": -0.4760790808583259,
          "yanchor": "middle"
         },
         {
          "font": {
           "color": "#003366",
           "size": 8
          },
          "showarrow": false,
          "text": "0-17 (Taxed)",
          "x": 2027.05,
          "xanchor": "left",
          "y": -0.44676816406357966,
          "yanchor": "middle"
         },
         {
          "font": {
           "color": "#99ccff",
           "size": 8
          },
          "showarrow": false,
          "text": "Overall (Untaxed)",
          "x": 2027.05,
          "xanchor": "left",
          "y": -0.28580373050948416,
          "yanchor": "middle"
         },
         {
          "font": {
           "color": "#0066cc",
           "size": 8
          },
          "showarrow": false,
          "text": "18-64 (Untaxed)",
          "x": 2027.05,
          "xanchor": "left",
          "y": -0.26580373050948414,
          "yanchor": "middle"
         },
         {
          "font": {
           "color": "#99ccff",
           "size": 8
          },
          "showarrow": false,
          "text": "Overall (Taxed)",
          "x": 2027.05,
          "xanchor": "left",
          "y": -0.24580373050948415,
          "yanchor": "middle"
         },
         {
          "font": {
           "color": "#0066cc",
           "size": 8
          },
          "showarrow": false,
          "text": "18-64 (Taxed)",
          "x": 2027.05,
          "xanchor": "left",
          "y": -0.22580373050948416,
          "yanchor": "middle"
         },
         {
          "font": {
           "color": "#4d94ff",
           "size": 8
          },
          "showarrow": false,
          "text": "65+ (Untaxed)",
          "x": 2027.05,
          "xanchor": "left",
          "y": -0.1516697121139931,
          "yanchor": "middle"
         },
         {
          "font": {
           "color": "#4d94ff",
           "size": 8
          },
          "showarrow": false,
          "text": "65+ (Taxed)",
          "x": 2027.05,
          "xanchor": "left",
          "y": -0.13166971211399311,
          "yanchor": "middle"
         }
        ],
        "font": {
         "color": "black",
         "family": "Roboto Serif"
        },
        "height": 600,
        "images": [
         {
          "sizex": 0.15,
          "sizey": 0.15,
          "source": "https://raw.githubusercontent.com/PolicyEngine/policyengine-app/master/src/images/logos/policyengine/blue.png",
          "x": 1.1,
          "xanchor": "right",
          "xref": "paper",
          "y": -0.15,
          "yanchor": "bottom",
          "yref": "paper"
         }
        ],
        "legend": {
         "orientation": "v",
         "x": 1.02,
         "xanchor": "left",
         "y": 0.99,
         "yanchor": "top"
        },
        "margin": {
         "b": 70,
         "l": 50,
         "r": 80,
         "t": 100
        },
        "modebar": {
         "bgcolor": "rgba(0,0,0,0)",
         "color": "rgba(0,0,0,0)"
        },
        "template": {
         "data": {
          "bar": [
           {
            "error_x": {
             "color": "#2a3f5f"
            },
            "error_y": {
             "color": "#2a3f5f"
            },
            "marker": {
             "line": {
              "color": "white",
              "width": 0.5
             },
             "pattern": {
              "fillmode": "overlay",
              "size": 10,
              "solidity": 0.2
             }
            },
            "type": "bar"
           }
          ],
          "barpolar": [
           {
            "marker": {
             "line": {
              "color": "white",
              "width": 0.5
             },
             "pattern": {
              "fillmode": "overlay",
              "size": 10,
              "solidity": 0.2
             }
            },
            "type": "barpolar"
           }
          ],
          "carpet": [
           {
            "aaxis": {
             "endlinecolor": "#2a3f5f",
             "gridcolor": "#C8D4E3",
             "linecolor": "#C8D4E3",
             "minorgridcolor": "#C8D4E3",
             "startlinecolor": "#2a3f5f"
            },
            "baxis": {
             "endlinecolor": "#2a3f5f",
             "gridcolor": "#C8D4E3",
             "linecolor": "#C8D4E3",
             "minorgridcolor": "#C8D4E3",
             "startlinecolor": "#2a3f5f"
            },
            "type": "carpet"
           }
          ],
          "choropleth": [
           {
            "colorbar": {
             "outlinewidth": 0,
             "ticks": ""
            },
            "type": "choropleth"
           }
          ],
          "contour": [
           {
            "colorbar": {
             "outlinewidth": 0,
             "ticks": ""
            },
            "colorscale": [
             [
              0,
              "#0d0887"
             ],
             [
              0.1111111111111111,
              "#46039f"
             ],
             [
              0.2222222222222222,
              "#7201a8"
             ],
             [
              0.3333333333333333,
              "#9c179e"
             ],
             [
              0.4444444444444444,
              "#bd3786"
             ],
             [
              0.5555555555555556,
              "#d8576b"
             ],
             [
              0.6666666666666666,
              "#ed7953"
             ],
             [
              0.7777777777777778,
              "#fb9f3a"
             ],
             [
              0.8888888888888888,
              "#fdca26"
             ],
             [
              1,
              "#f0f921"
             ]
            ],
            "type": "contour"
           }
          ],
          "contourcarpet": [
           {
            "colorbar": {
             "outlinewidth": 0,
             "ticks": ""
            },
            "type": "contourcarpet"
           }
          ],
          "heatmap": [
           {
            "colorbar": {
             "outlinewidth": 0,
             "ticks": ""
            },
            "colorscale": [
             [
              0,
              "#0d0887"
             ],
             [
              0.1111111111111111,
              "#46039f"
             ],
             [
              0.2222222222222222,
              "#7201a8"
             ],
             [
              0.3333333333333333,
              "#9c179e"
             ],
             [
              0.4444444444444444,
              "#bd3786"
             ],
             [
              0.5555555555555556,
              "#d8576b"
             ],
             [
              0.6666666666666666,
              "#ed7953"
             ],
             [
              0.7777777777777778,
              "#fb9f3a"
             ],
             [
              0.8888888888888888,
              "#fdca26"
             ],
             [
              1,
              "#f0f921"
             ]
            ],
            "type": "heatmap"
           }
          ],
          "heatmapgl": [
           {
            "colorbar": {
             "outlinewidth": 0,
             "ticks": ""
            },
            "colorscale": [
             [
              0,
              "#0d0887"
             ],
             [
              0.1111111111111111,
              "#46039f"
             ],
             [
              0.2222222222222222,
              "#7201a8"
             ],
             [
              0.3333333333333333,
              "#9c179e"
             ],
             [
              0.4444444444444444,
              "#bd3786"
             ],
             [
              0.5555555555555556,
              "#d8576b"
             ],
             [
              0.6666666666666666,
              "#ed7953"
             ],
             [
              0.7777777777777778,
              "#fb9f3a"
             ],
             [
              0.8888888888888888,
              "#fdca26"
             ],
             [
              1,
              "#f0f921"
             ]
            ],
            "type": "heatmapgl"
           }
          ],
          "histogram": [
           {
            "marker": {
             "pattern": {
              "fillmode": "overlay",
              "size": 10,
              "solidity": 0.2
             }
            },
            "type": "histogram"
           }
          ],
          "histogram2d": [
           {
            "colorbar": {
             "outlinewidth": 0,
             "ticks": ""
            },
            "colorscale": [
             [
              0,
              "#0d0887"
             ],
             [
              0.1111111111111111,
              "#46039f"
             ],
             [
              0.2222222222222222,
              "#7201a8"
             ],
             [
              0.3333333333333333,
              "#9c179e"
             ],
             [
              0.4444444444444444,
              "#bd3786"
             ],
             [
              0.5555555555555556,
              "#d8576b"
             ],
             [
              0.6666666666666666,
              "#ed7953"
             ],
             [
              0.7777777777777778,
              "#fb9f3a"
             ],
             [
              0.8888888888888888,
              "#fdca26"
             ],
             [
              1,
              "#f0f921"
             ]
            ],
            "type": "histogram2d"
           }
          ],
          "histogram2dcontour": [
           {
            "colorbar": {
             "outlinewidth": 0,
             "ticks": ""
            },
            "colorscale": [
             [
              0,
              "#0d0887"
             ],
             [
              0.1111111111111111,
              "#46039f"
             ],
             [
              0.2222222222222222,
              "#7201a8"
             ],
             [
              0.3333333333333333,
              "#9c179e"
             ],
             [
              0.4444444444444444,
              "#bd3786"
             ],
             [
              0.5555555555555556,
              "#d8576b"
             ],
             [
              0.6666666666666666,
              "#ed7953"
             ],
             [
              0.7777777777777778,
              "#fb9f3a"
             ],
             [
              0.8888888888888888,
              "#fdca26"
             ],
             [
              1,
              "#f0f921"
             ]
            ],
            "type": "histogram2dcontour"
           }
          ],
          "mesh3d": [
           {
            "colorbar": {
             "outlinewidth": 0,
             "ticks": ""
            },
            "type": "mesh3d"
           }
          ],
          "parcoords": [
           {
            "line": {
             "colorbar": {
              "outlinewidth": 0,
              "ticks": ""
             }
            },
            "type": "parcoords"
           }
          ],
          "pie": [
           {
            "automargin": true,
            "type": "pie"
           }
          ],
          "scatter": [
           {
            "fillpattern": {
             "fillmode": "overlay",
             "size": 10,
             "solidity": 0.2
            },
            "type": "scatter"
           }
          ],
          "scatter3d": [
           {
            "line": {
             "colorbar": {
              "outlinewidth": 0,
              "ticks": ""
             }
            },
            "marker": {
             "colorbar": {
              "outlinewidth": 0,
              "ticks": ""
             }
            },
            "type": "scatter3d"
           }
          ],
          "scattercarpet": [
           {
            "marker": {
             "colorbar": {
              "outlinewidth": 0,
              "ticks": ""
             }
            },
            "type": "scattercarpet"
           }
          ],
          "scattergeo": [
           {
            "marker": {
             "colorbar": {
              "outlinewidth": 0,
              "ticks": ""
             }
            },
            "type": "scattergeo"
           }
          ],
          "scattergl": [
           {
            "marker": {
             "colorbar": {
              "outlinewidth": 0,
              "ticks": ""
             }
            },
            "type": "scattergl"
           }
          ],
          "scattermapbox": [
           {
            "marker": {
             "colorbar": {
              "outlinewidth": 0,
              "ticks": ""
             }
            },
            "type": "scattermapbox"
           }
          ],
          "scatterpolar": [
           {
            "marker": {
             "colorbar": {
              "outlinewidth": 0,
              "ticks": ""
             }
            },
            "type": "scatterpolar"
           }
          ],
          "scatterpolargl": [
           {
            "marker": {
             "colorbar": {
              "outlinewidth": 0,
              "ticks": ""
             }
            },
            "type": "scatterpolargl"
           }
          ],
          "scatterternary": [
           {
            "marker": {
             "colorbar": {
              "outlinewidth": 0,
              "ticks": ""
             }
            },
            "type": "scatterternary"
           }
          ],
          "surface": [
           {
            "colorbar": {
             "outlinewidth": 0,
             "ticks": ""
            },
            "colorscale": [
             [
              0,
              "#0d0887"
             ],
             [
              0.1111111111111111,
              "#46039f"
             ],
             [
              0.2222222222222222,
              "#7201a8"
             ],
             [
              0.3333333333333333,
              "#9c179e"
             ],
             [
              0.4444444444444444,
              "#bd3786"
             ],
             [
              0.5555555555555556,
              "#d8576b"
             ],
             [
              0.6666666666666666,
              "#ed7953"
             ],
             [
              0.7777777777777778,
              "#fb9f3a"
             ],
             [
              0.8888888888888888,
              "#fdca26"
             ],
             [
              1,
              "#f0f921"
             ]
            ],
            "type": "surface"
           }
          ],
          "table": [
           {
            "cells": {
             "fill": {
              "color": "#EBF0F8"
             },
             "line": {
              "color": "white"
             }
            },
            "header": {
             "fill": {
              "color": "#C8D4E3"
             },
             "line": {
              "color": "white"
             }
            },
            "type": "table"
           }
          ]
         },
         "layout": {
          "annotationdefaults": {
           "arrowcolor": "#2a3f5f",
           "arrowhead": 0,
           "arrowwidth": 1
          },
          "autotypenumbers": "strict",
          "coloraxis": {
           "colorbar": {
            "outlinewidth": 0,
            "ticks": ""
           }
          },
          "colorscale": {
           "diverging": [
            [
             0,
             "#8e0152"
            ],
            [
             0.1,
             "#c51b7d"
            ],
            [
             0.2,
             "#de77ae"
            ],
            [
             0.3,
             "#f1b6da"
            ],
            [
             0.4,
             "#fde0ef"
            ],
            [
             0.5,
             "#f7f7f7"
            ],
            [
             0.6,
             "#e6f5d0"
            ],
            [
             0.7,
             "#b8e186"
            ],
            [
             0.8,
             "#7fbc41"
            ],
            [
             0.9,
             "#4d9221"
            ],
            [
             1,
             "#276419"
            ]
           ],
           "sequential": [
            [
             0,
             "#0d0887"
            ],
            [
             0.1111111111111111,
             "#46039f"
            ],
            [
             0.2222222222222222,
             "#7201a8"
            ],
            [
             0.3333333333333333,
             "#9c179e"
            ],
            [
             0.4444444444444444,
             "#bd3786"
            ],
            [
             0.5555555555555556,
             "#d8576b"
            ],
            [
             0.6666666666666666,
             "#ed7953"
            ],
            [
             0.7777777777777778,
             "#fb9f3a"
            ],
            [
             0.8888888888888888,
             "#fdca26"
            ],
            [
             1,
             "#f0f921"
            ]
           ],
           "sequentialminus": [
            [
             0,
             "#0d0887"
            ],
            [
             0.1111111111111111,
             "#46039f"
            ],
            [
             0.2222222222222222,
             "#7201a8"
            ],
            [
             0.3333333333333333,
             "#9c179e"
            ],
            [
             0.4444444444444444,
             "#bd3786"
            ],
            [
             0.5555555555555556,
             "#d8576b"
            ],
            [
             0.6666666666666666,
             "#ed7953"
            ],
            [
             0.7777777777777778,
             "#fb9f3a"
            ],
            [
             0.8888888888888888,
             "#fdca26"
            ],
            [
             1,
             "#f0f921"
            ]
           ]
          },
          "colorway": [
           "#636efa",
           "#EF553B",
           "#00cc96",
           "#ab63fa",
           "#FFA15A",
           "#19d3f3",
           "#FF6692",
           "#B6E880",
           "#FF97FF",
           "#FECB52"
          ],
          "font": {
           "color": "#2a3f5f"
          },
          "geo": {
           "bgcolor": "white",
           "lakecolor": "white",
           "landcolor": "white",
           "showlakes": true,
           "showland": true,
           "subunitcolor": "#C8D4E3"
          },
          "hoverlabel": {
           "align": "left"
          },
          "hovermode": "closest",
          "mapbox": {
           "style": "light"
          },
          "paper_bgcolor": "white",
          "plot_bgcolor": "white",
          "polar": {
           "angularaxis": {
            "gridcolor": "#EBF0F8",
            "linecolor": "#EBF0F8",
            "ticks": ""
           },
           "bgcolor": "white",
           "radialaxis": {
            "gridcolor": "#EBF0F8",
            "linecolor": "#EBF0F8",
            "ticks": ""
           }
          },
          "scene": {
           "xaxis": {
            "backgroundcolor": "white",
            "gridcolor": "#DFE8F3",
            "gridwidth": 2,
            "linecolor": "#EBF0F8",
            "showbackground": true,
            "ticks": "",
            "zerolinecolor": "#EBF0F8"
           },
           "yaxis": {
            "backgroundcolor": "white",
            "gridcolor": "#DFE8F3",
            "gridwidth": 2,
            "linecolor": "#EBF0F8",
            "showbackground": true,
            "ticks": "",
            "zerolinecolor": "#EBF0F8"
           },
           "zaxis": {
            "backgroundcolor": "white",
            "gridcolor": "#DFE8F3",
            "gridwidth": 2,
            "linecolor": "#EBF0F8",
            "showbackground": true,
            "ticks": "",
            "zerolinecolor": "#EBF0F8"
           }
          },
          "shapedefaults": {
           "line": {
            "color": "#2a3f5f"
           }
          },
          "ternary": {
           "aaxis": {
            "gridcolor": "#DFE8F3",
            "linecolor": "#A2B1C6",
            "ticks": ""
           },
           "baxis": {
            "gridcolor": "#DFE8F3",
            "linecolor": "#A2B1C6",
            "ticks": ""
           },
           "bgcolor": "white",
           "caxis": {
            "gridcolor": "#DFE8F3",
            "linecolor": "#A2B1C6",
            "ticks": ""
           }
          },
          "title": {
           "x": 0.05
          },
          "xaxis": {
           "automargin": true,
           "gridcolor": "#EBF0F8",
           "linecolor": "#EBF0F8",
           "ticks": "",
           "title": {
            "standoff": 15
           },
           "zerolinecolor": "#EBF0F8",
           "zerolinewidth": 2
          },
          "yaxis": {
           "automargin": true,
           "gridcolor": "#EBF0F8",
           "linecolor": "#EBF0F8",
           "ticks": "",
           "title": {
            "standoff": 15
           },
           "zerolinecolor": "#EBF0F8",
           "zerolinewidth": 2
          }
         }
        },
        "title": {
         "text": "Oregon Rebate Impact on Poverty by Age Group and Federal Taxation Over Time"
        },
        "width": 800,
        "xaxis": {
         "range": [
          2024.8,
          2027.15
         ],
         "ticktext": [
          "2025",
          "2026",
          "2027"
         ],
         "tickvals": [
          2025,
          2026,
          2027
         ],
         "title": {
          "text": "Year"
         }
        },
        "yaxis": {
         "range": [
          -0.6,
          0
         ],
         "tickformat": ".0%",
         "title": {
          "text": "Poverty Reduction (%)"
         }
        }
       }
      }
     },
     "metadata": {},
     "output_type": "display_data"
    }
   ],
   "source": [
    "# Define colors for age groups\n",
    "colors = {\n",
    "    \"0-17\": \"#003366\",     # Dark blue\n",
    "    \"18-64\": \"#0066cc\",    # Medium blue\n",
    "    \"65+\": \"#4d94ff\",      # Light blue\n",
    "    \"Overall\": \"#99ccff\",  # Very light blue\n",
    "}\n",
    "\n",
    "# Create the plot\n",
    "fig = go.Figure()\n",
    "\n",
    "# Store final y-values for label positioning\n",
    "final_y_values = {}\n",
    "\n",
    "# Initialize min and max y values\n",
    "y_min, y_max = float('inf'), float('-inf')\n",
    "\n",
    "# Add traces for each age group\n",
    "for age_group in colors.keys():\n",
    "    data = all_results[all_results['age_group'] == age_group]\n",
    "    \n",
    "    # Taxed scenario\n",
    "    taxed_trace = go.Scatter(\n",
    "        x=data['year'], \n",
    "        y=data['relative_poverty_reduction_taxable'],\n",
    "        mode='lines',\n",
    "        name=f'{age_group} (Taxed)',\n",
    "        line=dict(color=colors[age_group], width=2),\n",
    "        showlegend=False\n",
    "    )\n",
    "    fig.add_trace(taxed_trace)\n",
    "    final_y_values[f\"{age_group} (Taxed)\"] = taxed_trace.y[-1]\n",
    "    \n",
    "    # Update y_min and y_max\n",
    "    y_min = min(y_min, min(taxed_trace.y))\n",
    "    y_max = max(y_max, max(taxed_trace.y))\n",
    "    \n",
    "    # Untaxed scenario\n",
    "    untaxed_trace = go.Scatter(\n",
    "        x=data['year'], \n",
    "        y=data['relative_poverty_reduction'],\n",
    "        mode='lines',\n",
    "        name=f'{age_group} (Untaxed)',\n",
    "        line=dict(color=colors[age_group], width=2, dash='dash'),\n",
    "        showlegend=False\n",
    "    )\n",
    "    fig.add_trace(untaxed_trace)\n",
    "    final_y_values[f\"{age_group} (Untaxed)\"] = untaxed_trace.y[-1]\n",
    "    \n",
    "    # Update y_min and y_max\n",
    "    y_min = min(y_min, min(untaxed_trace.y))\n",
    "    y_max = max(y_max, max(untaxed_trace.y))\n",
    "\n",
    "# Add some padding to the y-axis range\n",
    "y_range = y_max - y_min\n",
    "y_min -= 0.1 * y_range\n",
    "y_max += 0.1 * y_range\n",
    "\n",
    "# Function to adjust label positions\n",
    "def adjust_label_positions(positions, min_gap=0.02):\n",
    "    sorted_items = sorted(positions.items(), key=lambda x: x[1])\n",
    "    adjusted = {}\n",
    "    for i, (key, value) in enumerate(sorted_items):\n",
    "        if i == 0:\n",
    "            adjusted[key] = value\n",
    "        else:\n",
    "            prev_key = sorted_items[i-1][0]\n",
    "            if value - adjusted[prev_key] < min_gap:\n",
    "                adjusted[key] = adjusted[prev_key] + min_gap\n",
    "            else:\n",
    "                adjusted[key] = value\n",
    "    return adjusted\n",
    "\n",
    "# Adjust label positions\n",
    "adjusted_positions = adjust_label_positions(final_y_values)\n",
    "\n",
    "# Update layout\n",
    "fig.update_layout(\n",
    "    title='Oregon Rebate Impact on Poverty by Age Group and Federal Taxation Over Time',\n",
    "    xaxis_title='Year',\n",
    "    yaxis_title='Poverty Reduction (%)',\n",
    "    height=650,\n",
    "    width=750,\n",
    "    margin=dict(r=80, l=50, b=70, t=100),  # Slightly reduced right margin\n",
    "    legend=dict(\n",
    "        orientation=\"v\",\n",
    "        yanchor=\"top\",\n",
    "        y=0.99,\n",
    "        xanchor=\"left\",\n",
    "        x=1.02\n",
    "    )\n",
    ")\n",
    "\n",
    "# Update x-axis\n",
    "fig.update_xaxes(\n",
    "    tickvals=[2025, 2026, 2027],\n",
    "    ticktext=[\"2025\", \"2026\", \"2027\"],\n",
    "    range=[2024.8, 2027.15]  # Slightly reduced x-axis range\n",
    ")\n",
    "\n",
    "# Update y-axis\n",
    "fig.update_yaxes(tickformat='.0%', range=[-0.6, 0])\n",
    "\n",
    "# Update hover template\n",
    "fig.update_traces(\n",
    "    hovertemplate='Year: %{x}<br>Age Group: %{data.name}<br>Poverty Reduction: %{y:.2%}<extra></extra>'\n",
    ")\n",
    "\n",
    "# Add labels closer to the lines with adjusted positions\n",
    "for label, y_pos in adjusted_positions.items():\n",
    "    fig.add_annotation(\n",
    "        x=2027.05,  # Moved closer to the end of the lines\n",
    "        y=y_pos,\n",
    "        text=label,\n",
    "        showarrow=False,\n",
    "        xanchor=\"left\",\n",
    "        yanchor=\"middle\",\n",
    "        font=dict(size=8, color=colors[label.split()[0]])\n",
    "    )\n",
    "\n",
    "# Apply the format_fig function\n",
    "fig = format_fig(fig)\n",
    "\n",
    "fig.show()"
   ]
  },
  {
   "cell_type": "code",
   "execution_count": 9,
   "metadata": {},
   "outputs": [
    {
     "name": "stdout",
     "output_type": "stream",
     "text": [
      "Results exported to or_rebate.csv\n"
     ]
    }
   ],
   "source": [
    "import os\n",
    "\n",
    "\n",
    "# Export the results to CSV\n",
    "csv_path = \"or_rebate.csv\"\n",
    "all_results.to_csv(csv_path, index=False)\n",
    "print(f\"Results exported to {csv_path}\")"
   ]
  },
  {
   "cell_type": "code",
   "execution_count": null,
   "metadata": {},
   "outputs": [],
   "source": []
  }
 ],
 "metadata": {
  "kernelspec": {
   "display_name": "policyengine",
   "language": "python",
   "name": "python3"
  },
  "language_info": {
   "codemirror_mode": {
    "name": "ipython",
    "version": 3
   },
   "file_extension": ".py",
   "mimetype": "text/x-python",
   "name": "python",
   "nbconvert_exporter": "python",
   "pygments_lexer": "ipython3",
   "version": "3.9.16"
  }
 },
 "nbformat": 4,
 "nbformat_minor": 2
}
