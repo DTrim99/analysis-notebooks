{
 "cells": [
  {
   "cell_type": "code",
   "execution_count": 32,
   "metadata": {},
   "outputs": [],
   "source": [
    "from policyengine_us import Microsimulation\n",
    "from policyengine_core.reforms import Reform\n",
    "import pandas as pd\n",
    "import plotly.express as px\n",
    "from policyengine_core.charts import format_fig\n",
    "import plotly.graph_objects as go\n"
   ]
  },
  {
   "cell_type": "code",
   "execution_count": 33,
   "metadata": {},
   "outputs": [],
   "source": [
    "reform = Reform.from_dict({\n",
    "  \"gov.contrib.ubi_center.basic_income.amount.person.flat\": {\n",
    "    \"2025-01-01.2025-12-31\": 1160,\n",
    "    \"2026-01-01.2026-12-31\": 1605,\n",
    "    \"2027-01-01.2027-12-31\": 1686\n",
    "  },\n",
    "  \"gov.contrib.ubi_center.basic_income.taxable\": {\n",
    "    \"2024-01-01.2100-12-31\": True\n",
    "  }\n",
    "}, country_id=\"us\")\n",
    "\n",
    "reform_taxable = Reform.from_dict({\n",
    "  \"gov.contrib.states.or.rebate.state_tax_exempt\": {\n",
    "    \"2024-01-01.2100-12-31\": True\n",
    "  },\n",
    "  \"gov.contrib.ubi_center.basic_income.amount.person.flat\": {\n",
    "    \"2025-01-01.2025-12-31\": 1160,\n",
    "    \"2026-01-01.2026-12-31\": 1605,\n",
    "    \"2027-01-01.2027-12-31\": 1686\n",
    "  },\n",
    "  \"gov.contrib.ubi_center.basic_income.taxable\": {\n",
    "    \"2024-01-01.2100-12-31\": True\n",
    "  }\n",
    "}, country_id=\"us\")"
   ]
  },
  {
   "cell_type": "code",
   "execution_count": 34,
   "metadata": {},
   "outputs": [],
   "source": [
    "baseline = Microsimulation()\n",
    "reformed = Microsimulation(reform=reform)\n",
    "reformed_taxable = Microsimulation(reform=reform_taxable)\n"
   ]
  },
  {
   "cell_type": "code",
   "execution_count": 35,
   "metadata": {},
   "outputs": [],
   "source": [
    "def calculate_poverty_impact_by_age(baseline, reformed, year):\n",
    "    state_codes = baseline.calc(\"state_code\", map_to=\"person\", period=year)\n",
    "    age = baseline.calc(\"age\", map_to=\"person\", period=year)\n",
    "\n",
    "    baseline_poverty = baseline.calc(\"in_poverty\", map_to=\"person\", period=year)\n",
    "    reform_poverty = reformed.calc(\"in_poverty\", map_to=\"person\", period=year)\n",
    "\n",
    "    results = {}\n",
    "    age_groups = [\n",
    "        (0, 6, \"0-6\"),\n",
    "        (6, 18, \"6-18\"),\n",
    "        (18, 65, \"18-65\"),\n",
    "        (65, 200, \"65+\")\n",
    "    ]\n",
    "\n",
    "    for min_age, max_age, label in age_groups:\n",
    "        mask = (state_codes == \"OR\") & (age >= min_age) & (age < max_age)\n",
    "        \n",
    "        baseline_poverty_group = baseline_poverty[mask].mean()\n",
    "        reform_poverty_group = reform_poverty[mask].mean()\n",
    "        \n",
    "        relative_poverty_reduction = (reform_poverty_group - baseline_poverty_group) / baseline_poverty_group\n",
    "        results[label] = relative_poverty_reduction\n",
    "\n",
    "    return results"
   ]
  },
  {
   "cell_type": "code",
   "execution_count": 36,
   "metadata": {},
   "outputs": [],
   "source": [
    "# Initialize an empty DataFrame to store all results\n",
    "all_results = pd.DataFrame(columns=[\"year\", \"age_group\", \"relative_poverty_reduction\", \"relative_poverty_reduction_taxable\"])\n"
   ]
  },
  {
   "cell_type": "code",
   "execution_count": 37,
   "metadata": {},
   "outputs": [],
   "source": [
    "# Calculate for each year and add to the DataFrame\n",
    "for year in range(2025, 2028):\n",
    "    results_not_taxable = calculate_poverty_impact_by_age(baseline, reformed, year)\n",
    "    results_taxable = calculate_poverty_impact_by_age(baseline, reformed_taxable, year)\n",
    "\n",
    "    for age_group in results_not_taxable.keys():\n",
    "        new_row = pd.DataFrame({\n",
    "            \"year\": [year],\n",
    "            \"age_group\": [age_group],\n",
    "            \"relative_poverty_reduction\": [results_not_taxable[age_group]],\n",
    "            \"relative_poverty_reduction_taxable\": [results_taxable[age_group]]\n",
    "        })\n",
    "        all_results = pd.concat([all_results, new_row], ignore_index=True)\n"
   ]
  },
  {
   "cell_type": "code",
   "execution_count": 40,
   "metadata": {},
   "outputs": [
    {
     "name": "stdout",
     "output_type": "stream",
     "text": [
      "    year age_group  relative_poverty_reduction  \\\n",
      "0   2025       0-6                   -0.136420   \n",
      "1   2025      6-18                   -0.433609   \n",
      "2   2025     18-65                   -0.207817   \n",
      "3   2025       65+                   -0.053603   \n",
      "4   2026       0-6                   -0.136420   \n",
      "5   2026      6-18                   -0.482002   \n",
      "6   2026     18-65                   -0.235611   \n",
      "7   2026       65+                   -0.050389   \n",
      "8   2027       0-6                    0.000000   \n",
      "9   2027      6-18                   -0.482002   \n",
      "10  2027     18-65                   -0.233850   \n",
      "11  2027       65+                   -0.076262   \n",
      "\n",
      "    relative_poverty_reduction_taxable  \n",
      "0                            -0.136420  \n",
      "1                            -0.433609  \n",
      "2                            -0.217906  \n",
      "3                            -0.053603  \n",
      "4                            -0.136420  \n",
      "5                            -0.513606  \n",
      "6                            -0.243466  \n",
      "7                            -0.050389  \n",
      "8                             0.000000  \n",
      "9                            -0.513606  \n",
      "10                           -0.241791  \n",
      "11                           -0.076262  \n"
     ]
    }
   ],
   "source": [
    "# Display the results\n",
    "print(all_results)"
   ]
  },
  {
   "cell_type": "code",
   "execution_count": null,
   "metadata": {},
   "outputs": [],
   "source": []
  },
  {
   "cell_type": "code",
   "execution_count": 42,
   "metadata": {},
   "outputs": [
    {
     "data": {
      "application/vnd.plotly.v1+json": {
       "config": {
        "plotlyServerURL": "https://plot.ly"
       },
       "data": [
        {
         "hovertemplate": "Year: %{x}<br>Age Group: %{data.name}<br>Relative Poverty Reduction: %{y:.2%}<extra></extra>",
         "line": {
          "color": "#0066cc",
          "width": 2
         },
         "mode": "lines",
         "name": "0-6 (Not Taxable)",
         "type": "scatter",
         "x": [
          2025,
          2026,
          2027
         ],
         "y": [
          -0.1364201641370677,
          -0.1364201641370677,
          0
         ]
        },
        {
         "hovertemplate": "Year: %{x}<br>Age Group: %{data.name}<br>Relative Poverty Reduction: %{y:.2%}<extra></extra>",
         "line": {
          "color": "#333333",
          "dash": "dot",
          "width": 2
         },
         "mode": "lines",
         "name": "0-6 (Taxable)",
         "type": "scatter",
         "x": [
          2025,
          2026,
          2027
         ],
         "y": [
          -0.1364201641370677,
          -0.1364201641370677,
          0
         ]
        },
        {
         "hovertemplate": "Year: %{x}<br>Age Group: %{data.name}<br>Relative Poverty Reduction: %{y:.2%}<extra></extra>",
         "line": {
          "color": "#4d94ff",
          "width": 2
         },
         "mode": "lines",
         "name": "6-18 (Not Taxable)",
         "type": "scatter",
         "x": [
          2025,
          2026,
          2027
         ],
         "y": [
          -0.4336092942907337,
          -0.48200184411034497,
          -0.48200184411034497
         ]
        },
        {
         "hovertemplate": "Year: %{x}<br>Age Group: %{data.name}<br>Relative Poverty Reduction: %{y:.2%}<extra></extra>",
         "line": {
          "color": "#666666",
          "dash": "solid",
          "width": 2
         },
         "mode": "lines",
         "name": "6-18 (Taxable)",
         "type": "scatter",
         "x": [
          2025,
          2026,
          2027
         ],
         "y": [
          -0.4336092942907337,
          -0.5136061280352754,
          -0.5136061280352754
         ]
        },
        {
         "hovertemplate": "Year: %{x}<br>Age Group: %{data.name}<br>Relative Poverty Reduction: %{y:.2%}<extra></extra>",
         "line": {
          "color": "#99c2ff",
          "width": 2
         },
         "mode": "lines",
         "name": "18-65 (Not Taxable)",
         "type": "scatter",
         "x": [
          2025,
          2026,
          2027
         ],
         "y": [
          -0.20781691820493936,
          -0.2356111685475046,
          -0.2338500169785576
         ]
        },
        {
         "hovertemplate": "Year: %{x}<br>Age Group: %{data.name}<br>Relative Poverty Reduction: %{y:.2%}<extra></extra>",
         "line": {
          "color": "#999999",
          "dash": "solid",
          "width": 2
         },
         "mode": "lines",
         "name": "18-65 (Taxable)",
         "type": "scatter",
         "x": [
          2025,
          2026,
          2027
         ],
         "y": [
          -0.21790616711614522,
          -0.24346647309768796,
          -0.24179129344551625
         ]
        },
        {
         "hovertemplate": "Year: %{x}<br>Age Group: %{data.name}<br>Relative Poverty Reduction: %{y:.2%}<extra></extra>",
         "line": {
          "color": "#cce0ff",
          "width": 2
         },
         "mode": "lines",
         "name": "65+ (Not Taxable)",
         "type": "scatter",
         "x": [
          2025,
          2026,
          2027
         ],
         "y": [
          -0.053602519468541984,
          -0.05038881775610852,
          -0.07626212920662734
         ]
        },
        {
         "hovertemplate": "Year: %{x}<br>Age Group: %{data.name}<br>Relative Poverty Reduction: %{y:.2%}<extra></extra>",
         "line": {
          "color": "#cccccc",
          "dash": "dot",
          "width": 2
         },
         "mode": "lines",
         "name": "65+ (Taxable)",
         "type": "scatter",
         "x": [
          2025,
          2026,
          2027
         ],
         "y": [
          -0.053602519468541984,
          -0.05038881775610852,
          -0.07626212920662734
         ]
        }
       ],
       "layout": {
        "font": {
         "color": "black",
         "family": "Roboto Serif"
        },
        "height": 600,
        "images": [
         {
          "sizex": 0.15,
          "sizey": 0.15,
          "source": "https://raw.githubusercontent.com/PolicyEngine/policyengine-app/master/src/images/logos/policyengine/blue.png",
          "x": 1.1,
          "xanchor": "right",
          "xref": "paper",
          "y": -0.15,
          "yanchor": "bottom",
          "yref": "paper"
         }
        ],
        "legend": {
         "title": {
          "text": "Age Group and Tax Status"
         },
         "x": 1.01,
         "xanchor": "left",
         "y": 0.99,
         "yanchor": "top"
        },
        "modebar": {
         "bgcolor": "rgba(0,0,0,0)",
         "color": "rgba(0,0,0,0)"
        },
        "template": {
         "data": {
          "bar": [
           {
            "error_x": {
             "color": "#2a3f5f"
            },
            "error_y": {
             "color": "#2a3f5f"
            },
            "marker": {
             "line": {
              "color": "white",
              "width": 0.5
             },
             "pattern": {
              "fillmode": "overlay",
              "size": 10,
              "solidity": 0.2
             }
            },
            "type": "bar"
           }
          ],
          "barpolar": [
           {
            "marker": {
             "line": {
              "color": "white",
              "width": 0.5
             },
             "pattern": {
              "fillmode": "overlay",
              "size": 10,
              "solidity": 0.2
             }
            },
            "type": "barpolar"
           }
          ],
          "carpet": [
           {
            "aaxis": {
             "endlinecolor": "#2a3f5f",
             "gridcolor": "#C8D4E3",
             "linecolor": "#C8D4E3",
             "minorgridcolor": "#C8D4E3",
             "startlinecolor": "#2a3f5f"
            },
            "baxis": {
             "endlinecolor": "#2a3f5f",
             "gridcolor": "#C8D4E3",
             "linecolor": "#C8D4E3",
             "minorgridcolor": "#C8D4E3",
             "startlinecolor": "#2a3f5f"
            },
            "type": "carpet"
           }
          ],
          "choropleth": [
           {
            "colorbar": {
             "outlinewidth": 0,
             "ticks": ""
            },
            "type": "choropleth"
           }
          ],
          "contour": [
           {
            "colorbar": {
             "outlinewidth": 0,
             "ticks": ""
            },
            "colorscale": [
             [
              0,
              "#0d0887"
             ],
             [
              0.1111111111111111,
              "#46039f"
             ],
             [
              0.2222222222222222,
              "#7201a8"
             ],
             [
              0.3333333333333333,
              "#9c179e"
             ],
             [
              0.4444444444444444,
              "#bd3786"
             ],
             [
              0.5555555555555556,
              "#d8576b"
             ],
             [
              0.6666666666666666,
              "#ed7953"
             ],
             [
              0.7777777777777778,
              "#fb9f3a"
             ],
             [
              0.8888888888888888,
              "#fdca26"
             ],
             [
              1,
              "#f0f921"
             ]
            ],
            "type": "contour"
           }
          ],
          "contourcarpet": [
           {
            "colorbar": {
             "outlinewidth": 0,
             "ticks": ""
            },
            "type": "contourcarpet"
           }
          ],
          "heatmap": [
           {
            "colorbar": {
             "outlinewidth": 0,
             "ticks": ""
            },
            "colorscale": [
             [
              0,
              "#0d0887"
             ],
             [
              0.1111111111111111,
              "#46039f"
             ],
             [
              0.2222222222222222,
              "#7201a8"
             ],
             [
              0.3333333333333333,
              "#9c179e"
             ],
             [
              0.4444444444444444,
              "#bd3786"
             ],
             [
              0.5555555555555556,
              "#d8576b"
             ],
             [
              0.6666666666666666,
              "#ed7953"
             ],
             [
              0.7777777777777778,
              "#fb9f3a"
             ],
             [
              0.8888888888888888,
              "#fdca26"
             ],
             [
              1,
              "#f0f921"
             ]
            ],
            "type": "heatmap"
           }
          ],
          "heatmapgl": [
           {
            "colorbar": {
             "outlinewidth": 0,
             "ticks": ""
            },
            "colorscale": [
             [
              0,
              "#0d0887"
             ],
             [
              0.1111111111111111,
              "#46039f"
             ],
             [
              0.2222222222222222,
              "#7201a8"
             ],
             [
              0.3333333333333333,
              "#9c179e"
             ],
             [
              0.4444444444444444,
              "#bd3786"
             ],
             [
              0.5555555555555556,
              "#d8576b"
             ],
             [
              0.6666666666666666,
              "#ed7953"
             ],
             [
              0.7777777777777778,
              "#fb9f3a"
             ],
             [
              0.8888888888888888,
              "#fdca26"
             ],
             [
              1,
              "#f0f921"
             ]
            ],
            "type": "heatmapgl"
           }
          ],
          "histogram": [
           {
            "marker": {
             "pattern": {
              "fillmode": "overlay",
              "size": 10,
              "solidity": 0.2
             }
            },
            "type": "histogram"
           }
          ],
          "histogram2d": [
           {
            "colorbar": {
             "outlinewidth": 0,
             "ticks": ""
            },
            "colorscale": [
             [
              0,
              "#0d0887"
             ],
             [
              0.1111111111111111,
              "#46039f"
             ],
             [
              0.2222222222222222,
              "#7201a8"
             ],
             [
              0.3333333333333333,
              "#9c179e"
             ],
             [
              0.4444444444444444,
              "#bd3786"
             ],
             [
              0.5555555555555556,
              "#d8576b"
             ],
             [
              0.6666666666666666,
              "#ed7953"
             ],
             [
              0.7777777777777778,
              "#fb9f3a"
             ],
             [
              0.8888888888888888,
              "#fdca26"
             ],
             [
              1,
              "#f0f921"
             ]
            ],
            "type": "histogram2d"
           }
          ],
          "histogram2dcontour": [
           {
            "colorbar": {
             "outlinewidth": 0,
             "ticks": ""
            },
            "colorscale": [
             [
              0,
              "#0d0887"
             ],
             [
              0.1111111111111111,
              "#46039f"
             ],
             [
              0.2222222222222222,
              "#7201a8"
             ],
             [
              0.3333333333333333,
              "#9c179e"
             ],
             [
              0.4444444444444444,
              "#bd3786"
             ],
             [
              0.5555555555555556,
              "#d8576b"
             ],
             [
              0.6666666666666666,
              "#ed7953"
             ],
             [
              0.7777777777777778,
              "#fb9f3a"
             ],
             [
              0.8888888888888888,
              "#fdca26"
             ],
             [
              1,
              "#f0f921"
             ]
            ],
            "type": "histogram2dcontour"
           }
          ],
          "mesh3d": [
           {
            "colorbar": {
             "outlinewidth": 0,
             "ticks": ""
            },
            "type": "mesh3d"
           }
          ],
          "parcoords": [
           {
            "line": {
             "colorbar": {
              "outlinewidth": 0,
              "ticks": ""
             }
            },
            "type": "parcoords"
           }
          ],
          "pie": [
           {
            "automargin": true,
            "type": "pie"
           }
          ],
          "scatter": [
           {
            "fillpattern": {
             "fillmode": "overlay",
             "size": 10,
             "solidity": 0.2
            },
            "type": "scatter"
           }
          ],
          "scatter3d": [
           {
            "line": {
             "colorbar": {
              "outlinewidth": 0,
              "ticks": ""
             }
            },
            "marker": {
             "colorbar": {
              "outlinewidth": 0,
              "ticks": ""
             }
            },
            "type": "scatter3d"
           }
          ],
          "scattercarpet": [
           {
            "marker": {
             "colorbar": {
              "outlinewidth": 0,
              "ticks": ""
             }
            },
            "type": "scattercarpet"
           }
          ],
          "scattergeo": [
           {
            "marker": {
             "colorbar": {
              "outlinewidth": 0,
              "ticks": ""
             }
            },
            "type": "scattergeo"
           }
          ],
          "scattergl": [
           {
            "marker": {
             "colorbar": {
              "outlinewidth": 0,
              "ticks": ""
             }
            },
            "type": "scattergl"
           }
          ],
          "scattermapbox": [
           {
            "marker": {
             "colorbar": {
              "outlinewidth": 0,
              "ticks": ""
             }
            },
            "type": "scattermapbox"
           }
          ],
          "scatterpolar": [
           {
            "marker": {
             "colorbar": {
              "outlinewidth": 0,
              "ticks": ""
             }
            },
            "type": "scatterpolar"
           }
          ],
          "scatterpolargl": [
           {
            "marker": {
             "colorbar": {
              "outlinewidth": 0,
              "ticks": ""
             }
            },
            "type": "scatterpolargl"
           }
          ],
          "scatterternary": [
           {
            "marker": {
             "colorbar": {
              "outlinewidth": 0,
              "ticks": ""
             }
            },
            "type": "scatterternary"
           }
          ],
          "surface": [
           {
            "colorbar": {
             "outlinewidth": 0,
             "ticks": ""
            },
            "colorscale": [
             [
              0,
              "#0d0887"
             ],
             [
              0.1111111111111111,
              "#46039f"
             ],
             [
              0.2222222222222222,
              "#7201a8"
             ],
             [
              0.3333333333333333,
              "#9c179e"
             ],
             [
              0.4444444444444444,
              "#bd3786"
             ],
             [
              0.5555555555555556,
              "#d8576b"
             ],
             [
              0.6666666666666666,
              "#ed7953"
             ],
             [
              0.7777777777777778,
              "#fb9f3a"
             ],
             [
              0.8888888888888888,
              "#fdca26"
             ],
             [
              1,
              "#f0f921"
             ]
            ],
            "type": "surface"
           }
          ],
          "table": [
           {
            "cells": {
             "fill": {
              "color": "#EBF0F8"
             },
             "line": {
              "color": "white"
             }
            },
            "header": {
             "fill": {
              "color": "#C8D4E3"
             },
             "line": {
              "color": "white"
             }
            },
            "type": "table"
           }
          ]
         },
         "layout": {
          "annotationdefaults": {
           "arrowcolor": "#2a3f5f",
           "arrowhead": 0,
           "arrowwidth": 1
          },
          "autotypenumbers": "strict",
          "coloraxis": {
           "colorbar": {
            "outlinewidth": 0,
            "ticks": ""
           }
          },
          "colorscale": {
           "diverging": [
            [
             0,
             "#8e0152"
            ],
            [
             0.1,
             "#c51b7d"
            ],
            [
             0.2,
             "#de77ae"
            ],
            [
             0.3,
             "#f1b6da"
            ],
            [
             0.4,
             "#fde0ef"
            ],
            [
             0.5,
             "#f7f7f7"
            ],
            [
             0.6,
             "#e6f5d0"
            ],
            [
             0.7,
             "#b8e186"
            ],
            [
             0.8,
             "#7fbc41"
            ],
            [
             0.9,
             "#4d9221"
            ],
            [
             1,
             "#276419"
            ]
           ],
           "sequential": [
            [
             0,
             "#0d0887"
            ],
            [
             0.1111111111111111,
             "#46039f"
            ],
            [
             0.2222222222222222,
             "#7201a8"
            ],
            [
             0.3333333333333333,
             "#9c179e"
            ],
            [
             0.4444444444444444,
             "#bd3786"
            ],
            [
             0.5555555555555556,
             "#d8576b"
            ],
            [
             0.6666666666666666,
             "#ed7953"
            ],
            [
             0.7777777777777778,
             "#fb9f3a"
            ],
            [
             0.8888888888888888,
             "#fdca26"
            ],
            [
             1,
             "#f0f921"
            ]
           ],
           "sequentialminus": [
            [
             0,
             "#0d0887"
            ],
            [
             0.1111111111111111,
             "#46039f"
            ],
            [
             0.2222222222222222,
             "#7201a8"
            ],
            [
             0.3333333333333333,
             "#9c179e"
            ],
            [
             0.4444444444444444,
             "#bd3786"
            ],
            [
             0.5555555555555556,
             "#d8576b"
            ],
            [
             0.6666666666666666,
             "#ed7953"
            ],
            [
             0.7777777777777778,
             "#fb9f3a"
            ],
            [
             0.8888888888888888,
             "#fdca26"
            ],
            [
             1,
             "#f0f921"
            ]
           ]
          },
          "colorway": [
           "#636efa",
           "#EF553B",
           "#00cc96",
           "#ab63fa",
           "#FFA15A",
           "#19d3f3",
           "#FF6692",
           "#B6E880",
           "#FF97FF",
           "#FECB52"
          ],
          "font": {
           "color": "#2a3f5f"
          },
          "geo": {
           "bgcolor": "white",
           "lakecolor": "white",
           "landcolor": "white",
           "showlakes": true,
           "showland": true,
           "subunitcolor": "#C8D4E3"
          },
          "hoverlabel": {
           "align": "left"
          },
          "hovermode": "closest",
          "mapbox": {
           "style": "light"
          },
          "paper_bgcolor": "white",
          "plot_bgcolor": "white",
          "polar": {
           "angularaxis": {
            "gridcolor": "#EBF0F8",
            "linecolor": "#EBF0F8",
            "ticks": ""
           },
           "bgcolor": "white",
           "radialaxis": {
            "gridcolor": "#EBF0F8",
            "linecolor": "#EBF0F8",
            "ticks": ""
           }
          },
          "scene": {
           "xaxis": {
            "backgroundcolor": "white",
            "gridcolor": "#DFE8F3",
            "gridwidth": 2,
            "linecolor": "#EBF0F8",
            "showbackground": true,
            "ticks": "",
            "zerolinecolor": "#EBF0F8"
           },
           "yaxis": {
            "backgroundcolor": "white",
            "gridcolor": "#DFE8F3",
            "gridwidth": 2,
            "linecolor": "#EBF0F8",
            "showbackground": true,
            "ticks": "",
            "zerolinecolor": "#EBF0F8"
           },
           "zaxis": {
            "backgroundcolor": "white",
            "gridcolor": "#DFE8F3",
            "gridwidth": 2,
            "linecolor": "#EBF0F8",
            "showbackground": true,
            "ticks": "",
            "zerolinecolor": "#EBF0F8"
           }
          },
          "shapedefaults": {
           "line": {
            "color": "#2a3f5f"
           }
          },
          "ternary": {
           "aaxis": {
            "gridcolor": "#DFE8F3",
            "linecolor": "#A2B1C6",
            "ticks": ""
           },
           "baxis": {
            "gridcolor": "#DFE8F3",
            "linecolor": "#A2B1C6",
            "ticks": ""
           },
           "bgcolor": "white",
           "caxis": {
            "gridcolor": "#DFE8F3",
            "linecolor": "#A2B1C6",
            "ticks": ""
           }
          },
          "title": {
           "x": 0.05
          },
          "xaxis": {
           "automargin": true,
           "gridcolor": "#EBF0F8",
           "linecolor": "#EBF0F8",
           "ticks": "",
           "title": {
            "standoff": 15
           },
           "zerolinecolor": "#EBF0F8",
           "zerolinewidth": 2
          },
          "yaxis": {
           "automargin": true,
           "gridcolor": "#EBF0F8",
           "linecolor": "#EBF0F8",
           "ticks": "",
           "title": {
            "standoff": 15
           },
           "zerolinecolor": "#EBF0F8",
           "zerolinewidth": 2
          }
         }
        },
        "title": {
         "text": "Oregon Rebate Impact on Poverty by Age Group Over Time"
        },
        "width": 800,
        "xaxis": {
         "tickformat": "d",
         "ticktext": [
          "2025",
          "2026",
          "2027"
         ],
         "tickvals": [
          2025,
          2026,
          2027
         ],
         "title": {
          "text": "Year"
         }
        },
        "yaxis": {
         "tickformat": ".0%",
         "title": {
          "text": "Relative Poverty Reduction (%)"
         }
        }
       }
      }
     },
     "metadata": {},
     "output_type": "display_data"
    }
   ],
   "source": [
    "# Define colors for age groups\n",
    "colors = {\n",
    "    \"0-6\": {\"not_taxable\": \"#0066cc\", \"taxable\": \"#333333\"},    # Dark blue / Dark grey\n",
    "    \"6-18\": {\"not_taxable\": \"#4d94ff\", \"taxable\": \"#666666\"},   # Medium blue / Medium grey\n",
    "    \"18-65\": {\"not_taxable\": \"#99c2ff\", \"taxable\": \"#999999\"},  # Light blue / Light grey\n",
    "    \"65+\": {\"not_taxable\": \"#cce0ff\", \"taxable\": \"#cccccc\"},    # Very light blue / Very light grey\n",
    "}\n",
    "\n",
    "# Create the plot\n",
    "fig = go.Figure()\n",
    "\n",
    "# Add traces for each age group\n",
    "for age_group in colors.keys():\n",
    "    data = all_results[all_results['age_group'] == age_group]\n",
    "\n",
    "    # Non-taxable scenario\n",
    "    fig.add_trace(go.Scatter(\n",
    "        x=data['year'], \n",
    "        y=data['relative_poverty_reduction'],\n",
    "        mode='lines',\n",
    "        name=f'{age_group} (Not Taxable)',\n",
    "        line=dict(color=colors[age_group]['not_taxable'], width=2)\n",
    "    ))\n",
    "\n",
    "    # Taxable scenario\n",
    "    fig.add_trace(go.Scatter(\n",
    "        x=data['year'], \n",
    "        y=data['relative_poverty_reduction_taxable'],\n",
    "        mode='lines',\n",
    "        name=f'{age_group} (Taxable)',\n",
    "        line=dict(\n",
    "            color=colors[age_group]['taxable'], \n",
    "            width=2,\n",
    "            dash='dot' if age_group in ['0-6', '65+'] else 'solid'  # Dotted line for 0-6 and 65+ taxable\n",
    "        )\n",
    "    ))\n",
    "\n",
    "\n",
    "# Update layout\n",
    "fig.update_layout(\n",
    "    title='Oregon Rebate Impact on Poverty by Age Group Over Time',\n",
    "    xaxis_title='Year',\n",
    "    yaxis_title='Relative Poverty Reduction (%)',\n",
    "    legend_title='Age Group and Tax Status',\n",
    "    legend=dict(\n",
    "        yanchor=\"top\",\n",
    "        y=0.99,\n",
    "        xanchor=\"left\",\n",
    "        x=1.01\n",
    "    ),\n",
    "    height=600,\n",
    "    width=800,\n",
    ")\n",
    "\n",
    "# Update x-axis to show only three steps\n",
    "min_year = all_results['year'].min()\n",
    "max_year = all_results['year'].max()\n",
    "mid_year = min_year + (max_year - min_year) // 2\n",
    "\n",
    "fig.update_xaxes(\n",
    "    tickvals=[min_year, mid_year, max_year],\n",
    "    ticktext=[str(min_year), str(mid_year), str(max_year)],\n",
    "    tickformat='d'\n",
    ")\n",
    "\n",
    "# Update y-axis\n",
    "fig.update_yaxes(tickformat='.0%')\n",
    "\n",
    "# Update hover template\n",
    "fig.update_traces(\n",
    "    hovertemplate='Year: %{x}<br>Age Group: %{data.name}<br>Relative Poverty Reduction: %{y:.2%}<extra></extra>'\n",
    ")\n",
    "\n",
    "fig = format_fig(fig)\n",
    "fig.show()"
   ]
  },
  {
   "cell_type": "code",
   "execution_count": null,
   "metadata": {},
   "outputs": [],
   "source": []
  }
 ],
 "metadata": {
  "kernelspec": {
   "display_name": "policyengine",
   "language": "python",
   "name": "python3"
  },
  "language_info": {
   "codemirror_mode": {
    "name": "ipython",
    "version": 3
   },
   "file_extension": ".py",
   "mimetype": "text/x-python",
   "name": "python",
   "nbconvert_exporter": "python",
   "pygments_lexer": "ipython3",
   "version": "3.9.16"
  }
 },
 "nbformat": 4,
 "nbformat_minor": 2
}
