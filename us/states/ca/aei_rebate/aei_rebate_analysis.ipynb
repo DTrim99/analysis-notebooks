{
 "cells": [
  {
   "cell_type": "markdown",
   "metadata": {},
   "source": [
    "# California AEI Rebate Base Analysis\n",
    "\n",
    "This notebook calculates the rebate base for a proposed California consumption rebate program.\n",
    "\n",
    "## Program Design\n",
    "- **Rebate Base**: Equal to the Federal Poverty Guideline (FPG) for the tax unit or household\n",
    "- **Phase-out**: Linear phase-out between 150% and 175% of FPG\n",
    "- **Actual Rebate**: `rebate_base * VAT_rate` (VAT rate to be determined)\n",
    "\n",
    "## Key Formula\n",
    "The rebate base (X) is used in the VAT rate formula:\n",
    "```\n",
    "t = Rs/(Cp - X - T + Ro)\n",
    "```\n",
    "Where:\n",
    "- t = VAT rate\n",
    "- Rs = Revenue target\n",
    "- Cp = Private consumption\n",
    "- X = Total rebate base (calculated here)\n",
    "- T = Existing taxes\n",
    "- Ro = Other revenue"
   ]
  },
  {
   "cell_type": "markdown",
   "metadata": {},
   "source": [
    "## Setup and Imports"
   ]
  },
  {
   "cell_type": "code",
   "execution_count": 1,
   "metadata": {
    "execution": {
     "iopub.execute_input": "2025-09-15T18:56:36.397987Z",
     "iopub.status.busy": "2025-09-15T18:56:36.397739Z",
     "iopub.status.idle": "2025-09-15T18:56:46.845702Z",
     "shell.execute_reply": "2025-09-15T18:56:46.845368Z"
    }
   },
   "outputs": [
    {
     "name": "stdout",
     "output_type": "stream",
     "text": [
      "Libraries imported successfully\n"
     ]
    }
   ],
   "source": [
    "from policyengine_us import Microsimulation\n",
    "from policyengine_core.reforms import Reform\n",
    "from policyengine_us.model_api import *\n",
    "import numpy as np\n",
    "import pandas as pd\n",
    "\n",
    "# Constants\n",
    "SIMULATION_YEAR = 2026  # Year for simulation calculations\n",
    "\n",
    "print(\"Libraries imported successfully\")"
   ]
  },
  {
   "cell_type": "markdown",
   "metadata": {},
   "source": [
    "## Define the AEI Rebate Base Variables"
   ]
  },
  {
   "cell_type": "code",
   "execution_count": null,
   "metadata": {
    "execution": {
     "iopub.execute_input": "2025-09-15T18:56:46.860827Z",
     "iopub.status.busy": "2025-09-15T18:56:46.860591Z",
     "iopub.status.idle": "2025-09-15T18:56:46.865448Z",
     "shell.execute_reply": "2025-09-15T18:56:46.865211Z"
    }
   },
   "outputs": [],
   "source": "def create_aei_reform():\n    \"\"\"\n    Creates a PolicyEngine reform that adds the California AEI rebate base variables.\n    \n    Returns:\n        Reform: PolicyEngine reform with ca_aei_rebate_base variables\n    \"\"\"\n    \n    class household_fpg(Variable):\n        value_type = float\n        entity = Household\n        label = \"Household's federal poverty guideline\"\n        definition_period = YEAR\n        unit = USD\n\n        def formula(household, period, parameters):\n            n = household(\"household_size\", period)\n            state_group = household(\"state_group_str\", period)\n            p_fpg = parameters(period).gov.hhs.fpg\n            p1 = p_fpg.first_person[state_group]\n            pn = p_fpg.additional_person[state_group]\n            return p1 + pn * (n - 1)\n    \n    class ca_aei_rebate_base_tax_unit(Variable):\n        value_type = float\n        entity = TaxUnit\n        label = \"California AEI rebate base (tax unit version)\"\n        unit = USD\n        definition_period = YEAR\n        defined_for = StateCode.CA\n\n        def formula(tax_unit, period, parameters):\n            # Use tax unit's own AGI\n            income = tax_unit(\"adjusted_gross_income\", period)\n            fpg = tax_unit(\"tax_unit_fpg\", period)\n            income_to_fpg_ratio = where(fpg > 0, income / fpg, np.inf)\n\n            # Phase-out parameters\n            PHASEOUT_START = 1.5   # 150% FPG\n            PHASEOUT_END = 1.75    # 175% FPG\n            phaseout_width = PHASEOUT_END - PHASEOUT_START\n\n            # Phase-out calculation\n            excess = max_(income_to_fpg_ratio - PHASEOUT_START, 0)\n            phaseout_percentage = min_(1, excess / phaseout_width)\n\n            return fpg * (1 - phaseout_percentage)\n\n    class ca_aei_rebate_base_household(Variable):\n        value_type = float\n        entity = Household\n        label = \"California AEI rebate base (household version)\"\n        unit = USD\n        definition_period = YEAR\n\n        def formula(household, period, parameters):\n            # Sum AGI from all tax units in the household\n            income = household.sum(household.members.tax_unit(\"adjusted_gross_income\", period))\n            fpg = household(\"household_fpg\", period)\n            income_to_fpg_ratio = where(fpg > 0, income / fpg, np.inf)\n\n            # Phase-out parameters\n            PHASEOUT_START = 1.5   # 150% FPG\n            PHASEOUT_END = 1.75    # 175% FPG\n            phaseout_width = PHASEOUT_END - PHASEOUT_START\n\n            # Phase-out calculation\n            excess = max_(income_to_fpg_ratio - PHASEOUT_START, 0)\n            phaseout_percentage = min_(1, excess / phaseout_width)\n\n            return fpg * (1 - phaseout_percentage)\n\n    class AEIReform(Reform):\n        def apply(self):\n            self.update_variable(household_fpg)\n            self.update_variable(ca_aei_rebate_base_tax_unit)\n            self.update_variable(ca_aei_rebate_base_household)\n    \n    return AEIReform\n\nprint(\"Reform defined successfully\")"
  },
  {
   "cell_type": "markdown",
   "metadata": {},
   "source": [
    "## Calculate Rebate Base Statistics"
   ]
  },
  {
   "cell_type": "code",
   "execution_count": null,
   "metadata": {
    "execution": {
     "iopub.execute_input": "2025-09-15T18:56:46.866675Z",
     "iopub.status.busy": "2025-09-15T18:56:46.866600Z",
     "iopub.status.idle": "2025-09-15T18:56:58.429477Z",
     "shell.execute_reply": "2025-09-15T18:56:58.429120Z"
    }
   },
   "outputs": [],
   "source": "def calculate_rebate_base_statistics(sim, unit_type=\"household\", year=2026):\n    \"\"\"\n    Calculate AEI rebate base program statistics for California households or tax units.\n    \n    Args:\n        sim: Microsimulation object with reform applied\n        unit_type: Either \"household\" or \"tax_unit\"\n        year: Year to calculate for\n    \n    Returns:\n        Dictionary with rebate base statistics\n    \"\"\"\n    print(f\"Calculating {unit_type} statistics for {year}...\")\n    \n    if unit_type == \"household\":\n        # Calculate rebate base for all households\n        rebate_base = sim.calculate(\"ca_aei_rebate_base_household\", year)\n        \n        # Filter for California households only\n        household_state = sim.calculate(\"state_code\", year, map_to=\"household\")\n        ca_mask = household_state == \"CA\"\n        \n        # Apply CA filter\n        ca_rebate_base = rebate_base[ca_mask]\n        total_ca_units = ca_mask.sum()\n        \n    else:  # tax_unit\n        # Calculate rebate base for all tax units (defined_for gives 0 for non-CA)\n        rebate_base = sim.calculate(\"ca_aei_rebate_base_tax_unit\", year)\n        \n        # Use calculate_dataframe to get household-level data\n        household_df = sim.calculate_dataframe(\n            [\"household_id\", \"state_code\"],\n            year,\n            map_to=\"household\"\n        )\n        \n        # Get tax unit data\n        tax_unit_df = sim.calculate_dataframe(\n            [\"tax_unit_id\", \"tax_unit_household_id\"],\n            year\n        )\n        \n        # Merge to get state for each tax unit\n        tax_unit_with_state = tax_unit_df.merge(\n            household_df[[\"household_id\", \"state_code\"]],\n            left_on=\"tax_unit_household_id\",\n            right_on=\"household_id\",\n            how=\"left\"\n        )\n        \n        # Create a boolean MicroSeries for CA tax units\n        ca_tax_unit_mask = tax_unit_with_state[\"state_code\"] == \"CA\"\n        total_ca_units = ca_tax_unit_mask.sum()\n        \n        # For tax units, we use all rebates (defined_for already filters to CA)\n        ca_rebate_base = rebate_base\n    \n    # Calculate statistics (MicroSeries already contain weights)\n    units_with_rebate = (ca_rebate_base > 0).sum()\n    total_rebate_base = ca_rebate_base.sum()\n    average_rebate_base = ca_rebate_base[ca_rebate_base > 0].mean() if units_with_rebate > 0 else 0\n    \n    return {\n        \"unit_type\": unit_type,\n        \"total_ca_units\": total_ca_units,\n        \"units_with_rebate\": units_with_rebate,\n        \"rebate_percentage\": units_with_rebate / total_ca_units,\n        \"average_rebate_base\": average_rebate_base,\n        \"total_rebate_base\": total_rebate_base,\n    }\n\n# Create simulation once\nprint(\"Loading data and creating simulation...\")\nreform = create_aei_reform()\nsim = Microsimulation(\n    dataset=\"hf://policyengine/policyengine-us-data/pooled_3_year_cps_2023.h5\",\n    reform=reform\n)\n\n# Calculate both household and tax unit results using the same simulation\nhousehold_results = calculate_rebate_base_statistics(sim, \"household\", SIMULATION_YEAR)\ntax_unit_results = calculate_rebate_base_statistics(sim, \"tax_unit\", SIMULATION_YEAR)"
  },
  {
   "cell_type": "markdown",
   "metadata": {},
   "source": [
    "## Display Results"
   ]
  },
  {
   "cell_type": "code",
   "execution_count": null,
   "metadata": {
    "execution": {
     "iopub.execute_input": "2025-09-15T18:56:58.431738Z",
     "iopub.status.busy": "2025-09-15T18:56:58.431590Z",
     "iopub.status.idle": "2025-09-15T18:56:58.440702Z",
     "shell.execute_reply": "2025-09-15T18:56:58.440461Z"
    }
   },
   "outputs": [],
   "source": "# Stack results into a single DataFrame for easy comparison\nresults_df = pd.DataFrame([household_results, tax_unit_results])\n\n# Format numeric columns for display\ndisplay_df = results_df.copy()\ndisplay_df['Total CA Units'] = display_df['total_ca_units'].apply(lambda x: f\"{x/1e6:.1f}M\")\ndisplay_df['Units with Rebate'] = display_df.apply(lambda r: f\"{r['units_with_rebate']/1e6:.1f}M ({r['rebate_percentage']:.0%})\", axis=1)\ndisplay_df['Average Rebate Base'] = display_df['average_rebate_base'].apply(lambda x: f\"${x:,.0f}\")\ndisplay_df['Total Rebate Base'] = display_df['total_rebate_base'].apply(lambda x: f\"${x/1e9:.1f}B\")\n\n# Select columns for display\ndisplay_cols = ['unit_type', 'Total CA Units', 'Units with Rebate', 'Average Rebate Base', 'Total Rebate Base']\ndisplay_df = display_df[display_cols]\ndisplay_df.columns = ['Unit Type', 'Total CA Units', 'Units with Rebate', 'Average Rebate Base', 'Total Rebate Base']\n\nprint(f\"\\n=== REBATE BASE CALCULATIONS ({SIMULATION_YEAR}) ===\")\ndisplay_df"
  },
  {
   "cell_type": "code",
   "execution_count": 5,
   "metadata": {
    "execution": {
     "iopub.execute_input": "2025-09-15T18:56:58.442522Z",
     "iopub.status.busy": "2025-09-15T18:56:58.442431Z",
     "iopub.status.idle": "2025-09-15T18:56:58.448455Z",
     "shell.execute_reply": "2025-09-15T18:56:58.447969Z"
    }
   },
   "outputs": [
    {
     "name": "stdout",
     "output_type": "stream",
     "text": [
      "=== VALIDATION AGAINST OFFICIAL STATISTICS ===\n"
     ]
    },
    {
     "data": {
      "text/html": [
       "<div>\n",
       "<style scoped>\n",
       "    .dataframe tbody tr th:only-of-type {\n",
       "        vertical-align: middle;\n",
       "    }\n",
       "\n",
       "    .dataframe tbody tr th {\n",
       "        vertical-align: top;\n",
       "    }\n",
       "\n",
       "    .dataframe thead th {\n",
       "        text-align: right;\n",
       "    }\n",
       "</style>\n",
       "<table border=\"1\" class=\"dataframe\">\n",
       "  <thead>\n",
       "    <tr style=\"text-align: right;\">\n",
       "      <th></th>\n",
       "      <th>Metric</th>\n",
       "      <th>Official Source</th>\n",
       "      <th>Official Count</th>\n",
       "      <th>Our Simulation (2026)</th>\n",
       "      <th>Difference</th>\n",
       "    </tr>\n",
       "  </thead>\n",
       "  <tbody>\n",
       "    <tr>\n",
       "      <th>0</th>\n",
       "      <td>Households</td>\n",
       "      <td>U.S. Census ACS 2023</td>\n",
       "      <td>13,699,816</td>\n",
       "      <td>14,605,984</td>\n",
       "      <td>+6.6%</td>\n",
       "    </tr>\n",
       "    <tr>\n",
       "      <th>1</th>\n",
       "      <td>Tax Returns/Units</td>\n",
       "      <td>IRS SOI 2022</td>\n",
       "      <td>18,487,690</td>\n",
       "      <td>21,913,086</td>\n",
       "      <td>+18.5%</td>\n",
       "    </tr>\n",
       "  </tbody>\n",
       "</table>\n",
       "</div>"
      ],
      "text/plain": [
       "              Metric       Official Source Official Count  \\\n",
       "0         Households  U.S. Census ACS 2023     13,699,816   \n",
       "1  Tax Returns/Units          IRS SOI 2022     18,487,690   \n",
       "\n",
       "  Our Simulation (2026) Difference  \n",
       "0            14,605,984      +6.6%  \n",
       "1            21,913,086     +18.5%  "
      ]
     },
     "execution_count": 5,
     "metadata": {},
     "output_type": "execute_result"
    }
   ],
   "source": [
    "import pandas as pd\n",
    "\n",
    "# Official statistics constants\n",
    "CENSUS_HOUSEHOLDS_2023 = 13_699_816  # From ACS 2023 1-Year Estimates\n",
    "IRS_RETURNS_2022 = 18_487_690  # From IRS SOI Historic Table 2\n",
    "\n",
    "# Create validation table\n",
    "validation_data = {\n",
    "    'Metric': ['Households', 'Tax Returns/Units'],\n",
    "    'Official Source': ['U.S. Census ACS 2023', 'IRS SOI 2022'],\n",
    "    'Official Count': [f\"{CENSUS_HOUSEHOLDS_2023:,}\", f\"{IRS_RETURNS_2022:,}\"],\n",
    "    'Our Simulation (2026)': [\n",
    "        f\"{household_results['total_ca_units']:,.0f}\",\n",
    "        f\"{tax_unit_results['total_ca_units']:,.0f}\"\n",
    "    ],\n",
    "    'Difference': [\n",
    "        f\"{(household_results['total_ca_units']/CENSUS_HOUSEHOLDS_2023 - 1)*100:+.1f}%\",\n",
    "        f\"{(tax_unit_results['total_ca_units']/IRS_RETURNS_2022 - 1)*100:+.1f}%\"\n",
    "    ]\n",
    "}\n",
    "\n",
    "validation_df = pd.DataFrame(validation_data)\n",
    "print(\"=== VALIDATION AGAINST OFFICIAL STATISTICS ===\")\n",
    "validation_df"
   ]
  },
  {
   "cell_type": "markdown",
   "metadata": {},
   "source": [
    "## Conclusions"
   ]
  }
 ],
 "metadata": {
  "kernelspec": {
   "display_name": "Python 3",
   "language": "python",
   "name": "python3"
  },
  "language_info": {
   "codemirror_mode": {
    "name": "ipython",
    "version": 3
   },
   "file_extension": ".py",
   "mimetype": "text/x-python",
   "name": "python",
   "nbconvert_exporter": "python",
   "pygments_lexer": "ipython3",
   "version": "3.10.17"
  }
 },
 "nbformat": 4,
 "nbformat_minor": 4
}