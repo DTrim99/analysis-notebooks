{
 "cells": [
  {
   "cell_type": "markdown",
   "metadata": {},
   "source": [
    "# California AEI Rebate Base Analysis\n",
    "\n",
    "This notebook calculates the rebate base for a proposed California consumption rebate program.\n",
    "\n",
    "## Program Design\n",
    "- **Rebate Base**: Equal to the Federal Poverty Guideline (FPG) for the tax unit or household\n",
    "- **Phase-out**: Linear phase-out between 150% and 175% of FPG\n",
    "- **Actual Rebate**: `rebate_base * VAT_rate` (VAT rate to be determined)\n",
    "\n",
    "## Key Formula\n",
    "The rebate base (X) is used in the VAT rate formula:\n",
    "```\n",
    "t = Rs/(Cp - X - T + Ro)\n",
    "```\n",
    "Where:\n",
    "- t = VAT rate\n",
    "- Rs = Revenue target\n",
    "- Cp = Private consumption\n",
    "- X = Total rebate base (calculated here)\n",
    "- T = Existing taxes\n",
    "- Ro = Other revenue"
   ]
  },
  {
   "cell_type": "markdown",
   "metadata": {},
   "source": [
    "## 1. Setup and Imports"
   ]
  },
  {
   "cell_type": "code",
   "execution_count": null,
   "metadata": {
    "execution": {
     "iopub.execute_input": "2025-09-15T18:26:01.889779Z",
     "iopub.status.busy": "2025-09-15T18:26:01.889442Z",
     "iopub.status.idle": "2025-09-15T18:26:11.311121Z",
     "shell.execute_reply": "2025-09-15T18:26:11.310877Z"
    }
   },
   "outputs": [],
   "source": "from policyengine_us import Microsimulation\nfrom policyengine_core.reforms import Reform\nfrom policyengine_us.model_api import *\nimport numpy as np\nimport pandas as pd\n\n# Constants\nSIMULATION_YEAR = 2026  # Year for simulation calculations\n\nprint(\"Libraries imported successfully\")"
  },
  {
   "cell_type": "markdown",
   "metadata": {},
   "source": [
    "## 2. Define the AEI Rebate Base Variables"
   ]
  },
  {
   "cell_type": "code",
   "execution_count": 2,
   "metadata": {
    "execution": {
     "iopub.execute_input": "2025-09-15T18:26:11.324330Z",
     "iopub.status.busy": "2025-09-15T18:26:11.324217Z",
     "iopub.status.idle": "2025-09-15T18:26:11.328106Z",
     "shell.execute_reply": "2025-09-15T18:26:11.327877Z"
    }
   },
   "outputs": [
    {
     "name": "stdout",
     "output_type": "stream",
     "text": [
      "Reform defined successfully\n"
     ]
    }
   ],
   "source": [
    "def create_aei_reform():\n",
    "    \"\"\"\n",
    "    Creates a PolicyEngine reform that adds the California AEI rebate base variables.\n",
    "    \n",
    "    Returns:\n",
    "        Reform: PolicyEngine reform with ca_aei_rebate_base variables\n",
    "    \"\"\"\n",
    "    \n",
    "    class household_fpg(Variable):\n",
    "        value_type = float\n",
    "        entity = Household\n",
    "        label = \"Household's federal poverty guideline\"\n",
    "        definition_period = YEAR\n",
    "        unit = USD\n",
    "\n",
    "        def formula(household, period, parameters):\n",
    "            n = household(\"household_size\", period)\n",
    "            state_group = household(\"state_group_str\", period)\n",
    "            p_fpg = parameters(period).gov.hhs.fpg\n",
    "            p1 = p_fpg.first_person[state_group]\n",
    "            pn = p_fpg.additional_person[state_group]\n",
    "            return p1 + pn * (n - 1)\n",
    "    \n",
    "    class ca_aei_rebate_base_tax_unit(Variable):\n",
    "        value_type = float\n",
    "        entity = TaxUnit\n",
    "        label = \"California AEI rebate base (tax unit version)\"\n",
    "        unit = USD\n",
    "        definition_period = YEAR\n",
    "        defined_for = StateCode.CA\n",
    "\n",
    "        def formula(tax_unit, period, parameters):\n",
    "            # Use tax unit's own AGI\n",
    "            income = tax_unit(\"adjusted_gross_income\", period)\n",
    "            fpg = tax_unit(\"tax_unit_fpg\", period)\n",
    "            income_to_fpg_ratio = where(fpg > 0, income / fpg, np.inf)\n",
    "\n",
    "            # Phase-out parameters\n",
    "            PHASEOUT_START = 1.5   # 150% FPG\n",
    "            PHASEOUT_END = 1.75    # 175% FPG\n",
    "            PHASEOUT_WIDTH = PHASEOUT_END - PHASEOUT_START\n",
    "\n",
    "            # Phase-out calculation\n",
    "            excess = max_(income_to_fpg_ratio - PHASEOUT_START, 0)\n",
    "            phaseout_percentage = min_(1, excess / PHASEOUT_WIDTH)\n",
    "\n",
    "            return where(\n",
    "                income_to_fpg_ratio <= PHASEOUT_END,\n",
    "                fpg * (1 - phaseout_percentage),\n",
    "                0\n",
    "            )\n",
    "\n",
    "    class ca_aei_rebate_base(Variable):\n",
    "        value_type = float\n",
    "        entity = Household\n",
    "        label = \"California AEI rebate base\"\n",
    "        unit = USD\n",
    "        definition_period = YEAR\n",
    "\n",
    "        def formula(household, period, parameters):\n",
    "            # Sum AGI from all tax units in the household\n",
    "            income = household.sum(household.members.tax_unit(\"adjusted_gross_income\", period))\n",
    "            fpg = household(\"household_fpg\", period)\n",
    "            income_to_fpg_ratio = where(fpg > 0, income / fpg, np.inf)\n",
    "\n",
    "            # Phase-out parameters\n",
    "            PHASEOUT_START = 1.5   # 150% FPG\n",
    "            PHASEOUT_END = 1.75    # 175% FPG\n",
    "            PHASEOUT_WIDTH = PHASEOUT_END - PHASEOUT_START\n",
    "\n",
    "            # Phase-out calculation\n",
    "            excess = max_(income_to_fpg_ratio - PHASEOUT_START, 0)\n",
    "            phaseout_percentage = min_(1, excess / PHASEOUT_WIDTH)\n",
    "\n",
    "            return where(\n",
    "                income_to_fpg_ratio <= PHASEOUT_END,\n",
    "                fpg * (1 - phaseout_percentage),\n",
    "                0\n",
    "            )\n",
    "\n",
    "    class AEIReform(Reform):\n",
    "        def apply(self):\n",
    "            self.update_variable(household_fpg)\n",
    "            self.update_variable(ca_aei_rebate_base_tax_unit)\n",
    "            self.update_variable(ca_aei_rebate_base)\n",
    "    \n",
    "    return AEIReform\n",
    "\n",
    "print(\"Reform defined successfully\")"
   ]
  },
  {
   "cell_type": "markdown",
   "metadata": {},
   "source": "## 3. Calculate Rebate Base Statistics"
  },
  {
   "cell_type": "code",
   "execution_count": null,
   "metadata": {
    "execution": {
     "iopub.execute_input": "2025-09-15T18:26:11.329362Z",
     "iopub.status.busy": "2025-09-15T18:26:11.329300Z",
     "iopub.status.idle": "2025-09-15T18:26:21.123249Z",
     "shell.execute_reply": "2025-09-15T18:26:21.122771Z"
    }
   },
   "outputs": [],
   "source": "def calculate_rebate_base_statistics(sim, unit_type=\"household\"):\n    \"\"\"\n    Calculate AEI rebate base program statistics for California households or tax units.\n    \n    Args:\n        sim: Microsimulation object with reform applied\n        unit_type: Either \"household\" or \"tax_unit\"\n    \n    Returns:\n        Dictionary with rebate base statistics\n    \"\"\"\n    print(f\"Calculating {unit_type} statistics...\")\n    \n    if unit_type == \"household\":\n        # Calculate rebate base for all households\n        rebate_base = sim.calculate(\"ca_aei_rebate_base\", SIMULATION_YEAR)\n        \n        # Filter for California households only\n        household_state = sim.calculate(\"state_code\", SIMULATION_YEAR, map_to=\"household\")\n        ca_mask = household_state == \"CA\"\n        \n        # Apply CA filter\n        ca_rebate_base = rebate_base[ca_mask]\n        total_ca_units = ca_mask.sum()\n        \n    else:  # tax_unit\n        # Calculate rebate base for all tax units (defined_for gives 0 for non-CA)\n        rebate_base = sim.calculate(\"ca_aei_rebate_base_tax_unit\", SIMULATION_YEAR)\n        \n        # Use calculate_dataframe to get household-level data\n        household_df = sim.calculate_dataframe(\n            [\"household_id\", \"state_code\"],\n            SIMULATION_YEAR,\n            map_to=\"household\"\n        )\n        \n        # Get tax unit data\n        tax_unit_df = sim.calculate_dataframe(\n            [\"tax_unit_id\", \"tax_unit_household_id\"],\n            SIMULATION_YEAR\n        )\n        \n        # Merge to get state for each tax unit\n        tax_unit_with_state = tax_unit_df.merge(\n            household_df[[\"household_id\", \"state_code\"]],\n            left_on=\"tax_unit_household_id\",\n            right_on=\"household_id\",\n            how=\"left\"\n        )\n        \n        # Create a boolean MicroSeries for CA tax units\n        ca_tax_unit_mask = tax_unit_with_state[\"state_code\"] == \"CA\"\n        total_ca_units = ca_tax_unit_mask.sum()\n        \n        # For tax units, we use all rebates (defined_for already filters to CA)\n        ca_rebate_base = rebate_base\n    \n    # Calculate statistics (MicroSeries already contain weights)\n    units_with_rebate = (ca_rebate_base > 0).sum()\n    total_rebate_base = ca_rebate_base.sum()\n    average_rebate_base = ca_rebate_base[ca_rebate_base > 0].mean() if units_with_rebate > 0 else 0\n    \n    return {\n        f\"total_ca_{unit_type}s\": total_ca_units,\n        f\"{unit_type}s_with_rebate\": units_with_rebate,\n        \"rebate_percentage\": units_with_rebate / total_ca_units,\n        \"average_rebate_base\": average_rebate_base,\n        \"total_rebate_base\": total_rebate_base,\n    }\n\n# Create simulation once\nprint(\"Loading data and creating simulation...\")\nreform = create_aei_reform()\nsim = Microsimulation(\n    dataset=\"hf://policyengine/policyengine-us-data/pooled_3_year_cps_2023.h5\",\n    reform=reform\n)\n\n# Calculate both household and tax unit results using the same simulation\nhousehold_results = calculate_rebate_base_statistics(sim, \"household\")\ntax_unit_results = calculate_rebate_base_statistics(sim, \"tax_unit\")"
  },
  {
   "cell_type": "markdown",
   "metadata": {},
   "source": "## 4. Display Results"
  },
  {
   "cell_type": "code",
   "execution_count": null,
   "metadata": {
    "execution": {
     "iopub.execute_input": "2025-09-15T18:26:21.124723Z",
     "iopub.status.busy": "2025-09-15T18:26:21.124641Z",
     "iopub.status.idle": "2025-09-15T18:26:31.120030Z",
     "shell.execute_reply": "2025-09-15T18:26:31.119699Z"
    }
   },
   "outputs": [],
   "source": "# Display household results\nhousehold_table = pd.DataFrame([\n    {'Metric': 'Total CA Households', 'Value': f\"{household_results['total_ca_households']/1e6:.1f}M\"},\n    {'Metric': 'Households with Rebate', 'Value': f\"{household_results['households_with_rebate']/1e6:.1f}M ({household_results['rebate_percentage']:.0%})\"},\n    {'Metric': 'Average Rebate Base', 'Value': f\"${household_results['average_rebate_base']:,.0f}\"},\n    {'Metric': 'Total Rebate Base', 'Value': f\"${household_results['total_rebate_base']/1e9:.1f}B\"},\n])\n\nprint(f\"\\n=== HOUSEHOLD-LEVEL RESULTS ({SIMULATION_YEAR}) ===\")\nhousehold_table"
  },
  {
   "cell_type": "code",
   "source": "# Display tax unit results  \ntax_unit_table = pd.DataFrame([\n    {'Metric': 'Total CA Tax Units', 'Value': f\"{tax_unit_results['total_ca_tax_units']/1e6:.1f}M\"},\n    {'Metric': 'Tax Units with Rebate', 'Value': f\"{tax_unit_results['tax_units_with_rebate']/1e6:.1f}M ({tax_unit_results['rebate_percentage']:.0%})\"},\n    {'Metric': 'Average Rebate Base', 'Value': f\"${tax_unit_results['average_rebate_base']:,.0f}\"},\n    {'Metric': 'Total Rebate Base', 'Value': f\"${tax_unit_results['total_rebate_base']/1e9:.1f}B\"},\n])\n\nprint(f\"\\n=== TAX UNIT-LEVEL RESULTS ({SIMULATION_YEAR}) ===\")\ntax_unit_table",
   "metadata": {},
   "execution_count": null,
   "outputs": []
  },
  {
   "cell_type": "markdown",
   "metadata": {},
   "source": [
    "## 5. Summary of Results"
   ]
  },
  {
   "cell_type": "code",
   "execution_count": null,
   "metadata": {
    "execution": {
     "iopub.execute_input": "2025-09-15T18:26:31.121323Z",
     "iopub.status.busy": "2025-09-15T18:26:31.121254Z",
     "iopub.status.idle": "2025-09-15T18:26:31.124539Z",
     "shell.execute_reply": "2025-09-15T18:26:31.124330Z"
    }
   },
   "outputs": [],
   "source": "# Create summary table\nsummary_data = {\n    'Approach': ['Household-Level', 'Tax Unit-Level'],\n    'Total Rebate Base (X)': [\n        f\"${household_results['total_rebate_base']/1e9:.1f}B\",\n        f\"${tax_unit_results['total_rebate_base']/1e9:.1f}B\"\n    ],\n    'Coverage': [\n        f\"{household_results['households_with_rebate']/1e6:.1f}M ({household_results['rebate_percentage']:.0%})\",\n        f\"{tax_unit_results['tax_units_with_rebate']/1e6:.1f}M ({tax_unit_results['rebate_percentage']:.0%})\"\n    ],\n    'VAT Formula Value': [\n        f\"${household_results['total_rebate_base']:,.0f}\",\n        f\"${tax_unit_results['total_rebate_base']:,.0f}\"\n    ]\n}\n\nsummary_df = pd.DataFrame(summary_data)\nprint(f\"=== SUMMARY OF REBATE BASE CALCULATIONS ({SIMULATION_YEAR}) ===\")\nsummary_df"
  },
  {
   "cell_type": "markdown",
   "metadata": {},
   "source": [
    "#### VAT Formula\n",
    "The rebate base (X) is used in the VAT rate calculation:\n",
    "```\n",
    "t = Rs/(Cp - X - T + Ro)\n",
    "```\n",
    "Where:\n",
    "- **t** = VAT rate to be determined\n",
    "- **Rs** = Revenue target\n",
    "- **Cp** = Private consumption\n",
    "- **X** = Total rebate base (calculated above)\n",
    "- **T** = Existing taxes\n",
    "- **Ro** = Other revenue"
   ]
  },
  {
   "cell_type": "markdown",
   "metadata": {},
   "source": [
    "## 6. Validation Against Official Statistics\n",
    "\n",
    "### Official Data Sources Used\n",
    "\n",
    "#### U.S. Census Bureau - American Community Survey (2023)\n",
    "- **API Endpoint**: [https://api.census.gov/data/2023/acs/acs1?get=NAME,B11001_001E&for=state:06](https://api.census.gov/data/2023/acs/acs1?get=NAME,B11001_001E&for=state:06)\n",
    "- **Data**: 13,699,816 households in California (2023 ACS 1-Year Estimates)\n",
    "- **Table**: B11001 - Household Type (Including Living Alone)\n",
    "\n",
    "#### IRS Statistics of Income (SOI) - Tax Year 2022\n",
    "- **Source**: [IRS SOI Historic Table 2](https://www.irs.gov/statistics/soi-tax-stats-historic-table-2)\n",
    "- **California Data File**: [22in05ca.xlsx](https://www.irs.gov/pub/irs-soi/22in05ca.xlsx)\n",
    "- **Data**: 18,487,690 total returns filed in California for tax year 2022"
   ]
  },
  {
   "cell_type": "code",
   "execution_count": 6,
   "metadata": {
    "execution": {
     "iopub.execute_input": "2025-09-15T18:26:31.125857Z",
     "iopub.status.busy": "2025-09-15T18:26:31.125777Z",
     "iopub.status.idle": "2025-09-15T18:26:31.128928Z",
     "shell.execute_reply": "2025-09-15T18:26:31.128736Z"
    }
   },
   "outputs": [
    {
     "name": "stdout",
     "output_type": "stream",
     "text": [
      "=== VALIDATION AGAINST OFFICIAL STATISTICS ===\n"
     ]
    },
    {
     "data": {
      "text/html": [
       "<div>\n",
       "<style scoped>\n",
       "    .dataframe tbody tr th:only-of-type {\n",
       "        vertical-align: middle;\n",
       "    }\n",
       "\n",
       "    .dataframe tbody tr th {\n",
       "        vertical-align: top;\n",
       "    }\n",
       "\n",
       "    .dataframe thead th {\n",
       "        text-align: right;\n",
       "    }\n",
       "</style>\n",
       "<table border=\"1\" class=\"dataframe\">\n",
       "  <thead>\n",
       "    <tr style=\"text-align: right;\">\n",
       "      <th></th>\n",
       "      <th>Metric</th>\n",
       "      <th>Official Source</th>\n",
       "      <th>Official Count</th>\n",
       "      <th>Our Simulation</th>\n",
       "      <th>Difference</th>\n",
       "    </tr>\n",
       "  </thead>\n",
       "  <tbody>\n",
       "    <tr>\n",
       "      <th>0</th>\n",
       "      <td>Households</td>\n",
       "      <td>U.S. Census ACS 2023</td>\n",
       "      <td>13,699,816</td>\n",
       "      <td>14.2M</td>\n",
       "      <td>+3.7%</td>\n",
       "    </tr>\n",
       "    <tr>\n",
       "      <th>1</th>\n",
       "      <td>Tax Returns/Units</td>\n",
       "      <td>IRS SOI 2022</td>\n",
       "      <td>18,487,690</td>\n",
       "      <td>21.3M</td>\n",
       "      <td>+15.3%</td>\n",
       "    </tr>\n",
       "  </tbody>\n",
       "</table>\n",
       "</div>"
      ],
      "text/plain": [
       "              Metric       Official Source Official Count Our Simulation  \\\n",
       "0         Households  U.S. Census ACS 2023     13,699,816          14.2M   \n",
       "1  Tax Returns/Units          IRS SOI 2022     18,487,690          21.3M   \n",
       "\n",
       "  Difference  \n",
       "0      +3.7%  \n",
       "1     +15.3%  "
      ]
     },
     "execution_count": 6,
     "metadata": {},
     "output_type": "execute_result"
    }
   ],
   "source": [
    "import pandas as pd\n",
    "\n",
    "# Official statistics constants\n",
    "CENSUS_HOUSEHOLDS_2023 = 13_699_816  # From ACS 2023 1-Year Estimates\n",
    "IRS_RETURNS_2022 = 18_487_690  # From IRS SOI Historic Table 2\n",
    "\n",
    "# Create validation table\n",
    "validation_data = {\n",
    "    'Metric': ['Households', 'Tax Returns/Units'],\n",
    "    'Official Source': ['U.S. Census ACS 2023', 'IRS SOI 2022'],\n",
    "    'Official Count': [f\"{CENSUS_HOUSEHOLDS_2023:,}\", f\"{IRS_RETURNS_2022:,}\"],\n",
    "    'Our Simulation': [\n",
    "        f\"{household_results['total_ca_households']/1e6:.1f}M\",\n",
    "        f\"{tax_unit_results['total_ca_tax_units']/1e6:.1f}M\"\n",
    "    ],\n",
    "    'Difference': [\n",
    "        f\"{(household_results['total_ca_households']/CENSUS_HOUSEHOLDS_2023 - 1)*100:+.1f}%\",\n",
    "        f\"{(tax_unit_results['total_ca_tax_units']/IRS_RETURNS_2022 - 1)*100:+.1f}%\"\n",
    "    ]\n",
    "}\n",
    "\n",
    "validation_df = pd.DataFrame(validation_data)\n",
    "print(\"=== VALIDATION AGAINST OFFICIAL STATISTICS ===\")\n",
    "validation_df"
   ]
  },
  {
   "cell_type": "markdown",
   "metadata": {},
   "source": [
    "#### Notes on Validation\n",
    "- **Census API**: [https://api.census.gov/data/2023/acs/acs1?get=NAME,B11001_001E&for=state:06](https://api.census.gov/data/2023/acs/acs1?get=NAME,B11001_001E&for=state:06)\n",
    "- **IRS Data**: [https://www.irs.gov/pub/irs-soi/22in05ca.xlsx](https://www.irs.gov/pub/irs-soi/22in05ca.xlsx)\n",
    "- Tax unit count exceeds IRS returns as we include non-filers\n",
    "- Differences explained by year variations (2022-2024) and methodology"
   ]
  },
  {
   "cell_type": "markdown",
   "metadata": {},
   "source": "# Create comparison table\ncomparison_data = {\n    'Metric': [\n        'Total Count',\n        'Eligible Units (with rebate base)',\n        'Total Rebate Base',\n        'Average Rebate Base (eligible only)'\n    ],\n    'Households': [\n        f\"{household_results['total_ca_households']/1e6:.1f}M\",\n        f\"{household_results['households_with_rebate']/1e6:.1f}M ({household_results['rebate_percentage']:.0%})\",\n        f\"${household_results['total_rebate_base']/1e9:.1f}B\",\n        f\"${household_results['average_rebate_base']:,.0f}\"\n    ],\n    'Tax Units': [\n        f\"{tax_unit_results['total_ca_tax_units']/1e6:.1f}M\",\n        f\"{tax_unit_results['tax_units_with_rebate']/1e6:.1f}M ({tax_unit_results['rebate_percentage']:.0%})\",\n        f\"${tax_unit_results['total_rebate_base']/1e9:.1f}B\",\n        f\"${tax_unit_results['average_rebate_base']:,.0f}\"\n    ]\n}\n\ncomparison_df = pd.DataFrame(comparison_data)\n\n# Calculate ratios for all metrics\nratios = [\n    f\"{tax_unit_results['total_ca_tax_units']/household_results['total_ca_households']:.2f}x\",\n    f\"{tax_unit_results['tax_units_with_rebate']/household_results['households_with_rebate']:.2f}x\",\n    f\"{tax_unit_results['total_rebate_base']/household_results['total_rebate_base']:.2f}x\",\n    f\"{tax_unit_results['average_rebate_base']/household_results['average_rebate_base']:.2f}x\"\n]\n\ncomparison_df['Ratio (TU/HH)'] = ratios\n\nprint(\"=== HOUSEHOLD VS TAX UNIT ANALYSIS (2026) ===\")\ncomparison_df"
  },
  {
   "cell_type": "code",
   "execution_count": null,
   "metadata": {
    "execution": {
     "iopub.execute_input": "2025-09-15T18:26:31.130221Z",
     "iopub.status.busy": "2025-09-15T18:26:31.130136Z",
     "iopub.status.idle": "2025-09-15T18:26:31.133456Z",
     "shell.execute_reply": "2025-09-15T18:26:31.133246Z"
    }
   },
   "outputs": [],
   "source": "# Create comparison table\ncomparison_data = {\n    'Metric': [\n        'Total Count',\n        'Eligible Units (with rebate base)',\n        'Total Rebate Base',\n        'Average Rebate Base (eligible only)'\n    ],\n    'Households': [\n        f\"{household_results['total_ca_households']/1e6:.1f}M\",\n        f\"{household_results['households_with_rebate']/1e6:.1f}M ({household_results['rebate_percentage']:.0%})\",\n        f\"${household_results['total_rebate_base']/1e9:.1f}B\",\n        f\"${household_results['average_rebate_base']:,.0f}\"\n    ],\n    'Tax Units': [\n        f\"{tax_unit_results['total_ca_tax_units']/1e6:.1f}M\",\n        f\"{tax_unit_results['tax_units_with_rebate']/1e6:.1f}M ({tax_unit_results['rebate_percentage']:.0%})\",\n        f\"${tax_unit_results['total_rebate_base']/1e9:.1f}B\",\n        f\"${tax_unit_results['average_rebate_base']:,.0f}\"\n    ]\n}\n\ncomparison_df = pd.DataFrame(comparison_data)\n\n# Calculate ratios for all metrics\nratios = [\n    f\"{tax_unit_results['total_ca_tax_units']/household_results['total_ca_households']:.2f}x\",\n    f\"{tax_unit_results['tax_units_with_rebate']/household_results['households_with_rebate']:.2f}x\",\n    f\"{tax_unit_results['total_rebate_base']/household_results['total_rebate_base']:.2f}x\",\n    f\"{tax_unit_results['average_rebate_base']/household_results['average_rebate_base']:.2f}x\"\n]\n\ncomparison_df['Ratio (TU/HH)'] = ratios\n\nprint(f\"=== HOUSEHOLD VS TAX UNIT ANALYSIS ({SIMULATION_YEAR}) ===\")\ncomparison_df"
  },
  {
   "cell_type": "markdown",
   "metadata": {},
   "source": [
    "#### Key Insights\n",
    "- Tax units exceed households by 50% (consistent with multi-generational living)\n",
    "- Eligible tax units are 2.61x eligible households (low-income households split into multiple tax units)\n",
    "- Total rebate base is 2.42x higher at tax unit level\n",
    "- Each approach has different administrative and equity implications"
   ]
  },
  {
   "cell_type": "markdown",
   "metadata": {},
   "source": "# Federal Poverty Guideline for 2024 (48 contiguous states)\nFPG_SINGLE = 16030\nFPG_ADDITIONAL = 5910\n\ndef calculate_rebate_base(income, household_size):\n    \"\"\"Calculate rebate base for a given income and household size\"\"\"\n    fpg = FPG_SINGLE + FPG_ADDITIONAL * (household_size - 1)\n    ratio = income / fpg\n    \n    if ratio <= 1.5:\n        return fpg  # Full rebate base\n    elif ratio >= 1.75:\n        return 0  # No rebate base\n    else:\n        # Linear phase-out between 150% and 175%\n        phase_out_pct = (ratio - 1.5) / 0.25\n        return fpg * (1 - phase_out_pct)\n\n# Example calculations\nexamples = [\n    (\"Single person at 100% FPG\", 16030, 1),\n    (\"Single person at 150% FPG\", 24045, 1),\n    (\"Single person at 162.5% FPG\", 26049, 1),\n    (\"Single person at 175% FPG\", 28053, 1),\n    (\"Family of 4 at 150% FPG\", 46275, 4),\n    (\"Family of 4 at 175% FPG\", 53988, 4),\n]\n\n# Create examples table\nexample_data = []\nfor description, income, size in examples:\n    fpg = FPG_SINGLE + FPG_ADDITIONAL * (size - 1)\n    rebate_base = calculate_rebate_base(income, size)\n    ratio = income / fpg\n    example_data.append({\n        'Description': description,\n        'Income': f\"${income:,}\",\n        'FPG': f\"${fpg:,}\",\n        'Income/FPG': f\"{ratio:.1%}\",\n        'Rebate Base': f\"${rebate_base:,.0f}\"\n    })\n\nexamples_df = pd.DataFrame(example_data)\nprint(\"=== EXAMPLE REBATE BASE CALCULATIONS (2024 FPG) ===\")\nexamples_df"
  },
  {
   "cell_type": "code",
   "execution_count": 8,
   "metadata": {
    "execution": {
     "iopub.execute_input": "2025-09-15T18:26:31.134671Z",
     "iopub.status.busy": "2025-09-15T18:26:31.134610Z",
     "iopub.status.idle": "2025-09-15T18:26:31.138807Z",
     "shell.execute_reply": "2025-09-15T18:26:31.138619Z"
    }
   },
   "outputs": [
    {
     "name": "stdout",
     "output_type": "stream",
     "text": [
      "=== EXAMPLE REBATE BASE CALCULATIONS ===\n"
     ]
    },
    {
     "data": {
      "text/html": [
       "<div>\n",
       "<style scoped>\n",
       "    .dataframe tbody tr th:only-of-type {\n",
       "        vertical-align: middle;\n",
       "    }\n",
       "\n",
       "    .dataframe tbody tr th {\n",
       "        vertical-align: top;\n",
       "    }\n",
       "\n",
       "    .dataframe thead th {\n",
       "        text-align: right;\n",
       "    }\n",
       "</style>\n",
       "<table border=\"1\" class=\"dataframe\">\n",
       "  <thead>\n",
       "    <tr style=\"text-align: right;\">\n",
       "      <th></th>\n",
       "      <th>Description</th>\n",
       "      <th>Income</th>\n",
       "      <th>FPG</th>\n",
       "      <th>Income/FPG</th>\n",
       "      <th>Rebate Base</th>\n",
       "    </tr>\n",
       "  </thead>\n",
       "  <tbody>\n",
       "    <tr>\n",
       "      <th>0</th>\n",
       "      <td>Single person at 100% FPG</td>\n",
       "      <td>$16,030</td>\n",
       "      <td>$16,030</td>\n",
       "      <td>100.0%</td>\n",
       "      <td>$16,030</td>\n",
       "    </tr>\n",
       "    <tr>\n",
       "      <th>1</th>\n",
       "      <td>Single person at 150% FPG</td>\n",
       "      <td>$24,045</td>\n",
       "      <td>$16,030</td>\n",
       "      <td>150.0%</td>\n",
       "      <td>$16,030</td>\n",
       "    </tr>\n",
       "    <tr>\n",
       "      <th>2</th>\n",
       "      <td>Single person at 162.5% FPG</td>\n",
       "      <td>$26,049</td>\n",
       "      <td>$16,030</td>\n",
       "      <td>162.5%</td>\n",
       "      <td>$8,014</td>\n",
       "    </tr>\n",
       "    <tr>\n",
       "      <th>3</th>\n",
       "      <td>Single person at 175% FPG</td>\n",
       "      <td>$28,053</td>\n",
       "      <td>$16,030</td>\n",
       "      <td>175.0%</td>\n",
       "      <td>$0</td>\n",
       "    </tr>\n",
       "    <tr>\n",
       "      <th>4</th>\n",
       "      <td>Family of 4 at 150% FPG</td>\n",
       "      <td>$46,275</td>\n",
       "      <td>$33,760</td>\n",
       "      <td>137.1%</td>\n",
       "      <td>$33,760</td>\n",
       "    </tr>\n",
       "    <tr>\n",
       "      <th>5</th>\n",
       "      <td>Family of 4 at 175% FPG</td>\n",
       "      <td>$53,988</td>\n",
       "      <td>$33,760</td>\n",
       "      <td>159.9%</td>\n",
       "      <td>$20,368</td>\n",
       "    </tr>\n",
       "  </tbody>\n",
       "</table>\n",
       "</div>"
      ],
      "text/plain": [
       "                   Description   Income      FPG Income/FPG Rebate Base\n",
       "0    Single person at 100% FPG  $16,030  $16,030     100.0%     $16,030\n",
       "1    Single person at 150% FPG  $24,045  $16,030     150.0%     $16,030\n",
       "2  Single person at 162.5% FPG  $26,049  $16,030     162.5%      $8,014\n",
       "3    Single person at 175% FPG  $28,053  $16,030     175.0%          $0\n",
       "4      Family of 4 at 150% FPG  $46,275  $33,760     137.1%     $33,760\n",
       "5      Family of 4 at 175% FPG  $53,988  $33,760     159.9%     $20,368"
      ]
     },
     "execution_count": 8,
     "metadata": {},
     "output_type": "execute_result"
    }
   ],
   "source": [
    "# Federal Poverty Guideline for 2024 (48 contiguous states)\n",
    "FPG_SINGLE = 16030\n",
    "FPG_ADDITIONAL = 5910\n",
    "\n",
    "def calculate_rebate_base(income, household_size):\n",
    "    \"\"\"Calculate rebate base for a given income and household size\"\"\"\n",
    "    fpg = FPG_SINGLE + FPG_ADDITIONAL * (household_size - 1)\n",
    "    ratio = income / fpg\n",
    "    \n",
    "    if ratio <= 1.5:\n",
    "        return fpg  # Full rebate base\n",
    "    elif ratio >= 1.75:\n",
    "        return 0  # No rebate base\n",
    "    else:\n",
    "        # Linear phase-out between 150% and 175%\n",
    "        phase_out_pct = (ratio - 1.5) / 0.25\n",
    "        return fpg * (1 - phase_out_pct)\n",
    "\n",
    "# Example calculations\n",
    "examples = [\n",
    "    (\"Single person at 100% FPG\", 16030, 1),\n",
    "    (\"Single person at 150% FPG\", 24045, 1),\n",
    "    (\"Single person at 162.5% FPG\", 26049, 1),\n",
    "    (\"Single person at 175% FPG\", 28053, 1),\n",
    "    (\"Family of 4 at 150% FPG\", 46275, 4),\n",
    "    (\"Family of 4 at 175% FPG\", 53988, 4),\n",
    "]\n",
    "\n",
    "# Create examples table\n",
    "example_data = []\n",
    "for description, income, size in examples:\n",
    "    fpg = FPG_SINGLE + FPG_ADDITIONAL * (size - 1)\n",
    "    rebate_base = calculate_rebate_base(income, size)\n",
    "    ratio = income / fpg\n",
    "    example_data.append({\n",
    "        'Description': description,\n",
    "        'Income': f\"${income:,}\",\n",
    "        'FPG': f\"${fpg:,}\",\n",
    "        'Income/FPG': f\"{ratio:.1%}\",\n",
    "        'Rebate Base': f\"${rebate_base:,.0f}\"\n",
    "    })\n",
    "\n",
    "examples_df = pd.DataFrame(example_data)\n",
    "print(\"=== EXAMPLE REBATE BASE CALCULATIONS ===\")\n",
    "examples_df"
   ]
  },
  {
   "cell_type": "markdown",
   "metadata": {},
   "source": [
    "## 9. Conclusions\n",
    "\n",
    "### Key Findings:\n",
    "1. **Household-level rebate base**: $60.5B\n",
    "2. **Tax unit-level rebate base**: $146.5B\n",
    "3. **Coverage**: 23% of households, 42% of tax units\n",
    "\n",
    "### Policy Implications:\n",
    "- Using tax units instead of households more than doubles the total rebate base\n",
    "- This reflects the reality of low-income living arrangements in California\n",
    "- The phase-out between 150-175% FPG ensures targeting to lower-income populations\n",
    "\n",
    "### Next Steps:\n",
    "- Use these X values in the VAT rate formula: `t = Rs/(Cp - X - T + Ro)`\n",
    "- Consider administrative complexity of tax unit vs household approach\n",
    "- Evaluate distributional impacts of each approach"
   ]
  }
 ],
 "metadata": {
  "kernelspec": {
   "display_name": "Python 3",
   "language": "python",
   "name": "python3"
  },
  "language_info": {
   "codemirror_mode": {
    "name": "ipython",
    "version": 3
   },
   "file_extension": ".py",
   "mimetype": "text/x-python",
   "name": "python",
   "nbconvert_exporter": "python",
   "pygments_lexer": "ipython3",
   "version": "3.10.17"
  }
 },
 "nbformat": 4,
 "nbformat_minor": 4
}