{
 "cells": [
  {
   "cell_type": "markdown",
   "metadata": {},
   "source": [
    "# California AEI Rebate Base Analysis\n",
    "\n",
    "This notebook calculates the rebate base for a proposed California consumption rebate program.\n",
    "\n",
    "## Program Design\n",
    "- **Rebate Base**: Equal to the Federal Poverty Guideline (FPG) for the tax unit or household\n",
    "- **Phase-out**: Linear phase-out between 150% and 175% of FPG\n",
    "- **Actual Rebate**: `rebate_base * VAT_rate` (VAT rate to be determined)\n",
    "\n",
    "## Key Formula\n",
    "The rebate base (X) is used in the VAT rate formula:\n",
    "```\n",
    "t = Rs/(Cp - X - T + Ro)\n",
    "```\n",
    "Where:\n",
    "- t = VAT rate\n",
    "- Rs = Revenue target\n",
    "- Cp = Private consumption\n",
    "- X = Total rebate base (calculated here)\n",
    "- T = Existing taxes\n",
    "- Ro = Other revenue"
   ]
  },
  {
   "cell_type": "markdown",
   "metadata": {},
   "source": [
    "## 1. Setup and Imports"
   ]
  },
  {
   "cell_type": "code",
   "execution_count": 1,
   "metadata": {
    "execution": {
     "iopub.execute_input": "2025-09-15T18:26:01.889779Z",
     "iopub.status.busy": "2025-09-15T18:26:01.889442Z",
     "iopub.status.idle": "2025-09-15T18:26:11.311121Z",
     "shell.execute_reply": "2025-09-15T18:26:11.310877Z"
    }
   },
   "outputs": [
    {
     "name": "stdout",
     "output_type": "stream",
     "text": [
      "Libraries imported successfully\n"
     ]
    }
   ],
   "source": [
    "from policyengine_us import Microsimulation\n",
    "from policyengine_core.reforms import Reform\n",
    "from policyengine_us.model_api import *\n",
    "import numpy as np\n",
    "import pandas as pd\n",
    "\n",
    "print(\"Libraries imported successfully\")"
   ]
  },
  {
   "cell_type": "markdown",
   "metadata": {},
   "source": [
    "## 2. Define the AEI Rebate Base Variables"
   ]
  },
  {
   "cell_type": "code",
   "execution_count": 2,
   "metadata": {
    "execution": {
     "iopub.execute_input": "2025-09-15T18:26:11.324330Z",
     "iopub.status.busy": "2025-09-15T18:26:11.324217Z",
     "iopub.status.idle": "2025-09-15T18:26:11.328106Z",
     "shell.execute_reply": "2025-09-15T18:26:11.327877Z"
    }
   },
   "outputs": [
    {
     "name": "stdout",
     "output_type": "stream",
     "text": [
      "Reform defined successfully\n"
     ]
    }
   ],
   "source": [
    "def create_aei_reform():\n",
    "    \"\"\"\n",
    "    Creates a PolicyEngine reform that adds the California AEI rebate base variables.\n",
    "    \n",
    "    Returns:\n",
    "        Reform: PolicyEngine reform with ca_aei_rebate_base variables\n",
    "    \"\"\"\n",
    "    \n",
    "    class household_fpg(Variable):\n",
    "        value_type = float\n",
    "        entity = Household\n",
    "        label = \"Household's federal poverty guideline\"\n",
    "        definition_period = YEAR\n",
    "        unit = USD\n",
    "\n",
    "        def formula(household, period, parameters):\n",
    "            n = household(\"household_size\", period)\n",
    "            state_group = household(\"state_group_str\", period)\n",
    "            p_fpg = parameters(period).gov.hhs.fpg\n",
    "            p1 = p_fpg.first_person[state_group]\n",
    "            pn = p_fpg.additional_person[state_group]\n",
    "            return p1 + pn * (n - 1)\n",
    "    \n",
    "    class ca_aei_rebate_base_tax_unit(Variable):\n",
    "        value_type = float\n",
    "        entity = TaxUnit\n",
    "        label = \"California AEI rebate base (tax unit version)\"\n",
    "        unit = USD\n",
    "        definition_period = YEAR\n",
    "        defined_for = StateCode.CA\n",
    "\n",
    "        def formula(tax_unit, period, parameters):\n",
    "            # Use tax unit's own AGI\n",
    "            income = tax_unit(\"adjusted_gross_income\", period)\n",
    "            fpg = tax_unit(\"tax_unit_fpg\", period)\n",
    "            income_to_fpg_ratio = where(fpg > 0, income / fpg, np.inf)\n",
    "\n",
    "            # Phase-out parameters\n",
    "            PHASEOUT_START = 1.5   # 150% FPG\n",
    "            PHASEOUT_END = 1.75    # 175% FPG\n",
    "            PHASEOUT_WIDTH = PHASEOUT_END - PHASEOUT_START\n",
    "\n",
    "            # Phase-out calculation\n",
    "            excess = max_(income_to_fpg_ratio - PHASEOUT_START, 0)\n",
    "            phaseout_percentage = min_(1, excess / PHASEOUT_WIDTH)\n",
    "\n",
    "            return where(\n",
    "                income_to_fpg_ratio <= PHASEOUT_END,\n",
    "                fpg * (1 - phaseout_percentage),\n",
    "                0\n",
    "            )\n",
    "\n",
    "    class ca_aei_rebate_base(Variable):\n",
    "        value_type = float\n",
    "        entity = Household\n",
    "        label = \"California AEI rebate base\"\n",
    "        unit = USD\n",
    "        definition_period = YEAR\n",
    "\n",
    "        def formula(household, period, parameters):\n",
    "            # Sum AGI from all tax units in the household\n",
    "            income = household.sum(household.members.tax_unit(\"adjusted_gross_income\", period))\n",
    "            fpg = household(\"household_fpg\", period)\n",
    "            income_to_fpg_ratio = where(fpg > 0, income / fpg, np.inf)\n",
    "\n",
    "            # Phase-out parameters\n",
    "            PHASEOUT_START = 1.5   # 150% FPG\n",
    "            PHASEOUT_END = 1.75    # 175% FPG\n",
    "            PHASEOUT_WIDTH = PHASEOUT_END - PHASEOUT_START\n",
    "\n",
    "            # Phase-out calculation\n",
    "            excess = max_(income_to_fpg_ratio - PHASEOUT_START, 0)\n",
    "            phaseout_percentage = min_(1, excess / PHASEOUT_WIDTH)\n",
    "\n",
    "            return where(\n",
    "                income_to_fpg_ratio <= PHASEOUT_END,\n",
    "                fpg * (1 - phaseout_percentage),\n",
    "                0\n",
    "            )\n",
    "\n",
    "    class AEIReform(Reform):\n",
    "        def apply(self):\n",
    "            self.update_variable(household_fpg)\n",
    "            self.update_variable(ca_aei_rebate_base_tax_unit)\n",
    "            self.update_variable(ca_aei_rebate_base)\n",
    "    \n",
    "    return AEIReform\n",
    "\n",
    "print(\"Reform defined successfully\")"
   ]
  },
  {
   "cell_type": "markdown",
   "metadata": {},
   "source": [
    "## 3. Calculate Household-Level Rebate Base"
   ]
  },
  {
   "cell_type": "code",
   "execution_count": 3,
   "metadata": {
    "execution": {
     "iopub.execute_input": "2025-09-15T18:26:11.329362Z",
     "iopub.status.busy": "2025-09-15T18:26:11.329300Z",
     "iopub.status.idle": "2025-09-15T18:26:21.123249Z",
     "shell.execute_reply": "2025-09-15T18:26:21.122771Z"
    }
   },
   "outputs": [
    {
     "name": "stdout",
     "output_type": "stream",
     "text": [
      "Loading data and creating simulation...\n"
     ]
    },
    {
     "name": "stdout",
     "output_type": "stream",
     "text": [
      "\n",
      "=== HOUSEHOLD-LEVEL RESULTS ===\n"
     ]
    },
    {
     "data": {
      "text/html": [
       "<div>\n",
       "<style scoped>\n",
       "    .dataframe tbody tr th:only-of-type {\n",
       "        vertical-align: middle;\n",
       "    }\n",
       "\n",
       "    .dataframe tbody tr th {\n",
       "        vertical-align: top;\n",
       "    }\n",
       "\n",
       "    .dataframe thead th {\n",
       "        text-align: right;\n",
       "    }\n",
       "</style>\n",
       "<table border=\"1\" class=\"dataframe\">\n",
       "  <thead>\n",
       "    <tr style=\"text-align: right;\">\n",
       "      <th></th>\n",
       "      <th>Metric</th>\n",
       "      <th>Value</th>\n",
       "    </tr>\n",
       "  </thead>\n",
       "  <tbody>\n",
       "    <tr>\n",
       "      <th>0</th>\n",
       "      <td>Total CA Households</td>\n",
       "      <td>14.2M</td>\n",
       "    </tr>\n",
       "    <tr>\n",
       "      <th>1</th>\n",
       "      <td>Households with Rebate</td>\n",
       "      <td>3.3M (23%)</td>\n",
       "    </tr>\n",
       "    <tr>\n",
       "      <th>2</th>\n",
       "      <td>Average Rebate Base</td>\n",
       "      <td>$18,415</td>\n",
       "    </tr>\n",
       "    <tr>\n",
       "      <th>3</th>\n",
       "      <td>Total Rebate Base</td>\n",
       "      <td>$60.5B</td>\n",
       "    </tr>\n",
       "  </tbody>\n",
       "</table>\n",
       "</div>"
      ],
      "text/plain": [
       "                   Metric       Value\n",
       "0     Total CA Households       14.2M\n",
       "1  Households with Rebate  3.3M (23%)\n",
       "2     Average Rebate Base     $18,415\n",
       "3       Total Rebate Base      $60.5B"
      ]
     },
     "execution_count": 3,
     "metadata": {},
     "output_type": "execute_result"
    }
   ],
   "source": [
    "def calculate_household_rebate_base():\n",
    "    \"\"\"\n",
    "    Calculate AEI rebate base program statistics for California households.\n",
    "    \"\"\"\n",
    "    print(\"Loading data and creating simulation...\")\n",
    "    \n",
    "    # Create simulation with reform\n",
    "    reform = create_aei_reform()\n",
    "    sim = Microsimulation(\n",
    "        dataset=\"hf://policyengine/policyengine-us-data/pooled_3_year_cps_2023.h5\",\n",
    "        reform=reform\n",
    "    )\n",
    "\n",
    "    # Calculate rebate base for all households\n",
    "    rebate_base = sim.calculate(\"ca_aei_rebate_base\")\n",
    "\n",
    "    # Filter for California households only\n",
    "    household_state = sim.calculate(\"state_code\", map_to=\"household\")\n",
    "    ca_mask = household_state == \"CA\"\n",
    "\n",
    "    # Apply CA filter\n",
    "    ca_rebate_base = rebate_base[ca_mask]\n",
    "\n",
    "    # Calculate statistics (MicroSeries already contain weights)\n",
    "    households_with_rebate = (ca_rebate_base > 0).sum()\n",
    "    total_ca_households = ca_mask.sum()  # Count all CA households\n",
    "    total_rebate_base = ca_rebate_base.sum()\n",
    "    average_rebate_base = ca_rebate_base[ca_rebate_base > 0].mean() if households_with_rebate > 0 else 0\n",
    "\n",
    "    return {\n",
    "        \"total_ca_households\": total_ca_households,\n",
    "        \"households_with_rebate\": households_with_rebate,\n",
    "        \"rebate_percentage\": households_with_rebate / total_ca_households,\n",
    "        \"average_rebate_base\": average_rebate_base,\n",
    "        \"total_rebate_base\": total_rebate_base,\n",
    "    }\n",
    "\n",
    "# Calculate household results\n",
    "household_results = calculate_household_rebate_base()\n",
    "\n",
    "# Display household results as table\n",
    "household_table = pd.DataFrame([\n",
    "    {'Metric': 'Total CA Households', 'Value': f\"{household_results['total_ca_households']/1e6:.1f}M\"},\n",
    "    {'Metric': 'Households with Rebate', 'Value': f\"{household_results['households_with_rebate']/1e6:.1f}M ({household_results['rebate_percentage']:.0%})\"},\n",
    "    {'Metric': 'Average Rebate Base', 'Value': f\"${household_results['average_rebate_base']:,.0f}\"},\n",
    "    {'Metric': 'Total Rebate Base', 'Value': f\"${household_results['total_rebate_base']/1e9:.1f}B\"},\n",
    "])\n",
    "\n",
    "print(\"\\n=== HOUSEHOLD-LEVEL RESULTS ===\")\n",
    "household_table"
   ]
  },
  {
   "cell_type": "markdown",
   "metadata": {},
   "source": [
    "## 4. Calculate Tax Unit-Level Rebate Base"
   ]
  },
  {
   "cell_type": "code",
   "execution_count": 4,
   "metadata": {
    "execution": {
     "iopub.execute_input": "2025-09-15T18:26:21.124723Z",
     "iopub.status.busy": "2025-09-15T18:26:21.124641Z",
     "iopub.status.idle": "2025-09-15T18:26:31.120030Z",
     "shell.execute_reply": "2025-09-15T18:26:31.119699Z"
    }
   },
   "outputs": [
    {
     "name": "stdout",
     "output_type": "stream",
     "text": [
      "Loading data and creating simulation...\n"
     ]
    },
    {
     "name": "stdout",
     "output_type": "stream",
     "text": [
      "\n",
      "=== TAX UNIT-LEVEL RESULTS ===\n"
     ]
    },
    {
     "data": {
      "text/html": [
       "<div>\n",
       "<style scoped>\n",
       "    .dataframe tbody tr th:only-of-type {\n",
       "        vertical-align: middle;\n",
       "    }\n",
       "\n",
       "    .dataframe tbody tr th {\n",
       "        vertical-align: top;\n",
       "    }\n",
       "\n",
       "    .dataframe thead th {\n",
       "        text-align: right;\n",
       "    }\n",
       "</style>\n",
       "<table border=\"1\" class=\"dataframe\">\n",
       "  <thead>\n",
       "    <tr style=\"text-align: right;\">\n",
       "      <th></th>\n",
       "      <th>Metric</th>\n",
       "      <th>Value</th>\n",
       "    </tr>\n",
       "  </thead>\n",
       "  <tbody>\n",
       "    <tr>\n",
       "      <th>0</th>\n",
       "      <td>Total CA Tax Units</td>\n",
       "      <td>21.3M</td>\n",
       "    </tr>\n",
       "    <tr>\n",
       "      <th>1</th>\n",
       "      <td>Tax Units with Rebate</td>\n",
       "      <td>8.8M (42%)</td>\n",
       "    </tr>\n",
       "    <tr>\n",
       "      <th>2</th>\n",
       "      <td>Average Rebate Base</td>\n",
       "      <td>$16,554</td>\n",
       "    </tr>\n",
       "    <tr>\n",
       "      <th>3</th>\n",
       "      <td>Total Rebate Base</td>\n",
       "      <td>$146.5B</td>\n",
       "    </tr>\n",
       "  </tbody>\n",
       "</table>\n",
       "</div>"
      ],
      "text/plain": [
       "                  Metric       Value\n",
       "0     Total CA Tax Units       21.3M\n",
       "1  Tax Units with Rebate  8.8M (42%)\n",
       "2    Average Rebate Base     $16,554\n",
       "3      Total Rebate Base     $146.5B"
      ]
     },
     "execution_count": 4,
     "metadata": {},
     "output_type": "execute_result"
    }
   ],
   "source": [
    "def calculate_tax_unit_rebate_base():\n",
    "    \"\"\"\n",
    "    Calculate AEI rebate base program statistics for California tax units.\n",
    "    \"\"\"\n",
    "    print(\"Loading data and creating simulation...\")\n",
    "    \n",
    "    # Create simulation with reform\n",
    "    reform = create_aei_reform()\n",
    "    sim = Microsimulation(\n",
    "        dataset=\"hf://policyengine/policyengine-us-data/pooled_3_year_cps_2023.h5\",\n",
    "        reform=reform\n",
    "    )\n",
    "\n",
    "    # Calculate rebate base for all tax units (defined_for gives 0 for non-CA)\n",
    "    rebate_base = sim.calculate(\"ca_aei_rebate_base_tax_unit\")\n",
    "\n",
    "    # Use calculate_dataframe to get household-level data\n",
    "    household_df = sim.calculate_dataframe(\n",
    "        [\"household_id\", \"state_code\"],\n",
    "        map_to=\"household\"\n",
    "    )\n",
    "\n",
    "    # Get tax unit data\n",
    "    tax_unit_df = sim.calculate_dataframe(\n",
    "        [\"tax_unit_id\", \"tax_unit_household_id\"]\n",
    "    )\n",
    "\n",
    "    # Merge to get state for each tax unit\n",
    "    tax_unit_with_state = tax_unit_df.merge(\n",
    "        household_df[[\"household_id\", \"state_code\"]],\n",
    "        left_on=\"tax_unit_household_id\",\n",
    "        right_on=\"household_id\",\n",
    "        how=\"left\"\n",
    "    )\n",
    "\n",
    "    # Create a boolean MicroSeries for CA tax units\n",
    "    ca_tax_unit_mask = tax_unit_with_state[\"state_code\"] == \"CA\"\n",
    "\n",
    "    # Count CA tax units - the mask is a MicroSeries with weights embedded\n",
    "    total_ca_tax_units = ca_tax_unit_mask.sum()\n",
    "\n",
    "    # Calculate statistics (MicroSeries already contain weights)\n",
    "    # Only CA tax units can have positive rebate base due to defined_for\n",
    "    tax_units_with_rebate = (rebate_base > 0).sum()\n",
    "\n",
    "    # Total and average only include CA due to defined_for\n",
    "    total_rebate_base = rebate_base.sum()\n",
    "    average_rebate_base = rebate_base[rebate_base > 0].mean() if tax_units_with_rebate > 0 else 0\n",
    "\n",
    "    return {\n",
    "        \"total_ca_tax_units\": total_ca_tax_units,\n",
    "        \"tax_units_with_rebate\": tax_units_with_rebate,\n",
    "        \"rebate_percentage\": tax_units_with_rebate / total_ca_tax_units,\n",
    "        \"average_rebate_base\": average_rebate_base,\n",
    "        \"total_rebate_base\": total_rebate_base,\n",
    "    }\n",
    "\n",
    "# Calculate tax unit results\n",
    "tax_unit_results = calculate_tax_unit_rebate_base()\n",
    "\n",
    "# Display tax unit results as table\n",
    "tax_unit_table = pd.DataFrame([\n",
    "    {'Metric': 'Total CA Tax Units', 'Value': f\"{tax_unit_results['total_ca_tax_units']/1e6:.1f}M\"},\n",
    "    {'Metric': 'Tax Units with Rebate', 'Value': f\"{tax_unit_results['tax_units_with_rebate']/1e6:.1f}M ({tax_unit_results['rebate_percentage']:.0%})\"},\n",
    "    {'Metric': 'Average Rebate Base', 'Value': f\"${tax_unit_results['average_rebate_base']:,.0f}\"},\n",
    "    {'Metric': 'Total Rebate Base', 'Value': f\"${tax_unit_results['total_rebate_base']/1e9:.1f}B\"},\n",
    "])\n",
    "\n",
    "print(\"\\n=== TAX UNIT-LEVEL RESULTS ===\")\n",
    "tax_unit_table"
   ]
  },
  {
   "cell_type": "markdown",
   "metadata": {},
   "source": [
    "## 5. Summary of Results"
   ]
  },
  {
   "cell_type": "code",
   "execution_count": 5,
   "metadata": {
    "execution": {
     "iopub.execute_input": "2025-09-15T18:26:31.121323Z",
     "iopub.status.busy": "2025-09-15T18:26:31.121254Z",
     "iopub.status.idle": "2025-09-15T18:26:31.124539Z",
     "shell.execute_reply": "2025-09-15T18:26:31.124330Z"
    }
   },
   "outputs": [
    {
     "name": "stdout",
     "output_type": "stream",
     "text": [
      "=== SUMMARY OF REBATE BASE CALCULATIONS ===\n"
     ]
    },
    {
     "data": {
      "text/html": [
       "<div>\n",
       "<style scoped>\n",
       "    .dataframe tbody tr th:only-of-type {\n",
       "        vertical-align: middle;\n",
       "    }\n",
       "\n",
       "    .dataframe tbody tr th {\n",
       "        vertical-align: top;\n",
       "    }\n",
       "\n",
       "    .dataframe thead th {\n",
       "        text-align: right;\n",
       "    }\n",
       "</style>\n",
       "<table border=\"1\" class=\"dataframe\">\n",
       "  <thead>\n",
       "    <tr style=\"text-align: right;\">\n",
       "      <th></th>\n",
       "      <th>Approach</th>\n",
       "      <th>Total Rebate Base (X)</th>\n",
       "      <th>Coverage</th>\n",
       "      <th>VAT Formula Value</th>\n",
       "    </tr>\n",
       "  </thead>\n",
       "  <tbody>\n",
       "    <tr>\n",
       "      <th>0</th>\n",
       "      <td>Household-Level</td>\n",
       "      <td>$60.5B</td>\n",
       "      <td>3.3M (23%)</td>\n",
       "      <td>$60,474,160,332</td>\n",
       "    </tr>\n",
       "    <tr>\n",
       "      <th>1</th>\n",
       "      <td>Tax Unit-Level</td>\n",
       "      <td>$146.5B</td>\n",
       "      <td>8.8M (42%)</td>\n",
       "      <td>$146,497,728,702</td>\n",
       "    </tr>\n",
       "  </tbody>\n",
       "</table>\n",
       "</div>"
      ],
      "text/plain": [
       "          Approach Total Rebate Base (X)    Coverage VAT Formula Value\n",
       "0  Household-Level                $60.5B  3.3M (23%)   $60,474,160,332\n",
       "1   Tax Unit-Level               $146.5B  8.8M (42%)  $146,497,728,702"
      ]
     },
     "execution_count": 5,
     "metadata": {},
     "output_type": "execute_result"
    }
   ],
   "source": [
    "# Create summary table\n",
    "summary_data = {\n",
    "    'Approach': ['Household-Level', 'Tax Unit-Level'],\n",
    "    'Total Rebate Base (X)': [\n",
    "        f\"${household_results['total_rebate_base']/1e9:.1f}B\",\n",
    "        f\"${tax_unit_results['total_rebate_base']/1e9:.1f}B\"\n",
    "    ],\n",
    "    'Coverage': [\n",
    "        f\"{household_results['households_with_rebate']/1e6:.1f}M ({household_results['rebate_percentage']:.0%})\",\n",
    "        f\"{tax_unit_results['tax_units_with_rebate']/1e6:.1f}M ({tax_unit_results['rebate_percentage']:.0%})\"\n",
    "    ],\n",
    "    'VAT Formula Value': [\n",
    "        f\"${household_results['total_rebate_base']:,.0f}\",\n",
    "        f\"${tax_unit_results['total_rebate_base']:,.0f}\"\n",
    "    ]\n",
    "}\n",
    "\n",
    "summary_df = pd.DataFrame(summary_data)\n",
    "print(\"=== SUMMARY OF REBATE BASE CALCULATIONS ===\")\n",
    "summary_df"
   ]
  },
  {
   "cell_type": "markdown",
   "metadata": {},
   "source": [
    "#### VAT Formula\n",
    "The rebate base (X) is used in the VAT rate calculation:\n",
    "```\n",
    "t = Rs/(Cp - X - T + Ro)\n",
    "```\n",
    "Where:\n",
    "- **t** = VAT rate to be determined\n",
    "- **Rs** = Revenue target\n",
    "- **Cp** = Private consumption\n",
    "- **X** = Total rebate base (calculated above)\n",
    "- **T** = Existing taxes\n",
    "- **Ro** = Other revenue"
   ]
  },
  {
   "cell_type": "markdown",
   "metadata": {},
   "source": [
    "## 6. Validation Against Official Statistics\n",
    "\n",
    "### Official Data Sources Used\n",
    "\n",
    "#### U.S. Census Bureau - American Community Survey (2023)\n",
    "- **API Endpoint**: [https://api.census.gov/data/2023/acs/acs1?get=NAME,B11001_001E&for=state:06](https://api.census.gov/data/2023/acs/acs1?get=NAME,B11001_001E&for=state:06)\n",
    "- **Data**: 13,699,816 households in California (2023 ACS 1-Year Estimates)\n",
    "- **Table**: B11001 - Household Type (Including Living Alone)\n",
    "\n",
    "#### IRS Statistics of Income (SOI) - Tax Year 2022\n",
    "- **Source**: [IRS SOI Historic Table 2](https://www.irs.gov/statistics/soi-tax-stats-historic-table-2)\n",
    "- **California Data File**: [22in05ca.xlsx](https://www.irs.gov/pub/irs-soi/22in05ca.xlsx)\n",
    "- **Data**: 18,487,690 total returns filed in California for tax year 2022"
   ]
  },
  {
   "cell_type": "code",
   "execution_count": 6,
   "metadata": {
    "execution": {
     "iopub.execute_input": "2025-09-15T18:26:31.125857Z",
     "iopub.status.busy": "2025-09-15T18:26:31.125777Z",
     "iopub.status.idle": "2025-09-15T18:26:31.128928Z",
     "shell.execute_reply": "2025-09-15T18:26:31.128736Z"
    }
   },
   "outputs": [
    {
     "name": "stdout",
     "output_type": "stream",
     "text": [
      "=== VALIDATION AGAINST OFFICIAL STATISTICS ===\n"
     ]
    },
    {
     "data": {
      "text/html": [
       "<div>\n",
       "<style scoped>\n",
       "    .dataframe tbody tr th:only-of-type {\n",
       "        vertical-align: middle;\n",
       "    }\n",
       "\n",
       "    .dataframe tbody tr th {\n",
       "        vertical-align: top;\n",
       "    }\n",
       "\n",
       "    .dataframe thead th {\n",
       "        text-align: right;\n",
       "    }\n",
       "</style>\n",
       "<table border=\"1\" class=\"dataframe\">\n",
       "  <thead>\n",
       "    <tr style=\"text-align: right;\">\n",
       "      <th></th>\n",
       "      <th>Metric</th>\n",
       "      <th>Official Source</th>\n",
       "      <th>Official Count</th>\n",
       "      <th>Our Simulation</th>\n",
       "      <th>Difference</th>\n",
       "    </tr>\n",
       "  </thead>\n",
       "  <tbody>\n",
       "    <tr>\n",
       "      <th>0</th>\n",
       "      <td>Households</td>\n",
       "      <td>U.S. Census ACS 2023</td>\n",
       "      <td>13,699,816</td>\n",
       "      <td>14.2M</td>\n",
       "      <td>+3.7%</td>\n",
       "    </tr>\n",
       "    <tr>\n",
       "      <th>1</th>\n",
       "      <td>Tax Returns/Units</td>\n",
       "      <td>IRS SOI 2022</td>\n",
       "      <td>18,487,690</td>\n",
       "      <td>21.3M</td>\n",
       "      <td>+15.3%</td>\n",
       "    </tr>\n",
       "  </tbody>\n",
       "</table>\n",
       "</div>"
      ],
      "text/plain": [
       "              Metric       Official Source Official Count Our Simulation  \\\n",
       "0         Households  U.S. Census ACS 2023     13,699,816          14.2M   \n",
       "1  Tax Returns/Units          IRS SOI 2022     18,487,690          21.3M   \n",
       "\n",
       "  Difference  \n",
       "0      +3.7%  \n",
       "1     +15.3%  "
      ]
     },
     "execution_count": 6,
     "metadata": {},
     "output_type": "execute_result"
    }
   ],
   "source": [
    "import pandas as pd\n",
    "\n",
    "# Official statistics constants\n",
    "CENSUS_HOUSEHOLDS_2023 = 13_699_816  # From ACS 2023 1-Year Estimates\n",
    "IRS_RETURNS_2022 = 18_487_690  # From IRS SOI Historic Table 2\n",
    "\n",
    "# Create validation table\n",
    "validation_data = {\n",
    "    'Metric': ['Households', 'Tax Returns/Units'],\n",
    "    'Official Source': ['U.S. Census ACS 2023', 'IRS SOI 2022'],\n",
    "    'Official Count': [f\"{CENSUS_HOUSEHOLDS_2023:,}\", f\"{IRS_RETURNS_2022:,}\"],\n",
    "    'Our Simulation': [\n",
    "        f\"{household_results['total_ca_households']/1e6:.1f}M\",\n",
    "        f\"{tax_unit_results['total_ca_tax_units']/1e6:.1f}M\"\n",
    "    ],\n",
    "    'Difference': [\n",
    "        f\"{(household_results['total_ca_households']/CENSUS_HOUSEHOLDS_2023 - 1)*100:+.1f}%\",\n",
    "        f\"{(tax_unit_results['total_ca_tax_units']/IRS_RETURNS_2022 - 1)*100:+.1f}%\"\n",
    "    ]\n",
    "}\n",
    "\n",
    "validation_df = pd.DataFrame(validation_data)\n",
    "print(\"=== VALIDATION AGAINST OFFICIAL STATISTICS ===\")\n",
    "validation_df"
   ]
  },
  {
   "cell_type": "markdown",
   "metadata": {},
   "source": [
    "#### Notes on Validation\n",
    "- **Census API**: [https://api.census.gov/data/2023/acs/acs1?get=NAME,B11001_001E&for=state:06](https://api.census.gov/data/2023/acs/acs1?get=NAME,B11001_001E&for=state:06)\n",
    "- **IRS Data**: [https://www.irs.gov/pub/irs-soi/22in05ca.xlsx](https://www.irs.gov/pub/irs-soi/22in05ca.xlsx)\n",
    "- Tax unit count exceeds IRS returns as we include non-filers\n",
    "- Differences explained by year variations (2022-2024) and methodology"
   ]
  },
  {
   "cell_type": "markdown",
   "metadata": {},
   "source": [
    "## 7. Analysis of Household vs Tax Unit Differences"
   ]
  },
  {
   "cell_type": "code",
   "execution_count": 7,
   "metadata": {
    "execution": {
     "iopub.execute_input": "2025-09-15T18:26:31.130221Z",
     "iopub.status.busy": "2025-09-15T18:26:31.130136Z",
     "iopub.status.idle": "2025-09-15T18:26:31.133456Z",
     "shell.execute_reply": "2025-09-15T18:26:31.133246Z"
    }
   },
   "outputs": [
    {
     "name": "stdout",
     "output_type": "stream",
     "text": [
      "=== HOUSEHOLD VS TAX UNIT ANALYSIS ===\n"
     ]
    },
    {
     "data": {
      "text/html": [
       "<div>\n",
       "<style scoped>\n",
       "    .dataframe tbody tr th:only-of-type {\n",
       "        vertical-align: middle;\n",
       "    }\n",
       "\n",
       "    .dataframe tbody tr th {\n",
       "        vertical-align: top;\n",
       "    }\n",
       "\n",
       "    .dataframe thead th {\n",
       "        text-align: right;\n",
       "    }\n",
       "</style>\n",
       "<table border=\"1\" class=\"dataframe\">\n",
       "  <thead>\n",
       "    <tr style=\"text-align: right;\">\n",
       "      <th></th>\n",
       "      <th>Metric</th>\n",
       "      <th>Households</th>\n",
       "      <th>Tax Units</th>\n",
       "      <th>Ratio (TU/HH)</th>\n",
       "    </tr>\n",
       "  </thead>\n",
       "  <tbody>\n",
       "    <tr>\n",
       "      <th>0</th>\n",
       "      <td>Total Count</td>\n",
       "      <td>14.2M</td>\n",
       "      <td>21.3M</td>\n",
       "      <td>1.50x</td>\n",
       "    </tr>\n",
       "    <tr>\n",
       "      <th>1</th>\n",
       "      <td>Eligible Units (with rebate base)</td>\n",
       "      <td>3.3M (23%)</td>\n",
       "      <td>8.8M (42%)</td>\n",
       "      <td>2.69x</td>\n",
       "    </tr>\n",
       "    <tr>\n",
       "      <th>2</th>\n",
       "      <td>Total Rebate Base</td>\n",
       "      <td>$60.5B</td>\n",
       "      <td>$146.5B</td>\n",
       "      <td>2.42x</td>\n",
       "    </tr>\n",
       "    <tr>\n",
       "      <th>3</th>\n",
       "      <td>Average Rebate Base (eligible only)</td>\n",
       "      <td>$18,415</td>\n",
       "      <td>$16,554</td>\n",
       "      <td>N/A</td>\n",
       "    </tr>\n",
       "  </tbody>\n",
       "</table>\n",
       "</div>"
      ],
      "text/plain": [
       "                                Metric  Households   Tax Units Ratio (TU/HH)\n",
       "0                          Total Count       14.2M       21.3M         1.50x\n",
       "1    Eligible Units (with rebate base)  3.3M (23%)  8.8M (42%)         2.69x\n",
       "2                    Total Rebate Base      $60.5B     $146.5B         2.42x\n",
       "3  Average Rebate Base (eligible only)     $18,415     $16,554           N/A"
      ]
     },
     "execution_count": 7,
     "metadata": {},
     "output_type": "execute_result"
    }
   ],
   "source": [
    "# Create comparison table\n",
    "comparison_data = {\n",
    "    'Metric': [\n",
    "        'Total Count',\n",
    "        'Eligible Units (with rebate base)',\n",
    "        'Total Rebate Base',\n",
    "        'Average Rebate Base (eligible only)'\n",
    "    ],\n",
    "    'Households': [\n",
    "        f\"{household_results['total_ca_households']/1e6:.1f}M\",\n",
    "        f\"{household_results['households_with_rebate']/1e6:.1f}M ({household_results['rebate_percentage']:.0%})\",\n",
    "        f\"${household_results['total_rebate_base']/1e9:.1f}B\",\n",
    "        f\"${household_results['average_rebate_base']:,.0f}\"\n",
    "    ],\n",
    "    'Tax Units': [\n",
    "        f\"{tax_unit_results['total_ca_tax_units']/1e6:.1f}M\",\n",
    "        f\"{tax_unit_results['tax_units_with_rebate']/1e6:.1f}M ({tax_unit_results['rebate_percentage']:.0%})\",\n",
    "        f\"${tax_unit_results['total_rebate_base']/1e9:.1f}B\",\n",
    "        f\"${tax_unit_results['average_rebate_base']:,.0f}\"\n",
    "    ],\n",
    "    'Ratio (TU/HH)': [\n",
    "        f\"{tax_unit_results['total_ca_tax_units']/household_results['total_ca_households']:.2f}x\",\n",
    "        f\"{tax_unit_results['tax_units_with_rebate']/household_results['households_with_rebate']:.2f}x\",\n",
    "        f\"{tax_unit_results['total_rebate_base']/household_results['total_rebate_base']:.2f}x\",\n",
    "        \"N/A\"\n",
    "    ]\n",
    "}\n",
    "\n",
    "comparison_df = pd.DataFrame(comparison_data)\n",
    "print(\"=== HOUSEHOLD VS TAX UNIT ANALYSIS ===\")\n",
    "comparison_df"
   ]
  },
  {
   "cell_type": "markdown",
   "metadata": {},
   "source": [
    "#### Key Insights\n",
    "- Tax units exceed households by 50% (consistent with multi-generational living)\n",
    "- Eligible tax units are 2.61x eligible households (low-income households split into multiple tax units)\n",
    "- Total rebate base is 2.42x higher at tax unit level\n",
    "- Each approach has different administrative and equity implications"
   ]
  },
  {
   "cell_type": "markdown",
   "metadata": {},
   "source": [
    "## 8. Example Household Calculations\n",
    "\n",
    "Let's demonstrate how the rebate base is calculated for specific examples:"
   ]
  },
  {
   "cell_type": "code",
   "execution_count": 8,
   "metadata": {
    "execution": {
     "iopub.execute_input": "2025-09-15T18:26:31.134671Z",
     "iopub.status.busy": "2025-09-15T18:26:31.134610Z",
     "iopub.status.idle": "2025-09-15T18:26:31.138807Z",
     "shell.execute_reply": "2025-09-15T18:26:31.138619Z"
    }
   },
   "outputs": [
    {
     "name": "stdout",
     "output_type": "stream",
     "text": [
      "=== EXAMPLE REBATE BASE CALCULATIONS ===\n"
     ]
    },
    {
     "data": {
      "text/html": [
       "<div>\n",
       "<style scoped>\n",
       "    .dataframe tbody tr th:only-of-type {\n",
       "        vertical-align: middle;\n",
       "    }\n",
       "\n",
       "    .dataframe tbody tr th {\n",
       "        vertical-align: top;\n",
       "    }\n",
       "\n",
       "    .dataframe thead th {\n",
       "        text-align: right;\n",
       "    }\n",
       "</style>\n",
       "<table border=\"1\" class=\"dataframe\">\n",
       "  <thead>\n",
       "    <tr style=\"text-align: right;\">\n",
       "      <th></th>\n",
       "      <th>Description</th>\n",
       "      <th>Income</th>\n",
       "      <th>FPG</th>\n",
       "      <th>Income/FPG</th>\n",
       "      <th>Rebate Base</th>\n",
       "    </tr>\n",
       "  </thead>\n",
       "  <tbody>\n",
       "    <tr>\n",
       "      <th>0</th>\n",
       "      <td>Single person at 100% FPG</td>\n",
       "      <td>$16,030</td>\n",
       "      <td>$16,030</td>\n",
       "      <td>100.0%</td>\n",
       "      <td>$16,030</td>\n",
       "    </tr>\n",
       "    <tr>\n",
       "      <th>1</th>\n",
       "      <td>Single person at 150% FPG</td>\n",
       "      <td>$24,045</td>\n",
       "      <td>$16,030</td>\n",
       "      <td>150.0%</td>\n",
       "      <td>$16,030</td>\n",
       "    </tr>\n",
       "    <tr>\n",
       "      <th>2</th>\n",
       "      <td>Single person at 162.5% FPG</td>\n",
       "      <td>$26,049</td>\n",
       "      <td>$16,030</td>\n",
       "      <td>162.5%</td>\n",
       "      <td>$8,014</td>\n",
       "    </tr>\n",
       "    <tr>\n",
       "      <th>3</th>\n",
       "      <td>Single person at 175% FPG</td>\n",
       "      <td>$28,053</td>\n",
       "      <td>$16,030</td>\n",
       "      <td>175.0%</td>\n",
       "      <td>$0</td>\n",
       "    </tr>\n",
       "    <tr>\n",
       "      <th>4</th>\n",
       "      <td>Family of 4 at 150% FPG</td>\n",
       "      <td>$46,275</td>\n",
       "      <td>$33,760</td>\n",
       "      <td>137.1%</td>\n",
       "      <td>$33,760</td>\n",
       "    </tr>\n",
       "    <tr>\n",
       "      <th>5</th>\n",
       "      <td>Family of 4 at 175% FPG</td>\n",
       "      <td>$53,988</td>\n",
       "      <td>$33,760</td>\n",
       "      <td>159.9%</td>\n",
       "      <td>$20,368</td>\n",
       "    </tr>\n",
       "  </tbody>\n",
       "</table>\n",
       "</div>"
      ],
      "text/plain": [
       "                   Description   Income      FPG Income/FPG Rebate Base\n",
       "0    Single person at 100% FPG  $16,030  $16,030     100.0%     $16,030\n",
       "1    Single person at 150% FPG  $24,045  $16,030     150.0%     $16,030\n",
       "2  Single person at 162.5% FPG  $26,049  $16,030     162.5%      $8,014\n",
       "3    Single person at 175% FPG  $28,053  $16,030     175.0%          $0\n",
       "4      Family of 4 at 150% FPG  $46,275  $33,760     137.1%     $33,760\n",
       "5      Family of 4 at 175% FPG  $53,988  $33,760     159.9%     $20,368"
      ]
     },
     "execution_count": 8,
     "metadata": {},
     "output_type": "execute_result"
    }
   ],
   "source": [
    "# Federal Poverty Guideline for 2024 (48 contiguous states)\n",
    "FPG_SINGLE = 16030\n",
    "FPG_ADDITIONAL = 5910\n",
    "\n",
    "def calculate_rebate_base(income, household_size):\n",
    "    \"\"\"Calculate rebate base for a given income and household size\"\"\"\n",
    "    fpg = FPG_SINGLE + FPG_ADDITIONAL * (household_size - 1)\n",
    "    ratio = income / fpg\n",
    "    \n",
    "    if ratio <= 1.5:\n",
    "        return fpg  # Full rebate base\n",
    "    elif ratio >= 1.75:\n",
    "        return 0  # No rebate base\n",
    "    else:\n",
    "        # Linear phase-out between 150% and 175%\n",
    "        phase_out_pct = (ratio - 1.5) / 0.25\n",
    "        return fpg * (1 - phase_out_pct)\n",
    "\n",
    "# Example calculations\n",
    "examples = [\n",
    "    (\"Single person at 100% FPG\", 16030, 1),\n",
    "    (\"Single person at 150% FPG\", 24045, 1),\n",
    "    (\"Single person at 162.5% FPG\", 26049, 1),\n",
    "    (\"Single person at 175% FPG\", 28053, 1),\n",
    "    (\"Family of 4 at 150% FPG\", 46275, 4),\n",
    "    (\"Family of 4 at 175% FPG\", 53988, 4),\n",
    "]\n",
    "\n",
    "# Create examples table\n",
    "example_data = []\n",
    "for description, income, size in examples:\n",
    "    fpg = FPG_SINGLE + FPG_ADDITIONAL * (size - 1)\n",
    "    rebate_base = calculate_rebate_base(income, size)\n",
    "    ratio = income / fpg\n",
    "    example_data.append({\n",
    "        'Description': description,\n",
    "        'Income': f\"${income:,}\",\n",
    "        'FPG': f\"${fpg:,}\",\n",
    "        'Income/FPG': f\"{ratio:.1%}\",\n",
    "        'Rebate Base': f\"${rebate_base:,.0f}\"\n",
    "    })\n",
    "\n",
    "examples_df = pd.DataFrame(example_data)\n",
    "print(\"=== EXAMPLE REBATE BASE CALCULATIONS ===\")\n",
    "examples_df"
   ]
  },
  {
   "cell_type": "markdown",
   "metadata": {},
   "source": [
    "## 9. Conclusions\n",
    "\n",
    "### Key Findings:\n",
    "1. **Household-level rebate base**: $60.5B\n",
    "2. **Tax unit-level rebate base**: $146.5B\n",
    "3. **Coverage**: 23% of households, 42% of tax units\n",
    "\n",
    "### Policy Implications:\n",
    "- Using tax units instead of households more than doubles the total rebate base\n",
    "- This reflects the reality of low-income living arrangements in California\n",
    "- The phase-out between 150-175% FPG ensures targeting to lower-income populations\n",
    "\n",
    "### Next Steps:\n",
    "- Use these X values in the VAT rate formula: `t = Rs/(Cp - X - T + Ro)`\n",
    "- Consider administrative complexity of tax unit vs household approach\n",
    "- Evaluate distributional impacts of each approach"
   ]
  }
 ],
 "metadata": {
  "kernelspec": {
   "display_name": "Python 3",
   "language": "python",
   "name": "python3"
  },
  "language_info": {
   "codemirror_mode": {
    "name": "ipython",
    "version": 3
   },
   "file_extension": ".py",
   "mimetype": "text/x-python",
   "name": "python",
   "nbconvert_exporter": "python",
   "pygments_lexer": "ipython3",
   "version": "3.10.17"
  }
 },
 "nbformat": 4,
 "nbformat_minor": 4
}
