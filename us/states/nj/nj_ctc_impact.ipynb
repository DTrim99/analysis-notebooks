{
 "cells": [
  {
   "cell_type": "code",
   "execution_count": 1,
   "metadata": {},
   "outputs": [],
   "source": [
    "from policyengine_us import Microsimulation\n",
    "from policyengine_core.reforms import Reform\n",
    "import pandas as pd"
   ]
  },
  {
   "cell_type": "code",
   "execution_count": null,
   "metadata": {},
   "outputs": [],
   "source": [
    "baseline = Microsimulation()\n",
    "baseline_net_income = baseline.calculate(\"household_net_income\", period = 2024)\n",
    "baseline_in_poverty = baseline.calculate(\"in_poverty\", map_to=\"household\")\n"
   ]
  },
  {
   "cell_type": "code",
   "execution_count": null,
   "metadata": {},
   "outputs": [],
   "source": [
    "def calculate_changes_for_program():\n",
    "    class NeutralizeProgram(Reform):\n",
    "        def apply(self):\n",
    "            self.neutralize_variable(\"nj_ctc\")\n",
    "\n",
    "    # Initialize the baseline and reformed simulations\n",
    "    reformed = Microsimulation(reform = NeutralizeProgram)\n",
    "    baseline.macro_cache_read = False\n",
    "    reformed.macro_cache_read = False\n",
    "\n",
    "    # Calculate net income change for the specific state\n",
    "    state_codes = baseline.calculate(\"state_code\")\n",
    "    reformed_net_income = reformed.calculate(\"household_net_income\", period = 2024)\n",
    "    net_income_change = reformed_net_income[state_codes == \"NJ\"].sum() - baseline_net_income[state_codes == \"NJ\"].sum()\n",
    "\n",
    "\n",
    "    # Calculate in_poverty mean for persons for the specific state\n",
    "    reformed_in_poverty = reformed.calculate(\"in_poverty\", map_to=\"household\")\n",
    "    baseline_in_poverty_mean = baseline_in_poverty[state_codes == \"NJ\"].mean()\n",
    "    reformed_in_poverty_mean = reformed_in_poverty[state_codes == \"NJ\"].mean()\n",
    "    in_poverty_mean_change = reformed_in_poverty_mean - baseline_in_poverty_mean\n",
    "\n",
    "    # Calculate Gini index for the specific state\n",
    "    personal_hh_equiv_income = reformed.calculate(\"equiv_household_net_income\")\n",
    "    household_count_people = reformed.calculate(\"household_count_people\")\n",
    "    personal_hh_equiv_income.weights *= household_count_people\n",
    "    gini_index = personal_hh_equiv_income.gini()\n",
    "\n",
    "    return net_income_change, in_poverty_mean_change, gini_index"
   ]
  },
  {
   "cell_type": "code",
   "execution_count": null,
   "metadata": {},
   "outputs": [
    {
     "name": "stdout",
     "output_type": "stream",
     "text": [
      "  Program State  Net Income Change  In Poverty Mean Change  Gini Index\n",
      "0  nj_ctc    NJ                0.0                     0.0    0.392699\n"
     ]
    }
   ],
   "source": [
    "# Create a DataFrame and store the results directly\n",
    "results = [{\n",
    "    'Program': \"nj_ctc\",\n",
    "    'State': \"NJ\",\n",
    "    'Net Income Change': calculate_changes_for_program()[0],\n",
    "    'In Poverty Mean Change': calculate_changes_for_program()[1],\n",
    "    'Gini Index': calculate_changes_for_program()[2]\n",
    "}]\n",
    "\n",
    "# Convert the results to a DataFrame\n",
    "results_df = pd.DataFrame(results)\n",
    "\n",
    "# Display the DataFrame\n",
    "print(results_df)\n"
   ]
  },
  {
   "cell_type": "code",
   "execution_count": null,
   "metadata": {},
   "outputs": [
    {
     "data": {
      "text/plain": [
       "(0.0, 0.0, 0.3926993687183417)"
      ]
     },
     "execution_count": 5,
     "metadata": {},
     "output_type": "execute_result"
    }
   ],
   "source": [
    "calculate_changes_for_program()"
   ]
  }
 ],
 "metadata": {
  "kernelspec": {
   "display_name": "policyengine",
   "language": "python",
   "name": "python3"
  },
  "language_info": {
   "codemirror_mode": {
    "name": "ipython",
    "version": 3
   },
   "file_extension": ".py",
   "mimetype": "text/x-python",
   "name": "python",
   "nbconvert_exporter": "python",
   "pygments_lexer": "ipython3",
   "version": "3.9.16"
  }
 },
 "nbformat": 4,
 "nbformat_minor": 2
}
