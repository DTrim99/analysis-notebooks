{
 "cells": [
  {
   "cell_type": "code",
   "execution_count": 1,
   "metadata": {},
   "outputs": [
    {
     "name": "stderr",
     "output_type": "stream",
     "text": [
      "/Users/pavelmakarchuk/anaconda3/envs/pe/lib/python3.10/site-packages/tqdm/auto.py:21: TqdmWarning: IProgress not found. Please update jupyter and ipywidgets. See https://ipywidgets.readthedocs.io/en/stable/user_install.html\n",
      "  from .autonotebook import tqdm as notebook_tqdm\n"
     ]
    }
   ],
   "source": [
    "from policyengine_us import Microsimulation\n",
    "from policyengine_core.reforms import Reform\n",
    "import pandas as pd"
   ]
  },
  {
   "cell_type": "code",
   "execution_count": 2,
   "metadata": {},
   "outputs": [],
   "source": [
    "# Define the reforms\n",
    "\n",
    "cdcc_reform = Reform.from_dict({\n",
    "        \"gov.irs.credits.cdcc.eligibility.child_age\": {\n",
    "            \"2026-01-01.2039-12-31\": 0\n",
    "        }\n",
    "    } , country_id=\"us\")\n",
    "\n",
    "repeal_hoh = Reform.from_dict({\n",
    "        \"gov.contrib.congress.romney.family_security_act.remove_head_of_household\": {\n",
    "            \"2024-01-01.2039-12-31\": True\n",
    "        }\n",
    "    }, country_id=\"us\")\n",
    "\n",
    "repeal_dep_exemptions = Reform.from_dict({\n",
    "    \"gov.contrib.treasury.repeal_dependent_exemptions\": {\n",
    "        \"2024-01-01.2100-12-31\": True\n",
    "    }\n",
    "}, country_id=\"us\")\n",
    "\n",
    "eitc_reform = Reform.from_dict({\n",
    "\n",
    "    \"gov.irs.credits.eitc.phase_in_rate[0].amount\": {\n",
    "        \"2026-01-01.2039-12-31\": 0.0765\n",
    "    },\n",
    "    \"gov.irs.credits.eitc.phase_in_rate[1].amount\": {\n",
    "        \"2026-01-01.2039-12-31\": 0.34\n",
    "    },\n",
    "    \"gov.irs.credits.eitc.phase_in_rate[2].amount\": {\n",
    "        \"2026-01-01.2039-12-31\": 0.34\n",
    "    },\n",
    "    \"gov.irs.credits.eitc.phase_in_rate[3].amount\": {\n",
    "        \"2026-01-01.2039-12-31\": 0.34\n",
    "    },\n",
    "    \"gov.irs.credits.eitc.phase_out.joint_bonus[0].amount\": {\n",
    "        \"2026-01-01.2039-12-31\": 10000\n",
    "    },\n",
    "    \"gov.irs.credits.eitc.phase_out.joint_bonus[1].amount\": {\n",
    "        \"2026-01-01.2039-12-31\": 10000\n",
    "    },\n",
    "    \"gov.irs.credits.eitc.phase_out.rate[0].amount\": {\n",
    "        \"2026-01-01.2039-12-31\": 0.10\n",
    "    },\n",
    "    \"gov.irs.credits.eitc.phase_out.rate[1].amount\": {\n",
    "        \"2026-01-01.2039-12-31\": 0.25\n",
    "    },\n",
    "    \"gov.irs.credits.eitc.phase_out.rate[2].amount\": {\n",
    "        \"2026-01-01.2039-12-31\": 0.25\n",
    "    },\n",
    "    \"gov.irs.credits.eitc.phase_out.rate[3].amount\": {\n",
    "        \"2026-01-01.2039-12-31\": 0.25\n",
    "    },\n",
    "    \"gov.irs.credits.eitc.phase_out.start[0].amount\": {\n",
    "        \"2026-01-01.2039-12-31\": 10000\n",
    "    },\n",
    "    \"gov.irs.credits.eitc.phase_out.start[1].amount\": {\n",
    "        \"2026-01-01.2039-12-31\": 33000\n",
    "    },\n",
    "    \"gov.irs.credits.eitc.phase_out.start[2].amount\": {\n",
    "        \"2026-01-01.2039-12-31\": 33000\n",
    "    },\n",
    "    \"gov.irs.credits.eitc.phase_out.start[3].amount\": {\n",
    "        \"2026-01-01.2039-12-31\": 33000\n",
    "    },\n",
    "    \"gov.contrib.congress.romney.family_security_act_2_0.eitc.amount.joint[0].amount\": {\n",
    "        \"2026-01-01.2039-12-31\": 1400\n",
    "    },\n",
    "    \"gov.contrib.congress.romney.family_security_act_2_0.eitc.amount.joint[1].amount\": {\n",
    "        \"2026-01-01.2039-12-31\": 5000\n",
    "    },\n",
    "    \"gov.contrib.congress.romney.family_security_act_2_0.eitc.amount.single[0].amount\": {\n",
    "        \"2026-01-01.2039-12-31\": 700\n",
    "    },\n",
    "    \"gov.contrib.congress.romney.family_security_act_2_0.eitc.amount.single[1].amount\": {\n",
    "        \"2026-01-01.2039-12-31\": 4300\n",
    "    },\n",
    "    \"gov.contrib.congress.romney.family_security_act_2_0.eitc.apply_eitc_structure\": {\n",
    "        \"2024-01-01.2039-12-31\": True\n",
    "    }\n",
    "}, country_id=\"us\")\n",
    "\n",
    "ctc_reform = Reform.from_dict({\n",
    "    \"gov.irs.credits.ctc.phase_out.threshold.HEAD_OF_HOUSEHOLD\": {\n",
    "        \"2026-01-01.2039-12-31\": 200000\n",
    "    },\n",
    "    \"gov.irs.credits.ctc.phase_out.threshold.JOINT\": {\n",
    "        \"2026-01-01.2039-12-31\": 400000\n",
    "    },\n",
    "    \"gov.irs.credits.ctc.phase_out.threshold.SEPARATE\": {\n",
    "        \"2026-01-01.2039-12-31\": 200000\n",
    "    },\n",
    "    \"gov.irs.credits.ctc.phase_out.threshold.SINGLE\": {\n",
    "        \"2026-01-01.2039-12-31\": 200000\n",
    "    },\n",
    "    \"gov.irs.credits.ctc.phase_out.threshold.SURVIVING_SPOUSE\": {\n",
    "        \"2026-01-01.2039-12-31\": 200000\n",
    "    },\n",
    "    \"gov.irs.credits.ctc.refundable.fully_refundable\": {\n",
    "        \"2024-01-01.2039-12-31\": True\n",
    "    },\n",
    "    \"gov.contrib.congress.romney.family_security_act_2_0.ctc.base[0].amount\": {\n",
    "        \"2026-01-01.2039-12-31\": 4200\n",
    "    },\n",
    "    \"gov.contrib.congress.romney.family_security_act_2_0.ctc.base[1].amount\": {\n",
    "        \"2026-01-01.2039-12-31\": 3000\n",
    "    },\n",
    "    \"gov.contrib.congress.romney.family_security_act_2_0.ctc.base[2].amount\": {\n",
    "        \"2026-01-01.2039-12-31\": 0\n",
    "    },\n",
    "    \"gov.contrib.congress.romney.family_security_act_2_0.ctc.child_cap\": {\n",
    "        \"2026-01-01.2039-12-31\": 6\n",
    "    },\n",
    "    \"gov.contrib.congress.romney.family_security_act_2_0.ctc.phase_in.income_phase_in_end\": {\n",
    "        \"2026-01-01.2039-12-31\": 20_000\n",
    "    },\n",
    "    \"gov.contrib.congress.romney.family_security_act_2_0.ctc.apply_ctc_structure\": {\n",
    "        \"2024-01-01.2039-12-31\": True\n",
    "    },\n",
    "    \"gov.contrib.congress.romney.family_security_act_2024.pregnant_mothers_credit.amount[0].amount\": {\n",
    "        \"2026-01-01.2039-12-31\": 2_800\n",
    "    },\n",
    "    \"gov.contrib.congress.romney.family_security_act_2024.pregnant_mothers_credit.amount[1].amount\": {\n",
    "        \"2026-01-01.2039-12-31\": 0\n",
    "    },\n",
    "    \"gov.contrib.congress.romney.family_security_act_2024.pregnant_mothers_credit.income_phase_in_end\": {\n",
    "        \"2026-01-01.2039-12-31\": 10_000\n",
    "    },\n",
    "}, country_id=\"us\")\n",
    "\n",
    "\n",
    "salt_reform = Reform.from_dict({\n",
    "        \"gov.irs.deductions.itemized.salt_and_real_estate.cap.SINGLE\": {\n",
    "            \"2026-01-01.2039-12-31\": 10_000\n",
    "        },\n",
    "        \"gov.irs.deductions.itemized.salt_and_real_estate.cap.JOINT\": {\n",
    "            \"2026-01-01.2039-12-31\": 10_000\n",
    "        },\n",
    "        \"gov.irs.deductions.itemized.salt_and_real_estate.cap.SEPARATE\": {\n",
    "            \"2026-01-01.2039-12-31\": 5_000\n",
    "        },\n",
    "        \"gov.irs.deductions.itemized.salt_and_real_estate.cap.HEAD_OF_HOUSEHOLD\": {\n",
    "            \"2026-01-01.2039-12-31\": 10_000\n",
    "        },\n",
    "        \"gov.irs.deductions.itemized.salt_and_real_estate.cap.SURVIVING_SPOUSE\": {\n",
    "            \"2026-01-01.2039-12-31\": 10_000\n",
    "        }\n",
    "    } , country_id=\"us\")\n"
   ]
  },
  {
   "cell_type": "code",
   "execution_count": 3,
   "metadata": {},
   "outputs": [],
   "source": [
    "def calculate_stacked_budgetary_impact(reforms, year):\n",
    "    baseline = Microsimulation(dataset=\"enhanced_cps_2024\")\n",
    "    baseline_income = baseline.calculate(\"income_tax\", period=year).sum()\n",
    "    \n",
    "    results = []\n",
    "    previous_income = baseline_income\n",
    "    cumulative_reform = None\n",
    "    \n",
    "    for name, reform in reforms.items():\n",
    "        if cumulative_reform is None:\n",
    "            cumulative_reform = reform\n",
    "        else:\n",
    "            cumulative_reform = (cumulative_reform, reform)\n",
    "        \n",
    "        reformed = Microsimulation(reform=cumulative_reform, dataset=\"enhanced_cps_2024\")\n",
    "        reformed_income = reformed.calculate(\"income_tax\", period=year).sum()\n",
    "        \n",
    "        impact = reformed_income - previous_income  # Calculate incremental impact\n",
    "        results.append({\"Reform\": name, \"Budgetary Impact\": impact})\n",
    "        \n",
    "        previous_income = reformed_income  # Update previous_income for next iteration\n",
    "    \n",
    "    return pd.DataFrame(results)"
   ]
  },
  {
   "cell_type": "code",
   "execution_count": 4,
   "metadata": {},
   "outputs": [],
   "source": [
    "# Example usage:\n",
    "reforms = {\n",
    "    \"Expanded CTC\": ctc_reform,\n",
    "    \"Cap SALT deduction\": salt_reform,\n",
    "    \"Repeal Dependent Exemptions\": repeal_dep_exemptions,\n",
    "    \"Repeal Head of Household\": repeal_hoh,\n",
    "    \"Repeal child CDCC\": cdcc_reform,\n",
    "    \"Reform EITC\": eitc_reform,\n",
    "}"
   ]
  },
  {
   "cell_type": "code",
   "execution_count": 5,
   "metadata": {},
   "outputs": [
    {
     "name": "stdout",
     "output_type": "stream",
     "text": [
      "                        Reform  Budgetary Impact\n",
      "0                 Expanded CTC     -1.700409e+11\n",
      "1           Cap SALT deduction      1.110977e+11\n",
      "2  Repeal Dependent Exemptions      5.386284e+10\n",
      "3     Repeal Head of Household      1.718028e+10\n",
      "4            Repeal child CDCC      4.588731e+09\n",
      "5                  Reform EITC      3.605945e+09\n"
     ]
    }
   ],
   "source": [
    "year = 2026\n",
    "df = calculate_stacked_budgetary_impact(reforms, year)\n",
    "print(df)"
   ]
  },
  {
   "cell_type": "code",
   "execution_count": 6,
   "metadata": {},
   "outputs": [
    {
     "name": "stdout",
     "output_type": "stream",
     "text": [
      "Results exported to cumulative_reform_budgetary_impact_2026.csv\n"
     ]
    }
   ],
   "source": [
    "# Export results to CSV\n",
    "df.to_csv(\"cumulative_reform_budgetary_impact_2026.csv\", index=False)\n",
    "print(\"Results exported to cumulative_reform_budgetary_impact_2026.csv\")\n"
   ]
  },
  {
   "cell_type": "code",
   "execution_count": 7,
   "metadata": {},
   "outputs": [],
   "source": [
    "import pandas as pd\n",
    "import plotly.graph_objects as go\n",
    "from policyengine_core.charts import format_fig"
   ]
  },
  {
   "cell_type": "code",
   "execution_count": 14,
   "metadata": {},
   "outputs": [],
   "source": [
    "def create_reform_impact_waterfall_chart(df, year):\n",
    "    # Invert the budgetary impact and convert to billions\n",
    "    df['Budgetary Impact Billions'] = (-df['Budgetary Impact'] / 1e9).round(2)\n",
    "    \n",
    "    # Calculate net impact in billions\n",
    "    net_impact_billions = df['Budgetary Impact Billions'].sum().round(2)\n",
    "\n",
    "    # Create a custom sorting order\n",
    "    custom_order = ['Expanded CTC', 'Cap SALT deduction', 'Repeal Dependent Exemptions', 'Repeal Head of Household', 'Repeal child CDCC', 'Reform EITC']\n",
    "    df_sorted = df.set_index('Reform').loc[custom_order].reset_index()\n",
    "\n",
    "    # Color palette\n",
    "    colors = {\n",
    "        \"positive\": \"#0066cc\",  # Medium blue (now for revenue increase)\n",
    "        \"negative\": \"#003366\",  # Dark blue (now for revenue decrease)\n",
    "        \"net\": \"#99ccff\",       # Very light blue\n",
    "    }\n",
    "\n",
    "    # Create the waterfall chart\n",
    "    fig = go.Figure(go.Waterfall(\n",
    "        name=\"Reform Impact\",\n",
    "        orientation=\"v\",\n",
    "        measure=[\"relative\"] * len(df_sorted) + [\"total\"],\n",
    "        x=list(df_sorted['Reform']) + ['Net Impact'],\n",
    "        textposition=\"outside\",\n",
    "        text=[f'${x:.1f}B' for x in df_sorted['Budgetary Impact Billions']] + [f'${net_impact_billions:.1f}B'],\n",
    "        y=list(df_sorted['Budgetary Impact Billions']) + [net_impact_billions],\n",
    "        connector={\"line\": {\"color\": \"rgb(63, 63, 63)\"}},\n",
    "        increasing={\"marker\": {\"color\": colors[\"positive\"]}},\n",
    "        decreasing={\"marker\": {\"color\": colors[\"negative\"]}},\n",
    "        totals={\"marker\": {\"color\": colors[\"net\"]}},\n",
    "    ))\n",
    "\n",
    "    # Update the layout\n",
    "    fig.update_layout(\n",
    "        title=f\"Budgetary Impact of the Family First Act in {year}\",\n",
    "        showlegend=False,\n",
    "        xaxis_title=\"Reforms\",\n",
    "        yaxis_title=\"Cost (Billions $)\",\n",
    "        xaxis=dict(tickangle=45),\n",
    "    )\n",
    "\n",
    "    return fig"
   ]
  },
  {
   "cell_type": "code",
   "execution_count": 15,
   "metadata": {},
   "outputs": [
    {
     "data": {
      "application/vnd.plotly.v1+json": {
       "config": {
        "plotlyServerURL": "https://plot.ly"
       },
       "data": [
        {
         "connector": {
          "line": {
           "color": "rgb(63, 63, 63)"
          }
         },
         "decreasing": {
          "marker": {
           "color": "#003366"
          }
         },
         "increasing": {
          "marker": {
           "color": "#0066cc"
          }
         },
         "measure": [
          "relative",
          "relative",
          "relative",
          "relative",
          "relative",
          "relative",
          "total"
         ],
         "name": "Reform Impact",
         "orientation": "v",
         "text": [
          "$170.0B",
          "$-111.1B",
          "$-53.9B",
          "$-17.2B",
          "$-4.6B",
          "$-3.6B",
          "$-20.3B"
         ],
         "textposition": "outside",
         "totals": {
          "marker": {
           "color": "#99ccff"
          }
         },
         "type": "waterfall",
         "x": [
          "Expanded CTC",
          "Cap SALT deduction",
          "Repeal Dependent Exemptions",
          "Repeal Head of Household",
          "Repeal child CDCC",
          "Reform EITC",
          "Net Impact"
         ],
         "y": [
          170.04,
          -111.1,
          -53.86,
          -17.18,
          -4.59,
          -3.61,
          -20.3
         ]
        }
       ],
       "layout": {
        "font": {
         "color": "black",
         "family": "Roboto Serif"
        },
        "height": 600,
        "images": [
         {
          "sizex": 0.15,
          "sizey": 0.15,
          "source": "https://raw.githubusercontent.com/PolicyEngine/policyengine-app/master/src/images/logos/policyengine/blue.png",
          "x": 1.1,
          "xanchor": "right",
          "xref": "paper",
          "y": -0.15,
          "yanchor": "bottom",
          "yref": "paper"
         }
        ],
        "modebar": {
         "bgcolor": "rgba(0,0,0,0)",
         "color": "rgba(0,0,0,0)"
        },
        "showlegend": false,
        "template": {
         "data": {
          "bar": [
           {
            "error_x": {
             "color": "#2a3f5f"
            },
            "error_y": {
             "color": "#2a3f5f"
            },
            "marker": {
             "line": {
              "color": "white",
              "width": 0.5
             },
             "pattern": {
              "fillmode": "overlay",
              "size": 10,
              "solidity": 0.2
             }
            },
            "type": "bar"
           }
          ],
          "barpolar": [
           {
            "marker": {
             "line": {
              "color": "white",
              "width": 0.5
             },
             "pattern": {
              "fillmode": "overlay",
              "size": 10,
              "solidity": 0.2
             }
            },
            "type": "barpolar"
           }
          ],
          "carpet": [
           {
            "aaxis": {
             "endlinecolor": "#2a3f5f",
             "gridcolor": "#C8D4E3",
             "linecolor": "#C8D4E3",
             "minorgridcolor": "#C8D4E3",
             "startlinecolor": "#2a3f5f"
            },
            "baxis": {
             "endlinecolor": "#2a3f5f",
             "gridcolor": "#C8D4E3",
             "linecolor": "#C8D4E3",
             "minorgridcolor": "#C8D4E3",
             "startlinecolor": "#2a3f5f"
            },
            "type": "carpet"
           }
          ],
          "choropleth": [
           {
            "colorbar": {
             "outlinewidth": 0,
             "ticks": ""
            },
            "type": "choropleth"
           }
          ],
          "contour": [
           {
            "colorbar": {
             "outlinewidth": 0,
             "ticks": ""
            },
            "colorscale": [
             [
              0,
              "#0d0887"
             ],
             [
              0.1111111111111111,
              "#46039f"
             ],
             [
              0.2222222222222222,
              "#7201a8"
             ],
             [
              0.3333333333333333,
              "#9c179e"
             ],
             [
              0.4444444444444444,
              "#bd3786"
             ],
             [
              0.5555555555555556,
              "#d8576b"
             ],
             [
              0.6666666666666666,
              "#ed7953"
             ],
             [
              0.7777777777777778,
              "#fb9f3a"
             ],
             [
              0.8888888888888888,
              "#fdca26"
             ],
             [
              1,
              "#f0f921"
             ]
            ],
            "type": "contour"
           }
          ],
          "contourcarpet": [
           {
            "colorbar": {
             "outlinewidth": 0,
             "ticks": ""
            },
            "type": "contourcarpet"
           }
          ],
          "heatmap": [
           {
            "colorbar": {
             "outlinewidth": 0,
             "ticks": ""
            },
            "colorscale": [
             [
              0,
              "#0d0887"
             ],
             [
              0.1111111111111111,
              "#46039f"
             ],
             [
              0.2222222222222222,
              "#7201a8"
             ],
             [
              0.3333333333333333,
              "#9c179e"
             ],
             [
              0.4444444444444444,
              "#bd3786"
             ],
             [
              0.5555555555555556,
              "#d8576b"
             ],
             [
              0.6666666666666666,
              "#ed7953"
             ],
             [
              0.7777777777777778,
              "#fb9f3a"
             ],
             [
              0.8888888888888888,
              "#fdca26"
             ],
             [
              1,
              "#f0f921"
             ]
            ],
            "type": "heatmap"
           }
          ],
          "heatmapgl": [
           {
            "colorbar": {
             "outlinewidth": 0,
             "ticks": ""
            },
            "colorscale": [
             [
              0,
              "#0d0887"
             ],
             [
              0.1111111111111111,
              "#46039f"
             ],
             [
              0.2222222222222222,
              "#7201a8"
             ],
             [
              0.3333333333333333,
              "#9c179e"
             ],
             [
              0.4444444444444444,
              "#bd3786"
             ],
             [
              0.5555555555555556,
              "#d8576b"
             ],
             [
              0.6666666666666666,
              "#ed7953"
             ],
             [
              0.7777777777777778,
              "#fb9f3a"
             ],
             [
              0.8888888888888888,
              "#fdca26"
             ],
             [
              1,
              "#f0f921"
             ]
            ],
            "type": "heatmapgl"
           }
          ],
          "histogram": [
           {
            "marker": {
             "pattern": {
              "fillmode": "overlay",
              "size": 10,
              "solidity": 0.2
             }
            },
            "type": "histogram"
           }
          ],
          "histogram2d": [
           {
            "colorbar": {
             "outlinewidth": 0,
             "ticks": ""
            },
            "colorscale": [
             [
              0,
              "#0d0887"
             ],
             [
              0.1111111111111111,
              "#46039f"
             ],
             [
              0.2222222222222222,
              "#7201a8"
             ],
             [
              0.3333333333333333,
              "#9c179e"
             ],
             [
              0.4444444444444444,
              "#bd3786"
             ],
             [
              0.5555555555555556,
              "#d8576b"
             ],
             [
              0.6666666666666666,
              "#ed7953"
             ],
             [
              0.7777777777777778,
              "#fb9f3a"
             ],
             [
              0.8888888888888888,
              "#fdca26"
             ],
             [
              1,
              "#f0f921"
             ]
            ],
            "type": "histogram2d"
           }
          ],
          "histogram2dcontour": [
           {
            "colorbar": {
             "outlinewidth": 0,
             "ticks": ""
            },
            "colorscale": [
             [
              0,
              "#0d0887"
             ],
             [
              0.1111111111111111,
              "#46039f"
             ],
             [
              0.2222222222222222,
              "#7201a8"
             ],
             [
              0.3333333333333333,
              "#9c179e"
             ],
             [
              0.4444444444444444,
              "#bd3786"
             ],
             [
              0.5555555555555556,
              "#d8576b"
             ],
             [
              0.6666666666666666,
              "#ed7953"
             ],
             [
              0.7777777777777778,
              "#fb9f3a"
             ],
             [
              0.8888888888888888,
              "#fdca26"
             ],
             [
              1,
              "#f0f921"
             ]
            ],
            "type": "histogram2dcontour"
           }
          ],
          "mesh3d": [
           {
            "colorbar": {
             "outlinewidth": 0,
             "ticks": ""
            },
            "type": "mesh3d"
           }
          ],
          "parcoords": [
           {
            "line": {
             "colorbar": {
              "outlinewidth": 0,
              "ticks": ""
             }
            },
            "type": "parcoords"
           }
          ],
          "pie": [
           {
            "automargin": true,
            "type": "pie"
           }
          ],
          "scatter": [
           {
            "fillpattern": {
             "fillmode": "overlay",
             "size": 10,
             "solidity": 0.2
            },
            "type": "scatter"
           }
          ],
          "scatter3d": [
           {
            "line": {
             "colorbar": {
              "outlinewidth": 0,
              "ticks": ""
             }
            },
            "marker": {
             "colorbar": {
              "outlinewidth": 0,
              "ticks": ""
             }
            },
            "type": "scatter3d"
           }
          ],
          "scattercarpet": [
           {
            "marker": {
             "colorbar": {
              "outlinewidth": 0,
              "ticks": ""
             }
            },
            "type": "scattercarpet"
           }
          ],
          "scattergeo": [
           {
            "marker": {
             "colorbar": {
              "outlinewidth": 0,
              "ticks": ""
             }
            },
            "type": "scattergeo"
           }
          ],
          "scattergl": [
           {
            "marker": {
             "colorbar": {
              "outlinewidth": 0,
              "ticks": ""
             }
            },
            "type": "scattergl"
           }
          ],
          "scattermapbox": [
           {
            "marker": {
             "colorbar": {
              "outlinewidth": 0,
              "ticks": ""
             }
            },
            "type": "scattermapbox"
           }
          ],
          "scatterpolar": [
           {
            "marker": {
             "colorbar": {
              "outlinewidth": 0,
              "ticks": ""
             }
            },
            "type": "scatterpolar"
           }
          ],
          "scatterpolargl": [
           {
            "marker": {
             "colorbar": {
              "outlinewidth": 0,
              "ticks": ""
             }
            },
            "type": "scatterpolargl"
           }
          ],
          "scatterternary": [
           {
            "marker": {
             "colorbar": {
              "outlinewidth": 0,
              "ticks": ""
             }
            },
            "type": "scatterternary"
           }
          ],
          "surface": [
           {
            "colorbar": {
             "outlinewidth": 0,
             "ticks": ""
            },
            "colorscale": [
             [
              0,
              "#0d0887"
             ],
             [
              0.1111111111111111,
              "#46039f"
             ],
             [
              0.2222222222222222,
              "#7201a8"
             ],
             [
              0.3333333333333333,
              "#9c179e"
             ],
             [
              0.4444444444444444,
              "#bd3786"
             ],
             [
              0.5555555555555556,
              "#d8576b"
             ],
             [
              0.6666666666666666,
              "#ed7953"
             ],
             [
              0.7777777777777778,
              "#fb9f3a"
             ],
             [
              0.8888888888888888,
              "#fdca26"
             ],
             [
              1,
              "#f0f921"
             ]
            ],
            "type": "surface"
           }
          ],
          "table": [
           {
            "cells": {
             "fill": {
              "color": "#EBF0F8"
             },
             "line": {
              "color": "white"
             }
            },
            "header": {
             "fill": {
              "color": "#C8D4E3"
             },
             "line": {
              "color": "white"
             }
            },
            "type": "table"
           }
          ]
         },
         "layout": {
          "annotationdefaults": {
           "arrowcolor": "#2a3f5f",
           "arrowhead": 0,
           "arrowwidth": 1
          },
          "autotypenumbers": "strict",
          "coloraxis": {
           "colorbar": {
            "outlinewidth": 0,
            "ticks": ""
           }
          },
          "colorscale": {
           "diverging": [
            [
             0,
             "#8e0152"
            ],
            [
             0.1,
             "#c51b7d"
            ],
            [
             0.2,
             "#de77ae"
            ],
            [
             0.3,
             "#f1b6da"
            ],
            [
             0.4,
             "#fde0ef"
            ],
            [
             0.5,
             "#f7f7f7"
            ],
            [
             0.6,
             "#e6f5d0"
            ],
            [
             0.7,
             "#b8e186"
            ],
            [
             0.8,
             "#7fbc41"
            ],
            [
             0.9,
             "#4d9221"
            ],
            [
             1,
             "#276419"
            ]
           ],
           "sequential": [
            [
             0,
             "#0d0887"
            ],
            [
             0.1111111111111111,
             "#46039f"
            ],
            [
             0.2222222222222222,
             "#7201a8"
            ],
            [
             0.3333333333333333,
             "#9c179e"
            ],
            [
             0.4444444444444444,
             "#bd3786"
            ],
            [
             0.5555555555555556,
             "#d8576b"
            ],
            [
             0.6666666666666666,
             "#ed7953"
            ],
            [
             0.7777777777777778,
             "#fb9f3a"
            ],
            [
             0.8888888888888888,
             "#fdca26"
            ],
            [
             1,
             "#f0f921"
            ]
           ],
           "sequentialminus": [
            [
             0,
             "#0d0887"
            ],
            [
             0.1111111111111111,
             "#46039f"
            ],
            [
             0.2222222222222222,
             "#7201a8"
            ],
            [
             0.3333333333333333,
             "#9c179e"
            ],
            [
             0.4444444444444444,
             "#bd3786"
            ],
            [
             0.5555555555555556,
             "#d8576b"
            ],
            [
             0.6666666666666666,
             "#ed7953"
            ],
            [
             0.7777777777777778,
             "#fb9f3a"
            ],
            [
             0.8888888888888888,
             "#fdca26"
            ],
            [
             1,
             "#f0f921"
            ]
           ]
          },
          "colorway": [
           "#636efa",
           "#EF553B",
           "#00cc96",
           "#ab63fa",
           "#FFA15A",
           "#19d3f3",
           "#FF6692",
           "#B6E880",
           "#FF97FF",
           "#FECB52"
          ],
          "font": {
           "color": "#2a3f5f"
          },
          "geo": {
           "bgcolor": "white",
           "lakecolor": "white",
           "landcolor": "white",
           "showlakes": true,
           "showland": true,
           "subunitcolor": "#C8D4E3"
          },
          "hoverlabel": {
           "align": "left"
          },
          "hovermode": "closest",
          "mapbox": {
           "style": "light"
          },
          "paper_bgcolor": "white",
          "plot_bgcolor": "white",
          "polar": {
           "angularaxis": {
            "gridcolor": "#EBF0F8",
            "linecolor": "#EBF0F8",
            "ticks": ""
           },
           "bgcolor": "white",
           "radialaxis": {
            "gridcolor": "#EBF0F8",
            "linecolor": "#EBF0F8",
            "ticks": ""
           }
          },
          "scene": {
           "xaxis": {
            "backgroundcolor": "white",
            "gridcolor": "#DFE8F3",
            "gridwidth": 2,
            "linecolor": "#EBF0F8",
            "showbackground": true,
            "ticks": "",
            "zerolinecolor": "#EBF0F8"
           },
           "yaxis": {
            "backgroundcolor": "white",
            "gridcolor": "#DFE8F3",
            "gridwidth": 2,
            "linecolor": "#EBF0F8",
            "showbackground": true,
            "ticks": "",
            "zerolinecolor": "#EBF0F8"
           },
           "zaxis": {
            "backgroundcolor": "white",
            "gridcolor": "#DFE8F3",
            "gridwidth": 2,
            "linecolor": "#EBF0F8",
            "showbackground": true,
            "ticks": "",
            "zerolinecolor": "#EBF0F8"
           }
          },
          "shapedefaults": {
           "line": {
            "color": "#2a3f5f"
           }
          },
          "ternary": {
           "aaxis": {
            "gridcolor": "#DFE8F3",
            "linecolor": "#A2B1C6",
            "ticks": ""
           },
           "baxis": {
            "gridcolor": "#DFE8F3",
            "linecolor": "#A2B1C6",
            "ticks": ""
           },
           "bgcolor": "white",
           "caxis": {
            "gridcolor": "#DFE8F3",
            "linecolor": "#A2B1C6",
            "ticks": ""
           }
          },
          "title": {
           "x": 0.05
          },
          "xaxis": {
           "automargin": true,
           "gridcolor": "#EBF0F8",
           "linecolor": "#EBF0F8",
           "ticks": "",
           "title": {
            "standoff": 15
           },
           "zerolinecolor": "#EBF0F8",
           "zerolinewidth": 2
          },
          "yaxis": {
           "automargin": true,
           "gridcolor": "#EBF0F8",
           "linecolor": "#EBF0F8",
           "ticks": "",
           "title": {
            "standoff": 15
           },
           "zerolinecolor": "#EBF0F8",
           "zerolinewidth": 2
          }
         }
        },
        "title": {
         "text": "Budgetary Impact of the Family First Act in 2026"
        },
        "width": 800,
        "xaxis": {
         "tickangle": 45,
         "title": {
          "text": "Reforms"
         }
        },
        "yaxis": {
         "title": {
          "text": "Cost (Billions $)"
         }
        }
       }
      }
     },
     "metadata": {},
     "output_type": "display_data"
    }
   ],
   "source": [
    "# Create and display the waterfall chart\n",
    "fig = create_reform_impact_waterfall_chart(df, year)\n",
    "fig = format_fig(fig)\n",
    "fig.show()"
   ]
  },
  {
   "cell_type": "code",
   "execution_count": null,
   "metadata": {},
   "outputs": [],
   "source": []
  }
 ],
 "metadata": {
  "kernelspec": {
   "display_name": "pe",
   "language": "python",
   "name": "python3"
  },
  "language_info": {
   "codemirror_mode": {
    "name": "ipython",
    "version": 3
   },
   "file_extension": ".py",
   "mimetype": "text/x-python",
   "name": "python",
   "nbconvert_exporter": "python",
   "pygments_lexer": "ipython3",
   "version": "3.10.14"
  }
 },
 "nbformat": 4,
 "nbformat_minor": 2
}
