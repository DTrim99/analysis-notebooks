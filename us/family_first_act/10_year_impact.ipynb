{
 "cells": [
  {
   "cell_type": "code",
   "execution_count": 1,
   "metadata": {},
   "outputs": [
    {
     "name": "stderr",
     "output_type": "stream",
     "text": [
      "/Users/pavelmakarchuk/anaconda3/envs/pe/lib/python3.10/site-packages/tqdm/auto.py:21: TqdmWarning: IProgress not found. Please update jupyter and ipywidgets. See https://ipywidgets.readthedocs.io/en/stable/user_install.html\n",
      "  from .autonotebook import tqdm as notebook_tqdm\n"
     ]
    }
   ],
   "source": [
    "from policyengine_us import Microsimulation\n",
    "from policyengine_core.reforms import Reform\n",
    "from policyengine_us.system import system\n",
    "import pandas as pd\n",
    "import plotly.graph_objects as go\n",
    "from policyengine_core.charts import format_fig\n",
    "import csv"
   ]
  },
  {
   "cell_type": "code",
   "execution_count": 2,
   "metadata": {},
   "outputs": [],
   "source": [
    "\n",
    "\n",
    "comprehensive_reform = Reform.from_dict({\n",
    "  \"gov.contrib.congress.romney.family_security_act.remove_head_of_household\": {\n",
    "    \"2024-01-01.2100-12-31\": True\n",
    "  },\n",
    "  \"gov.contrib.congress.romney.family_security_act_2024.pregnant_mothers_credit.amount[0].amount\": {\n",
    "    \"2026-01-01.2039-12-31\": 2800\n",
    "  },\n",
    "  \"gov.contrib.congress.romney.family_security_act_2024.pregnant_mothers_credit.income_phase_in_end\": {\n",
    "    \"2026-01-01.2026-12-31\": 10000,\n",
    "    \"2027-01-01.2027-12-31\": 10203,\n",
    "    \"2028-01-01.2028-12-31\": 10400,\n",
    "    \"2029-01-01.2029-12-31\": 10597,\n",
    "    \"2030-01-01.2030-12-31\": 10805,\n",
    "    \"2031-01-01.2031-12-31\": 11019,\n",
    "    \"2032-01-01.2032-12-31\": 11238,\n",
    "    \"2033-01-01.2033-12-31\": 11463,\n",
    "    \"2034-01-01.2034-12-31\": 11694,\n",
    "    \"2035-01-01.2035-12-31\": 11930,\n",
    "  },\n",
    "  \"gov.contrib.congress.romney.family_security_act_2_0.ctc.apply_ctc_structure\": {\n",
    "    \"2024-01-01.2100-12-31\": True\n",
    "  },\n",
    "  \"gov.contrib.congress.romney.family_security_act_2_0.ctc.base[0].amount\": {\n",
    "    \"2026-01-01.2039-12-31\": 4200\n",
    "  },\n",
    "  \"gov.contrib.congress.romney.family_security_act_2_0.ctc.base[1].amount\": {\n",
    "    \"2026-01-01.2039-12-31\": 3000\n",
    "  },\n",
    "  \"gov.contrib.congress.romney.family_security_act_2_0.ctc.child_cap\": {\n",
    "    \"2026-01-01.2039-12-31\": 6\n",
    "  },\n",
    "  \"gov.contrib.congress.romney.family_security_act_2_0.ctc.phase_in.income_phase_in_end\": {\n",
    "    \"2026-01-01.2026-12-31\": 20000,\n",
    "    \"2027-01-01.2027-12-31\": 20405,\n",
    "    \"2028-01-01.2028-12-31\": 20799,\n",
    "    \"2029-01-01.2029-12-31\": 21193,\n",
    "    \"2030-01-01.2030-12-31\": 21609,\n",
    "    \"2031-01-01.2031-12-31\": 22037,\n",
    "    \"2032-01-01.2032-12-31\": 22476,\n",
    "    \"2033-01-01.2033-12-31\": 22926,\n",
    "    \"2034-01-01.2034-12-31\": 23388,\n",
    "    \"2035-01-01.2035-12-31\": 23860,\n",
    "  },\n",
    "  \"gov.contrib.congress.romney.family_security_act_2_0.eitc.amount.joint[0].amount\": {\n",
    "    \"2026-01-01.2039-12-31\": 1400\n",
    "  },\n",
    "  \"gov.contrib.congress.romney.family_security_act_2_0.eitc.amount.joint[1].amount\": {\n",
    "    \"2026-01-01.2039-12-31\": 5000\n",
    "  },\n",
    "  \"gov.contrib.congress.romney.family_security_act_2_0.eitc.amount.single[0].amount\": {\n",
    "    \"2026-01-01.2039-12-31\": 700\n",
    "  },\n",
    "  \"gov.contrib.congress.romney.family_security_act_2_0.eitc.amount.single[1].amount\": {\n",
    "    \"2026-01-01.2039-12-31\": 4300\n",
    "  },\n",
    "  \"gov.contrib.congress.romney.family_security_act_2_0.eitc.apply_eitc_structure\": {\n",
    "    \"2026-01-01.2039-12-31\": True\n",
    "  },\n",
    "  \"gov.contrib.treasury.repeal_dependent_exemptions\": {\n",
    "    \"2026-01-01.2039-12-31\": True\n",
    "  },\n",
    "  \"gov.irs.credits.cdcc.eligibility.child_age\": {\n",
    "    \"2026-01-01.2039-12-31\": 0\n",
    "  },\n",
    "  \"gov.irs.credits.ctc.phase_out.threshold.HEAD_OF_HOUSEHOLD\": {\n",
    "    \"2026-01-01.2039-12-31\": 200000\n",
    "  },\n",
    "  \"gov.irs.credits.ctc.phase_out.threshold.JOINT\": {\n",
    "    \"2026-01-01.2039-12-31\": 400000\n",
    "  },\n",
    "  \"gov.irs.credits.ctc.phase_out.threshold.SEPARATE\": {\n",
    "    \"2026-01-01.2039-12-31\": 200000\n",
    "  },\n",
    "  \"gov.irs.credits.ctc.phase_out.threshold.SINGLE\": {\n",
    "    \"2026-01-01.2039-12-31\": 200000\n",
    "  },\n",
    "  \"gov.irs.credits.ctc.phase_out.threshold.SURVIVING_SPOUSE\": {\n",
    "    \"2026-01-01.2039-12-31\": 200000\n",
    "  },\n",
    "  \"gov.irs.credits.ctc.refundable.fully_refundable\": {\n",
    "    \"2024-01-01.2100-12-31\": True\n",
    "  },\n",
    "  \"gov.irs.credits.eitc.phase_in_rate[2].amount\": {\n",
    "    \"2026-01-01.2039-12-31\": 0.34\n",
    "  },\n",
    "  \"gov.irs.credits.eitc.phase_in_rate[3].amount\": {\n",
    "    \"2026-01-01.2039-12-31\": 0.34\n",
    "  },\n",
    "  \"gov.irs.credits.eitc.phase_out.joint_bonus[0].amount\": {\n",
    "    \"2026-01-01.2039-12-31\": 10000\n",
    "  },\n",
    "  \"gov.irs.credits.eitc.phase_out.joint_bonus[1].amount\": {\n",
    "    \"2026-01-01.2039-12-31\": 10000\n",
    "  },\n",
    "  \"gov.irs.credits.eitc.phase_out.rate[0].amount\": {\n",
    "    \"2026-01-01.2039-12-31\": 0.1\n",
    "  },\n",
    "  \"gov.irs.credits.eitc.phase_out.rate[1].amount\": {\n",
    "    \"2026-01-01.2039-12-31\": 0.25\n",
    "  },\n",
    "  \"gov.irs.credits.eitc.phase_out.rate[2].amount\": {\n",
    "    \"2026-01-01.2039-12-31\": 0.25\n",
    "  },\n",
    "  \"gov.irs.credits.eitc.phase_out.rate[3].amount\": {\n",
    "    \"2026-01-01.2039-12-31\": 0.25\n",
    "  },\n",
    "  \"gov.irs.credits.eitc.phase_out.start[0].amount\": {\n",
    "    \"2026-01-01.2039-12-31\": 10000\n",
    "  },\n",
    "  \"gov.irs.credits.eitc.phase_out.start[1].amount\": {\n",
    "    \"2026-01-01.2039-12-31\": 33000\n",
    "  },\n",
    "  \"gov.irs.credits.eitc.phase_out.start[2].amount\": {\n",
    "    \"2026-01-01.2039-12-31\": 33000\n",
    "  },\n",
    "  \"gov.irs.credits.eitc.phase_out.start[3].amount\": {\n",
    "    \"2026-01-01.2039-12-31\": 33000\n",
    "  },\n",
    "  \"gov.irs.deductions.itemized.salt_and_real_estate.cap.HEAD_OF_HOUSEHOLD\": {\n",
    "    \"2026-01-01.2100-12-31\": 10000\n",
    "  },\n",
    "  \"gov.irs.deductions.itemized.salt_and_real_estate.cap.JOINT\": {\n",
    "    \"2026-01-01.2100-12-31\": 10000\n",
    "  },\n",
    "  \"gov.irs.deductions.itemized.salt_and_real_estate.cap.SEPARATE\": {\n",
    "    \"2026-01-01.2100-12-31\": 5000\n",
    "  },\n",
    "  \"gov.irs.deductions.itemized.salt_and_real_estate.cap.SINGLE\": {\n",
    "    \"2026-01-01.2100-12-31\": 10000\n",
    "  },\n",
    "  \"gov.irs.deductions.itemized.salt_and_real_estate.cap.SURVIVING_SPOUSE\": {\n",
    "    \"2026-01-01.2100-12-31\": 10000\n",
    "  }\n",
    "}, country_id=\"us\")\n",
    "\n"
   ]
  },
  {
   "cell_type": "code",
   "execution_count": 3,
   "metadata": {},
   "outputs": [],
   "source": [
    "def calculate_total_budgetary_impact(reform, year):\n",
    "    # Add input validation\n",
    "    if year < 2026 and reform is not None:\n",
    "        print(f\"Warning: Reform not active in {year}, should return 0 impact\")\n",
    "        return 0\n",
    "        \n",
    "    baseline = Microsimulation(dataset=\"enhanced_cps_2024\")\n",
    "    baseline_income_tax = baseline.calculate(\"income_tax\", period=year).sum()\n",
    "    \n",
    "    # Only apply reform if we're in 2026 or later\n",
    "    if year >= 2026:\n",
    "        reformed = Microsimulation(reform=reform, dataset=\"enhanced_cps_2024\")\n",
    "    else:\n",
    "        reformed = Microsimulation(dataset=\"enhanced_cps_2024\")  # No reform for 2025\n",
    "        \n",
    "    reformed_income_tax = reformed.calculate(\"income_tax\", period=year).sum()\n",
    "    \n",
    "    impact = baseline_income_tax - reformed_income_tax\n",
    "    return impact\n"
   ]
  },
  {
   "cell_type": "code",
   "execution_count": 4,
   "metadata": {},
   "outputs": [],
   "source": [
    "def calculate_ten_year_projection(reform):\n",
    "    results = []\n",
    "    \n",
    "    with open('yearly_budgetary_impact.csv', 'w', newline='') as csvfile:\n",
    "        csvwriter = csv.writer(csvfile)\n",
    "        csvwriter.writerow(['Year', 'Budgetary Impact'])\n",
    "        \n",
    "        for year in range(2025, 2035):\n",
    "            print(f\"Computing budgetary impact for year {year}...\")\n",
    "            impact = calculate_total_budgetary_impact(reform, year)\n",
    "            results.append({\"Year\": year, \"Budgetary Impact\": impact})\n",
    "            \n",
    "            csvwriter.writerow([year, impact])\n",
    "            print(f\"Year {year} completed. Impact: ${impact/1e9:.2f} billion\")\n",
    "    \n",
    "    print(\"All calculations complete. Results saved to 'yearly_budgetary_impact.csv'\")\n",
    "    return pd.DataFrame(results)"
   ]
  },
  {
   "cell_type": "code",
   "execution_count": 5,
   "metadata": {},
   "outputs": [],
   "source": [
    "def create_ten_year_bar_chart(df):\n",
    "    df['Budgetary Impact Billions'] = (-df['Budgetary Impact'] / 1e9).round(1)\n",
    "    \n",
    "    fig = go.Figure(go.Bar(\n",
    "        x=df['Year'],\n",
    "        y=df['Budgetary Impact Billions'],\n",
    "        text=df['Budgetary Impact Billions'].apply(lambda x: f'${x:.1f}B'),\n",
    "        textposition='auto',\n",
    "        marker_color='#105293'\n",
    "    ))\n",
    "    \n",
    "    fig.update_layout(\n",
    "        title=\"10-Year Federal Budgetary Impact of the Family First Act\",\n",
    "        xaxis_title=\"Year\",\n",
    "        yaxis_title=\"Cost (Billions $)\",\n",
    "        xaxis=dict(tickmode='linear'),\n",
    "        yaxis=dict(zeroline=True, zerolinewidth=2, zerolinecolor='Black')\n",
    "    )\n",
    "    \n",
    "    return format_fig(fig)\n"
   ]
  },
  {
   "cell_type": "code",
   "execution_count": 6,
   "metadata": {},
   "outputs": [
    {
     "name": "stdout",
     "output_type": "stream",
     "text": [
      "Starting 10-year budgetary impact calculation...\n",
      "Computing budgetary impact for year 2025...\n",
      "Warning: Reform not active in 2025, should return 0 impact\n",
      "Year 2025 completed. Impact: $0.00 billion\n",
      "Computing budgetary impact for year 2026...\n",
      "Year 2026 completed. Impact: $-20.29 billion\n",
      "Computing budgetary impact for year 2027...\n",
      "Year 2027 completed. Impact: $-27.52 billion\n",
      "Computing budgetary impact for year 2028...\n",
      "Year 2028 completed. Impact: $-35.50 billion\n",
      "Computing budgetary impact for year 2029...\n",
      "Year 2029 completed. Impact: $-43.89 billion\n",
      "Computing budgetary impact for year 2030...\n",
      "Year 2030 completed. Impact: $-53.56 billion\n",
      "Computing budgetary impact for year 2031...\n",
      "Year 2031 completed. Impact: $-63.79 billion\n",
      "Computing budgetary impact for year 2032...\n",
      "Year 2032 completed. Impact: $-74.74 billion\n",
      "Computing budgetary impact for year 2033...\n",
      "Year 2033 completed. Impact: $-86.01 billion\n",
      "Computing budgetary impact for year 2034...\n",
      "Year 2034 completed. Impact: $-99.61 billion\n",
      "All calculations complete. Results saved to 'yearly_budgetary_impact.csv'\n",
      "Calculation complete. Summary of results:\n",
      "   Year  Budgetary Impact\n",
      "0  2025      0.000000e+00\n",
      "1  2026     -2.029457e+10\n",
      "2  2027     -2.751906e+10\n",
      "3  2028     -3.550016e+10\n",
      "4  2029     -4.389256e+10\n",
      "5  2030     -5.356251e+10\n",
      "6  2031     -6.379353e+10\n",
      "7  2032     -7.473949e+10\n",
      "8  2033     -8.601338e+10\n",
      "9  2034     -9.961187e+10\n",
      "Generating bar chart...\n"
     ]
    },
    {
     "data": {
      "application/vnd.plotly.v1+json": {
       "config": {
        "plotlyServerURL": "https://plot.ly"
       },
       "data": [
        {
         "marker": {
          "color": "#105293"
         },
         "text": [
          "$-0.0B",
          "$20.3B",
          "$27.5B",
          "$35.5B",
          "$43.9B",
          "$53.6B",
          "$63.8B",
          "$74.7B",
          "$86.0B",
          "$99.6B"
         ],
         "textposition": "auto",
         "type": "bar",
         "x": [
          2025,
          2026,
          2027,
          2028,
          2029,
          2030,
          2031,
          2032,
          2033,
          2034
         ],
         "y": [
          0,
          20.3,
          27.5,
          35.5,
          43.9,
          53.6,
          63.8,
          74.7,
          86,
          99.6
         ]
        }
       ],
       "layout": {
        "font": {
         "color": "black",
         "family": "Roboto Serif"
        },
        "height": 600,
        "images": [
         {
          "sizex": 0.15,
          "sizey": 0.15,
          "source": "https://raw.githubusercontent.com/PolicyEngine/policyengine-app/master/src/images/logos/policyengine/blue.png",
          "x": 1.1,
          "xanchor": "right",
          "xref": "paper",
          "y": -0.15,
          "yanchor": "bottom",
          "yref": "paper"
         }
        ],
        "modebar": {
         "bgcolor": "rgba(0,0,0,0)",
         "color": "rgba(0,0,0,0)"
        },
        "template": {
         "data": {
          "bar": [
           {
            "error_x": {
             "color": "#2a3f5f"
            },
            "error_y": {
             "color": "#2a3f5f"
            },
            "marker": {
             "line": {
              "color": "white",
              "width": 0.5
             },
             "pattern": {
              "fillmode": "overlay",
              "size": 10,
              "solidity": 0.2
             }
            },
            "type": "bar"
           }
          ],
          "barpolar": [
           {
            "marker": {
             "line": {
              "color": "white",
              "width": 0.5
             },
             "pattern": {
              "fillmode": "overlay",
              "size": 10,
              "solidity": 0.2
             }
            },
            "type": "barpolar"
           }
          ],
          "carpet": [
           {
            "aaxis": {
             "endlinecolor": "#2a3f5f",
             "gridcolor": "#C8D4E3",
             "linecolor": "#C8D4E3",
             "minorgridcolor": "#C8D4E3",
             "startlinecolor": "#2a3f5f"
            },
            "baxis": {
             "endlinecolor": "#2a3f5f",
             "gridcolor": "#C8D4E3",
             "linecolor": "#C8D4E3",
             "minorgridcolor": "#C8D4E3",
             "startlinecolor": "#2a3f5f"
            },
            "type": "carpet"
           }
          ],
          "choropleth": [
           {
            "colorbar": {
             "outlinewidth": 0,
             "ticks": ""
            },
            "type": "choropleth"
           }
          ],
          "contour": [
           {
            "colorbar": {
             "outlinewidth": 0,
             "ticks": ""
            },
            "colorscale": [
             [
              0,
              "#0d0887"
             ],
             [
              0.1111111111111111,
              "#46039f"
             ],
             [
              0.2222222222222222,
              "#7201a8"
             ],
             [
              0.3333333333333333,
              "#9c179e"
             ],
             [
              0.4444444444444444,
              "#bd3786"
             ],
             [
              0.5555555555555556,
              "#d8576b"
             ],
             [
              0.6666666666666666,
              "#ed7953"
             ],
             [
              0.7777777777777778,
              "#fb9f3a"
             ],
             [
              0.8888888888888888,
              "#fdca26"
             ],
             [
              1,
              "#f0f921"
             ]
            ],
            "type": "contour"
           }
          ],
          "contourcarpet": [
           {
            "colorbar": {
             "outlinewidth": 0,
             "ticks": ""
            },
            "type": "contourcarpet"
           }
          ],
          "heatmap": [
           {
            "colorbar": {
             "outlinewidth": 0,
             "ticks": ""
            },
            "colorscale": [
             [
              0,
              "#0d0887"
             ],
             [
              0.1111111111111111,
              "#46039f"
             ],
             [
              0.2222222222222222,
              "#7201a8"
             ],
             [
              0.3333333333333333,
              "#9c179e"
             ],
             [
              0.4444444444444444,
              "#bd3786"
             ],
             [
              0.5555555555555556,
              "#d8576b"
             ],
             [
              0.6666666666666666,
              "#ed7953"
             ],
             [
              0.7777777777777778,
              "#fb9f3a"
             ],
             [
              0.8888888888888888,
              "#fdca26"
             ],
             [
              1,
              "#f0f921"
             ]
            ],
            "type": "heatmap"
           }
          ],
          "heatmapgl": [
           {
            "colorbar": {
             "outlinewidth": 0,
             "ticks": ""
            },
            "colorscale": [
             [
              0,
              "#0d0887"
             ],
             [
              0.1111111111111111,
              "#46039f"
             ],
             [
              0.2222222222222222,
              "#7201a8"
             ],
             [
              0.3333333333333333,
              "#9c179e"
             ],
             [
              0.4444444444444444,
              "#bd3786"
             ],
             [
              0.5555555555555556,
              "#d8576b"
             ],
             [
              0.6666666666666666,
              "#ed7953"
             ],
             [
              0.7777777777777778,
              "#fb9f3a"
             ],
             [
              0.8888888888888888,
              "#fdca26"
             ],
             [
              1,
              "#f0f921"
             ]
            ],
            "type": "heatmapgl"
           }
          ],
          "histogram": [
           {
            "marker": {
             "pattern": {
              "fillmode": "overlay",
              "size": 10,
              "solidity": 0.2
             }
            },
            "type": "histogram"
           }
          ],
          "histogram2d": [
           {
            "colorbar": {
             "outlinewidth": 0,
             "ticks": ""
            },
            "colorscale": [
             [
              0,
              "#0d0887"
             ],
             [
              0.1111111111111111,
              "#46039f"
             ],
             [
              0.2222222222222222,
              "#7201a8"
             ],
             [
              0.3333333333333333,
              "#9c179e"
             ],
             [
              0.4444444444444444,
              "#bd3786"
             ],
             [
              0.5555555555555556,
              "#d8576b"
             ],
             [
              0.6666666666666666,
              "#ed7953"
             ],
             [
              0.7777777777777778,
              "#fb9f3a"
             ],
             [
              0.8888888888888888,
              "#fdca26"
             ],
             [
              1,
              "#f0f921"
             ]
            ],
            "type": "histogram2d"
           }
          ],
          "histogram2dcontour": [
           {
            "colorbar": {
             "outlinewidth": 0,
             "ticks": ""
            },
            "colorscale": [
             [
              0,
              "#0d0887"
             ],
             [
              0.1111111111111111,
              "#46039f"
             ],
             [
              0.2222222222222222,
              "#7201a8"
             ],
             [
              0.3333333333333333,
              "#9c179e"
             ],
             [
              0.4444444444444444,
              "#bd3786"
             ],
             [
              0.5555555555555556,
              "#d8576b"
             ],
             [
              0.6666666666666666,
              "#ed7953"
             ],
             [
              0.7777777777777778,
              "#fb9f3a"
             ],
             [
              0.8888888888888888,
              "#fdca26"
             ],
             [
              1,
              "#f0f921"
             ]
            ],
            "type": "histogram2dcontour"
           }
          ],
          "mesh3d": [
           {
            "colorbar": {
             "outlinewidth": 0,
             "ticks": ""
            },
            "type": "mesh3d"
           }
          ],
          "parcoords": [
           {
            "line": {
             "colorbar": {
              "outlinewidth": 0,
              "ticks": ""
             }
            },
            "type": "parcoords"
           }
          ],
          "pie": [
           {
            "automargin": true,
            "type": "pie"
           }
          ],
          "scatter": [
           {
            "fillpattern": {
             "fillmode": "overlay",
             "size": 10,
             "solidity": 0.2
            },
            "type": "scatter"
           }
          ],
          "scatter3d": [
           {
            "line": {
             "colorbar": {
              "outlinewidth": 0,
              "ticks": ""
             }
            },
            "marker": {
             "colorbar": {
              "outlinewidth": 0,
              "ticks": ""
             }
            },
            "type": "scatter3d"
           }
          ],
          "scattercarpet": [
           {
            "marker": {
             "colorbar": {
              "outlinewidth": 0,
              "ticks": ""
             }
            },
            "type": "scattercarpet"
           }
          ],
          "scattergeo": [
           {
            "marker": {
             "colorbar": {
              "outlinewidth": 0,
              "ticks": ""
             }
            },
            "type": "scattergeo"
           }
          ],
          "scattergl": [
           {
            "marker": {
             "colorbar": {
              "outlinewidth": 0,
              "ticks": ""
             }
            },
            "type": "scattergl"
           }
          ],
          "scattermapbox": [
           {
            "marker": {
             "colorbar": {
              "outlinewidth": 0,
              "ticks": ""
             }
            },
            "type": "scattermapbox"
           }
          ],
          "scatterpolar": [
           {
            "marker": {
             "colorbar": {
              "outlinewidth": 0,
              "ticks": ""
             }
            },
            "type": "scatterpolar"
           }
          ],
          "scatterpolargl": [
           {
            "marker": {
             "colorbar": {
              "outlinewidth": 0,
              "ticks": ""
             }
            },
            "type": "scatterpolargl"
           }
          ],
          "scatterternary": [
           {
            "marker": {
             "colorbar": {
              "outlinewidth": 0,
              "ticks": ""
             }
            },
            "type": "scatterternary"
           }
          ],
          "surface": [
           {
            "colorbar": {
             "outlinewidth": 0,
             "ticks": ""
            },
            "colorscale": [
             [
              0,
              "#0d0887"
             ],
             [
              0.1111111111111111,
              "#46039f"
             ],
             [
              0.2222222222222222,
              "#7201a8"
             ],
             [
              0.3333333333333333,
              "#9c179e"
             ],
             [
              0.4444444444444444,
              "#bd3786"
             ],
             [
              0.5555555555555556,
              "#d8576b"
             ],
             [
              0.6666666666666666,
              "#ed7953"
             ],
             [
              0.7777777777777778,
              "#fb9f3a"
             ],
             [
              0.8888888888888888,
              "#fdca26"
             ],
             [
              1,
              "#f0f921"
             ]
            ],
            "type": "surface"
           }
          ],
          "table": [
           {
            "cells": {
             "fill": {
              "color": "#EBF0F8"
             },
             "line": {
              "color": "white"
             }
            },
            "header": {
             "fill": {
              "color": "#C8D4E3"
             },
             "line": {
              "color": "white"
             }
            },
            "type": "table"
           }
          ]
         },
         "layout": {
          "annotationdefaults": {
           "arrowcolor": "#2a3f5f",
           "arrowhead": 0,
           "arrowwidth": 1
          },
          "autotypenumbers": "strict",
          "coloraxis": {
           "colorbar": {
            "outlinewidth": 0,
            "ticks": ""
           }
          },
          "colorscale": {
           "diverging": [
            [
             0,
             "#8e0152"
            ],
            [
             0.1,
             "#c51b7d"
            ],
            [
             0.2,
             "#de77ae"
            ],
            [
             0.3,
             "#f1b6da"
            ],
            [
             0.4,
             "#fde0ef"
            ],
            [
             0.5,
             "#f7f7f7"
            ],
            [
             0.6,
             "#e6f5d0"
            ],
            [
             0.7,
             "#b8e186"
            ],
            [
             0.8,
             "#7fbc41"
            ],
            [
             0.9,
             "#4d9221"
            ],
            [
             1,
             "#276419"
            ]
           ],
           "sequential": [
            [
             0,
             "#0d0887"
            ],
            [
             0.1111111111111111,
             "#46039f"
            ],
            [
             0.2222222222222222,
             "#7201a8"
            ],
            [
             0.3333333333333333,
             "#9c179e"
            ],
            [
             0.4444444444444444,
             "#bd3786"
            ],
            [
             0.5555555555555556,
             "#d8576b"
            ],
            [
             0.6666666666666666,
             "#ed7953"
            ],
            [
             0.7777777777777778,
             "#fb9f3a"
            ],
            [
             0.8888888888888888,
             "#fdca26"
            ],
            [
             1,
             "#f0f921"
            ]
           ],
           "sequentialminus": [
            [
             0,
             "#0d0887"
            ],
            [
             0.1111111111111111,
             "#46039f"
            ],
            [
             0.2222222222222222,
             "#7201a8"
            ],
            [
             0.3333333333333333,
             "#9c179e"
            ],
            [
             0.4444444444444444,
             "#bd3786"
            ],
            [
             0.5555555555555556,
             "#d8576b"
            ],
            [
             0.6666666666666666,
             "#ed7953"
            ],
            [
             0.7777777777777778,
             "#fb9f3a"
            ],
            [
             0.8888888888888888,
             "#fdca26"
            ],
            [
             1,
             "#f0f921"
            ]
           ]
          },
          "colorway": [
           "#636efa",
           "#EF553B",
           "#00cc96",
           "#ab63fa",
           "#FFA15A",
           "#19d3f3",
           "#FF6692",
           "#B6E880",
           "#FF97FF",
           "#FECB52"
          ],
          "font": {
           "color": "#2a3f5f"
          },
          "geo": {
           "bgcolor": "white",
           "lakecolor": "white",
           "landcolor": "white",
           "showlakes": true,
           "showland": true,
           "subunitcolor": "#C8D4E3"
          },
          "hoverlabel": {
           "align": "left"
          },
          "hovermode": "closest",
          "mapbox": {
           "style": "light"
          },
          "paper_bgcolor": "white",
          "plot_bgcolor": "white",
          "polar": {
           "angularaxis": {
            "gridcolor": "#EBF0F8",
            "linecolor": "#EBF0F8",
            "ticks": ""
           },
           "bgcolor": "white",
           "radialaxis": {
            "gridcolor": "#EBF0F8",
            "linecolor": "#EBF0F8",
            "ticks": ""
           }
          },
          "scene": {
           "xaxis": {
            "backgroundcolor": "white",
            "gridcolor": "#DFE8F3",
            "gridwidth": 2,
            "linecolor": "#EBF0F8",
            "showbackground": true,
            "ticks": "",
            "zerolinecolor": "#EBF0F8"
           },
           "yaxis": {
            "backgroundcolor": "white",
            "gridcolor": "#DFE8F3",
            "gridwidth": 2,
            "linecolor": "#EBF0F8",
            "showbackground": true,
            "ticks": "",
            "zerolinecolor": "#EBF0F8"
           },
           "zaxis": {
            "backgroundcolor": "white",
            "gridcolor": "#DFE8F3",
            "gridwidth": 2,
            "linecolor": "#EBF0F8",
            "showbackground": true,
            "ticks": "",
            "zerolinecolor": "#EBF0F8"
           }
          },
          "shapedefaults": {
           "line": {
            "color": "#2a3f5f"
           }
          },
          "ternary": {
           "aaxis": {
            "gridcolor": "#DFE8F3",
            "linecolor": "#A2B1C6",
            "ticks": ""
           },
           "baxis": {
            "gridcolor": "#DFE8F3",
            "linecolor": "#A2B1C6",
            "ticks": ""
           },
           "bgcolor": "white",
           "caxis": {
            "gridcolor": "#DFE8F3",
            "linecolor": "#A2B1C6",
            "ticks": ""
           }
          },
          "title": {
           "x": 0.05
          },
          "xaxis": {
           "automargin": true,
           "gridcolor": "#EBF0F8",
           "linecolor": "#EBF0F8",
           "ticks": "",
           "title": {
            "standoff": 15
           },
           "zerolinecolor": "#EBF0F8",
           "zerolinewidth": 2
          },
          "yaxis": {
           "automargin": true,
           "gridcolor": "#EBF0F8",
           "linecolor": "#EBF0F8",
           "ticks": "",
           "title": {
            "standoff": 15
           },
           "zerolinecolor": "#EBF0F8",
           "zerolinewidth": 2
          }
         }
        },
        "title": {
         "text": "10-Year Federal Budgetary Impact of the Family First Act"
        },
        "width": 800,
        "xaxis": {
         "tickmode": "linear",
         "title": {
          "text": "Year"
         }
        },
        "yaxis": {
         "title": {
          "text": "Cost (Billions $)"
         },
         "zeroline": true,
         "zerolinecolor": "Black",
         "zerolinewidth": 2
        }
       }
      }
     },
     "metadata": {},
     "output_type": "display_data"
    },
    {
     "name": "stdout",
     "output_type": "stream",
     "text": [
      "Bar chart displayed. Analysis complete.\n"
     ]
    }
   ],
   "source": [
    "# Main execution\n",
    "print(\"Starting 10-year budgetary impact calculation...\")\n",
    "df_projection = calculate_ten_year_projection(comprehensive_reform)\n",
    "print(\"Calculation complete. Summary of results:\")\n",
    "print(df_projection)\n",
    "\n",
    "print(\"Generating bar chart...\")\n",
    "fig = create_ten_year_bar_chart(df_projection)\n",
    "fig.show()\n",
    "print(\"Bar chart displayed. Analysis complete.\")"
   ]
  },
  {
   "cell_type": "code",
   "execution_count": 7,
   "metadata": {},
   "outputs": [
    {
     "data": {
      "application/vnd.plotly.v1+json": {
       "config": {
        "plotlyServerURL": "https://plot.ly"
       },
       "data": [
        {
         "marker": {
          "color": "#105293"
         },
         "text": [
          "$0.0B",
          "$-20.3B",
          "$-27.5B",
          "$-35.5B",
          "$-43.9B",
          "$-53.6B",
          "$-63.8B",
          "$-74.7B",
          "$-86.0B",
          "$-99.6B"
         ],
         "textposition": "auto",
         "type": "bar",
         "x": [
          2025,
          2026,
          2027,
          2028,
          2029,
          2030,
          2031,
          2032,
          2033,
          2034
         ],
         "y": [
          0,
          -20.3,
          -27.5,
          -35.5,
          -43.9,
          -53.6,
          -63.8,
          -74.7,
          -86,
          -99.6
         ]
        }
       ],
       "layout": {
        "font": {
         "color": "black",
         "family": "Roboto Serif"
        },
        "height": 600,
        "images": [
         {
          "sizex": 0.15,
          "sizey": 0.15,
          "source": "https://raw.githubusercontent.com/PolicyEngine/policyengine-app/master/src/images/logos/policyengine/blue.png",
          "x": 1.1,
          "xanchor": "right",
          "xref": "paper",
          "y": -0.15,
          "yanchor": "bottom",
          "yref": "paper"
         }
        ],
        "modebar": {
         "bgcolor": "rgba(0,0,0,0)",
         "color": "rgba(0,0,0,0)"
        },
        "template": {
         "data": {
          "bar": [
           {
            "error_x": {
             "color": "#2a3f5f"
            },
            "error_y": {
             "color": "#2a3f5f"
            },
            "marker": {
             "line": {
              "color": "white",
              "width": 0.5
             },
             "pattern": {
              "fillmode": "overlay",
              "size": 10,
              "solidity": 0.2
             }
            },
            "type": "bar"
           }
          ],
          "barpolar": [
           {
            "marker": {
             "line": {
              "color": "white",
              "width": 0.5
             },
             "pattern": {
              "fillmode": "overlay",
              "size": 10,
              "solidity": 0.2
             }
            },
            "type": "barpolar"
           }
          ],
          "carpet": [
           {
            "aaxis": {
             "endlinecolor": "#2a3f5f",
             "gridcolor": "#C8D4E3",
             "linecolor": "#C8D4E3",
             "minorgridcolor": "#C8D4E3",
             "startlinecolor": "#2a3f5f"
            },
            "baxis": {
             "endlinecolor": "#2a3f5f",
             "gridcolor": "#C8D4E3",
             "linecolor": "#C8D4E3",
             "minorgridcolor": "#C8D4E3",
             "startlinecolor": "#2a3f5f"
            },
            "type": "carpet"
           }
          ],
          "choropleth": [
           {
            "colorbar": {
             "outlinewidth": 0,
             "ticks": ""
            },
            "type": "choropleth"
           }
          ],
          "contour": [
           {
            "colorbar": {
             "outlinewidth": 0,
             "ticks": ""
            },
            "colorscale": [
             [
              0,
              "#0d0887"
             ],
             [
              0.1111111111111111,
              "#46039f"
             ],
             [
              0.2222222222222222,
              "#7201a8"
             ],
             [
              0.3333333333333333,
              "#9c179e"
             ],
             [
              0.4444444444444444,
              "#bd3786"
             ],
             [
              0.5555555555555556,
              "#d8576b"
             ],
             [
              0.6666666666666666,
              "#ed7953"
             ],
             [
              0.7777777777777778,
              "#fb9f3a"
             ],
             [
              0.8888888888888888,
              "#fdca26"
             ],
             [
              1,
              "#f0f921"
             ]
            ],
            "type": "contour"
           }
          ],
          "contourcarpet": [
           {
            "colorbar": {
             "outlinewidth": 0,
             "ticks": ""
            },
            "type": "contourcarpet"
           }
          ],
          "heatmap": [
           {
            "colorbar": {
             "outlinewidth": 0,
             "ticks": ""
            },
            "colorscale": [
             [
              0,
              "#0d0887"
             ],
             [
              0.1111111111111111,
              "#46039f"
             ],
             [
              0.2222222222222222,
              "#7201a8"
             ],
             [
              0.3333333333333333,
              "#9c179e"
             ],
             [
              0.4444444444444444,
              "#bd3786"
             ],
             [
              0.5555555555555556,
              "#d8576b"
             ],
             [
              0.6666666666666666,
              "#ed7953"
             ],
             [
              0.7777777777777778,
              "#fb9f3a"
             ],
             [
              0.8888888888888888,
              "#fdca26"
             ],
             [
              1,
              "#f0f921"
             ]
            ],
            "type": "heatmap"
           }
          ],
          "heatmapgl": [
           {
            "colorbar": {
             "outlinewidth": 0,
             "ticks": ""
            },
            "colorscale": [
             [
              0,
              "#0d0887"
             ],
             [
              0.1111111111111111,
              "#46039f"
             ],
             [
              0.2222222222222222,
              "#7201a8"
             ],
             [
              0.3333333333333333,
              "#9c179e"
             ],
             [
              0.4444444444444444,
              "#bd3786"
             ],
             [
              0.5555555555555556,
              "#d8576b"
             ],
             [
              0.6666666666666666,
              "#ed7953"
             ],
             [
              0.7777777777777778,
              "#fb9f3a"
             ],
             [
              0.8888888888888888,
              "#fdca26"
             ],
             [
              1,
              "#f0f921"
             ]
            ],
            "type": "heatmapgl"
           }
          ],
          "histogram": [
           {
            "marker": {
             "pattern": {
              "fillmode": "overlay",
              "size": 10,
              "solidity": 0.2
             }
            },
            "type": "histogram"
           }
          ],
          "histogram2d": [
           {
            "colorbar": {
             "outlinewidth": 0,
             "ticks": ""
            },
            "colorscale": [
             [
              0,
              "#0d0887"
             ],
             [
              0.1111111111111111,
              "#46039f"
             ],
             [
              0.2222222222222222,
              "#7201a8"
             ],
             [
              0.3333333333333333,
              "#9c179e"
             ],
             [
              0.4444444444444444,
              "#bd3786"
             ],
             [
              0.5555555555555556,
              "#d8576b"
             ],
             [
              0.6666666666666666,
              "#ed7953"
             ],
             [
              0.7777777777777778,
              "#fb9f3a"
             ],
             [
              0.8888888888888888,
              "#fdca26"
             ],
             [
              1,
              "#f0f921"
             ]
            ],
            "type": "histogram2d"
           }
          ],
          "histogram2dcontour": [
           {
            "colorbar": {
             "outlinewidth": 0,
             "ticks": ""
            },
            "colorscale": [
             [
              0,
              "#0d0887"
             ],
             [
              0.1111111111111111,
              "#46039f"
             ],
             [
              0.2222222222222222,
              "#7201a8"
             ],
             [
              0.3333333333333333,
              "#9c179e"
             ],
             [
              0.4444444444444444,
              "#bd3786"
             ],
             [
              0.5555555555555556,
              "#d8576b"
             ],
             [
              0.6666666666666666,
              "#ed7953"
             ],
             [
              0.7777777777777778,
              "#fb9f3a"
             ],
             [
              0.8888888888888888,
              "#fdca26"
             ],
             [
              1,
              "#f0f921"
             ]
            ],
            "type": "histogram2dcontour"
           }
          ],
          "mesh3d": [
           {
            "colorbar": {
             "outlinewidth": 0,
             "ticks": ""
            },
            "type": "mesh3d"
           }
          ],
          "parcoords": [
           {
            "line": {
             "colorbar": {
              "outlinewidth": 0,
              "ticks": ""
             }
            },
            "type": "parcoords"
           }
          ],
          "pie": [
           {
            "automargin": true,
            "type": "pie"
           }
          ],
          "scatter": [
           {
            "fillpattern": {
             "fillmode": "overlay",
             "size": 10,
             "solidity": 0.2
            },
            "type": "scatter"
           }
          ],
          "scatter3d": [
           {
            "line": {
             "colorbar": {
              "outlinewidth": 0,
              "ticks": ""
             }
            },
            "marker": {
             "colorbar": {
              "outlinewidth": 0,
              "ticks": ""
             }
            },
            "type": "scatter3d"
           }
          ],
          "scattercarpet": [
           {
            "marker": {
             "colorbar": {
              "outlinewidth": 0,
              "ticks": ""
             }
            },
            "type": "scattercarpet"
           }
          ],
          "scattergeo": [
           {
            "marker": {
             "colorbar": {
              "outlinewidth": 0,
              "ticks": ""
             }
            },
            "type": "scattergeo"
           }
          ],
          "scattergl": [
           {
            "marker": {
             "colorbar": {
              "outlinewidth": 0,
              "ticks": ""
             }
            },
            "type": "scattergl"
           }
          ],
          "scattermapbox": [
           {
            "marker": {
             "colorbar": {
              "outlinewidth": 0,
              "ticks": ""
             }
            },
            "type": "scattermapbox"
           }
          ],
          "scatterpolar": [
           {
            "marker": {
             "colorbar": {
              "outlinewidth": 0,
              "ticks": ""
             }
            },
            "type": "scatterpolar"
           }
          ],
          "scatterpolargl": [
           {
            "marker": {
             "colorbar": {
              "outlinewidth": 0,
              "ticks": ""
             }
            },
            "type": "scatterpolargl"
           }
          ],
          "scatterternary": [
           {
            "marker": {
             "colorbar": {
              "outlinewidth": 0,
              "ticks": ""
             }
            },
            "type": "scatterternary"
           }
          ],
          "surface": [
           {
            "colorbar": {
             "outlinewidth": 0,
             "ticks": ""
            },
            "colorscale": [
             [
              0,
              "#0d0887"
             ],
             [
              0.1111111111111111,
              "#46039f"
             ],
             [
              0.2222222222222222,
              "#7201a8"
             ],
             [
              0.3333333333333333,
              "#9c179e"
             ],
             [
              0.4444444444444444,
              "#bd3786"
             ],
             [
              0.5555555555555556,
              "#d8576b"
             ],
             [
              0.6666666666666666,
              "#ed7953"
             ],
             [
              0.7777777777777778,
              "#fb9f3a"
             ],
             [
              0.8888888888888888,
              "#fdca26"
             ],
             [
              1,
              "#f0f921"
             ]
            ],
            "type": "surface"
           }
          ],
          "table": [
           {
            "cells": {
             "fill": {
              "color": "#EBF0F8"
             },
             "line": {
              "color": "white"
             }
            },
            "header": {
             "fill": {
              "color": "#C8D4E3"
             },
             "line": {
              "color": "white"
             }
            },
            "type": "table"
           }
          ]
         },
         "layout": {
          "annotationdefaults": {
           "arrowcolor": "#2a3f5f",
           "arrowhead": 0,
           "arrowwidth": 1
          },
          "autotypenumbers": "strict",
          "coloraxis": {
           "colorbar": {
            "outlinewidth": 0,
            "ticks": ""
           }
          },
          "colorscale": {
           "diverging": [
            [
             0,
             "#8e0152"
            ],
            [
             0.1,
             "#c51b7d"
            ],
            [
             0.2,
             "#de77ae"
            ],
            [
             0.3,
             "#f1b6da"
            ],
            [
             0.4,
             "#fde0ef"
            ],
            [
             0.5,
             "#f7f7f7"
            ],
            [
             0.6,
             "#e6f5d0"
            ],
            [
             0.7,
             "#b8e186"
            ],
            [
             0.8,
             "#7fbc41"
            ],
            [
             0.9,
             "#4d9221"
            ],
            [
             1,
             "#276419"
            ]
           ],
           "sequential": [
            [
             0,
             "#0d0887"
            ],
            [
             0.1111111111111111,
             "#46039f"
            ],
            [
             0.2222222222222222,
             "#7201a8"
            ],
            [
             0.3333333333333333,
             "#9c179e"
            ],
            [
             0.4444444444444444,
             "#bd3786"
            ],
            [
             0.5555555555555556,
             "#d8576b"
            ],
            [
             0.6666666666666666,
             "#ed7953"
            ],
            [
             0.7777777777777778,
             "#fb9f3a"
            ],
            [
             0.8888888888888888,
             "#fdca26"
            ],
            [
             1,
             "#f0f921"
            ]
           ],
           "sequentialminus": [
            [
             0,
             "#0d0887"
            ],
            [
             0.1111111111111111,
             "#46039f"
            ],
            [
             0.2222222222222222,
             "#7201a8"
            ],
            [
             0.3333333333333333,
             "#9c179e"
            ],
            [
             0.4444444444444444,
             "#bd3786"
            ],
            [
             0.5555555555555556,
             "#d8576b"
            ],
            [
             0.6666666666666666,
             "#ed7953"
            ],
            [
             0.7777777777777778,
             "#fb9f3a"
            ],
            [
             0.8888888888888888,
             "#fdca26"
            ],
            [
             1,
             "#f0f921"
            ]
           ]
          },
          "colorway": [
           "#636efa",
           "#EF553B",
           "#00cc96",
           "#ab63fa",
           "#FFA15A",
           "#19d3f3",
           "#FF6692",
           "#B6E880",
           "#FF97FF",
           "#FECB52"
          ],
          "font": {
           "color": "#2a3f5f"
          },
          "geo": {
           "bgcolor": "white",
           "lakecolor": "white",
           "landcolor": "white",
           "showlakes": true,
           "showland": true,
           "subunitcolor": "#C8D4E3"
          },
          "hoverlabel": {
           "align": "left"
          },
          "hovermode": "closest",
          "mapbox": {
           "style": "light"
          },
          "paper_bgcolor": "white",
          "plot_bgcolor": "white",
          "polar": {
           "angularaxis": {
            "gridcolor": "#EBF0F8",
            "linecolor": "#EBF0F8",
            "ticks": ""
           },
           "bgcolor": "white",
           "radialaxis": {
            "gridcolor": "#EBF0F8",
            "linecolor": "#EBF0F8",
            "ticks": ""
           }
          },
          "scene": {
           "xaxis": {
            "backgroundcolor": "white",
            "gridcolor": "#DFE8F3",
            "gridwidth": 2,
            "linecolor": "#EBF0F8",
            "showbackground": true,
            "ticks": "",
            "zerolinecolor": "#EBF0F8"
           },
           "yaxis": {
            "backgroundcolor": "white",
            "gridcolor": "#DFE8F3",
            "gridwidth": 2,
            "linecolor": "#EBF0F8",
            "showbackground": true,
            "ticks": "",
            "zerolinecolor": "#EBF0F8"
           },
           "zaxis": {
            "backgroundcolor": "white",
            "gridcolor": "#DFE8F3",
            "gridwidth": 2,
            "linecolor": "#EBF0F8",
            "showbackground": true,
            "ticks": "",
            "zerolinecolor": "#EBF0F8"
           }
          },
          "shapedefaults": {
           "line": {
            "color": "#2a3f5f"
           }
          },
          "ternary": {
           "aaxis": {
            "gridcolor": "#DFE8F3",
            "linecolor": "#A2B1C6",
            "ticks": ""
           },
           "baxis": {
            "gridcolor": "#DFE8F3",
            "linecolor": "#A2B1C6",
            "ticks": ""
           },
           "bgcolor": "white",
           "caxis": {
            "gridcolor": "#DFE8F3",
            "linecolor": "#A2B1C6",
            "ticks": ""
           }
          },
          "title": {
           "x": 0.05
          },
          "xaxis": {
           "automargin": true,
           "gridcolor": "#EBF0F8",
           "linecolor": "#EBF0F8",
           "ticks": "",
           "title": {
            "standoff": 15
           },
           "zerolinecolor": "#EBF0F8",
           "zerolinewidth": 2
          },
          "yaxis": {
           "automargin": true,
           "gridcolor": "#EBF0F8",
           "linecolor": "#EBF0F8",
           "ticks": "",
           "title": {
            "standoff": 15
           },
           "zerolinecolor": "#EBF0F8",
           "zerolinewidth": 2
          }
         }
        },
        "title": {
         "text": "10-Year Federal Budgetary Impact of the Family First Act"
        },
        "width": 800,
        "xaxis": {
         "tickmode": "linear",
         "title": {
          "text": "Year"
         }
        },
        "yaxis": {
         "title": {
          "text": "Cost (Billions $)"
         },
         "zeroline": true,
         "zerolinecolor": "Black",
         "zerolinewidth": 2
        }
       }
      }
     },
     "metadata": {},
     "output_type": "display_data"
    }
   ],
   "source": [
    "fig = go.Figure(go.Bar(\n",
    "    x=df_projection['Year'],\n",
    "    # Remove the negative sign that was in the original calculation\n",
    "    y=(df_projection['Budgetary Impact'] / 1e9).round(1),\n",
    "    text=(df_projection['Budgetary Impact'] / 1e9).round(1).apply(lambda x: f'${x:.1f}B'),\n",
    "    textposition='auto',\n",
    "    marker_color='#105293'\n",
    "))\n",
    "\n",
    "fig.update_layout(\n",
    "    title=\"10-Year Federal Budgetary Impact of the Family First Act\",\n",
    "    xaxis_title=\"Year\",\n",
    "    yaxis_title=\"Cost (Billions $)\",\n",
    "    xaxis=dict(tickmode='linear'),\n",
    "    yaxis=dict(zeroline=True, zerolinewidth=2, zerolinecolor='Black')\n",
    ")\n",
    "\n",
    "format_fig(fig).show()"
   ]
  }
 ],
 "metadata": {
  "kernelspec": {
   "display_name": "pe",
   "language": "python",
   "name": "python3"
  },
  "language_info": {
   "codemirror_mode": {
    "name": "ipython",
    "version": 3
   },
   "file_extension": ".py",
   "mimetype": "text/x-python",
   "name": "python",
   "nbconvert_exporter": "python",
   "pygments_lexer": "ipython3",
   "version": "3.10.14"
  }
 },
 "nbformat": 4,
 "nbformat_minor": 2
}
