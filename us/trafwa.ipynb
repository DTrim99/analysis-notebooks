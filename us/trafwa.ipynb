{
 "cells": [
  {
   "cell_type": "code",
   "execution_count": 26,
   "metadata": {},
   "outputs": [],
   "source": [
    "from policyengine_us import Microsimulation\n",
    "from policyengine_core.reforms import Reform\n",
    "import pandas as pd\n",
    "import plotly.express as px\n"
   ]
  },
  {
   "cell_type": "code",
   "execution_count": 5,
   "metadata": {},
   "outputs": [],
   "source": [
    "baseline = Microsimulation()\n",
    "\n"
   ]
  },
  {
   "cell_type": "code",
   "execution_count": 9,
   "metadata": {},
   "outputs": [],
   "source": [
    "reform = Reform.from_dict({\n",
    "  \"gov.contrib.congress.wyden_smith.actc_lookback\": {\n",
    "    \"2024-01-01.2025-12-31\": True\n",
    "  },\n",
    "  \"gov.contrib.congress.wyden_smith.per_child_actc_phase_in\": {\n",
    "    \"2023-01-01.2025-12-31\": True\n",
    "  },\n",
    "  \"gov.irs.credits.ctc.amount.base[0].amount\": {\n",
    "    \"2024-01-01.2025-12-31\": 2100\n",
    "  },\n",
    "  \"gov.irs.credits.ctc.refundable.individual_max\": {\n",
    "    \"2023-01-01.2023-12-31\": 1800,\n",
    "    \"2024-01-01.2024-12-31\": 1900,\n",
    "    \"2025-01-01.2025-12-31\": 2100\n",
    "  }\n",
    "}, country_id=\"us\")\n",
    "reformed = Microsimulation(reform=reform)\n"
   ]
  },
  {
   "cell_type": "code",
   "execution_count": 22,
   "metadata": {},
   "outputs": [],
   "source": [
    "# Create a DataFrame to store all results\n",
    "all_results = pd.DataFrame()"
   ]
  },
  {
   "cell_type": "code",
   "execution_count": 23,
   "metadata": {},
   "outputs": [],
   "source": [
    "# Calculate for each year\n",
    "for year in range(2023, 2026):\n",
    "    baseline_household = baseline.calculate(\"household_net_income\", period=year, map_to=\"household\")\n",
    "    reformed_household = reformed.calculate(\"household_net_income\", period=year, map_to=\"household\")\n",
    "    \n",
    "    # Calculate the ctc_qualifying_children at the household level\n",
    "    ctc_qualifying_children = baseline.calculate(\"ctc_qualifying_children\", period=year, map_to=\"household\")\n",
    "    \n",
    "    # Get state codes at the household level\n",
    "    state_codes = baseline.calculate(\"state_code\", period=year, map_to=\"household\")\n",
    "    \n",
    "    # Calculate the difference for all households\n",
    "    difference = reformed_household - baseline_household\n",
    "    \n",
    "    # Create a DataFrame with all the results\n",
    "    df_year = pd.DataFrame({\n",
    "        'Year': year,\n",
    "        'State': state_codes,\n",
    "        'Difference': difference,\n",
    "        'CTC_Qualifying_Children': ctc_qualifying_children\n",
    "    })\n",
    "    \n",
    "    # Filter the DataFrame to households where ctc_qualifying_children >= 1\n",
    "    df_filtered = df_year[df_year['CTC_Qualifying_Children'] >= 1]\n",
    "    \n",
    "    # Group by State and calculate the mean of the differences\n",
    "    df_grouped = df_filtered.groupby('State')['Difference'].mean().reset_index()\n",
    "    df_grouped['Year'] = year\n",
    "    \n",
    "    # Append to the all_results DataFrame\n",
    "    all_results = pd.concat([all_results, df_grouped], ignore_index=True)"
   ]
  },
  {
   "cell_type": "code",
   "execution_count": 24,
   "metadata": {},
   "outputs": [
    {
     "name": "stdout",
     "output_type": "stream",
     "text": [
      "     Year State  Mean_Difference\n",
      "0    2023    AK       142.536514\n",
      "1    2024    AK       289.664795\n",
      "2    2025    AK       317.202393\n",
      "3    2023    AL       143.732254\n",
      "4    2024    AL       196.357544\n",
      "..    ...   ...              ...\n",
      "148  2024    WV       176.849426\n",
      "149  2025    WV       308.001526\n",
      "150  2023    WY        87.470161\n",
      "151  2024    WY       244.454071\n",
      "152  2025    WY       320.001556\n",
      "\n",
      "[153 rows x 3 columns]\n"
     ]
    }
   ],
   "source": [
    "# Sort the DataFrame by State and Year\n",
    "df_results = all_results.sort_values(['State', 'Year'])\n",
    "\n",
    "# Reset the index\n",
    "df_results = df_results.reset_index(drop=True)\n",
    "\n",
    "# Rename the 'Difference' column to 'Mean_Difference' for clarity\n",
    "df_results = df_results.rename(columns={'Difference': 'Mean_Difference'})\n",
    "\n",
    "# Reorder columns\n",
    "df_results = df_results[['Year', 'State', 'Mean_Difference']]\n",
    "\n",
    "# Display the results\n",
    "print(df_results)"
   ]
  },
  {
   "cell_type": "code",
   "execution_count": 25,
   "metadata": {},
   "outputs": [
    {
     "name": "stdout",
     "output_type": "stream",
     "text": [
      "Results have been exported to 'state_results.csv'\n"
     ]
    }
   ],
   "source": [
    "\n",
    "# Export the results to a CSV file\n",
    "df_results.to_csv('state_results.csv', index=False)\n",
    "print(\"Results have been exported to 'state_results.csv'\")"
   ]
  },
  {
   "cell_type": "code",
   "execution_count": 32,
   "metadata": {},
   "outputs": [
    {
     "name": "stdout",
     "output_type": "stream",
     "text": [
      "CSV file 'state_results.csv' has been generated.\n",
      "\n",
      "First few rows of the data:\n",
      "   Year State  Mean_Difference\n",
      "0  2023    AK       142.536514\n",
      "1  2024    AK       289.664795\n",
      "2  2025    AK       317.202393\n",
      "3  2023    AL       143.732254\n",
      "4  2024    AL       196.357544\n"
     ]
    }
   ],
   "source": [
    "# Sort the DataFrame by State and Year\n",
    "df_results = df_results.sort_values(['State', 'Year'])\n",
    "\n",
    "# Generate the CSV file\n",
    "csv_filename = 'state_results.csv'\n",
    "df_results.to_csv(csv_filename, index=False)\n",
    "\n",
    "print(f\"CSV file '{csv_filename}' has been generated.\")\n",
    "\n",
    "# Optionally, display the first few rows of the DataFrame\n",
    "print(\"\\nFirst few rows of the data:\")\n",
    "print(df_results.head())\n"
   ]
  },
  {
   "cell_type": "code",
   "execution_count": null,
   "metadata": {},
   "outputs": [],
   "source": []
  }
 ],
 "metadata": {
  "kernelspec": {
   "display_name": "policyengine",
   "language": "python",
   "name": "python3"
  },
  "language_info": {
   "codemirror_mode": {
    "name": "ipython",
    "version": 3
   },
   "file_extension": ".py",
   "mimetype": "text/x-python",
   "name": "python",
   "nbconvert_exporter": "python",
   "pygments_lexer": "ipython3",
   "version": "3.9.16"
  }
 },
 "nbformat": 4,
 "nbformat_minor": 2
}
