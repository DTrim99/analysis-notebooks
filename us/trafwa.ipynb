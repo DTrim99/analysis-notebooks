{
 "cells": [
  {
   "cell_type": "code",
   "execution_count": 26,
   "metadata": {},
   "outputs": [],
   "source": [
    "from policyengine_us import Microsimulation\n",
    "from policyengine_core.reforms import Reform\n",
    "import pandas as pd\n",
    "import plotly.express as px\n"
   ]
  },
  {
   "cell_type": "code",
   "execution_count": 5,
   "metadata": {},
   "outputs": [],
   "source": [
    "baseline = Microsimulation()\n",
    "\n"
   ]
  },
  {
   "cell_type": "code",
   "execution_count": 9,
   "metadata": {},
   "outputs": [],
   "source": [
    "reform = Reform.from_dict({\n",
    "  \"gov.contrib.congress.wyden_smith.actc_lookback\": {\n",
    "    \"2024-01-01.2025-12-31\": True\n",
    "  },\n",
    "  \"gov.contrib.congress.wyden_smith.per_child_actc_phase_in\": {\n",
    "    \"2023-01-01.2025-12-31\": True\n",
    "  },\n",
    "  \"gov.irs.credits.ctc.amount.base[0].amount\": {\n",
    "    \"2024-01-01.2025-12-31\": 2100\n",
    "  },\n",
    "  \"gov.irs.credits.ctc.refundable.individual_max\": {\n",
    "    \"2023-01-01.2023-12-31\": 1800,\n",
    "    \"2024-01-01.2024-12-31\": 1900,\n",
    "    \"2025-01-01.2025-12-31\": 2100\n",
    "  }\n",
    "}, country_id=\"us\")\n",
    "reformed = Microsimulation(reform=reform)\n"
   ]
  },
  {
   "cell_type": "code",
   "execution_count": 43,
   "metadata": {},
   "outputs": [],
   "source": [
    "# Initialize an empty DataFrame to store all results\n",
    "all_results = pd.DataFrame()"
   ]
  },
  {
   "cell_type": "code",
   "execution_count": 44,
   "metadata": {},
   "outputs": [
    {
     "name": "stdout",
     "output_type": "stream",
     "text": [
      "     Year State  Mean_Difference   Total_Weight\n",
      "0    2023    AK       963.892457   11886.719986\n",
      "1    2024    AK      1037.773434   11516.829971\n",
      "2    2025    AK      1216.882271   11207.789963\n",
      "3    2023    AL       494.327029  141075.609558\n",
      "4    2024    AL       553.198352  130823.649780\n",
      "..    ...   ...              ...            ...\n",
      "148  2024    WV       428.550899   48176.619934\n",
      "149  2025    WV       710.042486   44582.329987\n",
      "150  2023    WY       323.264818   12120.260025\n",
      "151  2024    WY       411.158179   10948.930023\n",
      "152  2025    WY       739.925405   10948.930023\n",
      "\n",
      "[153 rows x 4 columns]\n"
     ]
    }
   ],
   "source": [
    "# Calculate for each year\n",
    "for year in range(2023, 2026):\n",
    "    baseline_household = baseline.calculate(\"household_net_income\", period=year, map_to=\"household\")\n",
    "    reformed_household = reformed.calculate(\"household_net_income\", period=year, map_to=\"household\")\n",
    "    \n",
    "    # Calculate the ctc_qualifying_children at the household level\n",
    "    ctc_qualifying_children = baseline.calculate(\"ctc_qualifying_children\", period=year, map_to=\"household\")\n",
    "    \n",
    "    # Get state codes at the household level\n",
    "    state_codes = baseline.calculate(\"state_code\", period=year, map_to=\"household\")\n",
    "    \n",
    "    # Calculate the baseline weight at the household level\n",
    "    baseline_weight = baseline_household.weights\n",
    "    \n",
    "    # Calculate adjusted gross income\n",
    "    agi = baseline.calculate(\"adjusted_gross_income\", period=year, map_to=\"household\")\n",
    "    \n",
    "    # Calculate the difference for all households\n",
    "    difference = reformed_household - baseline_household\n",
    "    \n",
    "    # Create a DataFrame with all the results\n",
    "    df_year = pd.DataFrame({\n",
    "        'Year': year,\n",
    "        'State': state_codes,\n",
    "        'Difference': difference,\n",
    "        'CTC_Qualifying_Children': ctc_qualifying_children,\n",
    "        'Weight': baseline_weight,\n",
    "        'AGI': agi\n",
    "    })\n",
    "    \n",
    "    # Filter the DataFrame to households where ctc_qualifying_children >= 1 and AGI between 2,500 and 50,000\n",
    "    df_filtered = df_year[(df_year['CTC_Qualifying_Children'] >= 1) & \n",
    "                          (df_year['AGI'] >= 2500) & \n",
    "                          (df_year['AGI'] <= 50000)]\n",
    "    \n",
    "    # Group by State and calculate the sum of weighted differences and sum of weights\n",
    "    df_grouped = df_filtered.groupby('State').agg({\n",
    "        'Difference': lambda x: (x * df_filtered.loc[x.index, 'Weight']).sum(),\n",
    "        'Weight': 'sum'\n",
    "    }).reset_index()\n",
    "    \n",
    "    # Calculate the weighted average difference\n",
    "    df_grouped['Mean_Difference'] = df_grouped['Difference'] / df_grouped['Weight']\n",
    "    \n",
    "    # Add the Year column\n",
    "    df_grouped['Year'] = year\n",
    "    \n",
    "    # Select and rename columns\n",
    "    df_grouped = df_grouped[['Year', 'State', 'Mean_Difference', 'Weight']]\n",
    "    df_grouped = df_grouped.rename(columns={'Weight': 'Total_Weight'})\n",
    "    \n",
    "    # Append to the all_results DataFrame\n",
    "    all_results = pd.concat([all_results, df_grouped], ignore_index=True)\n",
    "\n",
    "# Sort the DataFrame by State and Year\n",
    "all_results = all_results.sort_values(['State', 'Year'])\n",
    "\n",
    "# Reset the index\n",
    "all_results = all_results.reset_index(drop=True)\n",
    "\n",
    "# Remove any remaining rows with NaN values\n",
    "all_results = all_results.dropna()\n",
    "\n",
    "# Display the results\n",
    "print(all_results)"
   ]
  },
  {
   "cell_type": "code",
   "execution_count": 45,
   "metadata": {},
   "outputs": [
    {
     "name": "stdout",
     "output_type": "stream",
     "text": [
      "     Year State  Mean_Difference\n",
      "0    2023    AK       963.892457\n",
      "1    2024    AK      1037.773434\n",
      "2    2025    AK      1216.882271\n",
      "3    2023    AL       494.327029\n",
      "4    2024    AL       553.198352\n",
      "..    ...   ...              ...\n",
      "148  2024    WV       428.550899\n",
      "149  2025    WV       710.042486\n",
      "150  2023    WY       323.264818\n",
      "151  2024    WY       411.158179\n",
      "152  2025    WY       739.925405\n",
      "\n",
      "[153 rows x 3 columns]\n"
     ]
    }
   ],
   "source": [
    "# Sort the DataFrame by State and Year\n",
    "df_results = all_results.sort_values(['State', 'Year'])\n",
    "\n",
    "# Reset the index\n",
    "df_results = df_results.reset_index(drop=True)\n",
    "\n",
    "# Rename the 'Difference' column to 'Mean_Difference' for clarity\n",
    "df_results = df_results.rename(columns={'Difference': 'Mean_Difference'})\n",
    "\n",
    "# Reorder columns\n",
    "df_results = df_results[['Year', 'State', 'Mean_Difference']]\n",
    "\n",
    "# Display the results\n",
    "print(df_results)"
   ]
  },
  {
   "cell_type": "code",
   "execution_count": 47,
   "metadata": {},
   "outputs": [
    {
     "name": "stdout",
     "output_type": "stream",
     "text": [
      "Results have been exported to 'state_results.csv'\n"
     ]
    }
   ],
   "source": [
    "\n",
    "# Export the results to a CSV file\n",
    "df_results.to_csv('state_results.csv', index=False)\n",
    "print(\"Results have been exported to 'state_results.csv'\")"
   ]
  },
  {
   "cell_type": "code",
   "execution_count": 48,
   "metadata": {},
   "outputs": [
    {
     "name": "stdout",
     "output_type": "stream",
     "text": [
      "CSV file 'state_results.csv' has been generated.\n",
      "\n",
      "First few rows of the data:\n",
      "   Year State  Mean_Difference\n",
      "0  2023    AK       963.892457\n",
      "1  2024    AK      1037.773434\n",
      "2  2025    AK      1216.882271\n",
      "3  2023    AL       494.327029\n",
      "4  2024    AL       553.198352\n"
     ]
    }
   ],
   "source": [
    "# Sort the DataFrame by State and Year\n",
    "df_results = df_results.sort_values(['State', 'Year'])\n",
    "\n",
    "# Generate the CSV file\n",
    "csv_filename = 'state_results.csv'\n",
    "df_results.to_csv(csv_filename, index=False)\n",
    "\n",
    "print(f\"CSV file '{csv_filename}' has been generated.\")\n",
    "\n",
    "# Optionally, display the first few rows of the DataFrame\n",
    "print(\"\\nFirst few rows of the data:\")\n",
    "print(df_results.head())\n"
   ]
  },
  {
   "cell_type": "code",
   "execution_count": null,
   "metadata": {},
   "outputs": [],
   "source": []
  }
 ],
 "metadata": {
  "kernelspec": {
   "display_name": "policyengine",
   "language": "python",
   "name": "python3"
  },
  "language_info": {
   "codemirror_mode": {
    "name": "ipython",
    "version": 3
   },
   "file_extension": ".py",
   "mimetype": "text/x-python",
   "name": "python",
   "nbconvert_exporter": "python",
   "pygments_lexer": "ipython3",
   "version": "3.9.16"
  }
 },
 "nbformat": 4,
 "nbformat_minor": 2
}
