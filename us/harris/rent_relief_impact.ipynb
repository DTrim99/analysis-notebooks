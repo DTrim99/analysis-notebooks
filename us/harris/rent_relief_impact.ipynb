{
 "cells": [
  {
   "cell_type": "code",
   "execution_count": 9,
   "metadata": {},
   "outputs": [],
   "source": [
    "import numpy as np\n",
    "import plotly.graph_objects as go\n",
    "from policyengine_us import Simulation\n",
    "from policyengine_core.reforms import Reform\n",
    "from policyengine_core.charts import format_fig"
   ]
  },
  {
   "cell_type": "code",
   "execution_count": 10,
   "metadata": {},
   "outputs": [],
   "source": [
    "YEAR = \"2024\"\n",
    "MAX_INCOME = 150000"
   ]
  },
  {
   "cell_type": "code",
   "execution_count": 11,
   "metadata": {},
   "outputs": [],
   "source": [
    "def create_situation(scenario):\n",
    "    base_situation = {\n",
    "        \"axes\": [[\n",
    "            {\n",
    "                \"name\": \"employment_income\",\n",
    "                \"min\": 0,\n",
    "                \"max\": MAX_INCOME,\n",
    "                \"count\": 201,\n",
    "                \"period\": YEAR,\n",
    "            }\n",
    "        ]]\n",
    "    }\n",
    "    \n",
    "    if scenario == \"TX\":\n",
    "        situation = {\n",
    "            \"families\": {\"your family\": {\"members\": [\"you\", \"your first dependent\", \"your second dependent\"]}},\n",
    "            \"households\": {\n",
    "                \"your household\": {\n",
    "                    \"members\": [\"you\", \"your first dependent\", \"your second dependent\"],\n",
    "                    \"safmr_used_for_hcv\": {YEAR: 0},\n",
    "                    \"small_area_fair_market_rent\": {YEAR: 19080},\n",
    "                    \"state_name\": {YEAR: \"TX\"}\n",
    "                }\n",
    "            },\n",
    "            \"marital_units\": {\n",
    "                \"your marital unit\": {\"members\": [\"you\"]},\n",
    "                \"your first dependent's marital unit\": {\"members\": [\"your first dependent\"], \"marital_unit_id\": {YEAR: 1}},\n",
    "                \"your second dependent's marital unit\": {\"members\": [\"your second dependent\"], \"marital_unit_id\": {YEAR: 2}}\n",
    "            },\n",
    "            \"people\": {\n",
    "                \"you\": {\"age\": {YEAR: 40}, \"pre_subsidy_rent\": {YEAR: 18000}},\n",
    "                \"your first dependent\": {\"age\": {YEAR: 10}},\n",
    "                \"your second dependent\": {\"age\": {YEAR: 10}}\n",
    "            },\n",
    "            \"spm_units\": {\"your household\": {\"members\": [\"you\", \"your first dependent\", \"your second dependent\"]}},\n",
    "            \"tax_units\": {\"your tax unit\": {\"members\": [\"you\", \"your first dependent\", \"your second dependent\"]}}\n",
    "        }\n",
    "    elif scenario == \"MO\":\n",
    "        situation = {\n",
    "            \"families\": {\"your family\": {\"members\": [\"you\"]}},\n",
    "            \"households\": {\n",
    "                \"your household\": {\n",
    "                    \"members\": [\"you\"],\n",
    "                    \"safmr_used_for_hcv\": {YEAR: 0},\n",
    "                    \"small_area_fair_market_rent\": {YEAR: 6480},\n",
    "                    \"state_name\": {YEAR: \"MO\"}\n",
    "                }\n",
    "            },\n",
    "            \"marital_units\": {\"your marital unit\": {\"members\": [\"you\"]}},\n",
    "            \"people\": {\"you\": {\"age\": {YEAR: 40}, \"pre_subsidy_rent\": {YEAR: 6480}}},\n",
    "            \"spm_units\": {\"your household\": {\"members\": [\"you\"]}},\n",
    "            \"tax_units\": {\"your tax unit\": {\"members\": [\"you\"]}}\n",
    "        }\n",
    "    elif scenario == \"CA\":\n",
    "        situation = {\n",
    "            \"families\": {\"your family\": {\"members\": [\"you\", \"your first dependent\", \"your second dependent\"]}},\n",
    "            \"households\": {\n",
    "                \"your household\": {\n",
    "                    \"members\": [\"you\", \"your first dependent\", \"your second dependent\"],\n",
    "                    \"safmr_used_for_hcv\": {YEAR: 1},\n",
    "                    \"small_area_fair_market_rent\": {YEAR: 83520},\n",
    "                    \"state_name\": {YEAR: \"CA\"}\n",
    "                }\n",
    "            },\n",
    "            \"marital_units\": {\n",
    "                \"your marital unit\": {\"members\": [\"you\"]},\n",
    "                \"your first dependent's marital unit\": {\"members\": [\"your first dependent\"], \"marital_unit_id\": {YEAR: 1}},\n",
    "                \"your second dependent's marital unit\": {\"members\": [\"your second dependent\"], \"marital_unit_id\": {YEAR: 2}}\n",
    "            },\n",
    "            \"people\": {\n",
    "                \"you\": {\"age\": {YEAR: 40}, \"pre_subsidy_rent\": {YEAR: 83520}},\n",
    "                \"your first dependent\": {\"age\": {YEAR: 10}},\n",
    "                \"your second dependent\": {\"age\": {YEAR: 3}}\n",
    "            },\n",
    "            \"spm_units\": {\"your household\": {\"members\": [\"you\", \"your first dependent\", \"your second dependent\"]}},\n",
    "            \"tax_units\": {\"your tax unit\": {\"members\": [\"you\", \"your first dependent\", \"your second dependent\"]}}\n",
    "        }\n",
    "    \n",
    "    situation.update(base_situation)\n",
    "    return situation"
   ]
  },
  {
   "cell_type": "code",
   "execution_count": 12,
   "metadata": {},
   "outputs": [],
   "source": [
    "def calculate_rent_relief_credit(scenario, reform=None):\n",
    "    situation = create_situation(scenario)\n",
    "    \n",
    "    if reform:\n",
    "        simulation = Simulation(reform=reform, situation=situation)\n",
    "    else:\n",
    "        simulation = Simulation(situation=situation)\n",
    "    \n",
    "    return simulation.calculate(\"rent_relief_tax_credit\", YEAR)\n"
   ]
  },
  {
   "cell_type": "code",
   "execution_count": 23,
   "metadata": {},
   "outputs": [],
   "source": [
    "def create_rent_relief_comparison_graph():\n",
    "    reform = Reform.from_dict({\n",
    "        \"gov.contrib.harris.rent_relief_act.rent_relief_credit.in_effect\": {\n",
    "            f\"{YEAR}-01-01.2100-12-31\": True\n",
    "        }\n",
    "    }, country_id=\"us\")\n",
    "\n",
    "    x = np.linspace(0, MAX_INCOME, 201)\n",
    "    scenarios = [\n",
    "        (\"TX\", \"Texas 3bd\"),\n",
    "        (\"MO\", \"Missouri studio\"),\n",
    "        (\"CA\", \"San Diego 4bd\")\n",
    "    ]\n",
    "    colors = {\n",
    "        \"TX\": \"#0066cc\",  # Light blue\n",
    "        \"MO\": \"#4d94ff\",  # Medium blue\n",
    "        \"CA\": \"#003366\",  # Dark blue\n",
    "    }\n",
    "\n",
    "    fig = go.Figure()\n",
    "\n",
    "    for scenario_code, scenario_label in scenarios:\n",
    "        credit = calculate_rent_relief_credit(scenario_code, reform)\n",
    "\n",
    "        fig.add_trace(go.Scatter(\n",
    "            x=x,\n",
    "            y=credit,\n",
    "            mode='lines',\n",
    "            name=scenario_label,\n",
    "            line=dict(color=colors[scenario_code], width=2)\n",
    "        ))\n",
    "\n",
    "    fig.update_layout(\n",
    "        title='Rent Relief Tax Credit Impact',\n",
    "        xaxis_title=\"Earnings\",\n",
    "        yaxis_title=\"Credit Amount\",\n",
    "        xaxis=dict(tickformat='$,.0f', range=[0, MAX_INCOME]),\n",
    "        yaxis=dict(tickformat='$,.0f'),\n",
    "        legend=dict(\n",
    "            yanchor=\"top\",\n",
    "            y=0.99,\n",
    "            xanchor=\"left\",\n",
    "            x=1.01\n",
    "        ),\n",
    "        height=600,\n",
    "        width=800,\n",
    "        plot_bgcolor='white',\n",
    "        paper_bgcolor='white',\n",
    "    )\n",
    "\n",
    "    fig.update_xaxes(gridcolor='lightgray', zeroline=True, zerolinecolor='lightgray')\n",
    "    fig.update_yaxes(gridcolor='lightgray', zeroline=True, zerolinecolor='lightgray')\n",
    "\n",
    "    return fig"
   ]
  },
  {
   "cell_type": "code",
   "execution_count": 24,
   "metadata": {},
   "outputs": [
    {
     "data": {
      "application/vnd.plotly.v1+json": {
       "config": {
        "plotlyServerURL": "https://plot.ly"
       },
       "data": [
        {
         "line": {
          "color": "#0066cc",
          "width": 2
         },
         "mode": "lines",
         "name": "Texas 3bd",
         "type": "scatter",
         "x": [
          0,
          750,
          1500,
          2250,
          3000,
          3750,
          4500,
          5250,
          6000,
          6750,
          7500,
          8250,
          9000,
          9750,
          10500,
          11250,
          12000,
          12750,
          13500,
          14250,
          15000,
          15750,
          16500,
          17250,
          18000,
          18750,
          19500,
          20250,
          21000,
          21750,
          22500,
          23250,
          24000,
          24750,
          25500,
          26250,
          27000,
          27750,
          28500,
          29250,
          30000,
          30750,
          31500,
          32250,
          33000,
          33750,
          34500,
          35250,
          36000,
          36750,
          37500,
          38250,
          39000,
          39750,
          40500,
          41250,
          42000,
          42750,
          43500,
          44250,
          45000,
          45750,
          46500,
          47250,
          48000,
          48750,
          49500,
          50250,
          51000,
          51750,
          52500,
          53250,
          54000,
          54750,
          55500,
          56250,
          57000,
          57750,
          58500,
          59250,
          60000,
          60750,
          61500,
          62250,
          63000,
          63750,
          64500,
          65250,
          66000,
          66750,
          67500,
          68250,
          69000,
          69750,
          70500,
          71250,
          72000,
          72750,
          73500,
          74250,
          75000,
          75750,
          76500,
          77250,
          78000,
          78750,
          79500,
          80250,
          81000,
          81750,
          82500,
          83250,
          84000,
          84750,
          85500,
          86250,
          87000,
          87750,
          88500,
          89250,
          90000,
          90750,
          91500,
          92250,
          93000,
          93750,
          94500,
          95250,
          96000,
          96750,
          97500,
          98250,
          99000,
          99750,
          100500,
          101250,
          102000,
          102750,
          103500,
          104250,
          105000,
          105750,
          106500,
          107250,
          108000,
          108750,
          109500,
          110250,
          111000,
          111750,
          112500,
          113250,
          114000,
          114750,
          115500,
          116250,
          117000,
          117750,
          118500,
          119250,
          120000,
          120750,
          121500,
          122250,
          123000,
          123750,
          124500,
          125250,
          126000,
          126750,
          127500,
          128250,
          129000,
          129750,
          130500,
          131250,
          132000,
          132750,
          133500,
          134250,
          135000,
          135750,
          136500,
          137250,
          138000,
          138750,
          139500,
          140250,
          141000,
          141750,
          142500,
          143250,
          144000,
          144750,
          145500,
          146250,
          147000,
          147750,
          148500,
          149250,
          150000
         ],
         "y": [
          18000,
          17775,
          17550,
          17325,
          17100,
          16875,
          16650,
          16425,
          16200,
          15975,
          15750,
          15525,
          15300,
          15075,
          14850,
          14625,
          14400,
          14175,
          13950,
          13725,
          13500,
          13275,
          13050,
          12825,
          12600,
          12375,
          12150,
          11925,
          11700,
          11475,
          11250,
          11025,
          10800,
          10575,
          7762.5,
          7593.75,
          7425,
          7256.25,
          7087.5,
          6918.75,
          6750,
          6581.25,
          6412.5,
          6243.75,
          6075,
          5906.25,
          5737.5,
          5568.75,
          5400,
          5231.25,
          5062.5,
          4893.75,
          4725,
          4556.25,
          4387.5,
          4218.75,
          4050,
          3881.25,
          3712.5,
          3543.75,
          3375,
          3206.25,
          3037.5,
          2868.75,
          2700,
          2531.25,
          2362.5,
          1462.5,
          1350,
          1237.5,
          1125,
          1012.5,
          900,
          787.5,
          675,
          562.5,
          450,
          337.5,
          225,
          112.5,
          0,
          0,
          0,
          0,
          0,
          0,
          0,
          0,
          0,
          0,
          0,
          0,
          0,
          0,
          0,
          0,
          0,
          0,
          0,
          0,
          0,
          0,
          0,
          0,
          0,
          0,
          0,
          0,
          0,
          0,
          0,
          0,
          0,
          0,
          0,
          0,
          0,
          0,
          0,
          0,
          0,
          0,
          0,
          0,
          0,
          0,
          0,
          0,
          0,
          0,
          0,
          0,
          0,
          0,
          0,
          0,
          0,
          0,
          0,
          0,
          0,
          0,
          0,
          0,
          0,
          0,
          0,
          0,
          0,
          0,
          0,
          0,
          0,
          0,
          0,
          0,
          0,
          0,
          0,
          0,
          0,
          0,
          0,
          0,
          0,
          0,
          0,
          0,
          0,
          0,
          0,
          0,
          0,
          0,
          0,
          0,
          0,
          0,
          0,
          0,
          0,
          0,
          0,
          0,
          0,
          0,
          0,
          0,
          0,
          0,
          0,
          0,
          0,
          0,
          0,
          0,
          0,
          0,
          0,
          0,
          0
         ]
        },
        {
         "line": {
          "color": "#4d94ff",
          "width": 2
         },
         "mode": "lines",
         "name": "Missouri studio",
         "type": "scatter",
         "x": [
          0,
          750,
          1500,
          2250,
          3000,
          3750,
          4500,
          5250,
          6000,
          6750,
          7500,
          8250,
          9000,
          9750,
          10500,
          11250,
          12000,
          12750,
          13500,
          14250,
          15000,
          15750,
          16500,
          17250,
          18000,
          18750,
          19500,
          20250,
          21000,
          21750,
          22500,
          23250,
          24000,
          24750,
          25500,
          26250,
          27000,
          27750,
          28500,
          29250,
          30000,
          30750,
          31500,
          32250,
          33000,
          33750,
          34500,
          35250,
          36000,
          36750,
          37500,
          38250,
          39000,
          39750,
          40500,
          41250,
          42000,
          42750,
          43500,
          44250,
          45000,
          45750,
          46500,
          47250,
          48000,
          48750,
          49500,
          50250,
          51000,
          51750,
          52500,
          53250,
          54000,
          54750,
          55500,
          56250,
          57000,
          57750,
          58500,
          59250,
          60000,
          60750,
          61500,
          62250,
          63000,
          63750,
          64500,
          65250,
          66000,
          66750,
          67500,
          68250,
          69000,
          69750,
          70500,
          71250,
          72000,
          72750,
          73500,
          74250,
          75000,
          75750,
          76500,
          77250,
          78000,
          78750,
          79500,
          80250,
          81000,
          81750,
          82500,
          83250,
          84000,
          84750,
          85500,
          86250,
          87000,
          87750,
          88500,
          89250,
          90000,
          90750,
          91500,
          92250,
          93000,
          93750,
          94500,
          95250,
          96000,
          96750,
          97500,
          98250,
          99000,
          99750,
          100500,
          101250,
          102000,
          102750,
          103500,
          104250,
          105000,
          105750,
          106500,
          107250,
          108000,
          108750,
          109500,
          110250,
          111000,
          111750,
          112500,
          113250,
          114000,
          114750,
          115500,
          116250,
          117000,
          117750,
          118500,
          119250,
          120000,
          120750,
          121500,
          122250,
          123000,
          123750,
          124500,
          125250,
          126000,
          126750,
          127500,
          128250,
          129000,
          129750,
          130500,
          131250,
          132000,
          132750,
          133500,
          134250,
          135000,
          135750,
          136500,
          137250,
          138000,
          138750,
          139500,
          140250,
          141000,
          141750,
          142500,
          143250,
          144000,
          144750,
          145500,
          146250,
          147000,
          147750,
          148500,
          149250,
          150000
         ],
         "y": [
          6480,
          6255,
          6030,
          5805,
          5580,
          5355,
          5130,
          4905,
          4680,
          4455,
          4230,
          4005,
          3780,
          3555,
          3330,
          3105,
          2880,
          2655,
          2430,
          2205,
          1980,
          1755,
          1530,
          1305,
          1080,
          855,
          630,
          405,
          180,
          0,
          0,
          0,
          0,
          0,
          0,
          0,
          0,
          0,
          0,
          0,
          0,
          0,
          0,
          0,
          0,
          0,
          0,
          0,
          0,
          0,
          0,
          0,
          0,
          0,
          0,
          0,
          0,
          0,
          0,
          0,
          0,
          0,
          0,
          0,
          0,
          0,
          0,
          0,
          0,
          0,
          0,
          0,
          0,
          0,
          0,
          0,
          0,
          0,
          0,
          0,
          0,
          0,
          0,
          0,
          0,
          0,
          0,
          0,
          0,
          0,
          0,
          0,
          0,
          0,
          0,
          0,
          0,
          0,
          0,
          0,
          0,
          0,
          0,
          0,
          0,
          0,
          0,
          0,
          0,
          0,
          0,
          0,
          0,
          0,
          0,
          0,
          0,
          0,
          0,
          0,
          0,
          0,
          0,
          0,
          0,
          0,
          0,
          0,
          0,
          0,
          0,
          0,
          0,
          0,
          0,
          0,
          0,
          0,
          0,
          0,
          0,
          0,
          0,
          0,
          0,
          0,
          0,
          0,
          0,
          0,
          0,
          0,
          0,
          0,
          0,
          0,
          0,
          0,
          0,
          0,
          0,
          0,
          0,
          0,
          0,
          0,
          0,
          0,
          0,
          0,
          0,
          0,
          0,
          0,
          0,
          0,
          0,
          0,
          0,
          0,
          0,
          0,
          0,
          0,
          0,
          0,
          0,
          0,
          0,
          0,
          0,
          0,
          0,
          0,
          0,
          0,
          0,
          0,
          0,
          0,
          0
         ]
        },
        {
         "line": {
          "color": "#003366",
          "width": 2
         },
         "mode": "lines",
         "name": "San Diego 4bd",
         "type": "scatter",
         "x": [
          0,
          750,
          1500,
          2250,
          3000,
          3750,
          4500,
          5250,
          6000,
          6750,
          7500,
          8250,
          9000,
          9750,
          10500,
          11250,
          12000,
          12750,
          13500,
          14250,
          15000,
          15750,
          16500,
          17250,
          18000,
          18750,
          19500,
          20250,
          21000,
          21750,
          22500,
          23250,
          24000,
          24750,
          25500,
          26250,
          27000,
          27750,
          28500,
          29250,
          30000,
          30750,
          31500,
          32250,
          33000,
          33750,
          34500,
          35250,
          36000,
          36750,
          37500,
          38250,
          39000,
          39750,
          40500,
          41250,
          42000,
          42750,
          43500,
          44250,
          45000,
          45750,
          46500,
          47250,
          48000,
          48750,
          49500,
          50250,
          51000,
          51750,
          52500,
          53250,
          54000,
          54750,
          55500,
          56250,
          57000,
          57750,
          58500,
          59250,
          60000,
          60750,
          61500,
          62250,
          63000,
          63750,
          64500,
          65250,
          66000,
          66750,
          67500,
          68250,
          69000,
          69750,
          70500,
          71250,
          72000,
          72750,
          73500,
          74250,
          75000,
          75750,
          76500,
          77250,
          78000,
          78750,
          79500,
          80250,
          81000,
          81750,
          82500,
          83250,
          84000,
          84750,
          85500,
          86250,
          87000,
          87750,
          88500,
          89250,
          90000,
          90750,
          91500,
          92250,
          93000,
          93750,
          94500,
          95250,
          96000,
          96750,
          97500,
          98250,
          99000,
          99750,
          100500,
          101250,
          102000,
          102750,
          103500,
          104250,
          105000,
          105750,
          106500,
          107250,
          108000,
          108750,
          109500,
          110250,
          111000,
          111750,
          112500,
          113250,
          114000,
          114750,
          115500,
          116250,
          117000,
          117750,
          118500,
          119250,
          120000,
          120750,
          121500,
          122250,
          123000,
          123750,
          124500,
          125250,
          126000,
          126750,
          127500,
          128250,
          129000,
          129750,
          130500,
          131250,
          132000,
          132750,
          133500,
          134250,
          135000,
          135750,
          136500,
          137250,
          138000,
          138750,
          139500,
          140250,
          141000,
          141750,
          142500,
          143250,
          144000,
          144750,
          145500,
          146250,
          147000,
          147750,
          148500,
          149250,
          150000
         ],
         "y": [
          83520,
          83295,
          83070,
          82845,
          82620,
          82395,
          82170,
          81945,
          81720,
          81495,
          81270,
          81045,
          80820,
          80595,
          80370,
          80145,
          79920,
          79695,
          79470,
          79245,
          79020,
          78795,
          78570,
          78345,
          78120,
          77895,
          77670,
          77445,
          77220,
          76995,
          76770,
          76545,
          76320,
          76095,
          75870,
          75645,
          75420,
          75195,
          74970,
          74745,
          74520,
          74295,
          74070,
          73845,
          73620,
          73395,
          73170,
          72945,
          72720,
          72495,
          72270,
          72045,
          71820,
          71595,
          71370,
          71145,
          70920,
          70695,
          70470,
          70245,
          70020,
          69795,
          69570,
          69345,
          69120,
          68895,
          68670,
          51333.75,
          51165,
          50996.25,
          50827.5,
          50658.75,
          50490,
          50321.25,
          50152.5,
          49983.75,
          49815,
          49646.25,
          49477.5,
          49308.75,
          49140,
          48971.25,
          48802.5,
          48633.75,
          48465,
          48296.25,
          48127.5,
          47958.75,
          47790,
          47621.25,
          47452.5,
          47283.75,
          47115,
          46946.25,
          46777.5,
          46608.75,
          46440,
          46271.25,
          46102.5,
          45933.75,
          45765,
          30397.5,
          30285,
          30172.5,
          30060,
          29947.5,
          29835,
          29722.5,
          29610,
          29497.5,
          29385,
          29272.5,
          29160,
          29047.5,
          28935,
          28822.5,
          28710,
          28597.5,
          28485,
          28372.5,
          28260,
          28147.5,
          28035,
          27922.5,
          27810,
          27697.5,
          27585,
          27472.5,
          27360,
          27247.5,
          27135,
          27022.5,
          26910,
          26797.5,
          13342.5,
          13286.25,
          13230,
          13173.75,
          13117.5,
          13061.25,
          13005,
          12948.75,
          12892.5,
          12836.25,
          12780,
          12723.75,
          12667.5,
          12611.25,
          12555,
          12498.75,
          12442.5,
          12386.25,
          12330,
          12273.75,
          12217.5,
          12161.25,
          12105,
          12048.75,
          11992.5,
          11936.25,
          11880,
          11823.75,
          11767.5,
          11711.25,
          11655,
          11598.75,
          11542.5,
          0,
          0,
          0,
          0,
          0,
          0,
          0,
          0,
          0,
          0,
          0,
          0,
          0,
          0,
          0,
          0,
          0,
          0,
          0,
          0,
          0,
          0,
          0,
          0,
          0,
          0,
          0,
          0,
          0,
          0,
          0,
          0,
          0,
          0
         ]
        }
       ],
       "layout": {
        "font": {
         "color": "black",
         "family": "Roboto Serif"
        },
        "height": 600,
        "images": [
         {
          "sizex": 0.15,
          "sizey": 0.15,
          "source": "https://raw.githubusercontent.com/PolicyEngine/policyengine-app/master/src/images/logos/policyengine/blue.png",
          "x": 1.1,
          "xanchor": "right",
          "xref": "paper",
          "y": -0.15,
          "yanchor": "bottom",
          "yref": "paper"
         }
        ],
        "legend": {
         "x": 1.01,
         "xanchor": "left",
         "y": 0.99,
         "yanchor": "top"
        },
        "modebar": {
         "bgcolor": "rgba(0,0,0,0)",
         "color": "rgba(0,0,0,0)"
        },
        "paper_bgcolor": "white",
        "plot_bgcolor": "white",
        "template": {
         "data": {
          "bar": [
           {
            "error_x": {
             "color": "#2a3f5f"
            },
            "error_y": {
             "color": "#2a3f5f"
            },
            "marker": {
             "line": {
              "color": "white",
              "width": 0.5
             },
             "pattern": {
              "fillmode": "overlay",
              "size": 10,
              "solidity": 0.2
             }
            },
            "type": "bar"
           }
          ],
          "barpolar": [
           {
            "marker": {
             "line": {
              "color": "white",
              "width": 0.5
             },
             "pattern": {
              "fillmode": "overlay",
              "size": 10,
              "solidity": 0.2
             }
            },
            "type": "barpolar"
           }
          ],
          "carpet": [
           {
            "aaxis": {
             "endlinecolor": "#2a3f5f",
             "gridcolor": "#C8D4E3",
             "linecolor": "#C8D4E3",
             "minorgridcolor": "#C8D4E3",
             "startlinecolor": "#2a3f5f"
            },
            "baxis": {
             "endlinecolor": "#2a3f5f",
             "gridcolor": "#C8D4E3",
             "linecolor": "#C8D4E3",
             "minorgridcolor": "#C8D4E3",
             "startlinecolor": "#2a3f5f"
            },
            "type": "carpet"
           }
          ],
          "choropleth": [
           {
            "colorbar": {
             "outlinewidth": 0,
             "ticks": ""
            },
            "type": "choropleth"
           }
          ],
          "contour": [
           {
            "colorbar": {
             "outlinewidth": 0,
             "ticks": ""
            },
            "colorscale": [
             [
              0,
              "#0d0887"
             ],
             [
              0.1111111111111111,
              "#46039f"
             ],
             [
              0.2222222222222222,
              "#7201a8"
             ],
             [
              0.3333333333333333,
              "#9c179e"
             ],
             [
              0.4444444444444444,
              "#bd3786"
             ],
             [
              0.5555555555555556,
              "#d8576b"
             ],
             [
              0.6666666666666666,
              "#ed7953"
             ],
             [
              0.7777777777777778,
              "#fb9f3a"
             ],
             [
              0.8888888888888888,
              "#fdca26"
             ],
             [
              1,
              "#f0f921"
             ]
            ],
            "type": "contour"
           }
          ],
          "contourcarpet": [
           {
            "colorbar": {
             "outlinewidth": 0,
             "ticks": ""
            },
            "type": "contourcarpet"
           }
          ],
          "heatmap": [
           {
            "colorbar": {
             "outlinewidth": 0,
             "ticks": ""
            },
            "colorscale": [
             [
              0,
              "#0d0887"
             ],
             [
              0.1111111111111111,
              "#46039f"
             ],
             [
              0.2222222222222222,
              "#7201a8"
             ],
             [
              0.3333333333333333,
              "#9c179e"
             ],
             [
              0.4444444444444444,
              "#bd3786"
             ],
             [
              0.5555555555555556,
              "#d8576b"
             ],
             [
              0.6666666666666666,
              "#ed7953"
             ],
             [
              0.7777777777777778,
              "#fb9f3a"
             ],
             [
              0.8888888888888888,
              "#fdca26"
             ],
             [
              1,
              "#f0f921"
             ]
            ],
            "type": "heatmap"
           }
          ],
          "heatmapgl": [
           {
            "colorbar": {
             "outlinewidth": 0,
             "ticks": ""
            },
            "colorscale": [
             [
              0,
              "#0d0887"
             ],
             [
              0.1111111111111111,
              "#46039f"
             ],
             [
              0.2222222222222222,
              "#7201a8"
             ],
             [
              0.3333333333333333,
              "#9c179e"
             ],
             [
              0.4444444444444444,
              "#bd3786"
             ],
             [
              0.5555555555555556,
              "#d8576b"
             ],
             [
              0.6666666666666666,
              "#ed7953"
             ],
             [
              0.7777777777777778,
              "#fb9f3a"
             ],
             [
              0.8888888888888888,
              "#fdca26"
             ],
             [
              1,
              "#f0f921"
             ]
            ],
            "type": "heatmapgl"
           }
          ],
          "histogram": [
           {
            "marker": {
             "pattern": {
              "fillmode": "overlay",
              "size": 10,
              "solidity": 0.2
             }
            },
            "type": "histogram"
           }
          ],
          "histogram2d": [
           {
            "colorbar": {
             "outlinewidth": 0,
             "ticks": ""
            },
            "colorscale": [
             [
              0,
              "#0d0887"
             ],
             [
              0.1111111111111111,
              "#46039f"
             ],
             [
              0.2222222222222222,
              "#7201a8"
             ],
             [
              0.3333333333333333,
              "#9c179e"
             ],
             [
              0.4444444444444444,
              "#bd3786"
             ],
             [
              0.5555555555555556,
              "#d8576b"
             ],
             [
              0.6666666666666666,
              "#ed7953"
             ],
             [
              0.7777777777777778,
              "#fb9f3a"
             ],
             [
              0.8888888888888888,
              "#fdca26"
             ],
             [
              1,
              "#f0f921"
             ]
            ],
            "type": "histogram2d"
           }
          ],
          "histogram2dcontour": [
           {
            "colorbar": {
             "outlinewidth": 0,
             "ticks": ""
            },
            "colorscale": [
             [
              0,
              "#0d0887"
             ],
             [
              0.1111111111111111,
              "#46039f"
             ],
             [
              0.2222222222222222,
              "#7201a8"
             ],
             [
              0.3333333333333333,
              "#9c179e"
             ],
             [
              0.4444444444444444,
              "#bd3786"
             ],
             [
              0.5555555555555556,
              "#d8576b"
             ],
             [
              0.6666666666666666,
              "#ed7953"
             ],
             [
              0.7777777777777778,
              "#fb9f3a"
             ],
             [
              0.8888888888888888,
              "#fdca26"
             ],
             [
              1,
              "#f0f921"
             ]
            ],
            "type": "histogram2dcontour"
           }
          ],
          "mesh3d": [
           {
            "colorbar": {
             "outlinewidth": 0,
             "ticks": ""
            },
            "type": "mesh3d"
           }
          ],
          "parcoords": [
           {
            "line": {
             "colorbar": {
              "outlinewidth": 0,
              "ticks": ""
             }
            },
            "type": "parcoords"
           }
          ],
          "pie": [
           {
            "automargin": true,
            "type": "pie"
           }
          ],
          "scatter": [
           {
            "fillpattern": {
             "fillmode": "overlay",
             "size": 10,
             "solidity": 0.2
            },
            "type": "scatter"
           }
          ],
          "scatter3d": [
           {
            "line": {
             "colorbar": {
              "outlinewidth": 0,
              "ticks": ""
             }
            },
            "marker": {
             "colorbar": {
              "outlinewidth": 0,
              "ticks": ""
             }
            },
            "type": "scatter3d"
           }
          ],
          "scattercarpet": [
           {
            "marker": {
             "colorbar": {
              "outlinewidth": 0,
              "ticks": ""
             }
            },
            "type": "scattercarpet"
           }
          ],
          "scattergeo": [
           {
            "marker": {
             "colorbar": {
              "outlinewidth": 0,
              "ticks": ""
             }
            },
            "type": "scattergeo"
           }
          ],
          "scattergl": [
           {
            "marker": {
             "colorbar": {
              "outlinewidth": 0,
              "ticks": ""
             }
            },
            "type": "scattergl"
           }
          ],
          "scattermapbox": [
           {
            "marker": {
             "colorbar": {
              "outlinewidth": 0,
              "ticks": ""
             }
            },
            "type": "scattermapbox"
           }
          ],
          "scatterpolar": [
           {
            "marker": {
             "colorbar": {
              "outlinewidth": 0,
              "ticks": ""
             }
            },
            "type": "scatterpolar"
           }
          ],
          "scatterpolargl": [
           {
            "marker": {
             "colorbar": {
              "outlinewidth": 0,
              "ticks": ""
             }
            },
            "type": "scatterpolargl"
           }
          ],
          "scatterternary": [
           {
            "marker": {
             "colorbar": {
              "outlinewidth": 0,
              "ticks": ""
             }
            },
            "type": "scatterternary"
           }
          ],
          "surface": [
           {
            "colorbar": {
             "outlinewidth": 0,
             "ticks": ""
            },
            "colorscale": [
             [
              0,
              "#0d0887"
             ],
             [
              0.1111111111111111,
              "#46039f"
             ],
             [
              0.2222222222222222,
              "#7201a8"
             ],
             [
              0.3333333333333333,
              "#9c179e"
             ],
             [
              0.4444444444444444,
              "#bd3786"
             ],
             [
              0.5555555555555556,
              "#d8576b"
             ],
             [
              0.6666666666666666,
              "#ed7953"
             ],
             [
              0.7777777777777778,
              "#fb9f3a"
             ],
             [
              0.8888888888888888,
              "#fdca26"
             ],
             [
              1,
              "#f0f921"
             ]
            ],
            "type": "surface"
           }
          ],
          "table": [
           {
            "cells": {
             "fill": {
              "color": "#EBF0F8"
             },
             "line": {
              "color": "white"
             }
            },
            "header": {
             "fill": {
              "color": "#C8D4E3"
             },
             "line": {
              "color": "white"
             }
            },
            "type": "table"
           }
          ]
         },
         "layout": {
          "annotationdefaults": {
           "arrowcolor": "#2a3f5f",
           "arrowhead": 0,
           "arrowwidth": 1
          },
          "autotypenumbers": "strict",
          "coloraxis": {
           "colorbar": {
            "outlinewidth": 0,
            "ticks": ""
           }
          },
          "colorscale": {
           "diverging": [
            [
             0,
             "#8e0152"
            ],
            [
             0.1,
             "#c51b7d"
            ],
            [
             0.2,
             "#de77ae"
            ],
            [
             0.3,
             "#f1b6da"
            ],
            [
             0.4,
             "#fde0ef"
            ],
            [
             0.5,
             "#f7f7f7"
            ],
            [
             0.6,
             "#e6f5d0"
            ],
            [
             0.7,
             "#b8e186"
            ],
            [
             0.8,
             "#7fbc41"
            ],
            [
             0.9,
             "#4d9221"
            ],
            [
             1,
             "#276419"
            ]
           ],
           "sequential": [
            [
             0,
             "#0d0887"
            ],
            [
             0.1111111111111111,
             "#46039f"
            ],
            [
             0.2222222222222222,
             "#7201a8"
            ],
            [
             0.3333333333333333,
             "#9c179e"
            ],
            [
             0.4444444444444444,
             "#bd3786"
            ],
            [
             0.5555555555555556,
             "#d8576b"
            ],
            [
             0.6666666666666666,
             "#ed7953"
            ],
            [
             0.7777777777777778,
             "#fb9f3a"
            ],
            [
             0.8888888888888888,
             "#fdca26"
            ],
            [
             1,
             "#f0f921"
            ]
           ],
           "sequentialminus": [
            [
             0,
             "#0d0887"
            ],
            [
             0.1111111111111111,
             "#46039f"
            ],
            [
             0.2222222222222222,
             "#7201a8"
            ],
            [
             0.3333333333333333,
             "#9c179e"
            ],
            [
             0.4444444444444444,
             "#bd3786"
            ],
            [
             0.5555555555555556,
             "#d8576b"
            ],
            [
             0.6666666666666666,
             "#ed7953"
            ],
            [
             0.7777777777777778,
             "#fb9f3a"
            ],
            [
             0.8888888888888888,
             "#fdca26"
            ],
            [
             1,
             "#f0f921"
            ]
           ]
          },
          "colorway": [
           "#636efa",
           "#EF553B",
           "#00cc96",
           "#ab63fa",
           "#FFA15A",
           "#19d3f3",
           "#FF6692",
           "#B6E880",
           "#FF97FF",
           "#FECB52"
          ],
          "font": {
           "color": "#2a3f5f"
          },
          "geo": {
           "bgcolor": "white",
           "lakecolor": "white",
           "landcolor": "white",
           "showlakes": true,
           "showland": true,
           "subunitcolor": "#C8D4E3"
          },
          "hoverlabel": {
           "align": "left"
          },
          "hovermode": "closest",
          "mapbox": {
           "style": "light"
          },
          "paper_bgcolor": "white",
          "plot_bgcolor": "white",
          "polar": {
           "angularaxis": {
            "gridcolor": "#EBF0F8",
            "linecolor": "#EBF0F8",
            "ticks": ""
           },
           "bgcolor": "white",
           "radialaxis": {
            "gridcolor": "#EBF0F8",
            "linecolor": "#EBF0F8",
            "ticks": ""
           }
          },
          "scene": {
           "xaxis": {
            "backgroundcolor": "white",
            "gridcolor": "#DFE8F3",
            "gridwidth": 2,
            "linecolor": "#EBF0F8",
            "showbackground": true,
            "ticks": "",
            "zerolinecolor": "#EBF0F8"
           },
           "yaxis": {
            "backgroundcolor": "white",
            "gridcolor": "#DFE8F3",
            "gridwidth": 2,
            "linecolor": "#EBF0F8",
            "showbackground": true,
            "ticks": "",
            "zerolinecolor": "#EBF0F8"
           },
           "zaxis": {
            "backgroundcolor": "white",
            "gridcolor": "#DFE8F3",
            "gridwidth": 2,
            "linecolor": "#EBF0F8",
            "showbackground": true,
            "ticks": "",
            "zerolinecolor": "#EBF0F8"
           }
          },
          "shapedefaults": {
           "line": {
            "color": "#2a3f5f"
           }
          },
          "ternary": {
           "aaxis": {
            "gridcolor": "#DFE8F3",
            "linecolor": "#A2B1C6",
            "ticks": ""
           },
           "baxis": {
            "gridcolor": "#DFE8F3",
            "linecolor": "#A2B1C6",
            "ticks": ""
           },
           "bgcolor": "white",
           "caxis": {
            "gridcolor": "#DFE8F3",
            "linecolor": "#A2B1C6",
            "ticks": ""
           }
          },
          "title": {
           "x": 0.05
          },
          "xaxis": {
           "automargin": true,
           "gridcolor": "#EBF0F8",
           "linecolor": "#EBF0F8",
           "ticks": "",
           "title": {
            "standoff": 15
           },
           "zerolinecolor": "#EBF0F8",
           "zerolinewidth": 2
          },
          "yaxis": {
           "automargin": true,
           "gridcolor": "#EBF0F8",
           "linecolor": "#EBF0F8",
           "ticks": "",
           "title": {
            "standoff": 15
           },
           "zerolinecolor": "#EBF0F8",
           "zerolinewidth": 2
          }
         }
        },
        "title": {
         "text": "Rent Relief Tax Credit Impact"
        },
        "width": 800,
        "xaxis": {
         "gridcolor": "lightgray",
         "range": [
          0,
          150000
         ],
         "tickformat": "$,.0f",
         "title": {
          "text": "Earnings"
         },
         "zeroline": true,
         "zerolinecolor": "lightgray"
        },
        "yaxis": {
         "gridcolor": "lightgray",
         "tickformat": "$,.0f",
         "title": {
          "text": "Credit Amount"
         },
         "zeroline": true,
         "zerolinecolor": "lightgray"
        }
       }
      }
     },
     "metadata": {},
     "output_type": "display_data"
    }
   ],
   "source": [
    "# Create and display the chart\n",
    "fig = create_rent_relief_comparison_graph()\n",
    "fig = format_fig(fig)\n",
    "fig.show()"
   ]
  }
 ],
 "metadata": {
  "kernelspec": {
   "display_name": "policyengine",
   "language": "python",
   "name": "python3"
  },
  "language_info": {
   "codemirror_mode": {
    "name": "ipython",
    "version": 3
   },
   "file_extension": ".py",
   "mimetype": "text/x-python",
   "name": "python",
   "nbconvert_exporter": "python",
   "pygments_lexer": "ipython3",
   "version": "3.9.16"
  }
 },
 "nbformat": 4,
 "nbformat_minor": 2
}
